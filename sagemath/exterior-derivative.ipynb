{
 "cells": [
  {
   "cell_type": "code",
   "execution_count": 106,
   "id": "c49813e4",
   "metadata": {},
   "outputs": [],
   "source": [
    "x, y = var('x, y')\n",
    "dx, dy = var('dx, dy')"
   ]
  },
  {
   "cell_type": "code",
   "execution_count": 107,
   "id": "f9ad08f7",
   "metadata": {},
   "outputs": [],
   "source": [
    "variables = [x,y]\n",
    "differentials = [dx, dy]"
   ]
  },
  {
   "cell_type": "code",
   "execution_count": 99,
   "id": "b92552ed",
   "metadata": {},
   "outputs": [],
   "source": [
    "def der(F, X, n=1):\n",
    "    deriv = diff(F, X, n)    \n",
    "    return deriv"
   ]
  },
  {
   "cell_type": "code",
   "execution_count": 58,
   "id": "0162eb63",
   "metadata": {},
   "outputs": [],
   "source": [
    "f(x, y) = x * y"
   ]
  },
  {
   "cell_type": "code",
   "execution_count": 84,
   "id": "2c0a41d7",
   "metadata": {},
   "outputs": [
    {
     "data": {
      "text/plain": [
       "x*y"
      ]
     },
     "execution_count": 84,
     "metadata": {},
     "output_type": "execute_result"
    }
   ],
   "source": [
    "f(x)"
   ]
  },
  {
   "cell_type": "code",
   "execution_count": 109,
   "id": "96e58b9c",
   "metadata": {},
   "outputs": [
    {
     "name": "stdout",
     "output_type": "stream",
     "text": [
      "dy*x + dx*y\n"
     ]
    }
   ],
   "source": [
    "# Exterior derivative\n",
    "A = 0\n",
    "for a in range(len(variables)):\n",
    "    A += der(f(x,y),variables[a]) * differentials[a]\n",
    "print(A)"
   ]
  },
  {
   "cell_type": "code",
   "execution_count": null,
   "id": "34eaec63",
   "metadata": {},
   "outputs": [],
   "source": []
  }
 ],
 "metadata": {
  "kernelspec": {
   "display_name": "SageMath 9.7",
   "language": "sage",
   "name": "sagemath-9.7"
  },
  "language_info": {
   "codemirror_mode": {
    "name": "ipython",
    "version": 3
   },
   "file_extension": ".py",
   "mimetype": "text/x-python",
   "name": "python",
   "nbconvert_exporter": "python",
   "pygments_lexer": "ipython3",
   "version": "3.10.5"
  }
 },
 "nbformat": 4,
 "nbformat_minor": 5
}
