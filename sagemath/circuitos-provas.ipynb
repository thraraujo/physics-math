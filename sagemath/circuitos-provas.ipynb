{
 "cells": [
  {
   "cell_type": "markdown",
   "id": "c230b07c",
   "metadata": {
    "tags": []
   },
   "source": [
    "## Equivalent resistences\n",
    "\n",
    "I want to define two functions to calculate equivalent resistences. Once we have these formulas, we can have some "
   ]
  },
  {
   "cell_type": "code",
   "execution_count": 1,
   "id": "f7db3ae5",
   "metadata": {},
   "outputs": [],
   "source": [
    "# Equivalent resistent for series\n",
    "def resSe(*args):\n",
    "    return sum(args)\n",
    "\n",
    "# Equivalent resistent for parallels\n",
    "def resPa(*args):\n",
    "    InverseEquivRes = 0\n",
    "    for arg in args:\n",
    "        InverseEquivRes += 1/arg\n",
    "    return 1/InverseEquivRes"
   ]
  },
  {
   "cell_type": "code",
   "execution_count": 2,
   "id": "ee08d459",
   "metadata": {},
   "outputs": [],
   "source": [
    "# Currrent\n",
    "def I(res, ten):\n",
    "    return ten / res"
   ]
  },
  {
   "cell_type": "markdown",
   "id": "04adf1f0",
   "metadata": {
    "tags": []
   },
   "source": [
    "## Equivalent capacitances\n",
    "\n",
    "I want to define two functions to calculate equivalent capacitances."
   ]
  },
  {
   "cell_type": "code",
   "execution_count": 3,
   "id": "1d56228a",
   "metadata": {},
   "outputs": [],
   "source": [
    "# Equivalent capacitance for series\n",
    "def capSe(*args):\n",
    "    InverseEquivCap = 0\n",
    "    for arg in args:\n",
    "        InverseEquivCap += 1/arg\n",
    "    return 1/InverseEquivCap\n",
    "\n",
    "# Equivalent resistent for parallels\n",
    "def capPa(*args):\n",
    "    return sum(args)"
   ]
  },
  {
   "cell_type": "code",
   "execution_count": 4,
   "id": "3df6ddac",
   "metadata": {},
   "outputs": [],
   "source": [
    "# Charge\n",
    "def Q(cap, ten):\n",
    "    return cap * ten"
   ]
  },
  {
   "cell_type": "markdown",
   "id": "8748da7a",
   "metadata": {},
   "source": [
    "_______________________________________________________________________________________________________________"
   ]
  },
  {
   "cell_type": "markdown",
   "id": "e2848b92",
   "metadata": {
    "tags": []
   },
   "source": [
    "# Odd Exams"
   ]
  },
  {
   "cell_type": "markdown",
   "id": "45351cb5",
   "metadata": {},
   "source": [
    " 1. Calculate:\n",
    " \n",
    " a) Equivalent capacitance\n",
    " \n",
    " b) Total charge\n",
    " \n",
    " c) Charge on the capacitors\n",
    " \n",
    " d) Tension on the capacitors"
   ]
  },
  {
   "cell_type": "code",
   "execution_count": 5,
   "id": "197c3627",
   "metadata": {},
   "outputs": [],
   "source": [
    "# the first component denotes the tension, and the others the capacitances 1, 2 and 3 respectively \n",
    "OddExams = [[55,2/3,7/5,2],[45,3/5,6/7,3],[35,1/7,3/5,6],[70,7/3,9/5,9],[75,7/9,2/6,6]] "
   ]
  },
  {
   "cell_type": "code",
   "execution_count": 6,
   "id": "ddf2ff8f",
   "metadata": {},
   "outputs": [],
   "source": [
    "def consistency_check(a, b):\n",
    "    return a == b"
   ]
  },
  {
   "cell_type": "code",
   "execution_count": 8,
   "id": "4329ec94",
   "metadata": {},
   "outputs": [
    {
     "name": "stdout",
     "output_type": "stream",
     "text": [
      "++++++++++++++++++++++++++++++++++++++++++\n",
      "Exam 1:\n",
      "   a) Equivalent Capacitance = 34/61 F\n",
      "   b) Total Charge = 1870/61 C\n",
      "   c) Charge Capacitor C1  = 1870/61 C\n",
      "      Charge Capacitor C2  = 770/61 C\n",
      "      Charge Capacitor C3  = 1100/61 C\n",
      "      1870/61 = Charge2 + Charge3? True\n",
      "   d) Tension Capacitor C1 = 2805/61 V\n",
      "      Tension Capacitor C2  = 550/61 V\n",
      "      Tension Capacitor C3  = 550/61 V\n",
      "      55 = Tension1 + Tension23? True\n",
      "++++++++++++++++++++++++++++++++++++++++++\n",
      "Exam 3:\n",
      "   a) Equivalent Capacitance = 27/52 F\n",
      "   b) Total Charge = 1215/52 C\n",
      "   c) Charge Capacitor C1  = 1215/52 C\n",
      "      Charge Capacitor C2  = 135/26 C\n",
      "      Charge Capacitor C3  = 945/52 C\n",
      "      1215/52 = Charge2 + Charge3? True\n",
      "   d) Tension Capacitor C1 = 2025/52 V\n",
      "      Tension Capacitor C2  = 315/52 V\n",
      "      Tension Capacitor C3  = 315/52 V\n",
      "      45 = Tension1 + Tension23? True\n",
      "++++++++++++++++++++++++++++++++++++++++++\n",
      "Exam 5:\n",
      "   a) Equivalent Capacitance = 33/236 F\n",
      "   b) Total Charge = 1155/236 C\n",
      "   c) Charge Capacitor C1  = 1155/236 C\n",
      "      Charge Capacitor C2  = 105/236 C\n",
      "      Charge Capacitor C3  = 525/118 C\n",
      "      1155/236 = Charge2 + Charge3? True\n",
      "   d) Tension Capacitor C1 = 8085/236 V\n",
      "      Tension Capacitor C2  = 175/236 V\n",
      "      Tension Capacitor C3  = 175/236 V\n",
      "      35 = Tension1 + Tension23? True\n",
      "++++++++++++++++++++++++++++++++++++++++++\n",
      "Exam 7:\n",
      "   a) Equivalent Capacitance = 378/197 F\n",
      "   b) Total Charge = 26460/197 C\n",
      "   c) Charge Capacitor C1  = 26460/197 C\n",
      "      Charge Capacitor C2  = 4410/197 C\n",
      "      Charge Capacitor C3  = 22050/197 C\n",
      "      26460/197 = Charge2 + Charge3? True\n",
      "   d) Tension Capacitor C1 = 11340/197 V\n",
      "      Tension Capacitor C2  = 2450/197 V\n",
      "      Tension Capacitor C3  = 2450/197 V\n",
      "      70 = Tension1 + Tension23? True\n",
      "++++++++++++++++++++++++++++++++++++++++++\n",
      "Exam 9:\n",
      "   a) Equivalent Capacitance = 133/192 F\n",
      "   b) Total Charge = 3325/64 C\n",
      "   c) Charge Capacitor C1  = 3325/64 C\n",
      "      Charge Capacitor C2  = 175/64 C\n",
      "      Charge Capacitor C3  = 1575/32 C\n",
      "      3325/64 = Charge2 + Charge3? True\n",
      "   d) Tension Capacitor C1 = 4275/64 V\n",
      "      Tension Capacitor C2  = 525/64 V\n",
      "      Tension Capacitor C3  = 525/64 V\n",
      "      75 = Tension1 + Tension23? True\n"
     ]
    }
   ],
   "source": [
    "for i in range(len(OddExams)):\n",
    "    equivalent_capacitance = capSe(OddExams[i][1],capPa(OddExams[i][2],OddExams[i][3]))\n",
    "    charge = Q(equivalent_capacitance, OddExams[i][0])\n",
    "    \n",
    "    # in the second and third capacitors, the tension is given by: total_tension - charge_C1 / C1\n",
    "    tension23 = OddExams[i][0] - charge / OddExams[i][1]\n",
    "    # Consequently, using that the total tension is tension = tension1 + tension23, we have that\n",
    "    tension1 = OddExams[i][0] - tension23\n",
    "    \n",
    "    # Now we can finally calculate the charges on the next two capacitors    \n",
    "    charge2 = OddExams[i][2] * tension23\n",
    "    charge3 = OddExams[i][3] * tension23\n",
    "    print(\"++++++++++++++++++++++++++++++++++++++++++\")    \n",
    "    print(f\"Exam {2*i + 1}:\")   \n",
    "    print(f\"   a) Equivalent Capacitance = {equivalent_capacitance} F\")   \n",
    "    print(f\"   b) Total Charge = {charge} C\")   \n",
    "    print(f\"   c) Charge Capacitor C1  = {charge} C\")   \n",
    "    print(f\"      Charge Capacitor C2  = {charge2} C\")   \n",
    "    print(f\"      Charge Capacitor C3  = {charge3} C\")   \n",
    "    print(f\"      {charge} = Charge2 + Charge3? {consistency_check(charge, charge2 + charge3)}\") \n",
    "    print(f\"   d) Tension Capacitor C1 = {tension1} V\")   \n",
    "    print(f\"      Tension Capacitor C2  = {tension23} V\")   \n",
    "    print(f\"      Tension Capacitor C3  = {tension23} V\")   \n",
    "    print(f\"      {OddExams[i][0]} = Tension1 + Tension23? {consistency_check(OddExams[i][0], tension1 + tension23)}\") "
   ]
  },
  {
   "cell_type": "code",
   "execution_count": 9,
   "id": "0ed411bf-9dd5-4b95-82ed-49770f5922b0",
   "metadata": {},
   "outputs": [
    {
     "name": "stdout",
     "output_type": "stream",
     "text": [
      "++++++++++++++++++++++++++++++++++++++++++\n",
      "Exam 1:\n",
      "   a) Equivalent Capacitance = 0.557377049180328 F\n",
      "   b) Total Charge = 30.6557377049180 C\n",
      "   c) Charge Capacitor C1  = 30.6557377049180 C\n",
      "      Charge Capacitor C2  = 12.6229508196721 C\n",
      "      Charge Capacitor C3  = 18.0327868852459 C\n",
      "      30.6557377049180 = Charge2 + Charge3? False\n",
      "   d) Tension Capacitor C1 = 45.9836065573771 V\n",
      "      Tension Capacitor C2  = 9.01639344262295 V\n",
      "      Tension Capacitor C3  = 9.01639344262295 V\n",
      "      55 = Tension1 + Tension23? True\n",
      "++++++++++++++++++++++++++++++++++++++++++\n",
      "Exam 3:\n",
      "   a) Equivalent Capacitance = 0.519230769230769 F\n",
      "   b) Total Charge = 23.3653846153846 C\n",
      "   c) Charge Capacitor C1  = 23.3653846153846 C\n",
      "      Charge Capacitor C2  = 5.19230769230769 C\n",
      "      Charge Capacitor C3  = 18.1730769230769 C\n",
      "      23.3653846153846 = Charge2 + Charge3? False\n",
      "   d) Tension Capacitor C1 = 38.9423076923077 V\n",
      "      Tension Capacitor C2  = 6.05769230769231 V\n",
      "      Tension Capacitor C3  = 6.05769230769231 V\n",
      "      45 = Tension1 + Tension23? True\n",
      "++++++++++++++++++++++++++++++++++++++++++\n",
      "Exam 5:\n",
      "   a) Equivalent Capacitance = 0.139830508474576 F\n",
      "   b) Total Charge = 4.89406779661017 C\n",
      "   c) Charge Capacitor C1  = 4.89406779661017 C\n",
      "      Charge Capacitor C2  = 0.444915254237290 C\n",
      "      Charge Capacitor C3  = 4.44915254237290 C\n",
      "      4.89406779661017 = Charge2 + Charge3? False\n",
      "   d) Tension Capacitor C1 = 34.2584745762712 V\n",
      "      Tension Capacitor C2  = 0.741525423728817 V\n",
      "      Tension Capacitor C3  = 0.741525423728817 V\n",
      "      35 = Tension1 + Tension23? True\n",
      "++++++++++++++++++++++++++++++++++++++++++\n",
      "Exam 7:\n",
      "   a) Equivalent Capacitance = 1.91878172588832 F\n",
      "   b) Total Charge = 134.314720812183 C\n",
      "   c) Charge Capacitor C1  = 134.314720812183 C\n",
      "      Charge Capacitor C2  = 22.3857868020305 C\n",
      "      Charge Capacitor C3  = 111.928934010152 C\n",
      "      134.314720812183 = Charge2 + Charge3? False\n",
      "   d) Tension Capacitor C1 = 57.5634517766497 V\n",
      "      Tension Capacitor C2  = 12.4365482233503 V\n",
      "      Tension Capacitor C3  = 12.4365482233503 V\n",
      "      70 = Tension1 + Tension23? True\n",
      "++++++++++++++++++++++++++++++++++++++++++\n",
      "Exam 9:\n",
      "   a) Equivalent Capacitance = 0.692708333333333 F\n",
      "   b) Total Charge = 51.9531250000000 C\n",
      "   c) Charge Capacitor C1  = 51.9531250000000 C\n",
      "      Charge Capacitor C2  = 2.73437500000000 C\n",
      "      Charge Capacitor C3  = 49.2187500000000 C\n",
      "      51.9531250000000 = Charge2 + Charge3? True\n",
      "   d) Tension Capacitor C1 = 66.7968750000000 V\n",
      "      Tension Capacitor C2  = 8.20312500000000 V\n",
      "      Tension Capacitor C3  = 8.20312500000000 V\n",
      "      75 = Tension1 + Tension23? True\n"
     ]
    }
   ],
   "source": [
    "# Decimal numbers\n",
    "\n",
    "for i in range(len(OddExams)):\n",
    "    equivalent_capacitance = n(capSe(OddExams[i][1],capPa(OddExams[i][2],OddExams[i][3])))\n",
    "    charge = n(Q(equivalent_capacitance, OddExams[i][0]))\n",
    "    \n",
    "    # in the second and third capacitors, the tension is given by: total_tension - charge_C1 / C1\n",
    "    tension23 = OddExams[i][0] - charge / OddExams[i][1]\n",
    "    # Consequently, using that the total tension is tension = tension1 + tension23, we have that\n",
    "    tension1 = OddExams[i][0] - tension23\n",
    "    \n",
    "    # Now we can finally calculate the charges on the next two capacitors    \n",
    "    charge2 = OddExams[i][2] * tension23\n",
    "    charge3 = OddExams[i][3] * tension23\n",
    "    print(\"++++++++++++++++++++++++++++++++++++++++++\")    \n",
    "    print(f\"Exam {2*i + 1}:\")   \n",
    "    print(f\"   a) Equivalent Capacitance = {equivalent_capacitance} F\")   \n",
    "    print(f\"   b) Total Charge = {charge} C\")   \n",
    "    print(f\"   c) Charge Capacitor C1  = {charge} C\")   \n",
    "    print(f\"      Charge Capacitor C2  = {charge2} C\")   \n",
    "    print(f\"      Charge Capacitor C3  = {charge3} C\")   \n",
    "    print(f\"      {charge} = Charge2 + Charge3? {consistency_check(charge, charge2 + charge3)}\") \n",
    "    print(f\"   d) Tension Capacitor C1 = {tension1} V\")   \n",
    "    print(f\"      Tension Capacitor C2  = {tension23} V\")   \n",
    "    print(f\"      Tension Capacitor C3  = {tension23} V\")   \n",
    "    print(f\"      {OddExams[i][0]} = Tension1 + Tension23? {consistency_check(OddExams[i][0], tension1 + tension23)}\")"
   ]
  },
  {
   "cell_type": "markdown",
   "id": "eb2d750e",
   "metadata": {},
   "source": [
    " 2. Calculate the equivalent resistence"
   ]
  },
  {
   "cell_type": "code",
   "execution_count": 10,
   "id": "c5f271d8",
   "metadata": {},
   "outputs": [],
   "source": [
    "# Resistences\n",
    "R = [{1:1, 2:5, 3:7, 4:3, 5:4, 6:3, 7:3, 8:2, 9:4, 10:1}, \n",
    "     {1:3, 2:9, 3:3, 4:5, 5:4, 6:2, 7:3, 8:3, 9:4, 10:3},\n",
    "     {1:5, 2:4, 3:3, 4:5, 5:4, 6:2, 7:6, 8:3, 9:5, 10:5},\n",
    "     {1:7, 2:3, 3:9, 4:5, 5:4, 6:2, 7:7, 8:5, 9:4, 10:7},     \n",
    "     {1:9, 2:5, 3:3, 4:4, 5:4, 6:2, 7:8, 8:2, 9:5, 10:9},     \n",
    "    ]"
   ]
  },
  {
   "cell_type": "code",
   "execution_count": 23,
   "id": "162fa51d-a82f-4287-b4d6-3926abb76cae",
   "metadata": {
    "tags": []
   },
   "outputs": [
    {
     "name": "stdout",
     "output_type": "stream",
     "text": [
      "+++++++++++++++++++++++++++++++++++++\n",
      "Exame 1: 86/9 Ω\n",
      "+++++++++++++++++++++++++++++++++++++\n",
      "Exame 3: 5123/444 Ω\n",
      "+++++++++++++++++++++++++++++++++++++\n",
      "Exame 5: 422/29 Ω\n",
      "+++++++++++++++++++++++++++++++++++++\n",
      "Exame 7: 1327/74 Ω\n",
      "+++++++++++++++++++++++++++++++++++++\n",
      "Exame 9: 17433/935 Ω\n"
     ]
    }
   ],
   "source": [
    "for i in range(len(R)):\n",
    "    equiv_resis = resSe(\n",
    "            resPa(resSe(R[i][1], R[i][2]), R[i][3], R[i][4]), \n",
    "            R[i][5], \n",
    "            resPa(resSe(R[i][6], R[i][7]), resSe(R[i][8], R[i][9])),\n",
    "            R[i][10])\n",
    "    print(\"+++++++++++++++++++++++++++++++++++++\")\n",
    "    print(f\"Exame {2*i +1}: {equiv_resis} \\u03A9\")\n",
    "    "
   ]
  },
  {
   "cell_type": "code",
   "execution_count": 12,
   "id": "f1a4b4c1-fca4-4340-bf4e-dded696aaeca",
   "metadata": {
    "tags": []
   },
   "outputs": [
    {
     "name": "stdout",
     "output_type": "stream",
     "text": [
      "+++++++++++++++++++++++++++++++++++++\n",
      "Exame 1: 9.55555555555556 Ω\n",
      "+++++++++++++++++++++++++++++++++++++\n",
      "Exame 3: 11.5382882882883 Ω\n",
      "+++++++++++++++++++++++++++++++++++++\n",
      "Exame 5: 14.5517241379310 Ω\n",
      "+++++++++++++++++++++++++++++++++++++\n",
      "Exame 7: 17.9324324324324 Ω\n",
      "+++++++++++++++++++++++++++++++++++++\n",
      "Exame 9: 18.6449197860963 Ω\n"
     ]
    }
   ],
   "source": [
    "for i in range(len(R)):\n",
    "    equiv_resis = n(resSe(\n",
    "            resPa(resSe(R[i][1], R[i][2]), R[i][3], R[i][4]), \n",
    "            R[i][5], \n",
    "            resPa(resSe(R[i][6], R[i][7]), resSe(R[i][8], R[i][9])),\n",
    "            R[i][10]))\n",
    "    print(\"+++++++++++++++++++++++++++++++++++++\")\n",
    "    print(f\"Exame {2*i +1}: {equiv_resis} \\u03A9\")"
   ]
  },
  {
   "cell_type": "markdown",
   "id": "7fc273fd",
   "metadata": {},
   "source": [
    "# Even Exams"
   ]
  },
  {
   "cell_type": "raw",
   "id": "51e76298",
   "metadata": {},
   "source": [
    " 1. Calculate:\n",
    " \n",
    " a) Equivalent resistence\n",
    " \n",
    " b) Total current\n",
    " \n",
    " c) Current on the resistences\n",
    " \n",
    " d) Tension on the resistences"
   ]
  },
  {
   "cell_type": "code",
   "execution_count": 13,
   "id": "28f0092e",
   "metadata": {},
   "outputs": [],
   "source": [
    "# the first component denotes the tension, and the others the resistences 1, 2 and 3 respectively \n",
    "EvenExams = [[35,3/2,4/9,3],[75,7/2,7/9,6],[55,3/7,2/5,4],[65,5/7,9/3,8],[75,3/9,9/3,7]] "
   ]
  },
  {
   "cell_type": "code",
   "execution_count": 14,
   "id": "d4fb6f7e",
   "metadata": {},
   "outputs": [],
   "source": [
    "def consistency_check(a, b):\n",
    "    return a == b"
   ]
  },
  {
   "cell_type": "code",
   "execution_count": 15,
   "id": "128d0ab0",
   "metadata": {},
   "outputs": [
    {
     "name": "stdout",
     "output_type": "stream",
     "text": [
      "++++++++++++++++++++++++++++++++++++++++++\n",
      "Exam 2:\n",
      "   a) Equivalent Resistence = 117/62 Ohms\n",
      "   b) Total Current = 2170/117 A\n",
      "   c) Current Resistence R1  = 2170/117 A\n",
      "      Current Resistence R2  = 210/13 A\n",
      "      Current Resistence R3  = 280/117 A\n",
      "      2170/117 = Current2 + Current3? True\n",
      "   d) Tension Resistor1 = 1085/39 V\n",
      "      Tension Resistor2  = 280/39 V\n",
      "      Tension Resistor3  = 280/39 V\n",
      "      35 = Tension1 + Tension23? True\n",
      "++++++++++++++++++++++++++++++++++++++++++\n",
      "Exam 4:\n",
      "   a) Equivalent Resistence = 511/122 Ohms\n",
      "   b) Total Current = 9150/511 A\n",
      "   c) Current Resistence R1  = 9150/511 A\n",
      "      Current Resistence R2  = 8100/511 A\n",
      "      Current Resistence R3  = 150/73 A\n",
      "      9150/511 = Current2 + Current3? True\n",
      "   d) Tension Resistor1 = 4575/73 V\n",
      "      Tension Resistor2  = 900/73 V\n",
      "      Tension Resistor3  = 900/73 V\n",
      "      75 = Tension1 + Tension23? True\n",
      "++++++++++++++++++++++++++++++++++++++++++\n",
      "Exam 6:\n",
      "   a) Equivalent Resistence = 61/77 Ohms\n",
      "   b) Total Current = 4235/61 A\n",
      "   c) Current Resistence R1  = 4235/61 A\n",
      "      Current Resistence R2  = 3850/61 A\n",
      "      Current Resistence R3  = 385/61 A\n",
      "      4235/61 = Current2 + Current3? True\n",
      "   d) Tension Resistor1 = 1815/61 V\n",
      "      Tension Resistor2  = 1540/61 V\n",
      "      Tension Resistor3  = 1540/61 V\n",
      "      55 = Tension1 + Tension23? True\n",
      "++++++++++++++++++++++++++++++++++++++++++\n",
      "Exam 8:\n",
      "   a) Equivalent Resistence = 223/77 Ohms\n",
      "   b) Total Current = 5005/223 A\n",
      "   c) Current Resistence R1  = 5005/223 A\n",
      "      Current Resistence R2  = 3640/223 A\n",
      "      Current Resistence R3  = 1365/223 A\n",
      "      5005/223 = Current2 + Current3? True\n",
      "   d) Tension Resistor1 = 3575/223 V\n",
      "      Tension Resistor2  = 10920/223 V\n",
      "      Tension Resistor3  = 10920/223 V\n",
      "      65 = Tension1 + Tension23? True\n",
      "++++++++++++++++++++++++++++++++++++++++++\n",
      "Exam 10:\n",
      "   a) Equivalent Resistence = 73/30 Ohms\n",
      "   b) Total Current = 2250/73 A\n",
      "   c) Current Resistence R1  = 2250/73 A\n",
      "      Current Resistence R2  = 1575/73 A\n",
      "      Current Resistence R3  = 675/73 A\n",
      "      2250/73 = Current2 + Current3? True\n",
      "   d) Tension Resistor1 = 750/73 V\n",
      "      Tension Resistor2  = 4725/73 V\n",
      "      Tension Resistor3  = 4725/73 V\n",
      "      75 = Tension1 + Tension23? True\n"
     ]
    }
   ],
   "source": [
    "for i in range(len(EvenExams)):\n",
    "    equivalent_resistence = resSe(EvenExams[i][1],resPa(EvenExams[i][2],EvenExams[i][3]))\n",
    "    current = I(equivalent_resistence, EvenExams[i][0])\n",
    "    \n",
    "    # in the second and third resistors, the tension is given by: total_tension - charge_C1 / C1\n",
    "    tension23 = EvenExams[i][0] - current * EvenExams[i][1]\n",
    "    # Consequently, using that the total tension is tension = tension1 + tension23, we have that\n",
    "    tension1 = EvenExams[i][0] - tension23\n",
    "    \n",
    "    # Now we can finally calculate the charges on the next two capacitors    \n",
    "    current2 = tension23 / EvenExams[i][2]\n",
    "    current3 = tension23 / EvenExams[i][3]\n",
    "    print(\"++++++++++++++++++++++++++++++++++++++++++\")    \n",
    "    print(f\"Exam {2*i+2}:\")   \n",
    "    print(f\"   a) Equivalent Resistence = {equivalent_resistence} Ohms\")   \n",
    "    print(f\"   b) Total Current = {current} A\")   \n",
    "    print(f\"   c) Current Resistence R1  = {current} A\")   \n",
    "    print(f\"      Current Resistence R2  = {current2} A\")   \n",
    "    print(f\"      Current Resistence R3  = {current3} A\")   \n",
    "    print(f\"      {current} = Current2 + Current3? {consistency_check(current, current2 + current3)}\") \n",
    "    print(f\"   d) Tension Resistor1 = {tension1} V\")   \n",
    "    print(f\"      Tension Resistor2  = {tension23} V\")   \n",
    "    print(f\"      Tension Resistor3  = {tension23} V\")   \n",
    "    print(f\"      {EvenExams[i][0]} = Tension1 + Tension23? {consistency_check(EvenExams[i][0], tension1 + tension23)}\") "
   ]
  },
  {
   "cell_type": "code",
   "execution_count": 18,
   "id": "f07efecf-aec7-405b-b98b-216eb1e26142",
   "metadata": {},
   "outputs": [
    {
     "name": "stdout",
     "output_type": "stream",
     "text": [
      "++++++++++++++++++++++++++++++++++++++++++\n",
      "Exam 2:\n",
      "   a) Equivalent Resistence = 1.88709677419355 Ohms\n",
      "   b) Total Current = 18.5470085470085 A\n",
      "   c) Current Resistence R1  = 18.5470085470085 A\n",
      "      Current Resistence R2  = 16.1538461538462 A\n",
      "      Current Resistence R3  = 2.39316239316239 A\n",
      "      18.5470085470085 = Current2 + Current3? False\n",
      "   d) Tension Resistor1 = 27.8205128205128 V\n",
      "      Tension Resistor2  = 7.17948717948718 V\n",
      "      Tension Resistor3  = 7.17948717948718 V\n",
      "      35 = Tension1 + Tension23? True\n",
      "++++++++++++++++++++++++++++++++++++++++++\n",
      "Exam 4:\n",
      "   a) Equivalent Resistence = 4.18852459016393 Ohms\n",
      "   b) Total Current = 17.9060665362035 A\n",
      "   c) Current Resistence R1  = 17.9060665362035 A\n",
      "      Current Resistence R2  = 15.8512720156556 A\n",
      "      Current Resistence R3  = 2.05479452054795 A\n",
      "      17.9060665362035 = Current2 + Current3? False\n",
      "   d) Tension Resistor1 = 62.6712328767123 V\n",
      "      Tension Resistor2  = 12.3287671232877 V\n",
      "      Tension Resistor3  = 12.3287671232877 V\n",
      "      75 = Tension1 + Tension23? True\n",
      "++++++++++++++++++++++++++++++++++++++++++\n",
      "Exam 6:\n",
      "   a) Equivalent Resistence = 0.792207792207792 Ohms\n",
      "   b) Total Current = 69.4262295081967 A\n",
      "   c) Current Resistence R1  = 69.4262295081967 A\n",
      "      Current Resistence R2  = 63.1147540983607 A\n",
      "      Current Resistence R3  = 6.31147540983607 A\n",
      "      69.4262295081967 = Current2 + Current3? False\n",
      "   d) Tension Resistor1 = 29.7540983606557 V\n",
      "      Tension Resistor2  = 25.2459016393443 V\n",
      "      Tension Resistor3  = 25.2459016393443 V\n",
      "      55 = Tension1 + Tension23? True\n",
      "++++++++++++++++++++++++++++++++++++++++++\n",
      "Exam 8:\n",
      "   a) Equivalent Resistence = 2.89610389610390 Ohms\n",
      "   b) Total Current = 22.4439461883408 A\n",
      "   c) Current Resistence R1  = 22.4439461883408 A\n",
      "      Current Resistence R2  = 16.3228699551569 A\n",
      "      Current Resistence R3  = 6.12107623318386 A\n",
      "      22.4439461883408 = Current2 + Current3? True\n",
      "   d) Tension Resistor1 = 16.0313901345291 V\n",
      "      Tension Resistor2  = 48.9686098654709 V\n",
      "      Tension Resistor3  = 48.9686098654709 V\n",
      "      65 = Tension1 + Tension23? True\n",
      "++++++++++++++++++++++++++++++++++++++++++\n",
      "Exam 10:\n",
      "   a) Equivalent Resistence = 2.43333333333333 Ohms\n",
      "   b) Total Current = 30.8219178082192 A\n",
      "   c) Current Resistence R1  = 30.8219178082192 A\n",
      "      Current Resistence R2  = 21.5753424657534 A\n",
      "      Current Resistence R3  = 9.24657534246576 A\n",
      "      30.8219178082192 = Current2 + Current3? False\n",
      "   d) Tension Resistor1 = 10.2739726027397 V\n",
      "      Tension Resistor2  = 64.7260273972603 V\n",
      "      Tension Resistor3  = 64.7260273972603 V\n",
      "      75 = Tension1 + Tension23? True\n"
     ]
    }
   ],
   "source": [
    "# Decimal numbers\n",
    "\n",
    "for i in range(len(EvenExams)):\n",
    "    equivalent_resistence = n(resSe(EvenExams[i][1],resPa(EvenExams[i][2],EvenExams[i][3])))\n",
    "    current = n(I(equivalent_resistence, EvenExams[i][0]))\n",
    "    \n",
    "    # in the second and third resistors, the tension is given by: total_tension - charge_C1 / C1\n",
    "    tension23 = EvenExams[i][0] - current * EvenExams[i][1]\n",
    "    # Consequently, using that the total tension is tension = tension1 + tension23, we have that\n",
    "    tension1 = EvenExams[i][0] - tension23\n",
    "    \n",
    "    # Now we can finally calculate the charges on the next two capacitors    \n",
    "    current2 = tension23 / EvenExams[i][2]\n",
    "    current3 = tension23 / EvenExams[i][3]\n",
    "    print(\"++++++++++++++++++++++++++++++++++++++++++\")    \n",
    "    print(f\"Exam {2*i+2}:\")   \n",
    "    print(f\"   a) Equivalent Resistence = {equivalent_resistence} Ohms\")   \n",
    "    print(f\"   b) Total Current = {current} A\")   \n",
    "    print(f\"   c) Current Resistence R1  = {current} A\")   \n",
    "    print(f\"      Current Resistence R2  = {current2} A\")   \n",
    "    print(f\"      Current Resistence R3  = {current3} A\")   \n",
    "    print(f\"      {current} = Current2 + Current3? {consistency_check(current, current2 + current3)}\") \n",
    "    print(f\"   d) Tension Resistor1 = {tension1} V\")   \n",
    "    print(f\"      Tension Resistor2  = {tension23} V\")   \n",
    "    print(f\"      Tension Resistor3  = {tension23} V\")   \n",
    "    print(f\"      {EvenExams[i][0]} = Tension1 + Tension23? {consistency_check(EvenExams[i][0], tension1 + tension23)}\") "
   ]
  },
  {
   "cell_type": "markdown",
   "id": "a8760f8d",
   "metadata": {},
   "source": [
    " 2. Calculate the equivalent capacitance"
   ]
  },
  {
   "cell_type": "code",
   "execution_count": 19,
   "id": "4100a96e",
   "metadata": {},
   "outputs": [],
   "source": [
    "# Capacitances\n",
    "C = [{1:2, 2:3, 3:5, 4:4, 5:8, 6:5, 7:1, 8:9, 9:3, 10:2}, \n",
    "     {1:4, 2:8, 3:5, 4:3, 5:9, 6:3, 7:1, 8:9, 9:2, 10:4},\n",
    "     {1:6, 2:9, 3:2, 4:8, 5:7, 6:9, 7:8, 8:1, 9:7, 10:6},\n",
    "     {1:8, 2:4, 3:5, 4:9, 5:7, 6:7, 7:6, 8:3, 9:2, 10:8},     \n",
    "     {1:10, 2:4, 3:9, 4:1, 5:3, 6:5, 7:3, 8:9, 9:2, 10:10},     \n",
    "    ]"
   ]
  },
  {
   "cell_type": "code",
   "execution_count": 20,
   "id": "cf35f32f",
   "metadata": {
    "scrolled": true
   },
   "outputs": [
    {
     "name": "stdout",
     "output_type": "stream",
     "text": [
      "+++++++++++++++++++++++++++++++++++++\n",
      "Exame 2: 15096/15811 F\n",
      "+++++++++++++++++++++++++++++++++++++\n",
      "Exame 4: 10080/8809 F\n",
      "+++++++++++++++++++++++++++++++++++++\n",
      "Exame 6: 992460/574373 F\n",
      "+++++++++++++++++++++++++++++++++++++\n",
      "Exame 8: 50400/27899 F\n",
      "+++++++++++++++++++++++++++++++++++++\n",
      "Exame 10: 4635/3689 F\n"
     ]
    }
   ],
   "source": [
    "for i in range(len(R)):\n",
    "    equiv_cap = capSe(\n",
    "            capPa(capSe(C[i][1], C[i][2]), C[i][3], C[i][4]), \n",
    "            C[i][5], \n",
    "            capPa(capSe(C[i][6], C[i][7]), capSe(C[i][8], C[i][9])),\n",
    "            C[i][10])\n",
    "    print(\"+++++++++++++++++++++++++++++++++++++\")\n",
    "    print(f\"Exame {2*i +2}: {equiv_cap} F\")"
   ]
  },
  {
   "cell_type": "code",
   "execution_count": 21,
   "id": "8455a8aa",
   "metadata": {},
   "outputs": [
    {
     "name": "stdout",
     "output_type": "stream",
     "text": [
      "+++++++++++++++++++++++++++++++++++++\n",
      "Exame 2: 0.954778318891911 F\n",
      "+++++++++++++++++++++++++++++++++++++\n",
      "Exame 4: 1.14428425473947 F\n",
      "+++++++++++++++++++++++++++++++++++++\n",
      "Exame 6: 1.72790155526113 F\n",
      "+++++++++++++++++++++++++++++++++++++\n",
      "Exame 8: 1.80651636259364 F\n",
      "+++++++++++++++++++++++++++++++++++++\n",
      "Exame 10: 1.25643805909461 F\n"
     ]
    }
   ],
   "source": [
    "# Decimal Numbers\n",
    "\n",
    "for i in range(len(R)):\n",
    "    equiv_cap = n(capSe(\n",
    "            capPa(capSe(C[i][1], C[i][2]), C[i][3], C[i][4]), \n",
    "            C[i][5], \n",
    "            capPa(capSe(C[i][6], C[i][7]), capSe(C[i][8], C[i][9])),\n",
    "            C[i][10]))\n",
    "    print(\"+++++++++++++++++++++++++++++++++++++\")\n",
    "    print(f\"Exame {2*i +2}: {equiv_cap} F\")"
   ]
  },
  {
   "cell_type": "code",
   "execution_count": 2,
   "id": "7a68f50a-7112-431f-aa02-c5e1d2b8b400",
   "metadata": {},
   "outputs": [
    {
     "data": {
      "text/plain": [
       "422/29"
      ]
     },
     "execution_count": 2,
     "metadata": {},
     "output_type": "execute_result"
    }
   ],
   "source": [
    "13 + 45/29"
   ]
  },
  {
   "cell_type": "code",
   "execution_count": null,
   "id": "e5d82627-ed87-4a18-ac9e-05c3b3038abd",
   "metadata": {},
   "outputs": [],
   "source": []
  }
 ],
 "metadata": {
  "kernelspec": {
   "display_name": "SageMath 9.7",
   "language": "sage",
   "name": "sagemath-9.7"
  },
  "language_info": {
   "codemirror_mode": {
    "name": "ipython",
    "version": 3
   },
   "file_extension": ".py",
   "mimetype": "text/x-python",
   "name": "python",
   "nbconvert_exporter": "python",
   "pygments_lexer": "ipython3",
   "version": "3.10.5"
  }
 },
 "nbformat": 4,
 "nbformat_minor": 5
}
