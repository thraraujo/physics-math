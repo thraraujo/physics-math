{
 "cells": [
  {
   "cell_type": "markdown",
   "id": "6b8f461d",
   "metadata": {},
   "source": [
    "## Questão 01 & 02"
   ]
  },
  {
   "cell_type": "code",
   "execution_count": 43,
   "id": "50527208",
   "metadata": {},
   "outputs": [],
   "source": [
    "v0 = var(\"v0\") # magnitude da velocidade inicial \n",
    "t = var(\"t\") #  angulo theta\n",
    "g = var(\"g\") # aceleracao da gravidade, substituir por 9.8 m/(s^2)"
   ]
  },
  {
   "cell_type": "code",
   "execution_count": 44,
   "id": "8eb9bf51",
   "metadata": {},
   "outputs": [],
   "source": [
    "# respostas\n",
    "tym(v0,t,g) = v0*sin(t)/g # tempo ate a particular atingir a altura maxima\n",
    "txm(v0,t,g) = 2*v0*sin(t)/g # tempo ate a particular atingir a altura maxima\n",
    "ym(v0,t,g) = v0^2 * sin(t)^2 / (2 * g)\n",
    "xm(v0,t,g) = v0^2 * sin(2*t) / (g)"
   ]
  },
  {
   "cell_type": "code",
   "execution_count": 45,
   "id": "0bd34e6d",
   "metadata": {},
   "outputs": [
    {
     "data": {
      "text/html": [
       "<html>\\[\\newcommand{\\Bold}[1]{\\mathbf{#1}}\\frac{v_{0} \\sin\\left(t\\right)}{g}\\]</html>"
      ],
      "text/latex": [
       "$$\\newcommand{\\Bold}[1]{\\mathbf{#1}}\\frac{v_{0} \\sin\\left(t\\right)}{g}$$"
      ],
      "text/plain": [
       "v0*sin(t)/g"
      ]
     },
     "metadata": {},
     "output_type": "display_data"
    }
   ],
   "source": [
    "show(tym(v0,t,g))"
   ]
  },
  {
   "cell_type": "code",
   "execution_count": 40,
   "id": "39007677",
   "metadata": {},
   "outputs": [
    {
     "data": {
      "text/html": [
       "<html>\\[\\newcommand{\\Bold}[1]{\\mathbf{#1}}\\frac{2 \\, v_{0} \\sin\\left(t\\right)}{g}\\]</html>"
      ],
      "text/latex": [
       "$$\\newcommand{\\Bold}[1]{\\mathbf{#1}}\\frac{2 \\, v_{0} \\sin\\left(t\\right)}{g}$$"
      ],
      "text/plain": [
       "2*v0*sin(t)/g"
      ]
     },
     "metadata": {},
     "output_type": "display_data"
    }
   ],
   "source": [
    "show(txm(v0,t,g))"
   ]
  },
  {
   "cell_type": "code",
   "execution_count": 41,
   "id": "f9000f47",
   "metadata": {},
   "outputs": [
    {
     "data": {
      "text/html": [
       "<html>\\[\\newcommand{\\Bold}[1]{\\mathbf{#1}}\\frac{v_{0}^{2} \\sin\\left(t\\right)^{2}}{2 \\, g}\\]</html>"
      ],
      "text/latex": [
       "$$\\newcommand{\\Bold}[1]{\\mathbf{#1}}\\frac{v_{0}^{2} \\sin\\left(t\\right)^{2}}{2 \\, g}$$"
      ],
      "text/plain": [
       "1/2*v0^2*sin(t)^2/g"
      ]
     },
     "metadata": {},
     "output_type": "display_data"
    }
   ],
   "source": [
    "show(ym(v0,t,g))"
   ]
  },
  {
   "cell_type": "code",
   "execution_count": 42,
   "id": "e257ed78",
   "metadata": {},
   "outputs": [
    {
     "data": {
      "text/html": [
       "<html>\\[\\newcommand{\\Bold}[1]{\\mathbf{#1}}\\frac{v_{0}^{2} \\sin\\left(2 \\, t\\right)}{g}\\]</html>"
      ],
      "text/latex": [
       "$$\\newcommand{\\Bold}[1]{\\mathbf{#1}}\\frac{v_{0}^{2} \\sin\\left(2 \\, t\\right)}{g}$$"
      ],
      "text/plain": [
       "v0^2*sin(2*t)/g"
      ]
     },
     "metadata": {},
     "output_type": "display_data"
    }
   ],
   "source": [
    "show(xm(v0,t,g))"
   ]
  },
  {
   "cell_type": "code",
   "execution_count": 46,
   "id": "d6656257",
   "metadata": {},
   "outputs": [],
   "source": [
    "# definimos um dicionario com os valores pedidos nos itens da questao\n",
    "valores = {2:pi/9, 3:pi/6, 4:pi/4, 7:2*pi/3, 5:pi/3}"
   ]
  },
  {
   "cell_type": "code",
   "execution_count": 47,
   "id": "850e6275",
   "metadata": {},
   "outputs": [
    {
     "data": {
      "text/plain": [
       "dict_keys([2, 3, 4, 7, 5])"
      ]
     },
     "execution_count": 47,
     "metadata": {},
     "output_type": "execute_result"
    }
   ],
   "source": [
    "valores.keys()"
   ]
  },
  {
   "cell_type": "code",
   "execution_count": 48,
   "id": "5e0505d5",
   "metadata": {},
   "outputs": [
    {
     "data": {
      "text/plain": [
       "dict_values([1/9*pi, 1/6*pi, 1/4*pi, 2/3*pi, 1/3*pi])"
      ]
     },
     "execution_count": 48,
     "metadata": {},
     "output_type": "execute_result"
    }
   ],
   "source": [
    "valores.values()"
   ]
  },
  {
   "cell_type": "code",
   "execution_count": 49,
   "id": "73fedbcb",
   "metadata": {},
   "outputs": [],
   "source": [
    "# List with functions we need to evaluate\n",
    "\n",
    "functions(v0,t,g) = [tym(v0,t,g), txm(v0,t,g), ym(v0,t,g), xm(v0,t,g)]"
   ]
  },
  {
   "cell_type": "code",
   "execution_count": 50,
   "id": "b133944c",
   "metadata": {
    "scrolled": true
   },
   "outputs": [
    {
     "name": "stdout",
     "output_type": "stream",
     "text": [
      "1 | tempo Y : 0.070 | tempo X : 0.139600058500273 | Altura : 0.0238730160082675 | Alcance : 0.262362289667975\n",
      "2 | tempo Y : 0.16 | tempo X : 0.306122448979592 | Altura : 0.114795918367347 | Alcance : 0.795329452455097\n",
      "3 | tempo Y : 0.28 | tempo X : 0.577230025458406 | Altura : 0.408163265306122 | Alcance : 1.63265306122449\n",
      "4 | tempo Y : 0.62 | tempo X : 1.23717914826348 | Altura : 1.87500000000000 | Alcance : -4.33012701892219\n",
      "5 | tempo Y : 0.44 | tempo X : 0.883699391616774 | Altura : 0.956632653061224 | Alcance : 2.20924847904193\n"
     ]
    }
   ],
   "source": [
    "# loop no dicionario. Considerei apenas \n",
    "count = 1\n",
    "f(v0,t) = functions(v0,t,9.8)\n",
    "for (v0,t) in valores.items():\n",
    "    print(count, \"| tempo Y :\", n(f(v0,t)[0],4),\"| tempo X :\", n(f(v0,t)[1]), \"| Altura :\", n(f(v0,t)[2]), \"| Alcance :\", n(f(v0,t)[3]))\n",
    "    count+=1"
   ]
  },
  {
   "cell_type": "code",
   "execution_count": 19,
   "id": "eae3e642",
   "metadata": {},
   "outputs": [],
   "source": [
    "reset()"
   ]
  },
  {
   "cell_type": "markdown",
   "id": "9bb2fb5d",
   "metadata": {},
   "source": [
    "## Questão 03 & 04"
   ]
  },
  {
   "cell_type": "code",
   "execution_count": 112,
   "id": "fe2b67de",
   "metadata": {},
   "outputs": [],
   "source": [
    "v0 = var(\"v0\") # magnitude da velocidade inicial \n",
    "t = var(\"t\") #  angulo theta\n",
    "g = var(\"g\") # aceleracao da gravidade, substituir por 9.8 m/(s^2)\n",
    "L = var(\"L\") # comprimento da ladeira\n",
    "H = var(\"H\") # altura da ladeira\n",
    "\n",
    "vel(g,H) = sqrt(2*g*H)"
   ]
  },
  {
   "cell_type": "code",
   "execution_count": 116,
   "id": "817cd17a",
   "metadata": {},
   "outputs": [],
   "source": [
    "valores = {100:25,120:24,110:33,250:25,220:0}"
   ]
  },
  {
   "cell_type": "code",
   "execution_count": 127,
   "id": "9b6cf8a7",
   "metadata": {},
   "outputs": [
    {
     "data": {
      "text/plain": [
       "dict_keys([100, 120, 110, 250, 220])"
      ]
     },
     "execution_count": 127,
     "metadata": {},
     "output_type": "execute_result"
    }
   ],
   "source": [
    "valores.keys()"
   ]
  },
  {
   "cell_type": "code",
   "execution_count": 128,
   "id": "1639f842",
   "metadata": {},
   "outputs": [
    {
     "data": {
      "text/plain": [
       "dict_values([25, 24, 33, 25, 0])"
      ]
     },
     "execution_count": 128,
     "metadata": {},
     "output_type": "execute_result"
    }
   ],
   "source": [
    "valores.values()"
   ]
  },
  {
   "cell_type": "code",
   "execution_count": 129,
   "id": "c39879df",
   "metadata": {},
   "outputs": [
    {
     "name": "stdout",
     "output_type": "stream",
     "text": [
      "velocidade: 22.1359436211787\n",
      "velocidade: 21.6887067387615\n",
      "velocidade: 25.4322629744189\n",
      "velocidade: 22.1359436211787\n",
      "velocidade: 0.000000000000000\n"
     ]
    }
   ],
   "source": [
    "for j in valores.values():\n",
    "    print(\"velocidade:\", n(vel(9.8,j)))"
   ]
  },
  {
   "cell_type": "code",
   "execution_count": 136,
   "id": "098666f0",
   "metadata": {},
   "outputs": [
    {
     "name": "stdout",
     "output_type": "stream",
     "text": [
      "1 inclinacao: 0.250000000000000\n",
      "1 angulo: 0.252680255142079 = 14.4775121859299\n",
      "2 inclinacao: 0.200000000000000\n",
      "2 angulo: 0.201357920790331 = 11.5369590328155\n",
      "3 inclinacao: 0.300000000000000\n",
      "3 angulo: 0.304692654015398 = 17.4576031237221\n",
      "4 inclinacao: 0.100000000000000\n",
      "4 angulo: 0.100167421161560 = 5.73917047726679\n",
      "5 inclinacao: 0.000000000000000\n",
      "5 angulo: 0.000000000000000 = 0.000000000000000\n"
     ]
    }
   ],
   "source": [
    "# Aqui estou calculando o seno do angulo e o angulo theta\n",
    "\n",
    "count = 1\n",
    "\n",
    "for j in valores.keys():\n",
    "    seno = n(valores[j]/j)\n",
    "    arco = arcsin(seno)\n",
    "    print(count, \"inclinacao:\", seno)\n",
    "    print(count, \"angulo:\", arco , \"=\", n(arco * 180 / pi) )\n",
    "    count+=1"
   ]
  },
  {
   "cell_type": "code",
   "execution_count": 137,
   "id": "e4469175",
   "metadata": {},
   "outputs": [],
   "source": [
    "reset()"
   ]
  },
  {
   "cell_type": "markdown",
   "id": "a4d40ac9",
   "metadata": {},
   "source": [
    "## Questão 05, 06 & 07"
   ]
  },
  {
   "cell_type": "code",
   "execution_count": 266,
   "id": "bd5cad80",
   "metadata": {},
   "outputs": [],
   "source": [
    "# Considere o caso em que m1 > m2\n",
    "\n",
    "m1 = var(\"m1\") # massa m1\n",
    "m2 = var(\"m2\") #  massa m2\n",
    "t = var(\"t\") #  angulo theta\n",
    "\n",
    "g = var(\"g\") # aceleracao da gravidade, substituir por 9.8 m/(s^2)"
   ]
  },
  {
   "cell_type": "code",
   "execution_count": 267,
   "id": "6584d7cb",
   "metadata": {},
   "outputs": [],
   "source": [
    "# respostas 05\n",
    "\n",
    "a05(m1, m2, g) = g*(m1 - m2) / (m1 + m2)\n",
    "T05(m1, m2, g) = 2*g*m1*m2 / (m1 + m2)"
   ]
  },
  {
   "cell_type": "code",
   "execution_count": 268,
   "id": "10f8ff67",
   "metadata": {},
   "outputs": [],
   "source": [
    "# respostas 06\n",
    "\n",
    "a06(m1, m2, g, t) = g*(m1*sin(t) - m2) / (m1 + m2)\n",
    "T06(m1, m2, g, t) = (1+sin(t))*g*m1*m2 / (m1 + m2)"
   ]
  },
  {
   "cell_type": "code",
   "execution_count": 269,
   "id": "f9706296",
   "metadata": {},
   "outputs": [],
   "source": [
    "Massas1 = [3,6,8,10,5]\n",
    "Massas2 = [2,1,2,5,1]"
   ]
  },
  {
   "cell_type": "code",
   "execution_count": 270,
   "id": "08d97d43",
   "metadata": {},
   "outputs": [
    {
     "name": "stdout",
     "output_type": "stream",
     "text": [
      "1 | Aceleração : 1.96000000000000 | Tensao :  23.5200000000000\n",
      "2 | Aceleração : 7.00000000000000 | Tensao :  16.8000000000000\n",
      "3 | Aceleração : 5.88000000000000 | Tensao :  31.3600000000000\n",
      "4 | Aceleração : 3.26666666666667 | Tensao :  65.3333333333333\n",
      "5 | Aceleração : 6.53333333333333 | Tensao :  16.3333333333333\n"
     ]
    }
   ],
   "source": [
    "# respostas 07 parte 01\n",
    "\n",
    "count = 1\n",
    "for (m1,m2) in zip(Massas1, Massas2):\n",
    "    print(count ,\"| Aceleração :\", n(a05(m1, m2, 9.8)), \"| Tensao : \", n(T05(m1, m2, 9.8)))\n",
    "    count += 1"
   ]
  },
  {
   "cell_type": "code",
   "execution_count": 273,
   "id": "2e719344",
   "metadata": {},
   "outputs": [
    {
     "name": "stdout",
     "output_type": "stream",
     "text": [
      "1 | Aceleração : 5.88000000000000*sin(t) - 3.92000000000000 | Tensao :  11.7600000000000*sin(t) + 11.7600000000000\n",
      "2 | Aceleração : 8.40000000000000*sin(t) - 1.40000000000000 | Tensao :  8.40000000000000*sin(t) + 8.40000000000000\n",
      "3 | Aceleração : 7.84000000000000*sin(t) - 1.96000000000000 | Tensao :  15.6800000000000*sin(t) + 15.6800000000000\n",
      "4 | Aceleração : 6.53333333333333*sin(t) - 3.26666666666667 | Tensao :  32.6666666666667*sin(t) + 32.6666666666667\n",
      "5 | Aceleração : 8.16666666666667*sin(t) - 1.63333333333333 | Tensao :  8.16666666666667*sin(t) + 8.16666666666667\n"
     ]
    }
   ],
   "source": [
    "# respostas 07 parte 02\n",
    "\n",
    "count = 1\n",
    "for (m1,m2) in zip(Massas1, Massas2):\n",
    "    print(count ,\"| Aceleração :\", a06(m1, m2, 9.8, t), \"| Tensao : \", T06(m1, m2, 9.8, t))\n",
    "    count += 1"
   ]
  },
  {
   "cell_type": "code",
   "execution_count": 275,
   "id": "6abfb4f8",
   "metadata": {
    "scrolled": true
   },
   "outputs": [
    {
     "name": "stdout",
     "output_type": "stream",
     "text": [
      "1 | Aceleração : 1.96000000000000 | Tensao :  23.5200000000000\n",
      "2 | Aceleração : 7.00000000000000 | Tensao :  16.8000000000000\n",
      "3 | Aceleração : 5.88000000000000 | Tensao :  31.3600000000000\n",
      "4 | Aceleração : 3.26666666666667 | Tensao :  65.3333333333333\n",
      "5 | Aceleração : 6.53333333333333 | Tensao :  16.3333333333333\n"
     ]
    }
   ],
   "source": [
    "# No limite em que o angulo e pi / 2 os resultados das duas partes são exatamente as mesmas\n",
    "\n",
    "count = 1\n",
    "for (m1,m2) in zip(Massas1, Massas2):\n",
    "    print(count ,\"| Aceleração :\", a06(m1, m2, 9.8, pi/2), \"| Tensao : \", T06(m1, m2, 9.8, pi/2))\n",
    "    count += 1"
   ]
  },
  {
   "cell_type": "code",
   "execution_count": 276,
   "id": "480178b1",
   "metadata": {},
   "outputs": [],
   "source": [
    "reset()"
   ]
  },
  {
   "cell_type": "markdown",
   "id": "ffe0d4d3",
   "metadata": {},
   "source": [
    "## Questão 08"
   ]
  },
  {
   "cell_type": "code",
   "execution_count": 1,
   "id": "b0a6aae6",
   "metadata": {},
   "outputs": [],
   "source": [
    "# Vetores\n",
    "\n",
    "f1, f2, f3 = var(\"f1\"), var(\"f2\"), var(\"f3\") # Magnitude dos vetores\n",
    "t1, t2, t3 = var(\"t1\"), var(\"t2\"), var(\"t3\") # Direção dos vetores"
   ]
  },
  {
   "cell_type": "code",
   "execution_count": 2,
   "id": "6fe7f0b7",
   "metadata": {},
   "outputs": [],
   "source": [
    "F1(f1,t1) = vector([f1*cos(t1), f1*sin(t1)])\n",
    "F2(f2,t2) = vector([f2*cos(t2), f2*sin(t2)])\n",
    "F3(f3,t3) = vector([f3*cos(t3), f3*sin(t3)])"
   ]
  },
  {
   "cell_type": "code",
   "execution_count": 3,
   "id": "0cbacfb5",
   "metadata": {},
   "outputs": [],
   "source": [
    "magf1 = [5, 2, 8, 7, 9]\n",
    "dirf1 = [2*pi/3, pi/4, 11*pi/6, 2*pi/3, 2*pi]\n",
    "\n",
    "magf2 = [3, 2, 6, 7, 9]\n",
    "dirf2 = [3*pi/2, 5*pi/4, pi/2, pi/3, 3*pi/2]\n",
    "\n",
    "magf3 = [2, 0, 0, 6, 0]\n",
    "dirf3 = [5*pi/4, 0, 0, 3*pi/2, 0]"
   ]
  },
  {
   "cell_type": "code",
   "execution_count": 4,
   "id": "84c6ef86",
   "metadata": {},
   "outputs": [],
   "source": [
    "VectorsF1 = [n(F1(f1,t1)) for (f1,t1) in zip(magf1,dirf1)]\n",
    "VectorsF2 = [n(F2(f2,t2)) for (f2,t2) in zip(magf2,dirf2)]\n",
    "VectorsF3 = [n(F1(f3,t3)) for (f3,t3) in zip(magf3,dirf3)]"
   ]
  },
  {
   "cell_type": "code",
   "execution_count": 5,
   "id": "b193b0ee",
   "metadata": {},
   "outputs": [
    {
     "data": {
      "text/plain": [
       "5"
      ]
     },
     "execution_count": 5,
     "metadata": {},
     "output_type": "execute_result"
    }
   ],
   "source": [
    "len(VectorsF1)"
   ]
  },
  {
   "cell_type": "code",
   "execution_count": 6,
   "id": "8ffc6132",
   "metadata": {
    "scrolled": true
   },
   "outputs": [],
   "source": [
    "A = []\n",
    "B = []\n",
    "C = []\n",
    "Soma = []\n",
    "for i in range(len(VectorsF1)):\n",
    "    A.append(plot(VectorsF1[i], color=\"blue\"))\n",
    "    B.append(plot(VectorsF2[i], color=\"red\"))\n",
    "    C.append(plot(VectorsF3[i], color=\"green\"))\n",
    "    Soma.append(plot(VectorsF1[i] + VectorsF2[i] + VectorsF3[i], color=\"purple\"))"
   ]
  },
  {
   "cell_type": "code",
   "execution_count": 289,
   "id": "f89b5f9d",
   "metadata": {},
   "outputs": [
    {
     "data": {
      "image/png": "[encoded data removed]",
      "text/plain": [
       "Graphics object consisting of 4 graphics primitives"
      ]
     },
     "execution_count": 289,
     "metadata": {},
     "output_type": "execute_result"
    }
   ],
   "source": [
    "b=0\n",
    "A[b] + B[b] + C[b] + Soma[b]"
   ]
  },
  {
   "cell_type": "code",
   "execution_count": 290,
   "id": "6f6c5270",
   "metadata": {},
   "outputs": [
    {
     "data": {
      "image/png": "[encoded data removed]",
      "text/plain": [
       "Graphics object consisting of 4 graphics primitives"
      ]
     },
     "execution_count": 290,
     "metadata": {},
     "output_type": "execute_result"
    }
   ],
   "source": [
    "b=1\n",
    "A[b] + B[b] + C[b] + Soma[b]"
   ]
  },
  {
   "cell_type": "code",
   "execution_count": 291,
   "id": "9be545b4",
   "metadata": {},
   "outputs": [
    {
     "data": {
      "image/png": "[encoded data removed]",
      "text/plain": [
       "Graphics object consisting of 4 graphics primitives"
      ]
     },
     "execution_count": 291,
     "metadata": {},
     "output_type": "execute_result"
    }
   ],
   "source": [
    "b=2\n",
    "A[b] + B[b] + C[b] + Soma[b]"
   ]
  },
  {
   "cell_type": "code",
   "execution_count": 292,
   "id": "020b019e",
   "metadata": {},
   "outputs": [
    {
     "data": {
      "image/png": "[encoded data removed]",
      "text/plain": [
       "Graphics object consisting of 4 graphics primitives"
      ]
     },
     "execution_count": 292,
     "metadata": {},
     "output_type": "execute_result"
    }
   ],
   "source": [
    "b=3\n",
    "A[b] + B[b] + C[b] + Soma[b]"
   ]
  },
  {
   "cell_type": "code",
   "execution_count": 293,
   "id": "7d67852d",
   "metadata": {},
   "outputs": [
    {
     "data": {
      "image/png": "[encoded data removed]",
      "text/plain": [
       "Graphics object consisting of 4 graphics primitives"
      ]
     },
     "execution_count": 293,
     "metadata": {},
     "output_type": "execute_result"
    }
   ],
   "source": [
    "b=4\n",
    "A[b] + B[b] + C[b] + Soma[b]"
   ]
  },
  {
   "cell_type": "code",
   "execution_count": 7,
   "id": "1309cfba",
   "metadata": {},
   "outputs": [],
   "source": [
    "A = []\n",
    "B = []\n",
    "C = []\n",
    "Soma = []\n",
    "for i in range(len(VectorsF1)):\n",
    "    A.append(VectorsF1[i])\n",
    "    B.append(VectorsF2[i])\n",
    "    C.append(VectorsF3[i])\n",
    "    Soma.append(VectorsF1[i] + VectorsF2[i] + VectorsF3[i])"
   ]
  },
  {
   "cell_type": "code",
   "execution_count": 8,
   "id": "ae60b34f",
   "metadata": {
    "scrolled": true
   },
   "outputs": [
    {
     "name": "stdout",
     "output_type": "stream",
     "text": [
      "1 -- Resultante : (-3.91421356237309, -0.0840865434509024) | magnitude : 3.91511664687720\n",
      "     Tangente angulo : 0.0214823596390389 | angulo : 0.0214790559096786 = 1.23065925155011 \n",
      "\n",
      "2 -- Resultante : (0.000000000000000, 0.000000000000000) | magnitude : 0.000000000000000\n",
      "     Tangente angulo : NaN | angulo : NaN = NaN \n",
      "\n",
      "3 -- Resultante : (6.92820323027551, 2.00000000000000) | magnitude : 7.21110255092798\n",
      "     Tangente angulo : 0.288675134594813 | angulo : 0.281034901502814 = 16.1021137519860 \n",
      "\n",
      "4 -- Resultante : (0.000000000000000, 6.12435565298214) | magnitude : 6.12435565298214\n",
      "     Tangente angulo : +infinity | angulo : 1.57079632679490 = 90.0000000000000 \n",
      "\n",
      "5 -- Resultante : (9.00000000000000, -9.00000000000000) | magnitude : 12.7279220613579\n",
      "     Tangente angulo : -1.00000000000000 | angulo : -0.785398163397448 = -45.0000000000000 \n",
      "\n"
     ]
    }
   ],
   "source": [
    "for i in range(len(Soma)):\n",
    "    print(f\"{i + 1} -- Resultante : {Soma[i]} | magnitude : {n(sqrt(Soma[i][1]^2 +Soma[i][0]^2))}\")\n",
    "    print(f\"     Tangente angulo : {Soma[i][1]/Soma[i][0]} | angulo : {arctan(Soma[i][1]/Soma[i][0])} = {n(arctan(Soma[i][1]/Soma[i][0]) * 180 / pi)} \\n\")"
   ]
  },
  {
   "cell_type": "code",
   "execution_count": 70,
   "id": "4607e039",
   "metadata": {},
   "outputs": [
    {
     "data": {
      "text/plain": [
       "-4.00000000000000"
      ]
     },
     "execution_count": 70,
     "metadata": {},
     "output_type": "execute_result"
    }
   ],
   "source": [
    "8*n(sin(11*pi/6))"
   ]
  },
  {
   "cell_type": "code",
   "execution_count": 10,
   "id": "5aa07b81",
   "metadata": {},
   "outputs": [
    {
     "data": {
      "text/plain": [
       "[(-2.50000000000000, 4.33012701892219),\n",
       " (1.41421356237310, 1.41421356237310),\n",
       " (6.92820323027551, -4.00000000000000),\n",
       " (-3.50000000000000, 6.06217782649107),\n",
       " (9.00000000000000, 0.000000000000000)]"
      ]
     },
     "execution_count": 10,
     "metadata": {},
     "output_type": "execute_result"
    }
   ],
   "source": [
    "A"
   ]
  },
  {
   "cell_type": "code",
   "execution_count": 11,
   "id": "ea484b88",
   "metadata": {},
   "outputs": [
    {
     "data": {
      "text/plain": [
       "[(0.000000000000000, -3.00000000000000),\n",
       " (-1.41421356237310, -1.41421356237310),\n",
       " (0.000000000000000, 6.00000000000000),\n",
       " (3.50000000000000, 6.06217782649107),\n",
       " (0.000000000000000, -9.00000000000000)]"
      ]
     },
     "execution_count": 11,
     "metadata": {},
     "output_type": "execute_result"
    }
   ],
   "source": [
    "B"
   ]
  },
  {
   "cell_type": "code",
   "execution_count": 12,
   "id": "e49cf962",
   "metadata": {},
   "outputs": [
    {
     "data": {
      "text/plain": [
       "[(-1.41421356237310, -1.41421356237310),\n",
       " (0.000000000000000, 0.000000000000000),\n",
       " (0.000000000000000, 0.000000000000000),\n",
       " (0.000000000000000, -6.00000000000000),\n",
       " (0.000000000000000, 0.000000000000000)]"
      ]
     },
     "execution_count": 12,
     "metadata": {},
     "output_type": "execute_result"
    }
   ],
   "source": [
    "C"
   ]
  },
  {
   "cell_type": "code",
   "execution_count": null,
   "id": "1c959483",
   "metadata": {},
   "outputs": [],
   "source": []
  }
 ],
 "metadata": {
  "kernelspec": {
   "display_name": "SageMath 9.5",
   "language": "sage",
   "name": "sagemath-9.5"
  },
  "language_info": {
   "codemirror_mode": {
    "name": "ipython",
    "version": 3
   },
   "file_extension": ".py",
   "mimetype": "text/x-python",
   "name": "python",
   "nbconvert_exporter": "python",
   "pygments_lexer": "ipython3",
   "version": "3.9.9"
  }
 },
 "nbformat": 4,
 "nbformat_minor": 5
}
