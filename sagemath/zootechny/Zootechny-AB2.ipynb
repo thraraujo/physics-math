{
 "cells": [
  {
   "cell_type": "markdown",
   "id": "27f03d37",
   "metadata": {},
   "source": [
    "## Questão 1"
   ]
  },
  {
   "cell_type": "code",
   "execution_count": 1,
   "id": "6c80f02f",
   "metadata": {},
   "outputs": [],
   "source": [
    "Areas = [[1,2],[2,4],[1,3],[3,4],[3,6],[4,5],[3,4],[4,6],[3,4],[3,5]] # areas dadas nos diferentes tipos de provas"
   ]
  },
  {
   "cell_type": "code",
   "execution_count": 2,
   "id": "b0a2b963",
   "metadata": {
    "scrolled": false
   },
   "outputs": [
    {
     "name": "stdout",
     "output_type": "stream",
     "text": [
      "[1, 2]\n",
      "[2, 4]\n",
      "[1, 3]\n",
      "[3, 4]\n",
      "[3, 6]\n",
      "[4, 5]\n",
      "[3, 4]\n",
      "[4, 6]\n",
      "[3, 4]\n",
      "[3, 5]\n"
     ]
    }
   ],
   "source": [
    "for i in range(len(Areas)):\n",
    "    print(Areas[i])"
   ]
  },
  {
   "cell_type": "code",
   "execution_count": 3,
   "id": "5d7e0bec",
   "metadata": {},
   "outputs": [],
   "source": [
    "Questoes = [[vector([sqrt(3),-1]),pi/6],[vector([3*sqrt(3)/2,-3/2]),pi/4],[vector([2*sqrt(3),-2]),pi/3],[vector([5*sqrt(3)/2,-5/2]),pi/2]]"
   ]
  },
  {
   "cell_type": "code",
   "execution_count": 4,
   "id": "2ee1b6ca",
   "metadata": {
    "scrolled": true
   },
   "outputs": [
    {
     "name": "stdout",
     "output_type": "stream",
     "text": [
      "* PROVA TIPO 1:\n",
      "    ** Questão 1: Força (2*sqrt(3), 2) N  |  Pressão P = 2 Pa = 2 Pa\n",
      "    ** Questão 2: Força (3*sqrt(2), 3*sqrt(2)) N  |  Pressão P = 3 Pa = 3 Pa\n",
      "    ** Questão 3: Força (4, 4*sqrt(3)) N  |  Pressão P = 4 Pa = 4 Pa\n",
      "    ** Questão 4: Força (0, 10) N  |  Pressão P = 5 Pa = 5 Pa\n",
      "* PROVA TIPO 2:\n",
      "    ** Questão 1: Força (2*sqrt(3), 2) N  |  Pressão P = 1 Pa = 1 Pa\n",
      "    ** Questão 2: Força (3*sqrt(2), 3*sqrt(2)) N  |  Pressão P = 3/2 Pa = 3/2 Pa\n",
      "    ** Questão 3: Força (4, 4*sqrt(3)) N  |  Pressão P = 2 Pa = 2 Pa\n",
      "    ** Questão 4: Força (0, 10) N  |  Pressão P = 5/2 Pa = 5/2 Pa\n",
      "* PROVA TIPO 3:\n",
      "    ** Questão 1: Força (3*sqrt(3), 3) N  |  Pressão P = 2 Pa = 2 Pa\n",
      "    ** Questão 2: Força (9/2*sqrt(2), 9/2*sqrt(2)) N  |  Pressão P = 3 Pa = 3 Pa\n",
      "    ** Questão 3: Força (6, 6*sqrt(3)) N  |  Pressão P = 4 Pa = 4 Pa\n",
      "    ** Questão 4: Força (0, 15) N  |  Pressão P = 5 Pa = 5 Pa\n",
      "* PROVA TIPO 4:\n",
      "    ** Questão 1: Força (4/3*sqrt(3), 4/3) N  |  Pressão P = 2/3 Pa = 2/3 Pa\n",
      "    ** Questão 2: Força (2*sqrt(2), 2*sqrt(2)) N  |  Pressão P = 1 Pa = 1 Pa\n",
      "    ** Questão 3: Força (8/3, 8/3*sqrt(3)) N  |  Pressão P = 4/3 Pa = 4/3 Pa\n",
      "    ** Questão 4: Força (0, 20/3) N  |  Pressão P = 5/3 Pa = 5/3 Pa\n",
      "* PROVA TIPO 5:\n",
      "    ** Questão 1: Força (2*sqrt(3), 2) N  |  Pressão P = 2/3 Pa = 2/3 Pa\n",
      "    ** Questão 2: Força (3*sqrt(2), 3*sqrt(2)) N  |  Pressão P = 1 Pa = 1 Pa\n",
      "    ** Questão 3: Força (4, 4*sqrt(3)) N  |  Pressão P = 4/3 Pa = 4/3 Pa\n",
      "    ** Questão 4: Força (0, 10) N  |  Pressão P = 5/3 Pa = 5/3 Pa\n",
      "* PROVA TIPO 6:\n",
      "    ** Questão 1: Força (5/4*sqrt(3), 5/4) N  |  Pressão P = 1/2 Pa = 1/2 Pa\n",
      "    ** Questão 2: Força (15/8*sqrt(2), 15/8*sqrt(2)) N  |  Pressão P = 3/4 Pa = 3/4 Pa\n",
      "    ** Questão 3: Força (5/2, 5/2*sqrt(3)) N  |  Pressão P = 1 Pa = 1 Pa\n",
      "    ** Questão 4: Força (0, 25/4) N  |  Pressão P = 5/4 Pa = 5/4 Pa\n",
      "* PROVA TIPO 7:\n",
      "    ** Questão 1: Força (4/3*sqrt(3), 4/3) N  |  Pressão P = 2/3 Pa = 2/3 Pa\n",
      "    ** Questão 2: Força (2*sqrt(2), 2*sqrt(2)) N  |  Pressão P = 1 Pa = 1 Pa\n",
      "    ** Questão 3: Força (8/3, 8/3*sqrt(3)) N  |  Pressão P = 4/3 Pa = 4/3 Pa\n",
      "    ** Questão 4: Força (0, 20/3) N  |  Pressão P = 5/3 Pa = 5/3 Pa\n",
      "* PROVA TIPO 8:\n",
      "    ** Questão 1: Força (3/2*sqrt(3), 3/2) N  |  Pressão P = 1/2 Pa = 1/2 Pa\n",
      "    ** Questão 2: Força (9/4*sqrt(2), 9/4*sqrt(2)) N  |  Pressão P = 3/4 Pa = 3/4 Pa\n",
      "    ** Questão 3: Força (3, 3*sqrt(3)) N  |  Pressão P = 1 Pa = 1 Pa\n",
      "    ** Questão 4: Força (0, 15/2) N  |  Pressão P = 5/4 Pa = 5/4 Pa\n",
      "* PROVA TIPO 9:\n",
      "    ** Questão 1: Força (4/3*sqrt(3), 4/3) N  |  Pressão P = 2/3 Pa = 2/3 Pa\n",
      "    ** Questão 2: Força (2*sqrt(2), 2*sqrt(2)) N  |  Pressão P = 1 Pa = 1 Pa\n",
      "    ** Questão 3: Força (8/3, 8/3*sqrt(3)) N  |  Pressão P = 4/3 Pa = 4/3 Pa\n",
      "    ** Questão 4: Força (0, 20/3) N  |  Pressão P = 5/3 Pa = 5/3 Pa\n",
      "* PROVA TIPO 10:\n",
      "    ** Questão 1: Força (5/3*sqrt(3), 5/3) N  |  Pressão P = 2/3 Pa = 2/3 Pa\n",
      "    ** Questão 2: Força (5/2*sqrt(2), 5/2*sqrt(2)) N  |  Pressão P = 1 Pa = 1 Pa\n",
      "    ** Questão 3: Força (10/3, 10/3*sqrt(3)) N  |  Pressão P = 4/3 Pa = 4/3 Pa\n",
      "    ** Questão 4: Força (0, 25/3) N  |  Pressão P = 5/3 Pa = 5/3 Pa\n"
     ]
    }
   ],
   "source": [
    "for a in range(len(Areas)):\n",
    "    print(f\"* PROVA TIPO {a + 1}:\")\n",
    "    for i in range(len(Questoes)):\n",
    "        F2 = (Areas[a][1]*(Questoes[i][0].norm()) / Areas[a][0]) * vector([cos(Questoes[i][1]),sin(Questoes[i][1])])\n",
    "        print(f\"    ** Questão {i + 1}: Força {F2} N  |  Pressão P = {Questoes[i][0].norm() / Areas[a][0]} Pa = {F2.norm()/Areas[a][1]} Pa\")"
   ]
  },
  {
   "cell_type": "code",
   "execution_count": 5,
   "id": "a856701a",
   "metadata": {},
   "outputs": [
    {
     "name": "stdout",
     "output_type": "stream",
     "text": [
      "* PROVA TIPO 1:\n",
      "    ** Questão 1: Força (3.46410161513775, 2.00000000000000) N  |  Pressão P = 2 Pa = 2.00000000000000 Pa\n",
      "    ** Questão 2: Força (4.24264068711929, 4.24264068711929) N  |  Pressão P = 3 Pa = 3.00000000000000 Pa\n",
      "    ** Questão 3: Força (4.00000000000000, 6.92820323027551) N  |  Pressão P = 4 Pa = 4.00000000000000 Pa\n",
      "    ** Questão 4: Força (0.000000000000000, 10.0000000000000) N  |  Pressão P = 5 Pa = 5.00000000000000 Pa\n",
      "* PROVA TIPO 2:\n",
      "    ** Questão 1: Força (3.46410161513775, 2.00000000000000) N  |  Pressão P = 1 Pa = 1.00000000000000 Pa\n",
      "    ** Questão 2: Força (4.24264068711929, 4.24264068711929) N  |  Pressão P = 3/2 Pa = 1.50000000000000 Pa\n",
      "    ** Questão 3: Força (4.00000000000000, 6.92820323027551) N  |  Pressão P = 2 Pa = 2.00000000000000 Pa\n",
      "    ** Questão 4: Força (0.000000000000000, 10.0000000000000) N  |  Pressão P = 5/2 Pa = 2.50000000000000 Pa\n",
      "* PROVA TIPO 3:\n",
      "    ** Questão 1: Força (5.19615242270663, 3.00000000000000) N  |  Pressão P = 2 Pa = 2.00000000000000 Pa\n",
      "    ** Questão 2: Força (6.36396103067893, 6.36396103067893) N  |  Pressão P = 3 Pa = 3.00000000000000 Pa\n",
      "    ** Questão 3: Força (6.00000000000000, 10.3923048454133) N  |  Pressão P = 4 Pa = 4.00000000000000 Pa\n",
      "    ** Questão 4: Força (0.000000000000000, 15.0000000000000) N  |  Pressão P = 5 Pa = 5.00000000000000 Pa\n",
      "* PROVA TIPO 4:\n",
      "    ** Questão 1: Força (2.30940107675850, 1.33333333333333) N  |  Pressão P = 2/3 Pa = 0.666666666666667 Pa\n",
      "    ** Questão 2: Força (2.82842712474619, 2.82842712474619) N  |  Pressão P = 1 Pa = 1.00000000000000 Pa\n",
      "    ** Questão 3: Força (2.66666666666667, 4.61880215351701) N  |  Pressão P = 4/3 Pa = 1.33333333333333 Pa\n",
      "    ** Questão 4: Força (0.000000000000000, 6.66666666666667) N  |  Pressão P = 5/3 Pa = 1.66666666666667 Pa\n",
      "* PROVA TIPO 5:\n",
      "    ** Questão 1: Força (3.46410161513775, 2.00000000000000) N  |  Pressão P = 2/3 Pa = 0.666666666666667 Pa\n",
      "    ** Questão 2: Força (4.24264068711929, 4.24264068711929) N  |  Pressão P = 1 Pa = 1.00000000000000 Pa\n",
      "    ** Questão 3: Força (4.00000000000000, 6.92820323027551) N  |  Pressão P = 4/3 Pa = 1.33333333333333 Pa\n",
      "    ** Questão 4: Força (0.000000000000000, 10.0000000000000) N  |  Pressão P = 5/3 Pa = 1.66666666666667 Pa\n",
      "* PROVA TIPO 6:\n",
      "    ** Questão 1: Força (2.16506350946110, 1.25000000000000) N  |  Pressão P = 1/2 Pa = 0.500000000000000 Pa\n",
      "    ** Questão 2: Força (2.65165042944955, 2.65165042944955) N  |  Pressão P = 3/4 Pa = 0.750000000000000 Pa\n",
      "    ** Questão 3: Força (2.50000000000000, 4.33012701892219) N  |  Pressão P = 1 Pa = 1.00000000000000 Pa\n",
      "    ** Questão 4: Força (0.000000000000000, 6.25000000000000) N  |  Pressão P = 5/4 Pa = 1.25000000000000 Pa\n",
      "* PROVA TIPO 7:\n",
      "    ** Questão 1: Força (2.30940107675850, 1.33333333333333) N  |  Pressão P = 2/3 Pa = 0.666666666666667 Pa\n",
      "    ** Questão 2: Força (2.82842712474619, 2.82842712474619) N  |  Pressão P = 1 Pa = 1.00000000000000 Pa\n",
      "    ** Questão 3: Força (2.66666666666667, 4.61880215351701) N  |  Pressão P = 4/3 Pa = 1.33333333333333 Pa\n",
      "    ** Questão 4: Força (0.000000000000000, 6.66666666666667) N  |  Pressão P = 5/3 Pa = 1.66666666666667 Pa\n",
      "* PROVA TIPO 8:\n",
      "    ** Questão 1: Força (2.59807621135332, 1.50000000000000) N  |  Pressão P = 1/2 Pa = 0.500000000000000 Pa\n",
      "    ** Questão 2: Força (3.18198051533946, 3.18198051533946) N  |  Pressão P = 3/4 Pa = 0.750000000000000 Pa\n",
      "    ** Questão 3: Força (3.00000000000000, 5.19615242270663) N  |  Pressão P = 1 Pa = 1.00000000000000 Pa\n",
      "    ** Questão 4: Força (0.000000000000000, 7.50000000000000) N  |  Pressão P = 5/4 Pa = 1.25000000000000 Pa\n",
      "* PROVA TIPO 9:\n",
      "    ** Questão 1: Força (2.30940107675850, 1.33333333333333) N  |  Pressão P = 2/3 Pa = 0.666666666666667 Pa\n",
      "    ** Questão 2: Força (2.82842712474619, 2.82842712474619) N  |  Pressão P = 1 Pa = 1.00000000000000 Pa\n",
      "    ** Questão 3: Força (2.66666666666667, 4.61880215351701) N  |  Pressão P = 4/3 Pa = 1.33333333333333 Pa\n",
      "    ** Questão 4: Força (0.000000000000000, 6.66666666666667) N  |  Pressão P = 5/3 Pa = 1.66666666666667 Pa\n",
      "* PROVA TIPO 10:\n",
      "    ** Questão 1: Força (2.88675134594813, 1.66666666666667) N  |  Pressão P = 2/3 Pa = 0.666666666666667 Pa\n",
      "    ** Questão 2: Força (3.53553390593274, 3.53553390593274) N  |  Pressão P = 1 Pa = 1.00000000000000 Pa\n",
      "    ** Questão 3: Força (3.33333333333333, 5.77350269189626) N  |  Pressão P = 4/3 Pa = 1.33333333333333 Pa\n",
      "    ** Questão 4: Força (0.000000000000000, 8.33333333333333) N  |  Pressão P = 5/3 Pa = 1.66666666666667 Pa\n"
     ]
    }
   ],
   "source": [
    "for a in range(len(Areas)):\n",
    "    print(f\"* PROVA TIPO {a + 1}:\")\n",
    "    for i in range(len(Questoes)):\n",
    "        F2 = n(Areas[a][1]*(Questoes[i][0].norm()) / Areas[a][0]) * vector([n(cos(Questoes[i][1])),n(sin(Questoes[i][1]))])\n",
    "        print(f\"    ** Questão {i + 1}: Força {F2} N  |  Pressão P = {Questoes[i][0].norm() / Areas[a][0]} Pa = {F2.norm()/Areas[a][1]} Pa\")"
   ]
  },
  {
   "cell_type": "markdown",
   "id": "24def6a7",
   "metadata": {},
   "source": [
    "## Questão 2"
   ]
  },
  {
   "cell_type": "code",
   "execution_count": 6,
   "id": "48390035",
   "metadata": {},
   "outputs": [],
   "source": [
    "rho = 1.06 * 10^(3)"
   ]
  },
  {
   "cell_type": "code",
   "execution_count": 7,
   "id": "e3ac956d",
   "metadata": {},
   "outputs": [],
   "source": [
    "eta = 3 * 10^(-3)"
   ]
  },
  {
   "cell_type": "code",
   "execution_count": 8,
   "id": "3de58b6f",
   "metadata": {},
   "outputs": [],
   "source": [
    "Rv = [[1.5*10^(-2),0.067],[1.0*10^(-2),0.607],[0.5*10^(-2),0.076],[1.2*10^(-2),0.706],[0.4*10^(-2),0.760],[0.3*10^(-2),0.070],[0.8*10^(-2),0.806],[0.9*10^(-2),0.087],[1.0*10^(-2),0.107],[1.3*10^(-2),0.089]]"
   ]
  },
  {
   "cell_type": "code",
   "execution_count": 9,
   "id": "e8fc21d0",
   "metadata": {},
   "outputs": [
    {
     "data": {
      "text/plain": [
       "0.0150000000000000"
      ]
     },
     "execution_count": 9,
     "metadata": {},
     "output_type": "execute_result"
    }
   ],
   "source": [
    "Rv[0][0]"
   ]
  },
  {
   "cell_type": "code",
   "execution_count": 10,
   "id": "e7898091",
   "metadata": {},
   "outputs": [],
   "source": [
    "r, v = var('r, v')"
   ]
  },
  {
   "cell_type": "code",
   "execution_count": 11,
   "id": "93cddc8a",
   "metadata": {},
   "outputs": [],
   "source": [
    "Reynolds(r, v) = 2 * rho * v * r / eta"
   ]
  },
  {
   "cell_type": "code",
   "execution_count": 12,
   "id": "37ccbc1b",
   "metadata": {
    "scrolled": false
   },
   "outputs": [
    {
     "name": "stdout",
     "output_type": "stream",
     "text": [
      "* PROVA TIPO 1:\n",
      "    1. R = 710.200000000000. Portanto, o regime é laminar\n",
      "    2. O raio deve ser r = 0.084m para o regime ser turbulento\n",
      "* PROVA TIPO 2:\n",
      "    1. R = 4289.46666666667. Portanto, o regime é turbulento\n",
      "    2. O raio deve ser r = 0.005m para o regime ser laminar\n",
      "* PROVA TIPO 3:\n",
      "    1. R = 268.533333333333. Portanto, o regime é laminar\n",
      "    2. O raio deve ser r = 0.074m para o regime ser turbulento\n",
      "* PROVA TIPO 4:\n",
      "    1. R = 5986.88000000000. Portanto, o regime é turbulento\n",
      "    2. O raio deve ser r = 0.005m para o regime ser laminar\n",
      "* PROVA TIPO 5:\n",
      "    1. R = 2148.26666666667. Portanto, o regime é laminar\n",
      "    2. O raio deve ser r = 0.007m para o regime ser turbulento\n",
      "* PROVA TIPO 6:\n",
      "    1. R = 148.400000000000. Portanto, o regime é laminar\n",
      "    2. O raio deve ser r = 0.081m para o regime ser turbulento\n",
      "* PROVA TIPO 7:\n",
      "    1. R = 4556.58666666667. Portanto, o regime é turbulento\n",
      "    2. O raio deve ser r = 0.004m para o regime ser laminar\n",
      "* PROVA TIPO 8:\n",
      "    1. R = 553.320000000000. Portanto, o regime é laminar\n",
      "    2. O raio deve ser r = 0.065m para o regime ser turbulento\n",
      "* PROVA TIPO 9:\n",
      "    1. R = 756.133333333333. Portanto, o regime é laminar\n",
      "    2. O raio deve ser r = 0.053m para o regime ser turbulento\n",
      "* PROVA TIPO 10:\n",
      "    1. R = 817.613333333333. Portanto, o regime é laminar\n",
      "    2. O raio deve ser r = 0.064m para o regime ser turbulento\n"
     ]
    }
   ],
   "source": [
    "for a in range(len(Rv)):\n",
    "    print(f\"* PROVA TIPO {a + 1}:\")\n",
    "    R = Reynolds(Rv[a][0],Rv[a][1])\n",
    "    if R < 2300:\n",
    "        print(f\"    1. R = {Reynolds(Rv[a][0],Rv[a][1])}. Portanto, o regime é laminar\")\n",
    "        print(f\"    2. O raio deve ser r = {4000 * eta / (2 * rho * Rv[a][1]):.3f}m para o regime ser turbulento\")\n",
    "    elif R > 4000:\n",
    "        print(f\"    1. R = {Reynolds(Rv[a][0],Rv[a][1])}. Portanto, o regime é turbulento\")\n",
    "        print(f\"    2. O raio deve ser r = {2300 * eta / (2 * rho * Rv[a][1]):.3f}m para o regime ser laminar\")        "
   ]
  },
  {
   "cell_type": "code",
   "execution_count": 15,
   "id": "d06c87b1",
   "metadata": {},
   "outputs": [
    {
     "data": {
      "text/plain": [
       "4610.08070981880"
      ]
     },
     "execution_count": 15,
     "metadata": {},
     "output_type": "execute_result"
    }
   ],
   "source": [
    "n(2300 * 3 / (2 * 1.06 * 0.706))"
   ]
  },
  {
   "cell_type": "code",
   "execution_count": null,
   "id": "1a2de222",
   "metadata": {},
   "outputs": [],
   "source": []
  }
 ],
 "metadata": {
  "kernelspec": {
   "display_name": "SageMath 9.7",
   "language": "sage",
   "name": "sagemath-9.7"
  },
  "language_info": {
   "codemirror_mode": {
    "name": "ipython",
    "version": 3
   },
   "file_extension": ".py",
   "mimetype": "text/x-python",
   "name": "python",
   "nbconvert_exporter": "python",
   "pygments_lexer": "ipython3",
   "version": "3.10.5"
  }
 },
 "nbformat": 4,
 "nbformat_minor": 5
}
