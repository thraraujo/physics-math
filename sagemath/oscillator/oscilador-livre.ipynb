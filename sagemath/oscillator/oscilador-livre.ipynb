{
 "cells": [
  {
   "cell_type": "markdown",
   "id": "7b215e60",
   "metadata": {},
   "source": [
    "#### Oscilador Harmonico Simples "
   ]
  },
  {
   "cell_type": "markdown",
   "id": "daff696d",
   "metadata": {},
   "source": [
    "Consideremos inicialmente a solução para o oscilador livre. A solução é dada por : "
   ]
  },
  {
   "cell_type": "code",
   "execution_count": 1,
   "id": "d5387dc8",
   "metadata": {},
   "outputs": [],
   "source": [
    "A = var(\"A\") # Amplitude de oscilação\n",
    "t = var(\"t\") # Intervalo\n",
    "w0 = var(\"w0\") # Frequencia angular\n",
    "f = var(\"f\") # Fase inicial"
   ]
  },
  {
   "cell_type": "code",
   "execution_count": 2,
   "id": "9d9c8041",
   "metadata": {},
   "outputs": [
    {
     "data": {
      "text/html": [
       "<html>\\(\\displaystyle A \\cos\\left(t w_{0} + f\\right)\\)</html>"
      ],
      "text/latex": [
       "$\\displaystyle A \\cos\\left(t w_{0} + f\\right)$"
      ],
      "text/plain": [
       "A*cos(t*w0 + f)"
      ]
     },
     "metadata": {},
     "output_type": "display_data"
    }
   ],
   "source": [
    "# A solução para a equação diferencial do oscilador harmonico livre é dada por\n",
    "\n",
    "livre(A,w0,T,f) = A*cos(w0*t + f)\n",
    "\n",
    "show(A*cos(w0*t + f))"
   ]
  },
  {
   "cell_type": "code",
   "execution_count": 3,
   "id": "073b45fe",
   "metadata": {},
   "outputs": [
    {
     "data": {
      "text/plain": [
       "2*cos(1/4*pi + 2*t)"
      ]
     },
     "execution_count": 3,
     "metadata": {},
     "output_type": "execute_result"
    }
   ],
   "source": [
    "livre(2,2,t,pi/4)"
   ]
  },
  {
   "cell_type": "code",
   "execution_count": 7,
   "id": "e08b5866",
   "metadata": {},
   "outputs": [],
   "source": [
    "osciladorPerfil = [plot(cos(t), (-2,2), ymin = -2.0, ymax = 2.0) for t in srange(0,3,0.5)]"
   ]
  },
  {
   "cell_type": "code",
   "execution_count": null,
   "id": "ff8f9d0d",
   "metadata": {},
   "outputs": [],
   "source": []
  },
  {
   "cell_type": "code",
   "execution_count": null,
   "id": "c803b637",
   "metadata": {},
   "outputs": [],
   "source": []
  },
  {
   "cell_type": "code",
   "execution_count": null,
   "id": "2adc0855",
   "metadata": {},
   "outputs": [],
   "source": []
  },
  {
   "cell_type": "code",
   "execution_count": null,
   "id": "7769de28",
   "metadata": {},
   "outputs": [],
   "source": []
  }
 ],
 "metadata": {
  "kernelspec": {
   "display_name": "SageMath 9.7",
   "language": "sage",
   "name": "sagemath-9.7"
  },
  "language_info": {
   "codemirror_mode": {
    "name": "ipython",
    "version": 3
   },
   "file_extension": ".py",
   "mimetype": "text/x-python",
   "name": "python",
   "nbconvert_exporter": "python",
   "pygments_lexer": "ipython3",
   "version": "3.10.5"
  }
 },
 "nbformat": 4,
 "nbformat_minor": 5
}
