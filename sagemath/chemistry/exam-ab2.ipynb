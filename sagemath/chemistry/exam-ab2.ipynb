{
 "cells": [
  {
   "cell_type": "markdown",
   "id": "5f4e3658",
   "metadata": {},
   "source": [
    "## Questão 1"
   ]
  },
  {
   "cell_type": "code",
   "execution_count": 7,
   "id": "c944d2a9",
   "metadata": {},
   "outputs": [],
   "source": [
    "Areas = [[1,2],[2,4],[1,3],[3,4],[3,6],[4,5],[3,4]] # areas dadas nos diferentes tipos de provas"
   ]
  },
  {
   "cell_type": "code",
   "execution_count": 8,
   "id": "93376c87",
   "metadata": {},
   "outputs": [],
   "source": [
    "Questoes = [[vector([sqrt(3),-1]),pi/6],[vector([3*sqrt(3)/2,-3/2]),pi/4],[vector([2*sqrt(3),-2]),pi/3],[vector([5*sqrt(3)/2,-5/2]),pi/2]]"
   ]
  },
  {
   "cell_type": "code",
   "execution_count": 10,
   "id": "e94ddae4",
   "metadata": {},
   "outputs": [
    {
     "name": "stdout",
     "output_type": "stream",
     "text": [
      "* PROVA TIPO 1:\n",
      "    ** Questão 1: Força (2*sqrt(3), 2) N  |  Pressão P = 2 Pa = 2 Pa\n",
      "    ** Questão 2: Força (3*sqrt(2), 3*sqrt(2)) N  |  Pressão P = 3 Pa = 3 Pa\n",
      "    ** Questão 3: Força (4, 4*sqrt(3)) N  |  Pressão P = 4 Pa = 4 Pa\n",
      "    ** Questão 4: Força (0, 10) N  |  Pressão P = 5 Pa = 5 Pa\n",
      "* PROVA TIPO 2:\n",
      "    ** Questão 1: Força (2*sqrt(3), 2) N  |  Pressão P = 1 Pa = 1 Pa\n",
      "    ** Questão 2: Força (3*sqrt(2), 3*sqrt(2)) N  |  Pressão P = 3/2 Pa = 3/2 Pa\n",
      "    ** Questão 3: Força (4, 4*sqrt(3)) N  |  Pressão P = 2 Pa = 2 Pa\n",
      "    ** Questão 4: Força (0, 10) N  |  Pressão P = 5/2 Pa = 5/2 Pa\n",
      "* PROVA TIPO 3:\n",
      "    ** Questão 1: Força (3*sqrt(3), 3) N  |  Pressão P = 2 Pa = 2 Pa\n",
      "    ** Questão 2: Força (9/2*sqrt(2), 9/2*sqrt(2)) N  |  Pressão P = 3 Pa = 3 Pa\n",
      "    ** Questão 3: Força (6, 6*sqrt(3)) N  |  Pressão P = 4 Pa = 4 Pa\n",
      "    ** Questão 4: Força (0, 15) N  |  Pressão P = 5 Pa = 5 Pa\n",
      "* PROVA TIPO 4:\n",
      "    ** Questão 1: Força (4/3*sqrt(3), 4/3) N  |  Pressão P = 2/3 Pa = 2/3 Pa\n",
      "    ** Questão 2: Força (2*sqrt(2), 2*sqrt(2)) N  |  Pressão P = 1 Pa = 1 Pa\n",
      "    ** Questão 3: Força (8/3, 8/3*sqrt(3)) N  |  Pressão P = 4/3 Pa = 4/3 Pa\n",
      "    ** Questão 4: Força (0, 20/3) N  |  Pressão P = 5/3 Pa = 5/3 Pa\n",
      "* PROVA TIPO 5:\n",
      "    ** Questão 1: Força (2*sqrt(3), 2) N  |  Pressão P = 2/3 Pa = 2/3 Pa\n",
      "    ** Questão 2: Força (3*sqrt(2), 3*sqrt(2)) N  |  Pressão P = 1 Pa = 1 Pa\n",
      "    ** Questão 3: Força (4, 4*sqrt(3)) N  |  Pressão P = 4/3 Pa = 4/3 Pa\n",
      "    ** Questão 4: Força (0, 10) N  |  Pressão P = 5/3 Pa = 5/3 Pa\n",
      "* PROVA TIPO 6:\n",
      "    ** Questão 1: Força (5/4*sqrt(3), 5/4) N  |  Pressão P = 1/2 Pa = 1/2 Pa\n",
      "    ** Questão 2: Força (15/8*sqrt(2), 15/8*sqrt(2)) N  |  Pressão P = 3/4 Pa = 3/4 Pa\n",
      "    ** Questão 3: Força (5/2, 5/2*sqrt(3)) N  |  Pressão P = 1 Pa = 1 Pa\n",
      "    ** Questão 4: Força (0, 25/4) N  |  Pressão P = 5/4 Pa = 5/4 Pa\n",
      "* PROVA TIPO 7:\n",
      "    ** Questão 1: Força (4/3*sqrt(3), 4/3) N  |  Pressão P = 2/3 Pa = 2/3 Pa\n",
      "    ** Questão 2: Força (2*sqrt(2), 2*sqrt(2)) N  |  Pressão P = 1 Pa = 1 Pa\n",
      "    ** Questão 3: Força (8/3, 8/3*sqrt(3)) N  |  Pressão P = 4/3 Pa = 4/3 Pa\n",
      "    ** Questão 4: Força (0, 20/3) N  |  Pressão P = 5/3 Pa = 5/3 Pa\n"
     ]
    }
   ],
   "source": [
    "for a in range(len(Areas)):\n",
    "    print(f\"* PROVA TIPO {a + 1}:\")\n",
    "    for i in range(len(Questoes)):\n",
    "        F2 = (Areas[a][1]*(Questoes[i][0].norm()) / Areas[a][0]) * vector([cos(Questoes[i][1]),sin(Questoes[i][1])])\n",
    "        print(f\"    ** Questão {i + 1}: Força {F2} N  |  Pressão P = {Questoes[i][0].norm() / Areas[a][0]} Pa = {F2.norm()/Areas[a][1]} Pa\")"
   ]
  },
  {
   "cell_type": "markdown",
   "id": "5f6e45df",
   "metadata": {},
   "source": [
    "## Questão 2"
   ]
  },
  {
   "cell_type": "code",
   "execution_count": 15,
   "id": "5296652e",
   "metadata": {},
   "outputs": [],
   "source": [
    "Pesos = [[vector([0,-7]),vector([0,-5/2])],[vector([0,-4]),vector([0,-7/2])],[vector([0,-7]),vector([0,-9/2])],\n",
    "        [vector([0,-6]),vector([0,-3/2])],[vector([0,-7]),vector([0,-4/2])],[vector([0,-3]),vector([0,-3/2])],\n",
    "        [vector([0,-2]),vector([0,-1/2])]] # Pesos reais e aparentes"
   ]
  },
  {
   "cell_type": "code",
   "execution_count": 21,
   "id": "de43b950",
   "metadata": {},
   "outputs": [],
   "source": [
    "aguaDens = 1000"
   ]
  },
  {
   "cell_type": "markdown",
   "id": "470f7642",
   "metadata": {},
   "source": [
    "A resultante, que é o peso aparente, é dada pela soma do empuxo com o peso real. Ou seja \n",
    "\n",
    "(1) E + W_real = W_ap\n",
    "\n",
    "Assim podemos encontrar o empuxo como E = W_ap - W_real (enquanto vetor). A magnitude é |E| = |W_real| - |W_ap|. \n",
    "\n",
    "O principio de Arquimedes estabelece que a magnitude do empuxo é dada pelo peso do volume deslocado. Além disso, como\n",
    "consideramos que o objeto esta completamente submerso, o volume deslocado é dado pelo volume do objeto, portanto, o \n",
    "empuxo é dado por \n",
    "\n",
    "(2) |E| = densidade_fluido * volume_objeto * g\n",
    "\n",
    "De onde concluímos que \n",
    "\n",
    "(3) volume_objeto = |E| / (densidade_fluido * g)\n",
    "\n",
    "Além disso, sabemos que o peso do objeto é dado por \n",
    "\n",
    "(4) |W_real| = densidade_objeto * volume_objeto * g\n",
    "\n",
    "Usando a equação (1) na equação (4) temos que \n",
    "\n",
    "(5) |W_real| = |E| * densidade_objeto / densidade_fluido \n",
    "\n",
    "De onde concluímos que \n",
    "\n",
    "(5)  densidade_objeto = densidade_fluido |W_real| / |E|"
   ]
  },
  {
   "cell_type": "code",
   "execution_count": 25,
   "id": "c905b718",
   "metadata": {},
   "outputs": [
    {
     "name": "stdout",
     "output_type": "stream",
     "text": [
      "* PROVA TIPO 1:\n",
      "    ** Questão 1: Densidade = 1555.56 Kg/m3\n",
      "    ** Questão 2: Empuxo = 9/2 N\n",
      "* PROVA TIPO 2:\n",
      "    ** Questão 1: Densidade = 8000.00 Kg/m3\n",
      "    ** Questão 2: Empuxo = 1/2 N\n",
      "* PROVA TIPO 3:\n",
      "    ** Questão 1: Densidade = 2800.00 Kg/m3\n",
      "    ** Questão 2: Empuxo = 5/2 N\n",
      "* PROVA TIPO 4:\n",
      "    ** Questão 1: Densidade = 1333.33 Kg/m3\n",
      "    ** Questão 2: Empuxo = 9/2 N\n",
      "* PROVA TIPO 5:\n",
      "    ** Questão 1: Densidade = 1400.00 Kg/m3\n",
      "    ** Questão 2: Empuxo = 5 N\n",
      "* PROVA TIPO 6:\n",
      "    ** Questão 1: Densidade = 2000.00 Kg/m3\n",
      "    ** Questão 2: Empuxo = 3/2 N\n",
      "* PROVA TIPO 7:\n",
      "    ** Questão 1: Densidade = 1333.33 Kg/m3\n",
      "    ** Questão 2: Empuxo = 3/2 N\n"
     ]
    }
   ],
   "source": [
    "for a in range(len(Pesos)):\n",
    "    print(f\"* PROVA TIPO {a + 1}:\")\n",
    "    Empuxo = Pesos[a][1] - Pesos[a][0]\n",
    "    print(f\"    ** Questão 1: Densidade = {n(aguaDens * Pesos[a][0].norm() /Empuxo.norm()):.2f} Kg/m3\")\n",
    "    print(f\"    ** Questão 2: Empuxo = {Empuxo.norm()} N\")"
   ]
  },
  {
   "cell_type": "code",
   "execution_count": null,
   "id": "0d5a9d5b",
   "metadata": {},
   "outputs": [],
   "source": []
  }
 ],
 "metadata": {
  "kernelspec": {
   "display_name": "SageMath 9.7",
   "language": "sage",
   "name": "sagemath-9.7"
  },
  "language_info": {
   "codemirror_mode": {
    "name": "ipython",
    "version": 3
   },
   "file_extension": ".py",
   "mimetype": "text/x-python",
   "name": "python",
   "nbconvert_exporter": "python",
   "pygments_lexer": "ipython3",
   "version": "3.10.5"
  }
 },
 "nbformat": 4,
 "nbformat_minor": 5
}
