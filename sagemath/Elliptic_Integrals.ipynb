{
 "cells": [
  {
   "cell_type": "code",
   "execution_count": 25,
   "id": "94014412",
   "metadata": {},
   "outputs": [],
   "source": [
    "from sage.symbolic.integration.integral import indefinite_integral"
   ]
  },
  {
   "cell_type": "code",
   "execution_count": 29,
   "id": "13988919",
   "metadata": {},
   "outputs": [],
   "source": [
    "from sage.symbolic.integration.integral import definite_integral"
   ]
  },
  {
   "cell_type": "code",
   "execution_count": 30,
   "id": "46170e17",
   "metadata": {},
   "outputs": [
    {
     "data": {
      "text/plain": [
       "arcsin(x)"
      ]
     },
     "execution_count": 30,
     "metadata": {},
     "output_type": "execute_result"
    }
   ],
   "source": [
    "indefinite_integral(1/sqrt(1 - x^2),x)"
   ]
  },
  {
   "cell_type": "code",
   "execution_count": 31,
   "id": "d7d7f8a7",
   "metadata": {},
   "outputs": [
    {
     "data": {
      "text/plain": [
       "1/2*pi"
      ]
     },
     "execution_count": 31,
     "metadata": {},
     "output_type": "execute_result"
    }
   ],
   "source": [
    "definite_integral(1/sqrt(1 - x^2),x,0,1)"
   ]
  }
 ],
 "metadata": {
  "kernelspec": {
   "display_name": "SageMath 9.5",
   "language": "sage",
   "name": "sagemath-9.5"
  },
  "language_info": {
   "codemirror_mode": {
    "name": "ipython",
    "version": 3
   },
   "file_extension": ".py",
   "mimetype": "text/x-python",
   "name": "python",
   "nbconvert_exporter": "python",
   "pygments_lexer": "ipython3",
   "version": "3.9.9"
  }
 },
 "nbformat": 4,
 "nbformat_minor": 5
}
