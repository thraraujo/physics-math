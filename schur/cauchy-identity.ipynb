{
 "cells": [
  {
   "cell_type": "code",
   "execution_count": 2,
   "id": "0a014dcf-9944-485e-82b2-12ac8b980df5",
   "metadata": {},
   "outputs": [],
   "source": [
    "import sympy as sp\n",
    "import numpy as np\n",
    "import pysymmpol as sy\n",
    "import pysymmpol.utils as ut"
   ]
  },
  {
   "cell_type": "code",
   "execution_count": 4,
   "id": "6b03dbdf-29e6-412f-be5e-9b072dede2c2",
   "metadata": {},
   "outputs": [],
   "source": [
    "# Let me first define the coordinate y that we will insert in Cauchy's identity \n",
    "y, q = sp.symbols('y q')"
   ]
  },
  {
   "cell_type": "code",
   "execution_count": 43,
   "id": "726e44d6-5676-4684-95e9-db6d1b365795",
   "metadata": {},
   "outputs": [],
   "source": [
    "N = 10 # This is the maximum level I want to consider"
   ]
  },
  {
   "cell_type": "markdown",
   "id": "2b807d3e-932e-4f1a-9223-d131a88b235b",
   "metadata": {},
   "source": [
    "## Cauchy Identity - MacMahon"
   ]
  },
  {
   "cell_type": "code",
   "execution_count": 3,
   "id": "5b522283-5fb4-4a68-91eb-8f0568b0e1d2",
   "metadata": {},
   "outputs": [],
   "source": [
    "states = []\n",
    "for i in range(N+1):\n",
    "    i_states = sy.State(i).partition_states()\n",
    "    for st in i_states:\n",
    "        states.append(st)"
   ]
  },
  {
   "cell_type": "code",
   "execution_count": 4,
   "id": "411463b6-29b4-4d8e-aad1-00090649f05e",
   "metadata": {},
   "outputs": [
    {
     "data": {
      "text/plain": [
       "[(1,),\n",
       " (1, 1),\n",
       " (2, 0),\n",
       " (1, 1, 1),\n",
       " (2, 1, 0),\n",
       " (3, 0, 0),\n",
       " (1, 1, 1, 1),\n",
       " (2, 1, 1, 0),\n",
       " (3, 1, 0, 0),\n",
       " (2, 2, 0, 0),\n",
       " (4, 0, 0, 0),\n",
       " (1, 1, 1, 1, 1),\n",
       " (2, 1, 1, 1, 0),\n",
       " (3, 1, 1, 0, 0),\n",
       " (2, 2, 1, 0, 0),\n",
       " (4, 1, 0, 0, 0),\n",
       " (3, 2, 0, 0, 0),\n",
       " (5, 0, 0, 0, 0),\n",
       " (1, 1, 1, 1, 1, 1),\n",
       " (2, 1, 1, 1, 1, 0),\n",
       " (3, 1, 1, 1, 0, 0),\n",
       " (2, 2, 1, 1, 0, 0),\n",
       " (4, 1, 1, 0, 0, 0),\n",
       " (3, 2, 1, 0, 0, 0),\n",
       " (5, 1, 0, 0, 0, 0),\n",
       " (2, 2, 2, 0, 0, 0),\n",
       " (4, 2, 0, 0, 0, 0),\n",
       " (3, 3, 0, 0, 0, 0),\n",
       " (6, 0, 0, 0, 0, 0)]"
      ]
     },
     "execution_count": 4,
     "metadata": {},
     "output_type": "execute_result"
    }
   ],
   "source": [
    "states"
   ]
  },
  {
   "cell_type": "code",
   "execution_count": 45,
   "id": "fae37f32-bfa0-4955-a783-d0e5569a5f11",
   "metadata": {},
   "outputs": [],
   "source": [
    "# Schur polynomials at x = (q^(3/2), q^(5/2), q^(7/2), ...) in the Cauchy's identity\n",
    "x = np.array(( q**(sp.Rational(1,2)), q**(sp.Rational(3,2)), q**(sp.Rational(5,2)), q**(sp.Rational(7,2)), q**(sp.Rational(9,2)), q**(sp.Rational(11,2))))"
   ]
  },
  {
   "cell_type": "code",
   "execution_count": 6,
   "id": "1e84e3fb-3064-4375-bd27-bd1f2339f8b6",
   "metadata": {},
   "outputs": [],
   "source": [
    "S = 1\n",
    "for st in states:     \n",
    "    yg = sy.YoungDiagram(st)\n",
    "    t_x = [ sum(x**i)/i for i in range(1, yg.boxes + 1)] \n",
    "    schur = sy.SchurPolynomial(yg)\n",
    "    #display(schur.explicit(t_x))\n",
    "    S += (schur.explicit(t_x))**2"
   ]
  },
  {
   "cell_type": "code",
   "execution_count": 7,
   "id": "bc292080-698f-4264-bb73-dff83995e976",
   "metadata": {},
   "outputs": [],
   "source": [
    "S = S.expand().simplify()"
   ]
  },
  {
   "cell_type": "code",
   "execution_count": 20,
   "id": "aa93d3e7-e8fe-478f-9ae7-fde3714e330f",
   "metadata": {},
   "outputs": [],
   "source": [
    "n = 6"
   ]
  },
  {
   "cell_type": "code",
   "execution_count": 21,
   "id": "11d41d00-6769-421a-a546-de8fc50c153a",
   "metadata": {},
   "outputs": [
    {
     "data": {
      "text/latex": [
       "$\\displaystyle 48$"
      ],
      "text/plain": [
       "48"
      ]
     },
     "execution_count": 21,
     "metadata": {},
     "output_type": "execute_result"
    }
   ],
   "source": [
    "S.diff(q,n).subs(q,0)/sp.factorial(n)"
   ]
  },
  {
   "cell_type": "markdown",
   "id": "fa7f7aae-086b-41ca-aeb1-43294fcc1277",
   "metadata": {},
   "source": [
    "# Cauchy's identity - Euler"
   ]
  },
  {
   "cell_type": "code",
   "execution_count": 52,
   "id": "f722cdf7-e20c-43f9-aadf-0186b5997c1d",
   "metadata": {},
   "outputs": [],
   "source": [
    "# Schur polynomials at x = (q, q^2, q^3, ...) in the Cauchy's identity\n",
    "x = np.array(( q, q**2, q**3, q**4, q**5, q**6, q**7, q**8, q**9, q**10 ))"
   ]
  },
  {
   "cell_type": "code",
   "execution_count": 53,
   "id": "7b80514b-7551-4329-ba41-03d7bd967a57",
   "metadata": {},
   "outputs": [],
   "source": [
    "t_x = [ sum(x**i)/i for i in range(1, N + 1)] "
   ]
  },
  {
   "cell_type": "code",
   "execution_count": 54,
   "id": "97bbd922-3b05-4593-8b4e-56daa904ae32",
   "metadata": {},
   "outputs": [],
   "source": [
    "S = 0\n",
    "for n in range(N+1):     \n",
    "    yg = sy.YoungDiagram((n,))\n",
    "    schur = sy.SchurPolynomial(yg)\n",
    "    #display(schur.explicit(t_x))\n",
    "    S += schur.explicit(t_x)"
   ]
  },
  {
   "cell_type": "code",
   "execution_count": 55,
   "id": "912d368a-0757-4b90-b002-445a20be0c33",
   "metadata": {},
   "outputs": [],
   "source": [
    "S = S.expand().simplify()"
   ]
  },
  {
   "cell_type": "code",
   "execution_count": 56,
   "id": "be6f7eab-cb4c-4b69-86cd-05dbe0845732",
   "metadata": {},
   "outputs": [
    {
     "data": {
      "text/latex": [
       "$\\displaystyle q^{100} + q^{99} + 2 q^{98} + 3 q^{97} + 5 q^{96} + 7 q^{95} + 11 q^{94} + 15 q^{93} + 22 q^{92} + 30 q^{91} + 42 q^{90} + 54 q^{89} + 73 q^{88} + 93 q^{87} + 121 q^{86} + 152 q^{85} + 193 q^{84} + 237 q^{83} + 295 q^{82} + 356 q^{81} + 433 q^{80} + 515 q^{79} + 615 q^{78} + 720 q^{77} + 847 q^{76} + 978 q^{75} + 1131 q^{74} + 1289 q^{73} + 1470 q^{72} + 1652 q^{71} + 1860 q^{70} + 2065 q^{69} + 2293 q^{68} + 2517 q^{67} + 2761 q^{66} + 2994 q^{65} + 3246 q^{64} + 3481 q^{63} + 3729 q^{62} + 3956 q^{61} + 4192 q^{60} + 4397 q^{59} + 4609 q^{58} + 4784 q^{57} + 4959 q^{56} + 5095 q^{55} + 5226 q^{54} + 5311 q^{53} + 5392 q^{52} + 5424 q^{51} + 5448 q^{50} + 5424 q^{49} + 5392 q^{48} + 5311 q^{47} + 5226 q^{46} + 5095 q^{45} + 4959 q^{44} + 4784 q^{43} + 4609 q^{42} + 4397 q^{41} + 4192 q^{40} + 3956 q^{39} + 3729 q^{38} + 3481 q^{37} + 3246 q^{36} + 2994 q^{35} + 2761 q^{34} + 2517 q^{33} + 2293 q^{32} + 2065 q^{31} + 1860 q^{30} + 1652 q^{29} + 1470 q^{28} + 1289 q^{27} + 1131 q^{26} + 978 q^{25} + 847 q^{24} + 720 q^{23} + 615 q^{22} + 515 q^{21} + 433 q^{20} + 356 q^{19} + 295 q^{18} + 237 q^{17} + 193 q^{16} + 152 q^{15} + 121 q^{14} + 93 q^{13} + 73 q^{12} + 54 q^{11} + 42 q^{10} + 30 q^{9} + 22 q^{8} + 15 q^{7} + 11 q^{6} + 7 q^{5} + 5 q^{4} + 3 q^{3} + 2 q^{2} + q + 1$"
      ],
      "text/plain": [
       "q**100 + q**99 + 2*q**98 + 3*q**97 + 5*q**96 + 7*q**95 + 11*q**94 + 15*q**93 + 22*q**92 + 30*q**91 + 42*q**90 + 54*q**89 + 73*q**88 + 93*q**87 + 121*q**86 + 152*q**85 + 193*q**84 + 237*q**83 + 295*q**82 + 356*q**81 + 433*q**80 + 515*q**79 + 615*q**78 + 720*q**77 + 847*q**76 + 978*q**75 + 1131*q**74 + 1289*q**73 + 1470*q**72 + 1652*q**71 + 1860*q**70 + 2065*q**69 + 2293*q**68 + 2517*q**67 + 2761*q**66 + 2994*q**65 + 3246*q**64 + 3481*q**63 + 3729*q**62 + 3956*q**61 + 4192*q**60 + 4397*q**59 + 4609*q**58 + 4784*q**57 + 4959*q**56 + 5095*q**55 + 5226*q**54 + 5311*q**53 + 5392*q**52 + 5424*q**51 + 5448*q**50 + 5424*q**49 + 5392*q**48 + 5311*q**47 + 5226*q**46 + 5095*q**45 + 4959*q**44 + 4784*q**43 + 4609*q**42 + 4397*q**41 + 4192*q**40 + 3956*q**39 + 3729*q**38 + 3481*q**37 + 3246*q**36 + 2994*q**35 + 2761*q**34 + 2517*q**33 + 2293*q**32 + 2065*q**31 + 1860*q**30 + 1652*q**29 + 1470*q**28 + 1289*q**27 + 1131*q**26 + 978*q**25 + 847*q**24 + 720*q**23 + 615*q**22 + 515*q**21 + 433*q**20 + 356*q**19 + 295*q**18 + 237*q**17 + 193*q**16 + 152*q**15 + 121*q**14 + 93*q**13 + 73*q**12 + 54*q**11 + 42*q**10 + 30*q**9 + 22*q**8 + 15*q**7 + 11*q**6 + 7*q**5 + 5*q**4 + 3*q**3 + 2*q**2 + q + 1"
      ]
     },
     "execution_count": 56,
     "metadata": {},
     "output_type": "execute_result"
    }
   ],
   "source": [
    "S"
   ]
  },
  {
   "cell_type": "code",
   "execution_count": 63,
   "id": "70c57541-3430-4c77-848a-bda1eade23eb",
   "metadata": {},
   "outputs": [
    {
     "data": {
      "text/latex": [
       "$\\displaystyle 54$"
      ],
      "text/plain": [
       "54"
      ]
     },
     "execution_count": 63,
     "metadata": {},
     "output_type": "execute_result"
    }
   ],
   "source": [
    "n = 11\n",
    "S.diff(q,n).subs(q,0)/sp.factorial(n)"
   ]
  },
  {
   "cell_type": "code",
   "execution_count": null,
   "id": "2a045adb-86d6-482e-bb35-e665cca3d056",
   "metadata": {},
   "outputs": [],
   "source": []
  }
 ],
 "metadata": {
  "kernelspec": {
   "display_name": "Python 3 (ipykernel)",
   "language": "python",
   "name": "python3"
  },
  "language_info": {
   "codemirror_mode": {
    "name": "ipython",
    "version": 3
   },
   "file_extension": ".py",
   "mimetype": "text/x-python",
   "name": "python",
   "nbconvert_exporter": "python",
   "pygments_lexer": "ipython3",
   "version": "3.12.3"
  }
 },
 "nbformat": 4,
 "nbformat_minor": 5
}
