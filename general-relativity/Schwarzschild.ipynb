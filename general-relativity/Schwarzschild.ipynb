{
 "cells": [
  {
   "cell_type": "markdown",
   "id": "1d8b2778-f42c-4f4b-9aec-87213132440d",
   "metadata": {},
   "source": [
    "Notas de aula para o concurso para professor adjunto... edital blablabla. "
   ]
  },
  {
   "cell_type": "markdown",
   "id": "6112def0-5d09-44d4-aeeb-0d273bffbe32",
   "metadata": {
    "tags": []
   },
   "source": [
    "# Definições"
   ]
  },
  {
   "cell_type": "code",
   "execution_count": 55,
   "id": "78b37875-4e0f-4902-bf7e-28e9879d5a5f",
   "metadata": {
    "tags": []
   },
   "outputs": [],
   "source": [
    "from sympy import *\n",
    "from itertools import *\n",
    "\n",
    "# Einsteinpy: https://docs.einsteinpy.org/en/stable/index.html\n",
    "# Sympy: https://docs.sympy.org/latest/index.html\n",
    "# Intertools: https://docs.python.org/3/library/itertools.html"
   ]
  },
  {
   "cell_type": "code",
   "execution_count": 56,
   "id": "002d8427-3379-4832-8a8d-491c591e7e73",
   "metadata": {
    "tags": []
   },
   "outputs": [],
   "source": [
    "# Respectivamente: Massa M, constante de Newton G, velocidade da luz c, constante cosmológica Lb tempo t, raio r, angulo polar theta, azimuth phi \n",
    "\n",
    "M, G, c, Lb, t, r, th, ph = symbols('M G c Lb t r th ph')\n",
    "X = [t, r, th, ph]\n",
    "\n",
    "# Também definimos as funções f1 e f2 que usamos no ansätz para a solução de Schwarzschild\n",
    "f1 = Function('f1')('r')\n",
    "f2 = Function('f2')('r')"
   ]
  },
  {
   "cell_type": "markdown",
   "id": "fc7a083b-15a2-4316-9809-e77a68c5af13",
   "metadata": {
    "tags": []
   },
   "source": [
    "# Ansätz"
   ]
  },
  {
   "cell_type": "markdown",
   "id": "0e2f272a-5bd0-4c5a-9e6a-b8c0556cf7ba",
   "metadata": {},
   "source": [
    "A equação de campo de Einstein no vácuo, mas na presença de uma constante cosmológica, é dada por: \n",
    "\n",
    "$$ \\tag{1} R_{\\mu\\nu} - \\frac{1}{2} (R - 2 \\Lambda) g_{\\mu\\nu} = 0 \\qquad (\\mu, \\nu = 0, 1, 2, 3) \\quad \\Rightarrow \\quad \\boxed{R_{\\mu\\nu} = \\Lambda g_{\\mu\\nu}}$$\n",
    "\n",
    "onde $R_{\\mu\\nu}$ são as componentes do tensor de Ricci, $R$ o escalar de curvatura, $\\Lambda$ a constante cosmológica e $g_{\\mu\\nu}$ as componentes da métrica, de tal forma que o elemento de distântia $ds^2$ será dado por \n",
    "$$ \\tag{2} ds^2 = \\sum_{\\mu=0}^3 \\sum_{\\nu=0}^3 g_{\\mu\\nu} dx^\\mu dx^\\nu  \\equiv  g_{\\mu\\nu} dx^\\mu dx^\\nu $$\n",
    "onde na última igualdade usamos a convenção de Einstein para soma. Buscaremos uma solução de (1) tal que:\n",
    "\n",
    "1) Possuem simetria esférica. Podemos pensar nessa condição como o equivalente Newtoniano de um potencial central. De fato, estudando a equação da geodésica para a solução de Schwarzschild (que encontraremos abaixo) nos levará ao potencial $\\Phi(r) = - \\frac{GM}{r}$.\n",
    "\n",
    "2) O espaço tempo é estático, ou seja, as componentes da métrica são independentes do tempo, e em particular, consideraremos a invariancia sob a transformação $t \\mapsto -t$.\n",
    "\n",
    "3) O espaço-tempo é assimptoticamente plano.\n",
    "\n",
    "Essas 3 condições juntas nos induzem a considerar um ansätz na forma\n",
    "$$\\tag{3} ds^2 = -f_1(r) c^2 dt^2 + f_2(r)dr^2 + r^2 (d\\theta^2 + \\sin^2\\theta d\\phi^2)$$"
   ]
  },
  {
   "cell_type": "markdown",
   "id": "f3b4f147-0b0c-4466-a01a-7257b10ec0e6",
   "metadata": {
    "tags": []
   },
   "source": [
    "## Resolvendo a equação de Einstein"
   ]
  },
  {
   "cell_type": "markdown",
   "id": "1bcda912-9891-43fa-9fb0-8b1e90965200",
   "metadata": {},
   "source": [
    "Vamos agora resolver a solução de Einstein passo a passo usando o ansätz dado na expressão (3)."
   ]
  },
  {
   "cell_type": "markdown",
   "id": "8fb859a1-0636-4bb8-b6f7-225c9fb02031",
   "metadata": {
    "jp-MarkdownHeadingCollapsed": true,
    "tags": []
   },
   "source": [
    "### Métrica"
   ]
  },
  {
   "cell_type": "code",
   "execution_count": 57,
   "id": "3bd538c0-6bae-40f5-8ba0-60657177a197",
   "metadata": {
    "tags": []
   },
   "outputs": [],
   "source": [
    "# Aqui vamos definir a métrica. Inicialmente preenchemos todas as entradas com zeros, e depois definimos as componentes não nulas. \n",
    "g = zeros(4) \n",
    "g[0,0] = -f1 # felizmente o python é relativista e começa a contar os indices a partir do zero \n",
    "g[1,1] = f2\n",
    "g[2,2] = r**2\n",
    "g[3,3] = r**2 * sin(th)**2\n",
    "\n",
    "rank = g.rank() # o rank será útil para generalizar esse código para casos onde o espaço-tempo tem dimensões maiores ou menos que 4. Sim, isso é muito importante. \n",
    "gI = g.inv() # Também precisamos da inversa para subir os indices de Lorentz"
   ]
  },
  {
   "cell_type": "markdown",
   "id": "e5fca00d-e20a-4393-8047-f00a5856439e",
   "metadata": {
    "jp-MarkdownHeadingCollapsed": true,
    "tags": []
   },
   "source": [
    "### Símbolos de Christoffel"
   ]
  },
  {
   "cell_type": "markdown",
   "id": "6e93a124-62cb-4b5c-b800-73e31d42b2e8",
   "metadata": {},
   "source": [
    "Esses objetos são as componentes da conexão de Levi-Civita dadas explicitamente por:\n",
    "\n",
    "$$\\tag{4} \\Gamma^\\rho_{\\mu\\nu} = \\frac{1}{2} g^{\\rho\\sigma} \\left( \\partial_\\mu g_{\\sigma\\nu} + \\partial_\\sigma g_{\\mu\\nu} - \\partial_\\sigma g_{\\mu\\nu} \\right) $$"
   ]
  },
  {
   "cell_type": "code",
   "execution_count": 58,
   "id": "ee14f2fc-eb7a-4c7b-83db-47c241c1e37f",
   "metadata": {
    "tags": []
   },
   "outputs": [],
   "source": [
    "# k denota os indices contravariantes (no andar de cima), ao passo que i e j denotam os indices covariantes (no andar de baixo).\n",
    "def Gamma(k,i,j):\n",
    "    n = 0\n",
    "    GammaMatrix = 0\n",
    "    while n < rank:\n",
    "        GammaMatrix = GammaMatrix + gI[k,n]*(g[n,j].diff(X[i]) + g[n,i].diff(X[j]) - g[i,j].diff(X[n])) / 2\n",
    "        n += 1\n",
    "    return GammaMatrix"
   ]
  },
  {
   "cell_type": "markdown",
   "id": "0ccb2034-360a-4fb2-8975-60967b7fc102",
   "metadata": {
    "tags": []
   },
   "source": [
    "É útil pensar nesses objetos, os símbolos de Christoffel como 4 matrizes rotulados com o indice k = 0, 1, 2, 3, de tal forma que:"
   ]
  },
  {
   "cell_type": "code",
   "execution_count": 59,
   "id": "4fc2a054-6c77-4576-8042-7ce6ed2d6f51",
   "metadata": {
    "tags": []
   },
   "outputs": [],
   "source": [
    "# Primeiro construímos 4 matrizes com todas as componentes nulas\n",
    "ChSymb0 = zeros(rank)\n",
    "ChSymb1 = zeros(rank)\n",
    "ChSymb2 = zeros(rank)\n",
    "ChSymb3 = zeros(rank)\n",
    "ChSymb = [ChSymb0, ChSymb1, ChSymb2, ChSymb3]"
   ]
  },
  {
   "cell_type": "code",
   "execution_count": 60,
   "id": "7bbcf36e-6e8f-43a5-870b-b1ed3ed98885",
   "metadata": {
    "tags": []
   },
   "outputs": [],
   "source": [
    "# Agora preenchemos essas matrizes com as componentes não nulas para o ansätz dado em (3)\n",
    "for k in range(rank):\n",
    "    for i in range(rank):\n",
    "        for j in range(rank):\n",
    "            if Gamma(k,i,j) != 0:\n",
    "                ChSymb[k][i,j] = Gamma(k,i,j)"
   ]
  },
  {
   "cell_type": "code",
   "execution_count": 61,
   "id": "66ae3765-43c3-48ab-8a15-fec3c828e7e3",
   "metadata": {
    "tags": []
   },
   "outputs": [
    {
     "data": {
      "text/latex": [
       "$\\displaystyle \\left[\\begin{matrix}0 & \\frac{\\frac{d}{d r} f_{1}{\\left(r \\right)}}{2 f_{1}{\\left(r \\right)}} & 0 & 0\\\\\\frac{\\frac{d}{d r} f_{1}{\\left(r \\right)}}{2 f_{1}{\\left(r \\right)}} & 0 & 0 & 0\\\\0 & 0 & 0 & 0\\\\0 & 0 & 0 & 0\\end{matrix}\\right]$"
      ],
      "text/plain": [
       "Matrix([\n",
       "[                             0, Derivative(f1(r), r)/(2*f1(r)), 0, 0],\n",
       "[Derivative(f1(r), r)/(2*f1(r)),                              0, 0, 0],\n",
       "[                             0,                              0, 0, 0],\n",
       "[                             0,                              0, 0, 0]])"
      ]
     },
     "execution_count": 61,
     "metadata": {},
     "output_type": "execute_result"
    }
   ],
   "source": [
    "ChSymb[0]"
   ]
  },
  {
   "cell_type": "code",
   "execution_count": 62,
   "id": "bc5b2737-4820-4f59-aaaf-79ac477b6b7f",
   "metadata": {
    "tags": []
   },
   "outputs": [
    {
     "data": {
      "text/latex": [
       "$\\displaystyle \\left[\\begin{matrix}\\frac{\\frac{d}{d r} f_{1}{\\left(r \\right)}}{2 f_{2}{\\left(r \\right)}} & 0 & 0 & 0\\\\0 & \\frac{\\frac{d}{d r} f_{2}{\\left(r \\right)}}{2 f_{2}{\\left(r \\right)}} & 0 & 0\\\\0 & 0 & - \\frac{r}{f_{2}{\\left(r \\right)}} & 0\\\\0 & 0 & 0 & - \\frac{r \\sin^{2}{\\left(th \\right)}}{f_{2}{\\left(r \\right)}}\\end{matrix}\\right]$"
      ],
      "text/plain": [
       "Matrix([\n",
       "[Derivative(f1(r), r)/(2*f2(r)),                              0,        0,                   0],\n",
       "[                             0, Derivative(f2(r), r)/(2*f2(r)),        0,                   0],\n",
       "[                             0,                              0, -r/f2(r),                   0],\n",
       "[                             0,                              0,        0, -r*sin(th)**2/f2(r)]])"
      ]
     },
     "execution_count": 62,
     "metadata": {},
     "output_type": "execute_result"
    }
   ],
   "source": [
    "ChSymb[1]"
   ]
  },
  {
   "cell_type": "code",
   "execution_count": 63,
   "id": "f62d0cd3-8d87-4172-8bf6-5fb368d62b24",
   "metadata": {
    "tags": []
   },
   "outputs": [
    {
     "data": {
      "text/latex": [
       "$\\displaystyle \\left[\\begin{matrix}0 & 0 & 0 & 0\\\\0 & 0 & \\frac{1}{r} & 0\\\\0 & \\frac{1}{r} & 0 & 0\\\\0 & 0 & 0 & - \\sin{\\left(th \\right)} \\cos{\\left(th \\right)}\\end{matrix}\\right]$"
      ],
      "text/plain": [
       "Matrix([\n",
       "[0,   0,   0,                0],\n",
       "[0,   0, 1/r,                0],\n",
       "[0, 1/r,   0,                0],\n",
       "[0,   0,   0, -sin(th)*cos(th)]])"
      ]
     },
     "execution_count": 63,
     "metadata": {},
     "output_type": "execute_result"
    }
   ],
   "source": [
    "ChSymb[2]"
   ]
  },
  {
   "cell_type": "code",
   "execution_count": 64,
   "id": "7fb5dcd1-2adb-4653-9041-9fea59afc18c",
   "metadata": {
    "tags": []
   },
   "outputs": [
    {
     "data": {
      "text/latex": [
       "$\\displaystyle \\left[\\begin{matrix}0 & 0 & 0 & 0\\\\0 & 0 & 0 & \\frac{1}{r}\\\\0 & 0 & 0 & \\frac{\\cos{\\left(th \\right)}}{\\sin{\\left(th \\right)}}\\\\0 & \\frac{1}{r} & \\frac{\\cos{\\left(th \\right)}}{\\sin{\\left(th \\right)}} & 0\\end{matrix}\\right]$"
      ],
      "text/plain": [
       "Matrix([\n",
       "[0,   0,               0,               0],\n",
       "[0,   0,               0,             1/r],\n",
       "[0,   0,               0, cos(th)/sin(th)],\n",
       "[0, 1/r, cos(th)/sin(th),               0]])"
      ]
     },
     "execution_count": 64,
     "metadata": {},
     "output_type": "execute_result"
    }
   ],
   "source": [
    "ChSymb[3]"
   ]
  },
  {
   "cell_type": "markdown",
   "id": "0e5b0a5e-a0b0-4f03-9ec5-833f5dc142cf",
   "metadata": {
    "jp-MarkdownHeadingCollapsed": true,
    "tags": []
   },
   "source": [
    "### Tensor de Riemann"
   ]
  },
  {
   "cell_type": "markdown",
   "id": "ef051241-b54e-4c56-be4e-dbeb190f02c9",
   "metadata": {
    "tags": []
   },
   "source": [
    "De posse dos simbolos de Christoffel, podemos encontrar o tensor de Riemann pela expressão\n",
    "\n",
    "$$\\tag{5} R^l_{kij} = \\partial_i \\Gamma^l_{kj} - \\partial_j \\Gamma^l_{ki} + \\Gamma^l_{ip}\\Gamma^p_{kj} -  \\Gamma^l_{jp}\\Gamma^p_{ki} $$"
   ]
  },
  {
   "cell_type": "code",
   "execution_count": 65,
   "id": "eb975dff-c2a7-4654-befe-ca690a149d02",
   "metadata": {
    "tags": []
   },
   "outputs": [],
   "source": [
    "# l é contravariante; k,i,j são covariantes\n",
    "# Aqui vamos definir a constração do produto de dois simbolos de Christoffel. Ou seja, os dois últimos termos na equação (5)\n",
    "def Contraction(l,k,i,j):\n",
    "    n = 0 \n",
    "    cont = 0 \n",
    "    while n < rank:\n",
    "        cont = cont + ChSymb[l][i,n] * ChSymb[n][k,j] - ChSymb[l][j,n] * ChSymb[n][k,i]\n",
    "        n += 1\n",
    "    return cont"
   ]
  },
  {
   "cell_type": "code",
   "execution_count": 66,
   "id": "51241635-0128-4add-bd1e-58c4e945370d",
   "metadata": {
    "tags": []
   },
   "outputs": [],
   "source": [
    "# Agora calculamos as componentes do tensor de Riemann propriamente ditas. \n",
    "def Riem(l,k,i,j):\n",
    "    n = 0\n",
    "    Riemann = 0\n",
    "    while n < rank:\n",
    "        Riemann = Riemann + ChSymb[l][k,j].diff(X[i]) - ChSymb[l][k,i].diff(X[j]) + Contraction(l,k,i,j)\n",
    "        n += 1\n",
    "    R = Riemann.simplify()\n",
    "    return R"
   ]
  },
  {
   "cell_type": "markdown",
   "id": "89eeac2e-d2b7-468c-8d33-0507a8cd9cb9",
   "metadata": {},
   "source": [
    "Com as componentes que podemos calcular usando a função acima, vamos organizar esses resultados em termos de matrizes $(R^l_k)_{ij}$"
   ]
  },
  {
   "cell_type": "code",
   "execution_count": 67,
   "id": "d62ea381-c287-4ca8-8a0b-81812a2f7cae",
   "metadata": {
    "tags": []
   },
   "outputs": [],
   "source": [
    "# Mais uma vez, definimos as matrizes e preenchemos com zeros. \n",
    "RieTen00 = zeros(rank); RieTen01 = zeros(rank); RieTen02 = zeros(rank); RieTen03 = zeros(rank)\n",
    "RieTen10 = zeros(rank); RieTen11 = zeros(rank); RieTen12 = zeros(rank); RieTen13 = zeros(rank)\n",
    "RieTen20 = zeros(rank); RieTen21 = zeros(rank); RieTen22 = zeros(rank); RieTen23 = zeros(rank)\n",
    "RieTen30 = zeros(rank); RieTen31 = zeros(rank); RieTen32 = zeros(rank); RieTen33 = zeros(rank)\n",
    "\n",
    "Rie = [[RieTen00, RieTen01, RieTen02, RieTen03], \n",
    "       [RieTen10, RieTen11, RieTen12, RieTen13],\n",
    "       [RieTen20, RieTen21, RieTen22, RieTen23],\n",
    "       [RieTen30, RieTen31, RieTen32, RieTen33]]"
   ]
  },
  {
   "cell_type": "code",
   "execution_count": 68,
   "id": "7248d1e0-d4df-4e10-b335-462f9948873c",
   "metadata": {},
   "outputs": [],
   "source": [
    "# E agora podemos preencher as componentes não nulas nas matrizes acima\n",
    "for l in range(rank):\n",
    "    for k in range(rank):\n",
    "        for i in range(rank):\n",
    "            for j in range(rank):\n",
    "                if Riem(l,k,i,j) != 0:\n",
    "                    Rie[l][k][i,j] = Riem(l,k,i,j)"
   ]
  },
  {
   "cell_type": "code",
   "execution_count": 69,
   "id": "be127f91-9e06-4334-afed-c51aca455b8b",
   "metadata": {
    "tags": []
   },
   "outputs": [
    {
     "data": {
      "text/latex": [
       "$\\displaystyle \\left[\\begin{matrix}0 & 0 & 0 & 0\\\\0 & 0 & 0 & 0\\\\0 & 0 & 0 & 0\\\\0 & 0 & 0 & 0\\end{matrix}\\right]$"
      ],
      "text/plain": [
       "Matrix([\n",
       "[0, 0, 0, 0],\n",
       "[0, 0, 0, 0],\n",
       "[0, 0, 0, 0],\n",
       "[0, 0, 0, 0]])"
      ]
     },
     "metadata": {},
     "output_type": "display_data"
    },
    {
     "data": {
      "text/latex": [
       "$\\displaystyle \\left[\\begin{matrix}0 & - \\frac{2 \\frac{d^{2}}{d r^{2}} f_{1}{\\left(r \\right)}}{f_{1}{\\left(r \\right)}} + \\frac{\\frac{d}{d r} f_{1}{\\left(r \\right)} \\frac{d}{d r} f_{2}{\\left(r \\right)}}{f_{1}{\\left(r \\right)} f_{2}{\\left(r \\right)}} + \\frac{\\left(\\frac{d}{d r} f_{1}{\\left(r \\right)}\\right)^{2}}{f_{1}^{2}{\\left(r \\right)}} & 0 & 0\\\\\\frac{2 \\frac{d^{2}}{d r^{2}} f_{1}{\\left(r \\right)}}{f_{1}{\\left(r \\right)}} - \\frac{\\frac{d}{d r} f_{1}{\\left(r \\right)} \\frac{d}{d r} f_{2}{\\left(r \\right)}}{f_{1}{\\left(r \\right)} f_{2}{\\left(r \\right)}} - \\frac{\\left(\\frac{d}{d r} f_{1}{\\left(r \\right)}\\right)^{2}}{f_{1}^{2}{\\left(r \\right)}} & 0 & 0 & 0\\\\0 & 0 & 0 & 0\\\\0 & 0 & 0 & 0\\end{matrix}\\right]$"
      ],
      "text/plain": [
       "Matrix([\n",
       "[                                                                                                                             0, -2*Derivative(f1(r), (r, 2))/f1(r) + Derivative(f1(r), r)*Derivative(f2(r), r)/(f1(r)*f2(r)) + Derivative(f1(r), r)**2/f1(r)**2, 0, 0],\n",
       "[2*Derivative(f1(r), (r, 2))/f1(r) - Derivative(f1(r), r)*Derivative(f2(r), r)/(f1(r)*f2(r)) - Derivative(f1(r), r)**2/f1(r)**2,                                                                                                                               0, 0, 0],\n",
       "[                                                                                                                             0,                                                                                                                               0, 0, 0],\n",
       "[                                                                                                                             0,                                                                                                                               0, 0, 0]])"
      ]
     },
     "metadata": {},
     "output_type": "display_data"
    },
    {
     "data": {
      "text/latex": [
       "$\\displaystyle \\left[\\begin{matrix}0 & 0 & - \\frac{2 r \\frac{d}{d r} f_{1}{\\left(r \\right)}}{f_{1}{\\left(r \\right)} f_{2}{\\left(r \\right)}} & 0\\\\0 & 0 & 0 & 0\\\\\\frac{2 r \\frac{d}{d r} f_{1}{\\left(r \\right)}}{f_{1}{\\left(r \\right)} f_{2}{\\left(r \\right)}} & 0 & 0 & 0\\\\0 & 0 & 0 & 0\\end{matrix}\\right]$"
      ],
      "text/plain": [
       "Matrix([\n",
       "[                                     0, 0, -2*r*Derivative(f1(r), r)/(f1(r)*f2(r)), 0],\n",
       "[                                     0, 0,                                       0, 0],\n",
       "[2*r*Derivative(f1(r), r)/(f1(r)*f2(r)), 0,                                       0, 0],\n",
       "[                                     0, 0,                                       0, 0]])"
      ]
     },
     "metadata": {},
     "output_type": "display_data"
    },
    {
     "data": {
      "text/latex": [
       "$\\displaystyle \\left[\\begin{matrix}0 & 0 & 0 & - \\frac{2 r \\sin^{2}{\\left(th \\right)} \\frac{d}{d r} f_{1}{\\left(r \\right)}}{f_{1}{\\left(r \\right)} f_{2}{\\left(r \\right)}}\\\\0 & 0 & 0 & 0\\\\0 & 0 & 0 & 0\\\\\\frac{2 r \\sin^{2}{\\left(th \\right)} \\frac{d}{d r} f_{1}{\\left(r \\right)}}{f_{1}{\\left(r \\right)} f_{2}{\\left(r \\right)}} & 0 & 0 & 0\\end{matrix}\\right]$"
      ],
      "text/plain": [
       "Matrix([\n",
       "[                                                0, 0, 0, -2*r*sin(th)**2*Derivative(f1(r), r)/(f1(r)*f2(r))],\n",
       "[                                                0, 0, 0,                                                  0],\n",
       "[                                                0, 0, 0,                                                  0],\n",
       "[2*r*sin(th)**2*Derivative(f1(r), r)/(f1(r)*f2(r)), 0, 0,                                                  0]])"
      ]
     },
     "metadata": {},
     "output_type": "display_data"
    },
    {
     "data": {
      "text/latex": [
       "$\\displaystyle \\left[\\begin{matrix}0 & - \\frac{2 \\frac{d^{2}}{d r^{2}} f_{1}{\\left(r \\right)}}{f_{2}{\\left(r \\right)}} + \\frac{\\frac{d}{d r} f_{1}{\\left(r \\right)} \\frac{d}{d r} f_{2}{\\left(r \\right)}}{f_{2}^{2}{\\left(r \\right)}} + \\frac{\\left(\\frac{d}{d r} f_{1}{\\left(r \\right)}\\right)^{2}}{f_{1}{\\left(r \\right)} f_{2}{\\left(r \\right)}} & 0 & 0\\\\\\frac{2 \\frac{d^{2}}{d r^{2}} f_{1}{\\left(r \\right)}}{f_{2}{\\left(r \\right)}} - \\frac{\\frac{d}{d r} f_{1}{\\left(r \\right)} \\frac{d}{d r} f_{2}{\\left(r \\right)}}{f_{2}^{2}{\\left(r \\right)}} - \\frac{\\left(\\frac{d}{d r} f_{1}{\\left(r \\right)}\\right)^{2}}{f_{1}{\\left(r \\right)} f_{2}{\\left(r \\right)}} & 0 & 0 & 0\\\\0 & 0 & 0 & 0\\\\0 & 0 & 0 & 0\\end{matrix}\\right]$"
      ],
      "text/plain": [
       "Matrix([\n",
       "[                                                                                                                             0, -2*Derivative(f1(r), (r, 2))/f2(r) + Derivative(f1(r), r)*Derivative(f2(r), r)/f2(r)**2 + Derivative(f1(r), r)**2/(f1(r)*f2(r)), 0, 0],\n",
       "[2*Derivative(f1(r), (r, 2))/f2(r) - Derivative(f1(r), r)*Derivative(f2(r), r)/f2(r)**2 - Derivative(f1(r), r)**2/(f1(r)*f2(r)),                                                                                                                               0, 0, 0],\n",
       "[                                                                                                                             0,                                                                                                                               0, 0, 0],\n",
       "[                                                                                                                             0,                                                                                                                               0, 0, 0]])"
      ]
     },
     "metadata": {},
     "output_type": "display_data"
    },
    {
     "data": {
      "text/latex": [
       "$\\displaystyle \\left[\\begin{matrix}0 & 0 & 0 & 0\\\\0 & 0 & 0 & 0\\\\0 & 0 & 0 & 0\\\\0 & 0 & 0 & 0\\end{matrix}\\right]$"
      ],
      "text/plain": [
       "Matrix([\n",
       "[0, 0, 0, 0],\n",
       "[0, 0, 0, 0],\n",
       "[0, 0, 0, 0],\n",
       "[0, 0, 0, 0]])"
      ]
     },
     "metadata": {},
     "output_type": "display_data"
    },
    {
     "data": {
      "text/latex": [
       "$\\displaystyle \\left[\\begin{matrix}0 & 0 & 0 & 0\\\\0 & 0 & \\frac{2 r \\frac{d}{d r} f_{2}{\\left(r \\right)}}{f_{2}^{2}{\\left(r \\right)}} & 0\\\\0 & - \\frac{2 r \\frac{d}{d r} f_{2}{\\left(r \\right)}}{f_{2}^{2}{\\left(r \\right)}} & 0 & 0\\\\0 & 0 & 0 & 0\\end{matrix}\\right]$"
      ],
      "text/plain": [
       "Matrix([\n",
       "[0,                                  0,                                 0, 0],\n",
       "[0,                                  0, 2*r*Derivative(f2(r), r)/f2(r)**2, 0],\n",
       "[0, -2*r*Derivative(f2(r), r)/f2(r)**2,                                 0, 0],\n",
       "[0,                                  0,                                 0, 0]])"
      ]
     },
     "metadata": {},
     "output_type": "display_data"
    },
    {
     "data": {
      "text/latex": [
       "$\\displaystyle \\left[\\begin{matrix}0 & 0 & 0 & 0\\\\0 & 0 & 0 & \\frac{2 r \\sin^{2}{\\left(th \\right)} \\frac{d}{d r} f_{2}{\\left(r \\right)}}{f_{2}^{2}{\\left(r \\right)}}\\\\0 & 0 & 0 & 0\\\\0 & - \\frac{2 r \\sin^{2}{\\left(th \\right)} \\frac{d}{d r} f_{2}{\\left(r \\right)}}{f_{2}^{2}{\\left(r \\right)}} & 0 & 0\\end{matrix}\\right]$"
      ],
      "text/plain": [
       "Matrix([\n",
       "[0,                                             0, 0,                                            0],\n",
       "[0,                                             0, 0, 2*r*sin(th)**2*Derivative(f2(r), r)/f2(r)**2],\n",
       "[0,                                             0, 0,                                            0],\n",
       "[0, -2*r*sin(th)**2*Derivative(f2(r), r)/f2(r)**2, 0,                                            0]])"
      ]
     },
     "metadata": {},
     "output_type": "display_data"
    },
    {
     "data": {
      "text/latex": [
       "$\\displaystyle \\left[\\begin{matrix}0 & 0 & - \\frac{2 \\frac{d}{d r} f_{1}{\\left(r \\right)}}{r f_{2}{\\left(r \\right)}} & 0\\\\0 & 0 & 0 & 0\\\\\\frac{2 \\frac{d}{d r} f_{1}{\\left(r \\right)}}{r f_{2}{\\left(r \\right)}} & 0 & 0 & 0\\\\0 & 0 & 0 & 0\\end{matrix}\\right]$"
      ],
      "text/plain": [
       "Matrix([\n",
       "[                               0, 0, -2*Derivative(f1(r), r)/(r*f2(r)), 0],\n",
       "[                               0, 0,                                 0, 0],\n",
       "[2*Derivative(f1(r), r)/(r*f2(r)), 0,                                 0, 0],\n",
       "[                               0, 0,                                 0, 0]])"
      ]
     },
     "metadata": {},
     "output_type": "display_data"
    },
    {
     "data": {
      "text/latex": [
       "$\\displaystyle \\left[\\begin{matrix}0 & 0 & 0 & 0\\\\0 & 0 & - \\frac{2 \\frac{d}{d r} f_{2}{\\left(r \\right)}}{r f_{2}{\\left(r \\right)}} & 0\\\\0 & \\frac{2 \\frac{d}{d r} f_{2}{\\left(r \\right)}}{r f_{2}{\\left(r \\right)}} & 0 & 0\\\\0 & 0 & 0 & 0\\end{matrix}\\right]$"
      ],
      "text/plain": [
       "Matrix([\n",
       "[0,                                0,                                 0, 0],\n",
       "[0,                                0, -2*Derivative(f2(r), r)/(r*f2(r)), 0],\n",
       "[0, 2*Derivative(f2(r), r)/(r*f2(r)),                                 0, 0],\n",
       "[0,                                0,                                 0, 0]])"
      ]
     },
     "metadata": {},
     "output_type": "display_data"
    },
    {
     "data": {
      "text/latex": [
       "$\\displaystyle \\left[\\begin{matrix}0 & 0 & 0 & 0\\\\0 & 0 & 0 & 0\\\\0 & 0 & 0 & 0\\\\0 & 0 & 0 & 0\\end{matrix}\\right]$"
      ],
      "text/plain": [
       "Matrix([\n",
       "[0, 0, 0, 0],\n",
       "[0, 0, 0, 0],\n",
       "[0, 0, 0, 0],\n",
       "[0, 0, 0, 0]])"
      ]
     },
     "metadata": {},
     "output_type": "display_data"
    },
    {
     "data": {
      "text/latex": [
       "$\\displaystyle \\left[\\begin{matrix}0 & 0 & 0 & 0\\\\0 & 0 & 0 & 0\\\\0 & 0 & 0 & \\frac{4 \\left(f_{2}{\\left(r \\right)} - 1\\right) \\sin^{2}{\\left(th \\right)}}{f_{2}{\\left(r \\right)}}\\\\0 & 0 & \\frac{4 \\cdot \\left(1 - f_{2}{\\left(r \\right)}\\right) \\sin^{2}{\\left(th \\right)}}{f_{2}{\\left(r \\right)}} & 0\\end{matrix}\\right]$"
      ],
      "text/plain": [
       "Matrix([\n",
       "[0, 0,                              0,                              0],\n",
       "[0, 0,                              0,                              0],\n",
       "[0, 0,                              0, 4*(f2(r) - 1)*sin(th)**2/f2(r)],\n",
       "[0, 0, 4*(1 - f2(r))*sin(th)**2/f2(r),                              0]])"
      ]
     },
     "metadata": {},
     "output_type": "display_data"
    },
    {
     "data": {
      "text/latex": [
       "$\\displaystyle \\left[\\begin{matrix}0 & 0 & 0 & - \\frac{2 \\frac{d}{d r} f_{1}{\\left(r \\right)}}{r f_{2}{\\left(r \\right)}}\\\\0 & 0 & 0 & 0\\\\0 & 0 & 0 & 0\\\\\\frac{2 \\frac{d}{d r} f_{1}{\\left(r \\right)}}{r f_{2}{\\left(r \\right)}} & 0 & 0 & 0\\end{matrix}\\right]$"
      ],
      "text/plain": [
       "Matrix([\n",
       "[                               0, 0, 0, -2*Derivative(f1(r), r)/(r*f2(r))],\n",
       "[                               0, 0, 0,                                 0],\n",
       "[                               0, 0, 0,                                 0],\n",
       "[2*Derivative(f1(r), r)/(r*f2(r)), 0, 0,                                 0]])"
      ]
     },
     "metadata": {},
     "output_type": "display_data"
    },
    {
     "data": {
      "text/latex": [
       "$\\displaystyle \\left[\\begin{matrix}0 & 0 & 0 & 0\\\\0 & 0 & 0 & - \\frac{2 \\frac{d}{d r} f_{2}{\\left(r \\right)}}{r f_{2}{\\left(r \\right)}}\\\\0 & 0 & 0 & 0\\\\0 & \\frac{2 \\frac{d}{d r} f_{2}{\\left(r \\right)}}{r f_{2}{\\left(r \\right)}} & 0 & 0\\end{matrix}\\right]$"
      ],
      "text/plain": [
       "Matrix([\n",
       "[0,                                0, 0,                                 0],\n",
       "[0,                                0, 0, -2*Derivative(f2(r), r)/(r*f2(r))],\n",
       "[0,                                0, 0,                                 0],\n",
       "[0, 2*Derivative(f2(r), r)/(r*f2(r)), 0,                                 0]])"
      ]
     },
     "metadata": {},
     "output_type": "display_data"
    },
    {
     "data": {
      "text/latex": [
       "$\\displaystyle \\left[\\begin{matrix}0 & 0 & 0 & 0\\\\0 & 0 & 0 & 0\\\\0 & 0 & 0 & -4 + \\frac{4}{f_{2}{\\left(r \\right)}}\\\\0 & 0 & 4 - \\frac{4}{f_{2}{\\left(r \\right)}} & 0\\end{matrix}\\right]$"
      ],
      "text/plain": [
       "Matrix([\n",
       "[0, 0,           0,            0],\n",
       "[0, 0,           0,            0],\n",
       "[0, 0,           0, -4 + 4/f2(r)],\n",
       "[0, 0, 4 - 4/f2(r),            0]])"
      ]
     },
     "metadata": {},
     "output_type": "display_data"
    },
    {
     "data": {
      "text/latex": [
       "$\\displaystyle \\left[\\begin{matrix}0 & 0 & 0 & 0\\\\0 & 0 & 0 & 0\\\\0 & 0 & 0 & 0\\\\0 & 0 & 0 & 0\\end{matrix}\\right]$"
      ],
      "text/plain": [
       "Matrix([\n",
       "[0, 0, 0, 0],\n",
       "[0, 0, 0, 0],\n",
       "[0, 0, 0, 0],\n",
       "[0, 0, 0, 0]])"
      ]
     },
     "metadata": {},
     "output_type": "display_data"
    }
   ],
   "source": [
    "# Para ver o resultado explícito, fazemos\n",
    "for l in range(rank):\n",
    "    for k in range(rank):\n",
    "        display(Rie[l][k])"
   ]
  },
  {
   "cell_type": "markdown",
   "id": "cb31cdb2-7c27-4bd5-9164-09f297a4f44c",
   "metadata": {
    "tags": []
   },
   "source": [
    "### Tensor de Ricci"
   ]
  },
  {
   "cell_type": "markdown",
   "id": "8b153709-d1b6-4a5e-a81c-93090148efd0",
   "metadata": {},
   "source": [
    "Finalmente, podemos calcular o tensor de Ricci como \n",
    "$$\\tag{6} R_{ij} = R^k_{ikj}$$"
   ]
  },
  {
   "cell_type": "code",
   "execution_count": 70,
   "id": "11ab99b1-dfad-4f8e-93cb-6523803163de",
   "metadata": {
    "tags": []
   },
   "outputs": [],
   "source": [
    "def Ricci(i,j):\n",
    "    ricc = 0\n",
    "    n = 0\n",
    "    for k in range(rank):\n",
    "        ricc = ricc + Rie[k][i][k,j]\n",
    "        r = ricc.simplify()\n",
    "    return r"
   ]
  },
  {
   "cell_type": "code",
   "execution_count": 71,
   "id": "2d08f0f0-a81e-4b81-ae4b-ba0316f05267",
   "metadata": {
    "tags": []
   },
   "outputs": [],
   "source": [
    "Ric = [Ricci(i,j).simplify() for i in range(rank) for j in range(rank) if Ricci(i,j) != 0]"
   ]
  },
  {
   "cell_type": "code",
   "execution_count": 72,
   "id": "db0262d8-ad2f-42d0-b49c-bc1d5c1d2a88",
   "metadata": {
    "tags": []
   },
   "outputs": [
    {
     "data": {
      "text/plain": [
       "4"
      ]
     },
     "execution_count": 72,
     "metadata": {},
     "output_type": "execute_result"
    }
   ],
   "source": [
    "len(Ric)"
   ]
  },
  {
   "cell_type": "code",
   "execution_count": 85,
   "id": "e4d5c83f-108d-4a65-b05e-f50dd55dcc9f",
   "metadata": {
    "tags": []
   },
   "outputs": [
    {
     "name": "stdout",
     "output_type": "stream",
     "text": [
      "+++++++++ Ricci(0,0) ++++++++++++++++\n"
     ]
    },
    {
     "data": {
      "text/latex": [
       "$\\displaystyle \\frac{2 \\frac{d^{2}}{d r^{2}} f_{1}{\\left(r \\right)}}{f_{2}{\\left(r \\right)}} - \\frac{\\frac{d}{d r} f_{1}{\\left(r \\right)} \\frac{d}{d r} f_{2}{\\left(r \\right)}}{f_{2}^{2}{\\left(r \\right)}} - \\frac{\\left(\\frac{d}{d r} f_{1}{\\left(r \\right)}\\right)^{2}}{f_{1}{\\left(r \\right)} f_{2}{\\left(r \\right)}} + \\frac{4 \\frac{d}{d r} f_{1}{\\left(r \\right)}}{r f_{2}{\\left(r \\right)}}$"
      ],
      "text/plain": [
       "2*Derivative(f1(r), (r, 2))/f2(r) - Derivative(f1(r), r)*Derivative(f2(r), r)/f2(r)**2 - Derivative(f1(r), r)**2/(f1(r)*f2(r)) + 4*Derivative(f1(r), r)/(r*f2(r))"
      ]
     },
     "metadata": {},
     "output_type": "display_data"
    },
    {
     "name": "stdout",
     "output_type": "stream",
     "text": [
      " \n",
      "+++++++++ Ricci(1,1) ++++++++++++++++\n"
     ]
    },
    {
     "data": {
      "text/latex": [
       "$\\displaystyle - \\frac{2 \\frac{d^{2}}{d r^{2}} f_{1}{\\left(r \\right)}}{f_{1}{\\left(r \\right)}} + \\frac{\\frac{d}{d r} f_{1}{\\left(r \\right)} \\frac{d}{d r} f_{2}{\\left(r \\right)}}{f_{1}{\\left(r \\right)} f_{2}{\\left(r \\right)}} + \\frac{\\left(\\frac{d}{d r} f_{1}{\\left(r \\right)}\\right)^{2}}{f_{1}^{2}{\\left(r \\right)}} + \\frac{4 \\frac{d}{d r} f_{2}{\\left(r \\right)}}{r f_{2}{\\left(r \\right)}}$"
      ],
      "text/plain": [
       "-2*Derivative(f1(r), (r, 2))/f1(r) + Derivative(f1(r), r)*Derivative(f2(r), r)/(f1(r)*f2(r)) + Derivative(f1(r), r)**2/f1(r)**2 + 4*Derivative(f2(r), r)/(r*f2(r))"
      ]
     },
     "metadata": {},
     "output_type": "display_data"
    },
    {
     "name": "stdout",
     "output_type": "stream",
     "text": [
      " \n",
      "+++++++++ Ricci(2,2) ++++++++++++++++\n"
     ]
    },
    {
     "data": {
      "text/latex": [
       "$\\displaystyle \\frac{2 r \\frac{d}{d r} f_{2}{\\left(r \\right)}}{f_{2}^{2}{\\left(r \\right)}} - \\frac{2 r \\frac{d}{d r} f_{1}{\\left(r \\right)}}{f_{1}{\\left(r \\right)} f_{2}{\\left(r \\right)}} + 4 - \\frac{4}{f_{2}{\\left(r \\right)}}$"
      ],
      "text/plain": [
       "2*r*Derivative(f2(r), r)/f2(r)**2 - 2*r*Derivative(f1(r), r)/(f1(r)*f2(r)) + 4 - 4/f2(r)"
      ]
     },
     "metadata": {},
     "output_type": "display_data"
    },
    {
     "name": "stdout",
     "output_type": "stream",
     "text": [
      " \n",
      "+++++++++ Ricci(3,3) ++++++++++++++++\n"
     ]
    },
    {
     "data": {
      "text/latex": [
       "$\\displaystyle \\frac{2 \\left(r f_{1}{\\left(r \\right)} \\frac{d}{d r} f_{2}{\\left(r \\right)} - r f_{2}{\\left(r \\right)} \\frac{d}{d r} f_{1}{\\left(r \\right)} + 2 \\left(f_{2}{\\left(r \\right)} - 1\\right) f_{1}{\\left(r \\right)} f_{2}{\\left(r \\right)}\\right) \\sin^{2}{\\left(th \\right)}}{f_{1}{\\left(r \\right)} f_{2}^{2}{\\left(r \\right)}}$"
      ],
      "text/plain": [
       "2*(r*f1(r)*Derivative(f2(r), r) - r*f2(r)*Derivative(f1(r), r) + 2*(f2(r) - 1)*f1(r)*f2(r))*sin(th)**2/(f1(r)*f2(r)**2)"
      ]
     },
     "metadata": {},
     "output_type": "display_data"
    },
    {
     "name": "stdout",
     "output_type": "stream",
     "text": [
      " \n"
     ]
    }
   ],
   "source": [
    "# Para ver o resultado explícito, fazemos\n",
    "for k in range(len(Ric)):\n",
    "    print(f\"+++++++++ Ricci({k},{k}) ++++++++++++++++\")\n",
    "    display(Ric[k])\n",
    "    print(\" \")"
   ]
  },
  {
   "cell_type": "markdown",
   "id": "2780e825-cf30-4c90-969d-d6b41215d27d",
   "metadata": {
    "tags": []
   },
   "source": [
    "### Análise dos resultados"
   ]
  },
  {
   "cell_type": "markdown",
   "id": "3c432c5e-a37b-4d83-9831-8a0badab7e8d",
   "metadata": {},
   "source": [
    "1) Primeiro, observe os tensores de Ricci que acabamos de calcular devem ser nulos pela equação de campo de Einstein (1). Além disso, apenas 3 equações são independentes. É simples verificar que \n",
    "$$\\tag{7} R_{33} - sin^2\\theta R_{2,2} = 0 $$"
   ]
  },
  {
   "cell_type": "code",
   "execution_count": 81,
   "id": "d3626e06-1e52-4f02-94ba-89e4187aaa20",
   "metadata": {
    "tags": []
   },
   "outputs": [
    {
     "data": {
      "text/latex": [
       "$\\displaystyle 0$"
      ],
      "text/plain": [
       "0"
      ]
     },
     "execution_count": 81,
     "metadata": {},
     "output_type": "execute_result"
    }
   ],
   "source": [
    "(Ric[3] - Ric[2]*(sin(th)**2)).simplify()"
   ]
  },
  {
   "cell_type": "markdown",
   "id": "937d3ed0-3787-4cf4-92be-37adf3940099",
   "metadata": {},
   "source": [
    "Então podemos concentrar nossa atenção nas 3 primeiras equações"
   ]
  },
  {
   "cell_type": "markdown",
   "id": "95a36cb1-88a4-439b-8f99-0fba92a56f03",
   "metadata": {},
   "source": [
    "2. Observe agora que as 2 primeiras equações possuem uma estrutura muito semelhante, então faremos a operação a seguir \n",
    "\n",
    "$$ \\tag{7} f_1 f_2^2 R_{00} - f_1^2 f_2 R_{11} = 0 $$"
   ]
  },
  {
   "cell_type": "code",
   "execution_count": 86,
   "id": "37fb313f-536a-4e72-a589-7513e23967b4",
   "metadata": {
    "tags": []
   },
   "outputs": [
    {
     "data": {
      "text/latex": [
       "$\\displaystyle \\frac{4 \\left(f_{1}{\\left(r \\right)} \\frac{d}{d r} f_{2}{\\left(r \\right)} + f_{2}{\\left(r \\right)} \\frac{d}{d r} f_{1}{\\left(r \\right)}\\right) f_{1}{\\left(r \\right)}}{r}$"
      ],
      "text/plain": [
       "4*(f1(r)*Derivative(f2(r), r) + f2(r)*Derivative(f1(r), r))*f1(r)/r"
      ]
     },
     "execution_count": 86,
     "metadata": {},
     "output_type": "execute_result"
    }
   ],
   "source": [
    "((f1*f2**2)*Ric[0] + (f2*f1**2)*Ric[1]).simplify()"
   ]
  },
  {
   "cell_type": "markdown",
   "id": "f49890f8-19f2-46a2-ac11-0f9fcd45cd85",
   "metadata": {},
   "source": [
    "de onde concluímos que \n",
    "$$  \\tag{8} \\frac{d}{dr}(f_1 f_2) = 0 \\quad \\Rightarrow \\quad f_2 = \\frac{c_0}{f_1}  $$\n",
    "onde $c_0$ é uma constante. "
   ]
  },
  {
   "cell_type": "markdown",
   "id": "33364fe6-c67c-4ef4-95dd-c663030f89a0",
   "metadata": {},
   "source": [
    "3. Agora vamos usar essa condição na equação \n",
    "$$ \\tag{8} R_{22} = 0 $$"
   ]
  },
  {
   "cell_type": "code",
   "execution_count": 92,
   "id": "5ece9428-bbe0-45ef-a260-2ed53baa091b",
   "metadata": {
    "tags": []
   },
   "outputs": [],
   "source": [
    "f2 = (f1)**(-1)"
   ]
  },
  {
   "cell_type": "code",
   "execution_count": 100,
   "id": "da0c20e4-531c-4db2-b366-379af26f9a00",
   "metadata": {
    "tags": []
   },
   "outputs": [
    {
     "data": {
      "text/latex": [
       "$\\displaystyle \\frac{2 r \\frac{d}{d r} f_{2}{\\left(r \\right)}}{f_{2}^{2}{\\left(r \\right)}} - \\frac{2 r \\frac{d}{d r} f_{1}{\\left(r \\right)}}{f_{1}{\\left(r \\right)} f_{2}{\\left(r \\right)}} + 4 - \\frac{4}{f_{2}{\\left(r \\right)}}$"
      ],
      "text/plain": [
       "2*r*Derivative(f2(r), r)/f2(r)**2 - 2*r*Derivative(f1(r), r)/(f1(r)*f2(r)) + 4 - 4/f2(r)"
      ]
     },
     "execution_count": 100,
     "metadata": {},
     "output_type": "execute_result"
    }
   ],
   "source": [
    "(Ric[2]).simplify()"
   ]
  },
  {
   "cell_type": "code",
   "execution_count": 110,
   "id": "1d838467-5931-4592-bfde-5babce7d794d",
   "metadata": {
    "tags": []
   },
   "outputs": [],
   "source": [
    "f1 = 1 - G*M*(r**(-1))\n",
    "f2 = (1 - G*M*(r**(-1)))**(-1)"
   ]
  },
  {
   "cell_type": "code",
   "execution_count": 111,
   "id": "1e10e21b-2ae5-4735-9a26-c2dec7181c52",
   "metadata": {
    "tags": []
   },
   "outputs": [
    {
     "data": {
      "text/latex": [
       "$\\displaystyle 0$"
      ],
      "text/plain": [
       "0"
      ]
     },
     "execution_count": 111,
     "metadata": {},
     "output_type": "execute_result"
    }
   ],
   "source": [
    "((2*r*f2.diff(r))*(f2**(-2)) - (2*r*f1.diff(r))*(f1*f2) + 4 - 4*(f2)**(-1)).simplify()"
   ]
  },
  {
   "cell_type": "markdown",
   "id": "b0280616-22a1-43f2-b5ac-00412bd17a5d",
   "metadata": {
    "jp-MarkdownHeadingCollapsed": true,
    "tags": []
   },
   "source": [
    "# Solução de Schwarzschild"
   ]
  },
  {
   "cell_type": "markdown",
   "id": "a105a3fd-3abc-418f-8e2a-1a251dc1271d",
   "metadata": {
    "jp-MarkdownHeadingCollapsed": true,
    "tags": []
   },
   "source": [
    "## Metrica"
   ]
  },
  {
   "cell_type": "markdown",
   "id": "5c922435-964b-4557-b717-d3bd072cd833",
   "metadata": {},
   "source": [
    "Comecaremos com a metrica\n",
    "\n",
    "$$ g \\equiv ds^2 = -\\left(1 - \\frac{2 G M}{c^2 r}\\right) c^2 dt^2 + \\frac{dr^2}{\\left(1 - \\frac{2 G M}{c^2 r}\\right)} + r^2 d\\theta^2 + r^2 \\sin^2\\theta d\\phi^2 $$"
   ]
  },
  {
   "cell_type": "code",
   "execution_count": 161,
   "id": "373e4e45-f8b6-4cf8-89fd-97d2c4b91b4e",
   "metadata": {
    "tags": []
   },
   "outputs": [],
   "source": [
    "# vamos definir a funcao f \n",
    "f =  1 - 2*M*G / (c**2 * r)\n",
    "g = zeros(4)"
   ]
  },
  {
   "cell_type": "code",
   "execution_count": 162,
   "id": "b0645224-e174-4d3b-814e-b3a2ca1c3475",
   "metadata": {
    "tags": []
   },
   "outputs": [],
   "source": [
    "g[0,0] = - f\n",
    "g[1,1] = 1/f\n",
    "g[2,2] = r**2\n",
    "g[3,3] = r**2 * sin(th)**2\n",
    "rank = g.rank()"
   ]
  },
  {
   "cell_type": "code",
   "execution_count": 163,
   "id": "5d537e78-21f5-41e2-9d00-df6b7715c23f",
   "metadata": {
    "tags": []
   },
   "outputs": [],
   "source": [
    "# Inversa \n",
    "gI = g.inv()"
   ]
  },
  {
   "cell_type": "code",
   "execution_count": 164,
   "id": "5a8f172c-9de0-4a0c-a123-a942002d00f9",
   "metadata": {
    "tags": []
   },
   "outputs": [
    {
     "data": {
      "text/latex": [
       "$\\displaystyle \\left[\\begin{matrix}\\frac{2 G M}{c^{2} r} - 1 & 0 & 0 & 0\\\\0 & \\frac{1}{- \\frac{2 G M}{c^{2} r} + 1} & 0 & 0\\\\0 & 0 & r^{2} & 0\\\\0 & 0 & 0 & r^{2} \\sin^{2}{\\left(th \\right)}\\end{matrix}\\right]$"
      ],
      "text/plain": [
       "Matrix([\n",
       "[2*G*M/(c**2*r) - 1,                       0,    0,               0],\n",
       "[                 0, 1/(-2*G*M/(c**2*r) + 1),    0,               0],\n",
       "[                 0,                       0, r**2,               0],\n",
       "[                 0,                       0,    0, r**2*sin(th)**2]])"
      ]
     },
     "execution_count": 164,
     "metadata": {},
     "output_type": "execute_result"
    }
   ],
   "source": [
    "g"
   ]
  },
  {
   "cell_type": "markdown",
   "id": "5818d0f7-3ab1-4649-95f2-cc2b7b73012d",
   "metadata": {
    "jp-MarkdownHeadingCollapsed": true,
    "tags": []
   },
   "source": [
    "## Simbolos de Christoffel"
   ]
  },
  {
   "cell_type": "code",
   "execution_count": 165,
   "id": "c21657d1-e92d-4ec7-939d-72d6e3b18262",
   "metadata": {
    "tags": []
   },
   "outputs": [],
   "source": [
    "# k is the contravariant (upper) index, while i and j are covariant (lower) indices\n",
    "\n",
    "def Gamma(k,i,j):\n",
    "    n = 0\n",
    "    GammaMatrix = 0\n",
    "    while n < rank:\n",
    "        GammaMatrix = GammaMatrix + gI[k,n]*(g[n,j].diff(X[i]) + g[n,i].diff(X[j]) - g[i,j].diff(X[n])) / 2\n",
    "        n += 1\n",
    "    return GammaMatrix"
   ]
  },
  {
   "cell_type": "markdown",
   "id": "20802799-86a4-4e19-b046-b3454025e926",
   "metadata": {},
   "source": [
    "It's useful to think of these objects as 4 matrices labeled by the integer k\n",
    "$$ (\\Gamma^0)_{ij} \\quad (\\Gamma^1)_{ij} \\quad (\\Gamma^2)_{ij} \\quad (\\Gamma^3)_{ij} $$"
   ]
  },
  {
   "cell_type": "code",
   "execution_count": 166,
   "id": "cd879263-98f5-4d00-ba67-bc9b58048f3a",
   "metadata": {
    "tags": []
   },
   "outputs": [],
   "source": [
    "ChSymb0 = zeros(rank)\n",
    "ChSymb1 = zeros(rank)\n",
    "ChSymb2 = zeros(rank)\n",
    "ChSymb3 = zeros(rank)"
   ]
  },
  {
   "cell_type": "code",
   "execution_count": 167,
   "id": "0fd30e74-6403-4832-962e-d2760114f51c",
   "metadata": {
    "tags": []
   },
   "outputs": [],
   "source": [
    "ChSymb = [ChSymb0, ChSymb1, ChSymb2, ChSymb3]"
   ]
  },
  {
   "cell_type": "code",
   "execution_count": 168,
   "id": "44440afd-484f-4fba-84df-8ee01478d8d7",
   "metadata": {
    "tags": []
   },
   "outputs": [],
   "source": [
    "for k in range(rank):\n",
    "    for i in range(rank):\n",
    "        for j in range(rank):\n",
    "            if Gamma(k,i,j) != 0:\n",
    "                ChSymb[k][i,j] = Gamma(k,i,j)"
   ]
  },
  {
   "cell_type": "code",
   "execution_count": 169,
   "id": "0f15cea8-bb0d-4612-9100-8647588cb44f",
   "metadata": {
    "tags": []
   },
   "outputs": [
    {
     "data": {
      "text/latex": [
       "$\\displaystyle \\left[\\begin{matrix}0 & \\frac{G M}{r \\left(- 2 G M + c^{2} r\\right)} & 0 & 0\\\\\\frac{G M}{r \\left(- 2 G M + c^{2} r\\right)} & 0 & 0 & 0\\\\0 & 0 & 0 & 0\\\\0 & 0 & 0 & 0\\end{matrix}\\right]$"
      ],
      "text/plain": [
       "Matrix([\n",
       "[                        0, G*M/(r*(-2*G*M + c**2*r)), 0, 0],\n",
       "[G*M/(r*(-2*G*M + c**2*r)),                         0, 0, 0],\n",
       "[                        0,                         0, 0, 0],\n",
       "[                        0,                         0, 0, 0]])"
      ]
     },
     "execution_count": 169,
     "metadata": {},
     "output_type": "execute_result"
    }
   ],
   "source": [
    "ChSymb[0]"
   ]
  },
  {
   "cell_type": "code",
   "execution_count": 170,
   "id": "83468204-848c-4424-94f6-e307fb37d96c",
   "metadata": {
    "tags": []
   },
   "outputs": [
    {
     "data": {
      "text/latex": [
       "$\\displaystyle \\left[\\begin{matrix}\\frac{G M \\left(- 2 G M + c^{2} r\\right)}{c^{4} r^{3}} & 0 & 0 & 0\\\\0 & - \\frac{G M \\left(- 2 G M + c^{2} r\\right)}{c^{4} r^{3} \\left(- \\frac{2 G M}{c^{2} r} + 1\\right)^{2}} & 0 & 0\\\\0 & 0 & - \\frac{- 2 G M + c^{2} r}{c^{2}} & 0\\\\0 & 0 & 0 & - \\frac{\\left(- 2 G M + c^{2} r\\right) \\sin^{2}{\\left(th \\right)}}{c^{2}}\\end{matrix}\\right]$"
      ],
      "text/plain": [
       "Matrix([\n",
       "[G*M*(-2*G*M + c**2*r)/(c**4*r**3),                                                           0,                       0,                                  0],\n",
       "[                                0, -G*M*(-2*G*M + c**2*r)/(c**4*r**3*(-2*G*M/(c**2*r) + 1)**2),                       0,                                  0],\n",
       "[                                0,                                                           0, -(-2*G*M + c**2*r)/c**2,                                  0],\n",
       "[                                0,                                                           0,                       0, -(-2*G*M + c**2*r)*sin(th)**2/c**2]])"
      ]
     },
     "execution_count": 170,
     "metadata": {},
     "output_type": "execute_result"
    }
   ],
   "source": [
    "ChSymb[1]"
   ]
  },
  {
   "cell_type": "code",
   "execution_count": 171,
   "id": "f973c5a7-1772-4a56-87d5-bdac865553e4",
   "metadata": {
    "tags": []
   },
   "outputs": [
    {
     "data": {
      "text/latex": [
       "$\\displaystyle \\left[\\begin{matrix}0 & 0 & 0 & 0\\\\0 & 0 & \\frac{1}{r} & 0\\\\0 & \\frac{1}{r} & 0 & 0\\\\0 & 0 & 0 & - \\sin{\\left(th \\right)} \\cos{\\left(th \\right)}\\end{matrix}\\right]$"
      ],
      "text/plain": [
       "Matrix([\n",
       "[0,   0,   0,                0],\n",
       "[0,   0, 1/r,                0],\n",
       "[0, 1/r,   0,                0],\n",
       "[0,   0,   0, -sin(th)*cos(th)]])"
      ]
     },
     "execution_count": 171,
     "metadata": {},
     "output_type": "execute_result"
    }
   ],
   "source": [
    "ChSymb[2]"
   ]
  },
  {
   "cell_type": "code",
   "execution_count": 172,
   "id": "f04d58ce-ccc2-40f0-95e7-21b28f81ba77",
   "metadata": {
    "tags": []
   },
   "outputs": [
    {
     "data": {
      "text/latex": [
       "$\\displaystyle \\left[\\begin{matrix}0 & 0 & 0 & 0\\\\0 & 0 & 0 & \\frac{1}{r}\\\\0 & 0 & 0 & \\frac{\\cos{\\left(th \\right)}}{\\sin{\\left(th \\right)}}\\\\0 & \\frac{1}{r} & \\frac{\\cos{\\left(th \\right)}}{\\sin{\\left(th \\right)}} & 0\\end{matrix}\\right]$"
      ],
      "text/plain": [
       "Matrix([\n",
       "[0,   0,               0,               0],\n",
       "[0,   0,               0,             1/r],\n",
       "[0,   0,               0, cos(th)/sin(th)],\n",
       "[0, 1/r, cos(th)/sin(th),               0]])"
      ]
     },
     "execution_count": 172,
     "metadata": {},
     "output_type": "execute_result"
    }
   ],
   "source": [
    "ChSymb[3]"
   ]
  },
  {
   "cell_type": "markdown",
   "id": "8a72a02d-a6e9-4506-8945-90f4b11a1242",
   "metadata": {
    "jp-MarkdownHeadingCollapsed": true,
    "tags": []
   },
   "source": [
    "## Riemann Tensor"
   ]
  },
  {
   "cell_type": "code",
   "execution_count": 173,
   "id": "5871e5cd-769a-4e4d-b6dc-6cd42d4323a7",
   "metadata": {
    "tags": []
   },
   "outputs": [],
   "source": [
    "# l is the contravariant index, k,i,j are covariant indices\n",
    "# I'm gonna use the objects ChSymb because I don't want to compute these symbols at each run\n",
    "def Contraction(l,k,i,j):\n",
    "    n = 0 \n",
    "    cont = 0 \n",
    "    while n < rank:\n",
    "        cont = cont + ChSymb[l][i,n] * ChSymb[n][k,j] - ChSymb[l][j,n] * ChSymb[n][k,i]\n",
    "        n += 1\n",
    "    return cont"
   ]
  },
  {
   "cell_type": "code",
   "execution_count": 174,
   "id": "336e34dd-6f7e-48f0-81ec-725d75b99e7e",
   "metadata": {
    "tags": []
   },
   "outputs": [],
   "source": [
    "def Riem(l,k,i,j):\n",
    "    n = 0\n",
    "    Riemann = 0\n",
    "    while n < rank:\n",
    "        Riemann = Riemann + ChSymb[l][k,j].diff(X[i]) - ChSymb[l][k,i].diff(X[j]) + Contraction(l,k,i,j)\n",
    "        n += 1\n",
    "    R = Riemann.simplify()\n",
    "    return R"
   ]
  },
  {
   "cell_type": "markdown",
   "id": "171587f2-e11f-44d2-b0d4-bf7330e64409",
   "metadata": {},
   "source": [
    "Now we can finally calculate the components of the Riemann tensor. It is useful to consider the components as a matrix of matrices $(R^l_k)_{ij}$"
   ]
  },
  {
   "cell_type": "code",
   "execution_count": 175,
   "id": "1a669e4d-a91f-413d-9ee6-b791921f5d0a",
   "metadata": {
    "tags": []
   },
   "outputs": [],
   "source": [
    "RieTen00 = zeros(rank); RieTen01 = zeros(rank); RieTen02 = zeros(rank); RieTen03 = zeros(rank)\n",
    "RieTen10 = zeros(rank); RieTen11 = zeros(rank); RieTen12 = zeros(rank); RieTen13 = zeros(rank)\n",
    "RieTen20 = zeros(rank); RieTen21 = zeros(rank); RieTen22 = zeros(rank); RieTen23 = zeros(rank)\n",
    "RieTen30 = zeros(rank); RieTen31 = zeros(rank); RieTen32 = zeros(rank); RieTen33 = zeros(rank)"
   ]
  },
  {
   "cell_type": "code",
   "execution_count": 176,
   "id": "7df1763b-f78a-4586-ae50-49af64c3bb5d",
   "metadata": {
    "tags": []
   },
   "outputs": [],
   "source": [
    "Rie = [[RieTen00, RieTen01, RieTen02, RieTen03], \n",
    "       [RieTen10, RieTen11, RieTen12, RieTen13],\n",
    "       [RieTen20, RieTen21, RieTen22, RieTen23],\n",
    "       [RieTen30, RieTen31, RieTen32, RieTen33]]"
   ]
  },
  {
   "cell_type": "code",
   "execution_count": 177,
   "id": "633e1974-638f-4039-930f-a9b3d898afd4",
   "metadata": {},
   "outputs": [],
   "source": [
    "for l in range(rank):\n",
    "    for k in range(rank):\n",
    "        for i in range(rank):\n",
    "            for j in range(rank):\n",
    "                if Riem(l,k,i,j) != 0:\n",
    "                    Rie[l][k][i,j] = Riem(l,k,i,j)"
   ]
  },
  {
   "cell_type": "code",
   "execution_count": 178,
   "id": "945a707d-ed06-406a-8390-5b585eaf1d56",
   "metadata": {
    "tags": []
   },
   "outputs": [
    {
     "data": {
      "text/latex": [
       "$\\displaystyle \\left[\\begin{matrix}0 & 0 & 0 & 0\\\\0 & 0 & 0 & 0\\\\0 & 0 & 0 & 0\\\\0 & 0 & 0 & 0\\end{matrix}\\right]$"
      ],
      "text/plain": [
       "Matrix([\n",
       "[0, 0, 0, 0],\n",
       "[0, 0, 0, 0],\n",
       "[0, 0, 0, 0],\n",
       "[0, 0, 0, 0]])"
      ]
     },
     "metadata": {},
     "output_type": "display_data"
    },
    {
     "data": {
      "text/latex": [
       "$\\displaystyle \\left[\\begin{matrix}0 & \\frac{8 G M}{r^{2} \\left(- 2 G M + c^{2} r\\right)} & 0 & 0\\\\\\frac{8 G M}{r^{2} \\cdot \\left(2 G M - c^{2} r\\right)} & 0 & 0 & 0\\\\0 & 0 & 0 & 0\\\\0 & 0 & 0 & 0\\end{matrix}\\right]$"
      ],
      "text/plain": [
       "Matrix([\n",
       "[                            0, 8*G*M/(r**2*(-2*G*M + c**2*r)), 0, 0],\n",
       "[8*G*M/(r**2*(2*G*M - c**2*r)),                              0, 0, 0],\n",
       "[                            0,                              0, 0, 0],\n",
       "[                            0,                              0, 0, 0]])"
      ]
     },
     "metadata": {},
     "output_type": "display_data"
    },
    {
     "data": {
      "text/latex": [
       "$\\displaystyle \\left[\\begin{matrix}0 & 0 & - \\frac{4 G M}{c^{2} r} & 0\\\\0 & 0 & 0 & 0\\\\\\frac{4 G M}{c^{2} r} & 0 & 0 & 0\\\\0 & 0 & 0 & 0\\end{matrix}\\right]$"
      ],
      "text/plain": [
       "Matrix([\n",
       "[             0, 0, -4*G*M/(c**2*r), 0],\n",
       "[             0, 0,               0, 0],\n",
       "[4*G*M/(c**2*r), 0,               0, 0],\n",
       "[             0, 0,               0, 0]])"
      ]
     },
     "metadata": {},
     "output_type": "display_data"
    },
    {
     "data": {
      "text/latex": [
       "$\\displaystyle \\left[\\begin{matrix}0 & 0 & 0 & - \\frac{4 G M \\sin^{2}{\\left(th \\right)}}{c^{2} r}\\\\0 & 0 & 0 & 0\\\\0 & 0 & 0 & 0\\\\\\frac{4 G M \\sin^{2}{\\left(th \\right)}}{c^{2} r} & 0 & 0 & 0\\end{matrix}\\right]$"
      ],
      "text/plain": [
       "Matrix([\n",
       "[                        0, 0, 0, -4*G*M*sin(th)**2/(c**2*r)],\n",
       "[                        0, 0, 0,                          0],\n",
       "[                        0, 0, 0,                          0],\n",
       "[4*G*M*sin(th)**2/(c**2*r), 0, 0,                          0]])"
      ]
     },
     "metadata": {},
     "output_type": "display_data"
    },
    {
     "data": {
      "text/latex": [
       "$\\displaystyle \\left[\\begin{matrix}0 & \\frac{8 G M \\left(- 2 G M + c^{2} r\\right)}{c^{4} r^{4}} & 0 & 0\\\\\\frac{8 G M \\left(2 G M - c^{2} r\\right)}{c^{4} r^{4}} & 0 & 0 & 0\\\\0 & 0 & 0 & 0\\\\0 & 0 & 0 & 0\\end{matrix}\\right]$"
      ],
      "text/plain": [
       "Matrix([\n",
       "[                                 0, 8*G*M*(-2*G*M + c**2*r)/(c**4*r**4), 0, 0],\n",
       "[8*G*M*(2*G*M - c**2*r)/(c**4*r**4),                                   0, 0, 0],\n",
       "[                                 0,                                   0, 0, 0],\n",
       "[                                 0,                                   0, 0, 0]])"
      ]
     },
     "metadata": {},
     "output_type": "display_data"
    },
    {
     "data": {
      "text/latex": [
       "$\\displaystyle \\left[\\begin{matrix}0 & 0 & 0 & 0\\\\0 & 0 & 0 & 0\\\\0 & 0 & 0 & 0\\\\0 & 0 & 0 & 0\\end{matrix}\\right]$"
      ],
      "text/plain": [
       "Matrix([\n",
       "[0, 0, 0, 0],\n",
       "[0, 0, 0, 0],\n",
       "[0, 0, 0, 0],\n",
       "[0, 0, 0, 0]])"
      ]
     },
     "metadata": {},
     "output_type": "display_data"
    },
    {
     "data": {
      "text/latex": [
       "$\\displaystyle \\left[\\begin{matrix}0 & 0 & 0 & 0\\\\0 & 0 & - \\frac{4 G M}{c^{2} r} & 0\\\\0 & \\frac{4 G M}{c^{2} r} & 0 & 0\\\\0 & 0 & 0 & 0\\end{matrix}\\right]$"
      ],
      "text/plain": [
       "Matrix([\n",
       "[0,              0,               0, 0],\n",
       "[0,              0, -4*G*M/(c**2*r), 0],\n",
       "[0, 4*G*M/(c**2*r),               0, 0],\n",
       "[0,              0,               0, 0]])"
      ]
     },
     "metadata": {},
     "output_type": "display_data"
    },
    {
     "data": {
      "text/latex": [
       "$\\displaystyle \\left[\\begin{matrix}0 & 0 & 0 & 0\\\\0 & 0 & 0 & - \\frac{4 G M \\sin^{2}{\\left(th \\right)}}{c^{2} r}\\\\0 & 0 & 0 & 0\\\\0 & \\frac{4 G M \\sin^{2}{\\left(th \\right)}}{c^{2} r} & 0 & 0\\end{matrix}\\right]$"
      ],
      "text/plain": [
       "Matrix([\n",
       "[0,                         0, 0,                          0],\n",
       "[0,                         0, 0, -4*G*M*sin(th)**2/(c**2*r)],\n",
       "[0,                         0, 0,                          0],\n",
       "[0, 4*G*M*sin(th)**2/(c**2*r), 0,                          0]])"
      ]
     },
     "metadata": {},
     "output_type": "display_data"
    },
    {
     "data": {
      "text/latex": [
       "$\\displaystyle \\left[\\begin{matrix}0 & 0 & \\frac{4 G M \\left(2 G M - c^{2} r\\right)}{c^{4} r^{4}} & 0\\\\0 & 0 & 0 & 0\\\\\\frac{4 G M \\left(- 2 G M + c^{2} r\\right)}{c^{4} r^{4}} & 0 & 0 & 0\\\\0 & 0 & 0 & 0\\end{matrix}\\right]$"
      ],
      "text/plain": [
       "Matrix([\n",
       "[                                  0, 0, 4*G*M*(2*G*M - c**2*r)/(c**4*r**4), 0],\n",
       "[                                  0, 0,                                  0, 0],\n",
       "[4*G*M*(-2*G*M + c**2*r)/(c**4*r**4), 0,                                  0, 0],\n",
       "[                                  0, 0,                                  0, 0]])"
      ]
     },
     "metadata": {},
     "output_type": "display_data"
    },
    {
     "data": {
      "text/latex": [
       "$\\displaystyle \\left[\\begin{matrix}0 & 0 & 0 & 0\\\\0 & 0 & \\frac{4 G M}{r^{2} \\left(- 2 G M + c^{2} r\\right)} & 0\\\\0 & \\frac{4 G M}{r^{2} \\cdot \\left(2 G M - c^{2} r\\right)} & 0 & 0\\\\0 & 0 & 0 & 0\\end{matrix}\\right]$"
      ],
      "text/plain": [
       "Matrix([\n",
       "[0,                             0,                              0, 0],\n",
       "[0,                             0, 4*G*M/(r**2*(-2*G*M + c**2*r)), 0],\n",
       "[0, 4*G*M/(r**2*(2*G*M - c**2*r)),                              0, 0],\n",
       "[0,                             0,                              0, 0]])"
      ]
     },
     "metadata": {},
     "output_type": "display_data"
    },
    {
     "data": {
      "text/latex": [
       "$\\displaystyle \\left[\\begin{matrix}0 & 0 & 0 & 0\\\\0 & 0 & 0 & 0\\\\0 & 0 & 0 & 0\\\\0 & 0 & 0 & 0\\end{matrix}\\right]$"
      ],
      "text/plain": [
       "Matrix([\n",
       "[0, 0, 0, 0],\n",
       "[0, 0, 0, 0],\n",
       "[0, 0, 0, 0],\n",
       "[0, 0, 0, 0]])"
      ]
     },
     "metadata": {},
     "output_type": "display_data"
    },
    {
     "data": {
      "text/latex": [
       "$\\displaystyle \\left[\\begin{matrix}0 & 0 & 0 & 0\\\\0 & 0 & 0 & 0\\\\0 & 0 & 0 & \\frac{8 G M \\sin^{2}{\\left(th \\right)}}{c^{2} r}\\\\0 & 0 & - \\frac{8 G M \\sin^{2}{\\left(th \\right)}}{c^{2} r} & 0\\end{matrix}\\right]$"
      ],
      "text/plain": [
       "Matrix([\n",
       "[0, 0,                          0,                         0],\n",
       "[0, 0,                          0,                         0],\n",
       "[0, 0,                          0, 8*G*M*sin(th)**2/(c**2*r)],\n",
       "[0, 0, -8*G*M*sin(th)**2/(c**2*r),                         0]])"
      ]
     },
     "metadata": {},
     "output_type": "display_data"
    },
    {
     "data": {
      "text/latex": [
       "$\\displaystyle \\left[\\begin{matrix}0 & 0 & 0 & \\frac{4 G M \\left(2 G M - c^{2} r\\right)}{c^{4} r^{4}}\\\\0 & 0 & 0 & 0\\\\0 & 0 & 0 & 0\\\\\\frac{4 G M \\left(- 2 G M + c^{2} r\\right)}{c^{4} r^{4}} & 0 & 0 & 0\\end{matrix}\\right]$"
      ],
      "text/plain": [
       "Matrix([\n",
       "[                                  0, 0, 0, 4*G*M*(2*G*M - c**2*r)/(c**4*r**4)],\n",
       "[                                  0, 0, 0,                                  0],\n",
       "[                                  0, 0, 0,                                  0],\n",
       "[4*G*M*(-2*G*M + c**2*r)/(c**4*r**4), 0, 0,                                  0]])"
      ]
     },
     "metadata": {},
     "output_type": "display_data"
    },
    {
     "data": {
      "text/latex": [
       "$\\displaystyle \\left[\\begin{matrix}0 & 0 & 0 & 0\\\\0 & 0 & 0 & \\frac{4 G M}{r^{2} \\left(- 2 G M + c^{2} r\\right)}\\\\0 & 0 & 0 & 0\\\\0 & \\frac{4 G M}{r^{2} \\cdot \\left(2 G M - c^{2} r\\right)} & 0 & 0\\end{matrix}\\right]$"
      ],
      "text/plain": [
       "Matrix([\n",
       "[0,                             0, 0,                              0],\n",
       "[0,                             0, 0, 4*G*M/(r**2*(-2*G*M + c**2*r))],\n",
       "[0,                             0, 0,                              0],\n",
       "[0, 4*G*M/(r**2*(2*G*M - c**2*r)), 0,                              0]])"
      ]
     },
     "metadata": {},
     "output_type": "display_data"
    },
    {
     "data": {
      "text/latex": [
       "$\\displaystyle \\left[\\begin{matrix}0 & 0 & 0 & 0\\\\0 & 0 & 0 & 0\\\\0 & 0 & 0 & - \\frac{8 G M}{c^{2} r}\\\\0 & 0 & \\frac{8 G M}{c^{2} r} & 0\\end{matrix}\\right]$"
      ],
      "text/plain": [
       "Matrix([\n",
       "[0, 0,              0,               0],\n",
       "[0, 0,              0,               0],\n",
       "[0, 0,              0, -8*G*M/(c**2*r)],\n",
       "[0, 0, 8*G*M/(c**2*r),               0]])"
      ]
     },
     "metadata": {},
     "output_type": "display_data"
    },
    {
     "data": {
      "text/latex": [
       "$\\displaystyle \\left[\\begin{matrix}0 & 0 & 0 & 0\\\\0 & 0 & 0 & 0\\\\0 & 0 & 0 & 0\\\\0 & 0 & 0 & 0\\end{matrix}\\right]$"
      ],
      "text/plain": [
       "Matrix([\n",
       "[0, 0, 0, 0],\n",
       "[0, 0, 0, 0],\n",
       "[0, 0, 0, 0],\n",
       "[0, 0, 0, 0]])"
      ]
     },
     "metadata": {},
     "output_type": "display_data"
    }
   ],
   "source": [
    "# Run this cell to see the matrices explicitly\n",
    "for l in range(rank):\n",
    "    for k in range(rank):\n",
    "        display(Rie[l][k])"
   ]
  },
  {
   "cell_type": "markdown",
   "id": "a940a8b8-88ae-4daf-8505-1d85149d02f1",
   "metadata": {
    "tags": []
   },
   "source": [
    "## Ricci Tensor"
   ]
  },
  {
   "cell_type": "markdown",
   "id": "afc50d46-8c23-47b7-b66b-790d125e119b",
   "metadata": {},
   "source": [
    "Now we can finally calculate the Ricci tensor. Spoiler alert: Since the Schwarzschild is a vacuum solution, all components of the Ricci tensor must vanish. \n",
    "$$ R_{ij} = R^k_{ikj}$$"
   ]
  },
  {
   "cell_type": "code",
   "execution_count": 179,
   "id": "249ffd56-72de-474d-9adb-04c3b27345fe",
   "metadata": {
    "tags": []
   },
   "outputs": [],
   "source": [
    "def Ricci(i,j):\n",
    "    ricc = 0\n",
    "    n = 0\n",
    "    for k in range(rank):\n",
    "        ricc = ricc + Rie[k][i][k,j]\n",
    "        r = ricc.simplify()\n",
    "    return r"
   ]
  },
  {
   "cell_type": "code",
   "execution_count": 180,
   "id": "e1bd0961-104e-4567-bfb6-f783047129f4",
   "metadata": {
    "tags": []
   },
   "outputs": [],
   "source": [
    "Ric = [Ricci(i,j) for i in range(rank) for j in range(rank)]"
   ]
  },
  {
   "cell_type": "code",
   "execution_count": 181,
   "id": "bab6d756-c230-4989-a2d0-cbc4efa6d3d0",
   "metadata": {
    "tags": []
   },
   "outputs": [
    {
     "data": {
      "text/plain": [
       "[0, 0, 0, 0, 0, 0, 0, 0, 0, 0, 0, 0, 0, 0, 0, 0]"
      ]
     },
     "execution_count": 181,
     "metadata": {},
     "output_type": "execute_result"
    }
   ],
   "source": [
    "Ric"
   ]
  },
  {
   "cell_type": "markdown",
   "id": "71100862-b692-4b33-977d-8b407f0bdbb6",
   "metadata": {},
   "source": [
    "## Invariante de Kretschmann"
   ]
  },
  {
   "cell_type": "markdown",
   "id": "e990d8c9-1aca-43b1-a810-f10aa9d1a5dd",
   "metadata": {},
   "source": [
    "In order to verify the nature of the divergence, we need to calculate a metric invariant, in particular, the Kretschmann invariant which is defined as\n",
    "\n",
    "$$ K = R^{m_0 n_0 p_0 q_0} R_{m_0 n_0 p_0 q_0} = g_{m_0 m_1} g^{n_0 n_1} g^{p_0 p_1} g^{q_0 q_1} R^{m_0}_{n_1 p_1 q_1} R^{m_1}_{n_0 p_0 q_0} $$"
   ]
  },
  {
   "cell_type": "code",
   "execution_count": 194,
   "id": "c5076e12-1ec1-44b4-b56e-4e96685982a1",
   "metadata": {
    "tags": []
   },
   "outputs": [],
   "source": [
    "indices = list(product([0,1,2,3], repeat=2))\n",
    "def Kr():\n",
    "    K = 0\n",
    "    for m in indices:\n",
    "        for n in indices:\n",
    "            for p in indices: \n",
    "                for q in indices:\n",
    "                    K += g[m[0],m[1]] * gI[n[0],n[1]] * gI[p[0],p[1]] * gI[q[0],q[1]] * Rie[m[0]][n[1]][p[1], q[1]] * Rie[m[1]][n[0]][p[0],q[0]]\n",
    "    K = K.simplify() / 16 # Esse 16 corrige as redundancias que o 'for loop' gera nessas contas\n",
    "    return K"
   ]
  },
  {
   "cell_type": "code",
   "execution_count": 195,
   "id": "5eb6de05-b308-4793-8df8-8735b530ead0",
   "metadata": {
    "tags": []
   },
   "outputs": [
    {
     "data": {
      "text/latex": [
       "$\\displaystyle \\frac{48 G^{2} M^{2}}{c^{4} r^{6}}$"
      ],
      "text/plain": [
       "48*G**2*M**2/(c**4*r**6)"
      ]
     },
     "execution_count": 195,
     "metadata": {},
     "output_type": "execute_result"
    }
   ],
   "source": [
    "Kr()"
   ]
  },
  {
   "cell_type": "code",
   "execution_count": null,
   "id": "0b06ad6c-95d1-4ce0-ac90-9892ffb3a993",
   "metadata": {},
   "outputs": [],
   "source": []
  }
 ],
 "metadata": {
  "kernelspec": {
   "display_name": "Python 3 (ipykernel)",
   "language": "python",
   "name": "python3"
  },
  "language_info": {
   "codemirror_mode": {
    "name": "ipython",
    "version": 3
   },
   "file_extension": ".py",
   "mimetype": "text/x-python",
   "name": "python",
   "nbconvert_exporter": "python",
   "pygments_lexer": "ipython3",
   "version": "3.11.6"
  },
  "toc-autonumbering": true,
  "toc-showcode": true,
  "toc-showmarkdowntxt": true,
  "toc-showtags": false
 },
 "nbformat": 4,
 "nbformat_minor": 5
}
