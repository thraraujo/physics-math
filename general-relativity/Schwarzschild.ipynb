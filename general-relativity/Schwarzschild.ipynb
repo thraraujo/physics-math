{
 "cells": [
  {
   "cell_type": "markdown",
   "id": "6112def0-5d09-44d4-aeeb-0d273bffbe32",
   "metadata": {
    "tags": []
   },
   "source": [
    "# Metadados"
   ]
  },
  {
   "cell_type": "code",
   "execution_count": 159,
   "id": "78b37875-4e0f-4902-bf7e-28e9879d5a5f",
   "metadata": {
    "tags": []
   },
   "outputs": [],
   "source": [
    "from sympy import *\n",
    "from itertools import *\n",
    "\n",
    "# Einsteinpy: https://docs.einsteinpy.org/en/stable/index.html\n",
    "# Sympy: https://docs.sympy.org/latest/index.html\n",
    "# Intertools: https://docs.python.org/3/library/itertools.html"
   ]
  },
  {
   "cell_type": "code",
   "execution_count": 160,
   "id": "002d8427-3379-4832-8a8d-491c591e7e73",
   "metadata": {
    "tags": []
   },
   "outputs": [],
   "source": [
    "M, G, c, t, r, th, ph = symbols('M G c t r th ph')\n",
    "X = [t, r, th, ph]\n",
    "# Respectivamente: Massa M, constante de Newton G, velocidade da luz c, tempo t, raio r, angulo polar theta, azimuth phi "
   ]
  },
  {
   "cell_type": "markdown",
   "id": "b0280616-22a1-43f2-b5ac-00412bd17a5d",
   "metadata": {
    "tags": []
   },
   "source": [
    "# Solucao Schwarzschild"
   ]
  },
  {
   "cell_type": "markdown",
   "id": "a105a3fd-3abc-418f-8e2a-1a251dc1271d",
   "metadata": {
    "tags": []
   },
   "source": [
    "## Metrica"
   ]
  },
  {
   "cell_type": "markdown",
   "id": "5c922435-964b-4557-b717-d3bd072cd833",
   "metadata": {},
   "source": [
    "Comecaremos com a metrica\n",
    "\n",
    "$$ g \\equiv ds^2 = -\\left(1 - \\frac{2 G M}{c^2 r}\\right) c^2 dt^2 + \\frac{dr^2}{\\left(1 - \\frac{2 G M}{c^2 r}\\right)} + r^2 d\\theta^2 + r^2 \\sin^2\\theta d\\phi^2 $$"
   ]
  },
  {
   "cell_type": "code",
   "execution_count": 161,
   "id": "373e4e45-f8b6-4cf8-89fd-97d2c4b91b4e",
   "metadata": {
    "tags": []
   },
   "outputs": [],
   "source": [
    "# vamos definir a funcao f \n",
    "f =  1 - 2*M*G / (c**2 * r)\n",
    "g = zeros(4)"
   ]
  },
  {
   "cell_type": "code",
   "execution_count": 162,
   "id": "b0645224-e174-4d3b-814e-b3a2ca1c3475",
   "metadata": {
    "tags": []
   },
   "outputs": [],
   "source": [
    "g[0,0] = - f\n",
    "g[1,1] = 1/f\n",
    "g[2,2] = r**2\n",
    "g[3,3] = r**2 * sin(th)**2\n",
    "rank = g.rank()"
   ]
  },
  {
   "cell_type": "code",
   "execution_count": 163,
   "id": "5d537e78-21f5-41e2-9d00-df6b7715c23f",
   "metadata": {
    "tags": []
   },
   "outputs": [],
   "source": [
    "# Inversa \n",
    "gI = g.inv()"
   ]
  },
  {
   "cell_type": "code",
   "execution_count": 164,
   "id": "5a8f172c-9de0-4a0c-a123-a942002d00f9",
   "metadata": {
    "tags": []
   },
   "outputs": [
    {
     "data": {
      "text/latex": [
       "$\\displaystyle \\left[\\begin{matrix}\\frac{2 G M}{c^{2} r} - 1 & 0 & 0 & 0\\\\0 & \\frac{1}{- \\frac{2 G M}{c^{2} r} + 1} & 0 & 0\\\\0 & 0 & r^{2} & 0\\\\0 & 0 & 0 & r^{2} \\sin^{2}{\\left(th \\right)}\\end{matrix}\\right]$"
      ],
      "text/plain": [
       "Matrix([\n",
       "[2*G*M/(c**2*r) - 1,                       0,    0,               0],\n",
       "[                 0, 1/(-2*G*M/(c**2*r) + 1),    0,               0],\n",
       "[                 0,                       0, r**2,               0],\n",
       "[                 0,                       0,    0, r**2*sin(th)**2]])"
      ]
     },
     "execution_count": 164,
     "metadata": {},
     "output_type": "execute_result"
    }
   ],
   "source": [
    "g"
   ]
  },
  {
   "cell_type": "markdown",
   "id": "5818d0f7-3ab1-4649-95f2-cc2b7b73012d",
   "metadata": {
    "tags": []
   },
   "source": [
    "## Simbolos de Christoffel"
   ]
  },
  {
   "cell_type": "markdown",
   "id": "6e93a124-62cb-4b5c-b800-73e31d42b2e8",
   "metadata": {},
   "source": [
    "Esses objetos sao as componentes da conexao de Levi-Civita e sao dados explicitamente por\n",
    "\n",
    "$$\\Gamma^\\rho_{\\mu\\nu} = \\frac{1}{2} g^{\\rho\\sigma} \\left( \\partial_\\mu g_{\\sigma\\nu} + \\partial_\\sigma g_{\\mu\\nu} - \\partial_\\sigma g_{\\mu\\nu} \\right) $$"
   ]
  },
  {
   "cell_type": "code",
   "execution_count": 165,
   "id": "c21657d1-e92d-4ec7-939d-72d6e3b18262",
   "metadata": {
    "tags": []
   },
   "outputs": [],
   "source": [
    "# k is the contravariant (upper) index, while i and j are covariant (lower) indices\n",
    "\n",
    "def Gamma(k,i,j):\n",
    "    n = 0\n",
    "    GammaMatrix = 0\n",
    "    while n < rank:\n",
    "        GammaMatrix = GammaMatrix + gI[k,n]*(g[n,j].diff(X[i]) + g[n,i].diff(X[j]) - g[i,j].diff(X[n])) / 2\n",
    "        n += 1\n",
    "    return GammaMatrix"
   ]
  },
  {
   "cell_type": "markdown",
   "id": "20802799-86a4-4e19-b046-b3454025e926",
   "metadata": {},
   "source": [
    "It's useful to think of these objects as 4 matrices labeled by the integer k\n",
    "$$ (\\Gamma^0)_{ij} \\quad (\\Gamma^1)_{ij} \\quad (\\Gamma^2)_{ij} \\quad (\\Gamma^3)_{ij} $$"
   ]
  },
  {
   "cell_type": "code",
   "execution_count": 166,
   "id": "cd879263-98f5-4d00-ba67-bc9b58048f3a",
   "metadata": {
    "tags": []
   },
   "outputs": [],
   "source": [
    "ChSymb0 = zeros(rank)\n",
    "ChSymb1 = zeros(rank)\n",
    "ChSymb2 = zeros(rank)\n",
    "ChSymb3 = zeros(rank)"
   ]
  },
  {
   "cell_type": "code",
   "execution_count": 167,
   "id": "0fd30e74-6403-4832-962e-d2760114f51c",
   "metadata": {
    "tags": []
   },
   "outputs": [],
   "source": [
    "ChSymb = [ChSymb0, ChSymb1, ChSymb2, ChSymb3]"
   ]
  },
  {
   "cell_type": "code",
   "execution_count": 168,
   "id": "44440afd-484f-4fba-84df-8ee01478d8d7",
   "metadata": {
    "tags": []
   },
   "outputs": [],
   "source": [
    "for k in range(rank):\n",
    "    for i in range(rank):\n",
    "        for j in range(rank):\n",
    "            if Gamma(k,i,j) != 0:\n",
    "                ChSymb[k][i,j] = Gamma(k,i,j)"
   ]
  },
  {
   "cell_type": "code",
   "execution_count": 169,
   "id": "0f15cea8-bb0d-4612-9100-8647588cb44f",
   "metadata": {
    "tags": []
   },
   "outputs": [
    {
     "data": {
      "text/latex": [
       "$\\displaystyle \\left[\\begin{matrix}0 & \\frac{G M}{r \\left(- 2 G M + c^{2} r\\right)} & 0 & 0\\\\\\frac{G M}{r \\left(- 2 G M + c^{2} r\\right)} & 0 & 0 & 0\\\\0 & 0 & 0 & 0\\\\0 & 0 & 0 & 0\\end{matrix}\\right]$"
      ],
      "text/plain": [
       "Matrix([\n",
       "[                        0, G*M/(r*(-2*G*M + c**2*r)), 0, 0],\n",
       "[G*M/(r*(-2*G*M + c**2*r)),                         0, 0, 0],\n",
       "[                        0,                         0, 0, 0],\n",
       "[                        0,                         0, 0, 0]])"
      ]
     },
     "execution_count": 169,
     "metadata": {},
     "output_type": "execute_result"
    }
   ],
   "source": [
    "ChSymb[0]"
   ]
  },
  {
   "cell_type": "code",
   "execution_count": 170,
   "id": "83468204-848c-4424-94f6-e307fb37d96c",
   "metadata": {
    "tags": []
   },
   "outputs": [
    {
     "data": {
      "text/latex": [
       "$\\displaystyle \\left[\\begin{matrix}\\frac{G M \\left(- 2 G M + c^{2} r\\right)}{c^{4} r^{3}} & 0 & 0 & 0\\\\0 & - \\frac{G M \\left(- 2 G M + c^{2} r\\right)}{c^{4} r^{3} \\left(- \\frac{2 G M}{c^{2} r} + 1\\right)^{2}} & 0 & 0\\\\0 & 0 & - \\frac{- 2 G M + c^{2} r}{c^{2}} & 0\\\\0 & 0 & 0 & - \\frac{\\left(- 2 G M + c^{2} r\\right) \\sin^{2}{\\left(th \\right)}}{c^{2}}\\end{matrix}\\right]$"
      ],
      "text/plain": [
       "Matrix([\n",
       "[G*M*(-2*G*M + c**2*r)/(c**4*r**3),                                                           0,                       0,                                  0],\n",
       "[                                0, -G*M*(-2*G*M + c**2*r)/(c**4*r**3*(-2*G*M/(c**2*r) + 1)**2),                       0,                                  0],\n",
       "[                                0,                                                           0, -(-2*G*M + c**2*r)/c**2,                                  0],\n",
       "[                                0,                                                           0,                       0, -(-2*G*M + c**2*r)*sin(th)**2/c**2]])"
      ]
     },
     "execution_count": 170,
     "metadata": {},
     "output_type": "execute_result"
    }
   ],
   "source": [
    "ChSymb[1]"
   ]
  },
  {
   "cell_type": "code",
   "execution_count": 171,
   "id": "f973c5a7-1772-4a56-87d5-bdac865553e4",
   "metadata": {
    "tags": []
   },
   "outputs": [
    {
     "data": {
      "text/latex": [
       "$\\displaystyle \\left[\\begin{matrix}0 & 0 & 0 & 0\\\\0 & 0 & \\frac{1}{r} & 0\\\\0 & \\frac{1}{r} & 0 & 0\\\\0 & 0 & 0 & - \\sin{\\left(th \\right)} \\cos{\\left(th \\right)}\\end{matrix}\\right]$"
      ],
      "text/plain": [
       "Matrix([\n",
       "[0,   0,   0,                0],\n",
       "[0,   0, 1/r,                0],\n",
       "[0, 1/r,   0,                0],\n",
       "[0,   0,   0, -sin(th)*cos(th)]])"
      ]
     },
     "execution_count": 171,
     "metadata": {},
     "output_type": "execute_result"
    }
   ],
   "source": [
    "ChSymb[2]"
   ]
  },
  {
   "cell_type": "code",
   "execution_count": 172,
   "id": "f04d58ce-ccc2-40f0-95e7-21b28f81ba77",
   "metadata": {
    "tags": []
   },
   "outputs": [
    {
     "data": {
      "text/latex": [
       "$\\displaystyle \\left[\\begin{matrix}0 & 0 & 0 & 0\\\\0 & 0 & 0 & \\frac{1}{r}\\\\0 & 0 & 0 & \\frac{\\cos{\\left(th \\right)}}{\\sin{\\left(th \\right)}}\\\\0 & \\frac{1}{r} & \\frac{\\cos{\\left(th \\right)}}{\\sin{\\left(th \\right)}} & 0\\end{matrix}\\right]$"
      ],
      "text/plain": [
       "Matrix([\n",
       "[0,   0,               0,               0],\n",
       "[0,   0,               0,             1/r],\n",
       "[0,   0,               0, cos(th)/sin(th)],\n",
       "[0, 1/r, cos(th)/sin(th),               0]])"
      ]
     },
     "execution_count": 172,
     "metadata": {},
     "output_type": "execute_result"
    }
   ],
   "source": [
    "ChSymb[3]"
   ]
  },
  {
   "cell_type": "markdown",
   "id": "8a72a02d-a6e9-4506-8945-90f4b11a1242",
   "metadata": {
    "tags": []
   },
   "source": [
    "## Riemann Tensor"
   ]
  },
  {
   "cell_type": "markdown",
   "id": "ef051241-b54e-4c56-be4e-dbeb190f02c9",
   "metadata": {
    "tags": []
   },
   "source": [
    "We now have all the Chrystoffel symbols (it's a courtesy of python!), so that we can calculate the Riemann tensor\n",
    "\n",
    "$$ R^l_{kij} = \\partial_i \\Gamma^l_{kj} - \\partial_j \\Gamma^l_{ki} + \\Gamma^l_{ip}\\Gamma^p_{kj} -  \\Gamma^l_{jp}\\Gamma^p_{ki} $$"
   ]
  },
  {
   "cell_type": "code",
   "execution_count": 173,
   "id": "5871e5cd-769a-4e4d-b6dc-6cd42d4323a7",
   "metadata": {
    "tags": []
   },
   "outputs": [],
   "source": [
    "# l is the contravariant index, k,i,j are covariant indices\n",
    "# I'm gonna use the objects ChSymb because I don't want to compute these symbols at each run\n",
    "def Contraction(l,k,i,j):\n",
    "    n = 0 \n",
    "    cont = 0 \n",
    "    while n < rank:\n",
    "        cont = cont + ChSymb[l][i,n] * ChSymb[n][k,j] - ChSymb[l][j,n] * ChSymb[n][k,i]\n",
    "        n += 1\n",
    "    return cont"
   ]
  },
  {
   "cell_type": "code",
   "execution_count": 174,
   "id": "336e34dd-6f7e-48f0-81ec-725d75b99e7e",
   "metadata": {
    "tags": []
   },
   "outputs": [],
   "source": [
    "def Riem(l,k,i,j):\n",
    "    n = 0\n",
    "    Riemann = 0\n",
    "    while n < rank:\n",
    "        Riemann = Riemann + ChSymb[l][k,j].diff(X[i]) - ChSymb[l][k,i].diff(X[j]) + Contraction(l,k,i,j)\n",
    "        n += 1\n",
    "    R = Riemann.simplify()\n",
    "    return R"
   ]
  },
  {
   "cell_type": "markdown",
   "id": "171587f2-e11f-44d2-b0d4-bf7330e64409",
   "metadata": {},
   "source": [
    "Now we can finally calculate the components of the Riemann tensor. It is useful to consider the components as a matrix of matrices $(R^l_k)_{ij}$"
   ]
  },
  {
   "cell_type": "code",
   "execution_count": 175,
   "id": "1a669e4d-a91f-413d-9ee6-b791921f5d0a",
   "metadata": {
    "tags": []
   },
   "outputs": [],
   "source": [
    "RieTen00 = zeros(rank); RieTen01 = zeros(rank); RieTen02 = zeros(rank); RieTen03 = zeros(rank)\n",
    "RieTen10 = zeros(rank); RieTen11 = zeros(rank); RieTen12 = zeros(rank); RieTen13 = zeros(rank)\n",
    "RieTen20 = zeros(rank); RieTen21 = zeros(rank); RieTen22 = zeros(rank); RieTen23 = zeros(rank)\n",
    "RieTen30 = zeros(rank); RieTen31 = zeros(rank); RieTen32 = zeros(rank); RieTen33 = zeros(rank)"
   ]
  },
  {
   "cell_type": "code",
   "execution_count": 176,
   "id": "7df1763b-f78a-4586-ae50-49af64c3bb5d",
   "metadata": {
    "tags": []
   },
   "outputs": [],
   "source": [
    "Rie = [[RieTen00, RieTen01, RieTen02, RieTen03], \n",
    "       [RieTen10, RieTen11, RieTen12, RieTen13],\n",
    "       [RieTen20, RieTen21, RieTen22, RieTen23],\n",
    "       [RieTen30, RieTen31, RieTen32, RieTen33]]"
   ]
  },
  {
   "cell_type": "code",
   "execution_count": 177,
   "id": "633e1974-638f-4039-930f-a9b3d898afd4",
   "metadata": {},
   "outputs": [],
   "source": [
    "for l in range(rank):\n",
    "    for k in range(rank):\n",
    "        for i in range(rank):\n",
    "            for j in range(rank):\n",
    "                if Riem(l,k,i,j) != 0:\n",
    "                    Rie[l][k][i,j] = Riem(l,k,i,j)"
   ]
  },
  {
   "cell_type": "code",
   "execution_count": 178,
   "id": "945a707d-ed06-406a-8390-5b585eaf1d56",
   "metadata": {
    "tags": []
   },
   "outputs": [
    {
     "data": {
      "text/latex": [
       "$\\displaystyle \\left[\\begin{matrix}0 & 0 & 0 & 0\\\\0 & 0 & 0 & 0\\\\0 & 0 & 0 & 0\\\\0 & 0 & 0 & 0\\end{matrix}\\right]$"
      ],
      "text/plain": [
       "Matrix([\n",
       "[0, 0, 0, 0],\n",
       "[0, 0, 0, 0],\n",
       "[0, 0, 0, 0],\n",
       "[0, 0, 0, 0]])"
      ]
     },
     "metadata": {},
     "output_type": "display_data"
    },
    {
     "data": {
      "text/latex": [
       "$\\displaystyle \\left[\\begin{matrix}0 & \\frac{8 G M}{r^{2} \\left(- 2 G M + c^{2} r\\right)} & 0 & 0\\\\\\frac{8 G M}{r^{2} \\cdot \\left(2 G M - c^{2} r\\right)} & 0 & 0 & 0\\\\0 & 0 & 0 & 0\\\\0 & 0 & 0 & 0\\end{matrix}\\right]$"
      ],
      "text/plain": [
       "Matrix([\n",
       "[                            0, 8*G*M/(r**2*(-2*G*M + c**2*r)), 0, 0],\n",
       "[8*G*M/(r**2*(2*G*M - c**2*r)),                              0, 0, 0],\n",
       "[                            0,                              0, 0, 0],\n",
       "[                            0,                              0, 0, 0]])"
      ]
     },
     "metadata": {},
     "output_type": "display_data"
    },
    {
     "data": {
      "text/latex": [
       "$\\displaystyle \\left[\\begin{matrix}0 & 0 & - \\frac{4 G M}{c^{2} r} & 0\\\\0 & 0 & 0 & 0\\\\\\frac{4 G M}{c^{2} r} & 0 & 0 & 0\\\\0 & 0 & 0 & 0\\end{matrix}\\right]$"
      ],
      "text/plain": [
       "Matrix([\n",
       "[             0, 0, -4*G*M/(c**2*r), 0],\n",
       "[             0, 0,               0, 0],\n",
       "[4*G*M/(c**2*r), 0,               0, 0],\n",
       "[             0, 0,               0, 0]])"
      ]
     },
     "metadata": {},
     "output_type": "display_data"
    },
    {
     "data": {
      "text/latex": [
       "$\\displaystyle \\left[\\begin{matrix}0 & 0 & 0 & - \\frac{4 G M \\sin^{2}{\\left(th \\right)}}{c^{2} r}\\\\0 & 0 & 0 & 0\\\\0 & 0 & 0 & 0\\\\\\frac{4 G M \\sin^{2}{\\left(th \\right)}}{c^{2} r} & 0 & 0 & 0\\end{matrix}\\right]$"
      ],
      "text/plain": [
       "Matrix([\n",
       "[                        0, 0, 0, -4*G*M*sin(th)**2/(c**2*r)],\n",
       "[                        0, 0, 0,                          0],\n",
       "[                        0, 0, 0,                          0],\n",
       "[4*G*M*sin(th)**2/(c**2*r), 0, 0,                          0]])"
      ]
     },
     "metadata": {},
     "output_type": "display_data"
    },
    {
     "data": {
      "text/latex": [
       "$\\displaystyle \\left[\\begin{matrix}0 & \\frac{8 G M \\left(- 2 G M + c^{2} r\\right)}{c^{4} r^{4}} & 0 & 0\\\\\\frac{8 G M \\left(2 G M - c^{2} r\\right)}{c^{4} r^{4}} & 0 & 0 & 0\\\\0 & 0 & 0 & 0\\\\0 & 0 & 0 & 0\\end{matrix}\\right]$"
      ],
      "text/plain": [
       "Matrix([\n",
       "[                                 0, 8*G*M*(-2*G*M + c**2*r)/(c**4*r**4), 0, 0],\n",
       "[8*G*M*(2*G*M - c**2*r)/(c**4*r**4),                                   0, 0, 0],\n",
       "[                                 0,                                   0, 0, 0],\n",
       "[                                 0,                                   0, 0, 0]])"
      ]
     },
     "metadata": {},
     "output_type": "display_data"
    },
    {
     "data": {
      "text/latex": [
       "$\\displaystyle \\left[\\begin{matrix}0 & 0 & 0 & 0\\\\0 & 0 & 0 & 0\\\\0 & 0 & 0 & 0\\\\0 & 0 & 0 & 0\\end{matrix}\\right]$"
      ],
      "text/plain": [
       "Matrix([\n",
       "[0, 0, 0, 0],\n",
       "[0, 0, 0, 0],\n",
       "[0, 0, 0, 0],\n",
       "[0, 0, 0, 0]])"
      ]
     },
     "metadata": {},
     "output_type": "display_data"
    },
    {
     "data": {
      "text/latex": [
       "$\\displaystyle \\left[\\begin{matrix}0 & 0 & 0 & 0\\\\0 & 0 & - \\frac{4 G M}{c^{2} r} & 0\\\\0 & \\frac{4 G M}{c^{2} r} & 0 & 0\\\\0 & 0 & 0 & 0\\end{matrix}\\right]$"
      ],
      "text/plain": [
       "Matrix([\n",
       "[0,              0,               0, 0],\n",
       "[0,              0, -4*G*M/(c**2*r), 0],\n",
       "[0, 4*G*M/(c**2*r),               0, 0],\n",
       "[0,              0,               0, 0]])"
      ]
     },
     "metadata": {},
     "output_type": "display_data"
    },
    {
     "data": {
      "text/latex": [
       "$\\displaystyle \\left[\\begin{matrix}0 & 0 & 0 & 0\\\\0 & 0 & 0 & - \\frac{4 G M \\sin^{2}{\\left(th \\right)}}{c^{2} r}\\\\0 & 0 & 0 & 0\\\\0 & \\frac{4 G M \\sin^{2}{\\left(th \\right)}}{c^{2} r} & 0 & 0\\end{matrix}\\right]$"
      ],
      "text/plain": [
       "Matrix([\n",
       "[0,                         0, 0,                          0],\n",
       "[0,                         0, 0, -4*G*M*sin(th)**2/(c**2*r)],\n",
       "[0,                         0, 0,                          0],\n",
       "[0, 4*G*M*sin(th)**2/(c**2*r), 0,                          0]])"
      ]
     },
     "metadata": {},
     "output_type": "display_data"
    },
    {
     "data": {
      "text/latex": [
       "$\\displaystyle \\left[\\begin{matrix}0 & 0 & \\frac{4 G M \\left(2 G M - c^{2} r\\right)}{c^{4} r^{4}} & 0\\\\0 & 0 & 0 & 0\\\\\\frac{4 G M \\left(- 2 G M + c^{2} r\\right)}{c^{4} r^{4}} & 0 & 0 & 0\\\\0 & 0 & 0 & 0\\end{matrix}\\right]$"
      ],
      "text/plain": [
       "Matrix([\n",
       "[                                  0, 0, 4*G*M*(2*G*M - c**2*r)/(c**4*r**4), 0],\n",
       "[                                  0, 0,                                  0, 0],\n",
       "[4*G*M*(-2*G*M + c**2*r)/(c**4*r**4), 0,                                  0, 0],\n",
       "[                                  0, 0,                                  0, 0]])"
      ]
     },
     "metadata": {},
     "output_type": "display_data"
    },
    {
     "data": {
      "text/latex": [
       "$\\displaystyle \\left[\\begin{matrix}0 & 0 & 0 & 0\\\\0 & 0 & \\frac{4 G M}{r^{2} \\left(- 2 G M + c^{2} r\\right)} & 0\\\\0 & \\frac{4 G M}{r^{2} \\cdot \\left(2 G M - c^{2} r\\right)} & 0 & 0\\\\0 & 0 & 0 & 0\\end{matrix}\\right]$"
      ],
      "text/plain": [
       "Matrix([\n",
       "[0,                             0,                              0, 0],\n",
       "[0,                             0, 4*G*M/(r**2*(-2*G*M + c**2*r)), 0],\n",
       "[0, 4*G*M/(r**2*(2*G*M - c**2*r)),                              0, 0],\n",
       "[0,                             0,                              0, 0]])"
      ]
     },
     "metadata": {},
     "output_type": "display_data"
    },
    {
     "data": {
      "text/latex": [
       "$\\displaystyle \\left[\\begin{matrix}0 & 0 & 0 & 0\\\\0 & 0 & 0 & 0\\\\0 & 0 & 0 & 0\\\\0 & 0 & 0 & 0\\end{matrix}\\right]$"
      ],
      "text/plain": [
       "Matrix([\n",
       "[0, 0, 0, 0],\n",
       "[0, 0, 0, 0],\n",
       "[0, 0, 0, 0],\n",
       "[0, 0, 0, 0]])"
      ]
     },
     "metadata": {},
     "output_type": "display_data"
    },
    {
     "data": {
      "text/latex": [
       "$\\displaystyle \\left[\\begin{matrix}0 & 0 & 0 & 0\\\\0 & 0 & 0 & 0\\\\0 & 0 & 0 & \\frac{8 G M \\sin^{2}{\\left(th \\right)}}{c^{2} r}\\\\0 & 0 & - \\frac{8 G M \\sin^{2}{\\left(th \\right)}}{c^{2} r} & 0\\end{matrix}\\right]$"
      ],
      "text/plain": [
       "Matrix([\n",
       "[0, 0,                          0,                         0],\n",
       "[0, 0,                          0,                         0],\n",
       "[0, 0,                          0, 8*G*M*sin(th)**2/(c**2*r)],\n",
       "[0, 0, -8*G*M*sin(th)**2/(c**2*r),                         0]])"
      ]
     },
     "metadata": {},
     "output_type": "display_data"
    },
    {
     "data": {
      "text/latex": [
       "$\\displaystyle \\left[\\begin{matrix}0 & 0 & 0 & \\frac{4 G M \\left(2 G M - c^{2} r\\right)}{c^{4} r^{4}}\\\\0 & 0 & 0 & 0\\\\0 & 0 & 0 & 0\\\\\\frac{4 G M \\left(- 2 G M + c^{2} r\\right)}{c^{4} r^{4}} & 0 & 0 & 0\\end{matrix}\\right]$"
      ],
      "text/plain": [
       "Matrix([\n",
       "[                                  0, 0, 0, 4*G*M*(2*G*M - c**2*r)/(c**4*r**4)],\n",
       "[                                  0, 0, 0,                                  0],\n",
       "[                                  0, 0, 0,                                  0],\n",
       "[4*G*M*(-2*G*M + c**2*r)/(c**4*r**4), 0, 0,                                  0]])"
      ]
     },
     "metadata": {},
     "output_type": "display_data"
    },
    {
     "data": {
      "text/latex": [
       "$\\displaystyle \\left[\\begin{matrix}0 & 0 & 0 & 0\\\\0 & 0 & 0 & \\frac{4 G M}{r^{2} \\left(- 2 G M + c^{2} r\\right)}\\\\0 & 0 & 0 & 0\\\\0 & \\frac{4 G M}{r^{2} \\cdot \\left(2 G M - c^{2} r\\right)} & 0 & 0\\end{matrix}\\right]$"
      ],
      "text/plain": [
       "Matrix([\n",
       "[0,                             0, 0,                              0],\n",
       "[0,                             0, 0, 4*G*M/(r**2*(-2*G*M + c**2*r))],\n",
       "[0,                             0, 0,                              0],\n",
       "[0, 4*G*M/(r**2*(2*G*M - c**2*r)), 0,                              0]])"
      ]
     },
     "metadata": {},
     "output_type": "display_data"
    },
    {
     "data": {
      "text/latex": [
       "$\\displaystyle \\left[\\begin{matrix}0 & 0 & 0 & 0\\\\0 & 0 & 0 & 0\\\\0 & 0 & 0 & - \\frac{8 G M}{c^{2} r}\\\\0 & 0 & \\frac{8 G M}{c^{2} r} & 0\\end{matrix}\\right]$"
      ],
      "text/plain": [
       "Matrix([\n",
       "[0, 0,              0,               0],\n",
       "[0, 0,              0,               0],\n",
       "[0, 0,              0, -8*G*M/(c**2*r)],\n",
       "[0, 0, 8*G*M/(c**2*r),               0]])"
      ]
     },
     "metadata": {},
     "output_type": "display_data"
    },
    {
     "data": {
      "text/latex": [
       "$\\displaystyle \\left[\\begin{matrix}0 & 0 & 0 & 0\\\\0 & 0 & 0 & 0\\\\0 & 0 & 0 & 0\\\\0 & 0 & 0 & 0\\end{matrix}\\right]$"
      ],
      "text/plain": [
       "Matrix([\n",
       "[0, 0, 0, 0],\n",
       "[0, 0, 0, 0],\n",
       "[0, 0, 0, 0],\n",
       "[0, 0, 0, 0]])"
      ]
     },
     "metadata": {},
     "output_type": "display_data"
    }
   ],
   "source": [
    "# Run this cell to see the matrices explicitly\n",
    "for l in range(rank):\n",
    "    for k in range(rank):\n",
    "        display(Rie[l][k])"
   ]
  },
  {
   "cell_type": "markdown",
   "id": "a940a8b8-88ae-4daf-8505-1d85149d02f1",
   "metadata": {
    "tags": []
   },
   "source": [
    "## Ricci Tensor"
   ]
  },
  {
   "cell_type": "markdown",
   "id": "afc50d46-8c23-47b7-b66b-790d125e119b",
   "metadata": {},
   "source": [
    "Now we can finally calculate the Ricci tensor. Spoiler alert: Since the Schwarzschild is a vacuum solution, all components of the Ricci tensor must vanish. \n",
    "$$ R_{ij} = R^k_{ikj}$$"
   ]
  },
  {
   "cell_type": "code",
   "execution_count": 179,
   "id": "249ffd56-72de-474d-9adb-04c3b27345fe",
   "metadata": {
    "tags": []
   },
   "outputs": [],
   "source": [
    "def Ricci(i,j):\n",
    "    ricc = 0\n",
    "    n = 0\n",
    "    for k in range(rank):\n",
    "        ricc = ricc + Rie[k][i][k,j]\n",
    "        r = ricc.simplify()\n",
    "    return r"
   ]
  },
  {
   "cell_type": "code",
   "execution_count": 180,
   "id": "e1bd0961-104e-4567-bfb6-f783047129f4",
   "metadata": {
    "tags": []
   },
   "outputs": [],
   "source": [
    "Ric = [Ricci(i,j) for i in range(rank) for j in range(rank)]"
   ]
  },
  {
   "cell_type": "code",
   "execution_count": 181,
   "id": "bab6d756-c230-4989-a2d0-cbc4efa6d3d0",
   "metadata": {
    "tags": []
   },
   "outputs": [
    {
     "data": {
      "text/plain": [
       "[0, 0, 0, 0, 0, 0, 0, 0, 0, 0, 0, 0, 0, 0, 0, 0]"
      ]
     },
     "execution_count": 181,
     "metadata": {},
     "output_type": "execute_result"
    }
   ],
   "source": [
    "Ric"
   ]
  },
  {
   "cell_type": "markdown",
   "id": "71100862-b692-4b33-977d-8b407f0bdbb6",
   "metadata": {},
   "source": [
    "## Invariante de Kretschmann"
   ]
  },
  {
   "cell_type": "markdown",
   "id": "e990d8c9-1aca-43b1-a810-f10aa9d1a5dd",
   "metadata": {},
   "source": [
    "In order to verify the nature of the divergence, we need to calculate a metric invariant, in particular, the Kretschmann invariant which is defined as\n",
    "\n",
    "$$ K = R^{m_0 n_0 p_0 q_0} R_{m_0 n_0 p_0 q_0} = g_{m_0 m_1} g^{n_0 n_1} g^{p_0 p_1} g^{q_0 q_1} R^{m_0}_{n_1 p_1 q_1} R^{m_1}_{n_0 p_0 q_0} $$"
   ]
  },
  {
   "cell_type": "code",
   "execution_count": 194,
   "id": "c5076e12-1ec1-44b4-b56e-4e96685982a1",
   "metadata": {
    "tags": []
   },
   "outputs": [],
   "source": [
    "indices = list(product([0,1,2,3], repeat=2))\n",
    "def Kr():\n",
    "    K = 0\n",
    "    for m in indices:\n",
    "        for n in indices:\n",
    "            for p in indices: \n",
    "                for q in indices:\n",
    "                    K += g[m[0],m[1]] * gI[n[0],n[1]] * gI[p[0],p[1]] * gI[q[0],q[1]] * Rie[m[0]][n[1]][p[1], q[1]] * Rie[m[1]][n[0]][p[0],q[0]]\n",
    "    K = K.simplify() / 16 # Esse 16 corrige as redundancias que o 'for loop' gera nessas contas\n",
    "    return K"
   ]
  },
  {
   "cell_type": "code",
   "execution_count": 195,
   "id": "5eb6de05-b308-4793-8df8-8735b530ead0",
   "metadata": {
    "tags": []
   },
   "outputs": [
    {
     "data": {
      "text/latex": [
       "$\\displaystyle \\frac{48 G^{2} M^{2}}{c^{4} r^{6}}$"
      ],
      "text/plain": [
       "48*G**2*M**2/(c**4*r**6)"
      ]
     },
     "execution_count": 195,
     "metadata": {},
     "output_type": "execute_result"
    }
   ],
   "source": [
    "Kr()"
   ]
  },
  {
   "cell_type": "code",
   "execution_count": null,
   "id": "0b06ad6c-95d1-4ce0-ac90-9892ffb3a993",
   "metadata": {},
   "outputs": [],
   "source": []
  }
 ],
 "metadata": {
  "kernelspec": {
   "display_name": "Python 3 (ipykernel)",
   "language": "python",
   "name": "python3"
  },
  "language_info": {
   "codemirror_mode": {
    "name": "ipython",
    "version": 3
   },
   "file_extension": ".py",
   "mimetype": "text/x-python",
   "name": "python",
   "nbconvert_exporter": "python",
   "pygments_lexer": "ipython3",
   "version": "3.11.6"
  },
  "toc-autonumbering": true,
  "toc-showcode": true,
  "toc-showmarkdowntxt": true,
  "toc-showtags": false
 },
 "nbformat": 4,
 "nbformat_minor": 5
}
