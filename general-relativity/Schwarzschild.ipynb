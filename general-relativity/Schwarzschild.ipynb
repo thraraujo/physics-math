{
 "cells": [
  {
   "cell_type": "markdown",
   "id": "1d8b2778-f42c-4f4b-9aec-87213132440d",
   "metadata": {},
   "source": [
    "**============ IDENTIFICAÇÃO ============**\n",
    "\n",
    "*Notas de aula para o Concurso Público para provimento do cargo de Professor \n",
    "Assistente na área de *Física de Partículas Elementares e Campos* do Departamento de \n",
    "Física da Faculdade de Engenharia e Ciências, UNESP - Guaratinguetá. **Edital 169/2023**.*\n",
    "\n",
    "**CANDIDATO:** Thiago Rocha Araujo\n",
    "\n",
    "**TEMA DA AULA:** Soluções da Equação de Einstein\n",
    "\n",
    "**DATA:**"
   ]
  },
  {
   "cell_type": "markdown",
   "id": "17cd2f61-0e89-4c8a-9abe-a3363db9de4a",
   "metadata": {},
   "source": [
    "**============ CONTEÚDO ============**\n",
    "\n",
    "- [1. Definições]()\n",
    "- [2. Solução de Schwarzschild]()\n",
    "    - [2.1. Resolvendo a equação de Einstein]()\n",
    "    - [2.2. Transformações Gerais de Coordenadas: Similaridades com o eletromagnetismo]()\n",
    "    - [2.3. Escalar de Kretschmann]()\n",
    "- [3. Solução De Sitter-Schwarzschild]()"
   ]
  },
  {
   "cell_type": "markdown",
   "id": "6112def0-5d09-44d4-aeeb-0d273bffbe32",
   "metadata": {
    "jp-MarkdownHeadingCollapsed": true,
    "tags": []
   },
   "source": [
    "# Definições"
   ]
  },
  {
   "cell_type": "code",
   "execution_count": 1,
   "id": "78b37875-4e0f-4902-bf7e-28e9879d5a5f",
   "metadata": {
    "tags": []
   },
   "outputs": [],
   "source": [
    "# Pacotes\n",
    "\n",
    "from sympy import *\n",
    "from itertools import *\n",
    "\n",
    "# Einsteinpy: https://docs.einsteinpy.org/en/stable/index.html\n",
    "# Sympy: https://docs.sympy.org/latest/index.html\n",
    "# Intertools: https://docs.python.org/3/library/itertools.html"
   ]
  },
  {
   "cell_type": "code",
   "execution_count": 2,
   "id": "002d8427-3379-4832-8a8d-491c591e7e73",
   "metadata": {
    "tags": []
   },
   "outputs": [],
   "source": [
    "# Parâmetros: Massa M, constante de Newton G, velocidade da luz c, constante cosmológica Lb tempo t, raio r, angulo polar theta, azimuth phi \n",
    "\n",
    "M, G, c, Lb, t, r, th, ph = symbols('M G c Lb t r th ph')\n",
    "X = [t, r, th, ph]\n",
    "\n",
    "# Também definimos as funções f1 e f2 que usamos no ansätz para a solução de Schwarzschild\n",
    "f1 = Function('f1')('r')\n",
    "f2 = Function('f2')('r')"
   ]
  },
  {
   "cell_type": "markdown",
   "id": "fc7a083b-15a2-4316-9809-e77a68c5af13",
   "metadata": {
    "tags": []
   },
   "source": [
    "# Solução de Schwarzschild"
   ]
  },
  {
   "cell_type": "markdown",
   "id": "0e2f272a-5bd0-4c5a-9e6a-b8c0556cf7ba",
   "metadata": {},
   "source": [
    "A equação de campo de Einstein no vácuo, mas na presença de uma constante cosmológica, é dada por: \n",
    "\n",
    "$$ \\tag{1} R_{\\mu\\nu} - \\frac{1}{2} (R - 2 \\Lambda) g_{\\mu\\nu} = 0 \\qquad (\\mu, \\nu = 0, 1, 2, 3) \\quad \\Rightarrow \\quad \\boxed{R_{\\mu\\nu} = \\Lambda g_{\\mu\\nu}}$$\n",
    "\n",
    "onde $R_{\\mu\\nu}$ são as componentes do tensor de Ricci, $R$ o escalar de curvatura, $\\Lambda$ a constante cosmológica e $g_{\\mu\\nu}$ as componentes da métrica, de tal forma que o elemento de distântia $ds^2$ será dado por \n",
    "$$ \\tag{2} ds^2 = \\sum_{\\mu=0}^3 \\sum_{\\nu=0}^3 g_{\\mu\\nu} dx^\\mu dx^\\nu  \\equiv  g_{\\mu\\nu} dx^\\mu dx^\\nu $$\n",
    "onde na última igualdade usamos a convenção de Einstein para soma. Buscaremos uma solução de (1) tal que:\n",
    "\n",
    "1) Possuem simetria esférica. Podemos pensar nessa condição como o equivalente Newtoniano de um potencial central. De fato, estudando a equação da geodésica para a solução de Schwarzschild (que encontraremos abaixo) nos levará ao potencial $\\Phi(r) = - \\frac{GM}{r}$.\n",
    "\n",
    "2) O espaço tempo é estático, ou seja, as componentes da métrica são independentes do tempo, e em particular, consideraremos a invariancia sob a transformação $t \\mapsto -t$.\n",
    "\n",
    "3) O espaço-tempo é assimptoticamente plano.\n",
    "\n",
    "4) A constante cosmológica é nula, ou seja $\\Lambda =0$\n",
    "\n",
    "Essas 3 condições juntas nos induzem a considerar um ansätz na forma\n",
    "$$\\tag{3} ds^2 = -f_1(r) c^2 dt^2 + f_2(r)dr^2 + r^2 (d\\theta^2 + \\sin^2\\theta d\\phi^2)$$"
   ]
  },
  {
   "cell_type": "markdown",
   "id": "f3b4f147-0b0c-4466-a01a-7257b10ec0e6",
   "metadata": {
    "jp-MarkdownHeadingCollapsed": true,
    "tags": []
   },
   "source": [
    "## Resolvendo a Equação de Einstein"
   ]
  },
  {
   "cell_type": "markdown",
   "id": "1bcda912-9891-43fa-9fb0-8b1e90965200",
   "metadata": {},
   "source": [
    "Vamos agora resolver a solução de Einstein passo a passo usando o ansätz dado na expressão (3)."
   ]
  },
  {
   "cell_type": "markdown",
   "id": "8fb859a1-0636-4bb8-b6f7-225c9fb02031",
   "metadata": {
    "tags": []
   },
   "source": [
    "### Métrica"
   ]
  },
  {
   "cell_type": "code",
   "execution_count": 3,
   "id": "3bd538c0-6bae-40f5-8ba0-60657177a197",
   "metadata": {
    "tags": []
   },
   "outputs": [],
   "source": [
    "# Aqui vamos definir a métrica. Inicialmente preenchemos todas as entradas com zeros, e depois definimos as componentes não nulas. \n",
    "g = zeros(4) \n",
    "g[0,0] = -f1 # felizmente o python é relativista e começa a contar os indices a partir do zero \n",
    "g[1,1] = f2\n",
    "g[2,2] = r**2\n",
    "g[3,3] = r**2 * sin(th)**2\n",
    "\n",
    "rank = g.rank() # o rank será útil para generalizar esse código para casos onde o espaço-tempo tem dimensões maiores ou menos que 4. Sim, isso é muito importante. \n",
    "gI = g.inv() # Também precisamos da inversa para subir os indices de Lorentz"
   ]
  },
  {
   "cell_type": "markdown",
   "id": "e5fca00d-e20a-4393-8047-f00a5856439e",
   "metadata": {
    "tags": []
   },
   "source": [
    "### Símbolos de Christoffel"
   ]
  },
  {
   "cell_type": "markdown",
   "id": "6e93a124-62cb-4b5c-b800-73e31d42b2e8",
   "metadata": {},
   "source": [
    "Esses objetos são as componentes da conexão de Levi-Civita dadas explicitamente por:\n",
    "\n",
    "$$\\tag{4} \\Gamma^\\rho_{\\mu\\nu} = \\frac{1}{2} g^{\\rho\\sigma} \\left( \\partial_\\mu g_{\\sigma\\nu} + \\partial_\\sigma g_{\\mu\\nu} - \\partial_\\sigma g_{\\mu\\nu} \\right) $$"
   ]
  },
  {
   "cell_type": "code",
   "execution_count": 4,
   "id": "ee14f2fc-eb7a-4c7b-83db-47c241c1e37f",
   "metadata": {
    "tags": []
   },
   "outputs": [],
   "source": [
    "# k denota os indices contravariantes (no andar de cima), ao passo que i e j denotam os indices covariantes (no andar de baixo).\n",
    "def Gamma(k,i,j):\n",
    "    n = 0\n",
    "    GammaMatrix = 0\n",
    "    while n < rank:\n",
    "        GammaMatrix = GammaMatrix + gI[k,n]*(g[n,j].diff(X[i]) + g[n,i].diff(X[j]) - g[i,j].diff(X[n])) / 2\n",
    "        n += 1\n",
    "    return GammaMatrix"
   ]
  },
  {
   "cell_type": "markdown",
   "id": "0ccb2034-360a-4fb2-8975-60967b7fc102",
   "metadata": {
    "tags": []
   },
   "source": [
    "É útil pensar nesses objetos, os símbolos de Christoffel como 4 matrizes rotulados com o indice k = 0, 1, 2, 3, de tal forma que:"
   ]
  },
  {
   "cell_type": "code",
   "execution_count": 5,
   "id": "4fc2a054-6c77-4576-8042-7ce6ed2d6f51",
   "metadata": {
    "tags": []
   },
   "outputs": [],
   "source": [
    "# Primeiro construímos 4 matrizes com todas as componentes nulas\n",
    "ChSymb0 = zeros(rank)\n",
    "ChSymb1 = zeros(rank)\n",
    "ChSymb2 = zeros(rank)\n",
    "ChSymb3 = zeros(rank)\n",
    "ChSymb = [ChSymb0, ChSymb1, ChSymb2, ChSymb3]"
   ]
  },
  {
   "cell_type": "code",
   "execution_count": 6,
   "id": "7bbcf36e-6e8f-43a5-870b-b1ed3ed98885",
   "metadata": {
    "tags": []
   },
   "outputs": [],
   "source": [
    "# Agora preenchemos essas matrizes com as componentes não nulas para o ansätz dado em (3)\n",
    "for k in range(rank):\n",
    "    for i in range(rank):\n",
    "        for j in range(rank):\n",
    "            if Gamma(k,i,j) != 0:\n",
    "                ChSymb[k][i,j] = Gamma(k,i,j)"
   ]
  },
  {
   "cell_type": "code",
   "execution_count": 7,
   "id": "66ae3765-43c3-48ab-8a15-fec3c828e7e3",
   "metadata": {
    "tags": []
   },
   "outputs": [
    {
     "name": "stdout",
     "output_type": "stream",
     "text": [
      "+++++++++ Christoffel(0) ++++++++++++++++\n"
     ]
    },
    {
     "data": {
      "text/latex": [
       "$\\displaystyle \\left[\\begin{matrix}0 & \\frac{\\frac{d}{d r} f_{1}{\\left(r \\right)}}{2 f_{1}{\\left(r \\right)}} & 0 & 0\\\\\\frac{\\frac{d}{d r} f_{1}{\\left(r \\right)}}{2 f_{1}{\\left(r \\right)}} & 0 & 0 & 0\\\\0 & 0 & 0 & 0\\\\0 & 0 & 0 & 0\\end{matrix}\\right]$"
      ],
      "text/plain": [
       "Matrix([\n",
       "[                             0, Derivative(f1(r), r)/(2*f1(r)), 0, 0],\n",
       "[Derivative(f1(r), r)/(2*f1(r)),                              0, 0, 0],\n",
       "[                             0,                              0, 0, 0],\n",
       "[                             0,                              0, 0, 0]])"
      ]
     },
     "metadata": {},
     "output_type": "display_data"
    },
    {
     "name": "stdout",
     "output_type": "stream",
     "text": [
      " \n",
      "+++++++++ Christoffel(1) ++++++++++++++++\n"
     ]
    },
    {
     "data": {
      "text/latex": [
       "$\\displaystyle \\left[\\begin{matrix}\\frac{\\frac{d}{d r} f_{1}{\\left(r \\right)}}{2 f_{2}{\\left(r \\right)}} & 0 & 0 & 0\\\\0 & \\frac{\\frac{d}{d r} f_{2}{\\left(r \\right)}}{2 f_{2}{\\left(r \\right)}} & 0 & 0\\\\0 & 0 & - \\frac{r}{f_{2}{\\left(r \\right)}} & 0\\\\0 & 0 & 0 & - \\frac{r \\sin^{2}{\\left(th \\right)}}{f_{2}{\\left(r \\right)}}\\end{matrix}\\right]$"
      ],
      "text/plain": [
       "Matrix([\n",
       "[Derivative(f1(r), r)/(2*f2(r)),                              0,        0,                   0],\n",
       "[                             0, Derivative(f2(r), r)/(2*f2(r)),        0,                   0],\n",
       "[                             0,                              0, -r/f2(r),                   0],\n",
       "[                             0,                              0,        0, -r*sin(th)**2/f2(r)]])"
      ]
     },
     "metadata": {},
     "output_type": "display_data"
    },
    {
     "name": "stdout",
     "output_type": "stream",
     "text": [
      " \n",
      "+++++++++ Christoffel(2) ++++++++++++++++\n"
     ]
    },
    {
     "data": {
      "text/latex": [
       "$\\displaystyle \\left[\\begin{matrix}0 & 0 & 0 & 0\\\\0 & 0 & \\frac{1}{r} & 0\\\\0 & \\frac{1}{r} & 0 & 0\\\\0 & 0 & 0 & - \\sin{\\left(th \\right)} \\cos{\\left(th \\right)}\\end{matrix}\\right]$"
      ],
      "text/plain": [
       "Matrix([\n",
       "[0,   0,   0,                0],\n",
       "[0,   0, 1/r,                0],\n",
       "[0, 1/r,   0,                0],\n",
       "[0,   0,   0, -sin(th)*cos(th)]])"
      ]
     },
     "metadata": {},
     "output_type": "display_data"
    },
    {
     "name": "stdout",
     "output_type": "stream",
     "text": [
      " \n",
      "+++++++++ Christoffel(3) ++++++++++++++++\n"
     ]
    },
    {
     "data": {
      "text/latex": [
       "$\\displaystyle \\left[\\begin{matrix}0 & 0 & 0 & 0\\\\0 & 0 & 0 & \\frac{1}{r}\\\\0 & 0 & 0 & \\frac{\\cos{\\left(th \\right)}}{\\sin{\\left(th \\right)}}\\\\0 & \\frac{1}{r} & \\frac{\\cos{\\left(th \\right)}}{\\sin{\\left(th \\right)}} & 0\\end{matrix}\\right]$"
      ],
      "text/plain": [
       "Matrix([\n",
       "[0,   0,               0,               0],\n",
       "[0,   0,               0,             1/r],\n",
       "[0,   0,               0, cos(th)/sin(th)],\n",
       "[0, 1/r, cos(th)/sin(th),               0]])"
      ]
     },
     "metadata": {},
     "output_type": "display_data"
    },
    {
     "name": "stdout",
     "output_type": "stream",
     "text": [
      " \n"
     ]
    }
   ],
   "source": [
    "# Para ver o resultado explícito, fazemos\n",
    "for k in range(len(ChSymb)):\n",
    "    print(f\"+++++++++ Christoffel({k}) ++++++++++++++++\")\n",
    "    display(ChSymb[k])\n",
    "    print(\" \")"
   ]
  },
  {
   "cell_type": "markdown",
   "id": "0e5b0a5e-a0b0-4f03-9ec5-833f5dc142cf",
   "metadata": {
    "tags": []
   },
   "source": [
    "### Tensor de Riemann"
   ]
  },
  {
   "cell_type": "markdown",
   "id": "ef051241-b54e-4c56-be4e-dbeb190f02c9",
   "metadata": {
    "tags": []
   },
   "source": [
    "De posse dos simbolos de Christoffel, podemos encontrar o tensor de Riemann pela expressão\n",
    "\n",
    "$$\\tag{5} R^l_{kij} = \\partial_i \\Gamma^l_{kj} - \\partial_j \\Gamma^l_{ki} + \\Gamma^l_{ip}\\Gamma^p_{kj} -  \\Gamma^l_{jp}\\Gamma^p_{ki} $$"
   ]
  },
  {
   "cell_type": "code",
   "execution_count": 8,
   "id": "eb975dff-c2a7-4654-befe-ca690a149d02",
   "metadata": {
    "tags": []
   },
   "outputs": [],
   "source": [
    "# l é contravariante; k,i,j são covariantes\n",
    "# Aqui vamos definir a constração do produto de dois simbolos de Christoffel. Ou seja, os dois últimos termos na equação (5)\n",
    "def Contraction(l,k,i,j):\n",
    "    n = 0 \n",
    "    cont = 0 \n",
    "    while n < rank:\n",
    "        cont = cont + ChSymb[l][i,n] * ChSymb[n][k,j] - ChSymb[l][j,n] * ChSymb[n][k,i]\n",
    "        n += 1\n",
    "    return cont"
   ]
  },
  {
   "cell_type": "code",
   "execution_count": 9,
   "id": "51241635-0128-4add-bd1e-58c4e945370d",
   "metadata": {
    "tags": []
   },
   "outputs": [],
   "source": [
    "# Agora calculamos as componentes do tensor de Riemann propriamente ditas. \n",
    "def Riem(l,k,i,j):\n",
    "    n = 0\n",
    "    Riemann = 0\n",
    "    while n < rank:\n",
    "        Riemann = Riemann + ChSymb[l][k,j].diff(X[i]) - ChSymb[l][k,i].diff(X[j]) + Contraction(l,k,i,j)\n",
    "        n += 1\n",
    "    R = Riemann.simplify()\n",
    "    return R"
   ]
  },
  {
   "cell_type": "markdown",
   "id": "89eeac2e-d2b7-468c-8d33-0507a8cd9cb9",
   "metadata": {},
   "source": [
    "Com as componentes que podemos calcular usando a função acima, vamos organizar esses resultados em termos de matrizes $(R^l_k)_{ij}$"
   ]
  },
  {
   "cell_type": "code",
   "execution_count": 10,
   "id": "d62ea381-c287-4ca8-8a0b-81812a2f7cae",
   "metadata": {
    "tags": []
   },
   "outputs": [],
   "source": [
    "# Mais uma vez, definimos as matrizes e preenchemos com zeros. \n",
    "RieTen00 = zeros(rank); RieTen01 = zeros(rank); RieTen02 = zeros(rank); RieTen03 = zeros(rank)\n",
    "RieTen10 = zeros(rank); RieTen11 = zeros(rank); RieTen12 = zeros(rank); RieTen13 = zeros(rank)\n",
    "RieTen20 = zeros(rank); RieTen21 = zeros(rank); RieTen22 = zeros(rank); RieTen23 = zeros(rank)\n",
    "RieTen30 = zeros(rank); RieTen31 = zeros(rank); RieTen32 = zeros(rank); RieTen33 = zeros(rank)\n",
    "\n",
    "Rie = [[RieTen00, RieTen01, RieTen02, RieTen03], \n",
    "       [RieTen10, RieTen11, RieTen12, RieTen13],\n",
    "       [RieTen20, RieTen21, RieTen22, RieTen23],\n",
    "       [RieTen30, RieTen31, RieTen32, RieTen33]]"
   ]
  },
  {
   "cell_type": "code",
   "execution_count": 11,
   "id": "7248d1e0-d4df-4e10-b335-462f9948873c",
   "metadata": {},
   "outputs": [],
   "source": [
    "# E agora podemos preencher as componentes não nulas nas matrizes acima\n",
    "for l in range(rank):\n",
    "    for k in range(rank):\n",
    "        for i in range(rank):\n",
    "            for j in range(rank):\n",
    "                if Riem(l,k,i,j) != 0:\n",
    "                    Rie[l][k][i,j] = Riem(l,k,i,j)"
   ]
  },
  {
   "cell_type": "code",
   "execution_count": 12,
   "id": "be127f91-9e06-4334-afed-c51aca455b8b",
   "metadata": {
    "tags": []
   },
   "outputs": [
    {
     "data": {
      "text/latex": [
       "$\\displaystyle \\left[\\begin{matrix}0 & 0 & 0 & 0\\\\0 & 0 & 0 & 0\\\\0 & 0 & 0 & 0\\\\0 & 0 & 0 & 0\\end{matrix}\\right]$"
      ],
      "text/plain": [
       "Matrix([\n",
       "[0, 0, 0, 0],\n",
       "[0, 0, 0, 0],\n",
       "[0, 0, 0, 0],\n",
       "[0, 0, 0, 0]])"
      ]
     },
     "metadata": {},
     "output_type": "display_data"
    },
    {
     "data": {
      "text/latex": [
       "$\\displaystyle \\left[\\begin{matrix}0 & - \\frac{2 \\frac{d^{2}}{d r^{2}} f_{1}{\\left(r \\right)}}{f_{1}{\\left(r \\right)}} + \\frac{\\frac{d}{d r} f_{1}{\\left(r \\right)} \\frac{d}{d r} f_{2}{\\left(r \\right)}}{f_{1}{\\left(r \\right)} f_{2}{\\left(r \\right)}} + \\frac{\\left(\\frac{d}{d r} f_{1}{\\left(r \\right)}\\right)^{2}}{f_{1}^{2}{\\left(r \\right)}} & 0 & 0\\\\\\frac{2 \\frac{d^{2}}{d r^{2}} f_{1}{\\left(r \\right)}}{f_{1}{\\left(r \\right)}} - \\frac{\\frac{d}{d r} f_{1}{\\left(r \\right)} \\frac{d}{d r} f_{2}{\\left(r \\right)}}{f_{1}{\\left(r \\right)} f_{2}{\\left(r \\right)}} - \\frac{\\left(\\frac{d}{d r} f_{1}{\\left(r \\right)}\\right)^{2}}{f_{1}^{2}{\\left(r \\right)}} & 0 & 0 & 0\\\\0 & 0 & 0 & 0\\\\0 & 0 & 0 & 0\\end{matrix}\\right]$"
      ],
      "text/plain": [
       "Matrix([\n",
       "[                                                                                                                             0, -2*Derivative(f1(r), (r, 2))/f1(r) + Derivative(f1(r), r)*Derivative(f2(r), r)/(f1(r)*f2(r)) + Derivative(f1(r), r)**2/f1(r)**2, 0, 0],\n",
       "[2*Derivative(f1(r), (r, 2))/f1(r) - Derivative(f1(r), r)*Derivative(f2(r), r)/(f1(r)*f2(r)) - Derivative(f1(r), r)**2/f1(r)**2,                                                                                                                               0, 0, 0],\n",
       "[                                                                                                                             0,                                                                                                                               0, 0, 0],\n",
       "[                                                                                                                             0,                                                                                                                               0, 0, 0]])"
      ]
     },
     "metadata": {},
     "output_type": "display_data"
    },
    {
     "data": {
      "text/latex": [
       "$\\displaystyle \\left[\\begin{matrix}0 & 0 & - \\frac{2 r \\frac{d}{d r} f_{1}{\\left(r \\right)}}{f_{1}{\\left(r \\right)} f_{2}{\\left(r \\right)}} & 0\\\\0 & 0 & 0 & 0\\\\\\frac{2 r \\frac{d}{d r} f_{1}{\\left(r \\right)}}{f_{1}{\\left(r \\right)} f_{2}{\\left(r \\right)}} & 0 & 0 & 0\\\\0 & 0 & 0 & 0\\end{matrix}\\right]$"
      ],
      "text/plain": [
       "Matrix([\n",
       "[                                     0, 0, -2*r*Derivative(f1(r), r)/(f1(r)*f2(r)), 0],\n",
       "[                                     0, 0,                                       0, 0],\n",
       "[2*r*Derivative(f1(r), r)/(f1(r)*f2(r)), 0,                                       0, 0],\n",
       "[                                     0, 0,                                       0, 0]])"
      ]
     },
     "metadata": {},
     "output_type": "display_data"
    },
    {
     "data": {
      "text/latex": [
       "$\\displaystyle \\left[\\begin{matrix}0 & 0 & 0 & - \\frac{2 r \\sin^{2}{\\left(th \\right)} \\frac{d}{d r} f_{1}{\\left(r \\right)}}{f_{1}{\\left(r \\right)} f_{2}{\\left(r \\right)}}\\\\0 & 0 & 0 & 0\\\\0 & 0 & 0 & 0\\\\\\frac{2 r \\sin^{2}{\\left(th \\right)} \\frac{d}{d r} f_{1}{\\left(r \\right)}}{f_{1}{\\left(r \\right)} f_{2}{\\left(r \\right)}} & 0 & 0 & 0\\end{matrix}\\right]$"
      ],
      "text/plain": [
       "Matrix([\n",
       "[                                                0, 0, 0, -2*r*sin(th)**2*Derivative(f1(r), r)/(f1(r)*f2(r))],\n",
       "[                                                0, 0, 0,                                                  0],\n",
       "[                                                0, 0, 0,                                                  0],\n",
       "[2*r*sin(th)**2*Derivative(f1(r), r)/(f1(r)*f2(r)), 0, 0,                                                  0]])"
      ]
     },
     "metadata": {},
     "output_type": "display_data"
    },
    {
     "data": {
      "text/latex": [
       "$\\displaystyle \\left[\\begin{matrix}0 & - \\frac{2 \\frac{d^{2}}{d r^{2}} f_{1}{\\left(r \\right)}}{f_{2}{\\left(r \\right)}} + \\frac{\\frac{d}{d r} f_{1}{\\left(r \\right)} \\frac{d}{d r} f_{2}{\\left(r \\right)}}{f_{2}^{2}{\\left(r \\right)}} + \\frac{\\left(\\frac{d}{d r} f_{1}{\\left(r \\right)}\\right)^{2}}{f_{1}{\\left(r \\right)} f_{2}{\\left(r \\right)}} & 0 & 0\\\\\\frac{2 \\frac{d^{2}}{d r^{2}} f_{1}{\\left(r \\right)}}{f_{2}{\\left(r \\right)}} - \\frac{\\frac{d}{d r} f_{1}{\\left(r \\right)} \\frac{d}{d r} f_{2}{\\left(r \\right)}}{f_{2}^{2}{\\left(r \\right)}} - \\frac{\\left(\\frac{d}{d r} f_{1}{\\left(r \\right)}\\right)^{2}}{f_{1}{\\left(r \\right)} f_{2}{\\left(r \\right)}} & 0 & 0 & 0\\\\0 & 0 & 0 & 0\\\\0 & 0 & 0 & 0\\end{matrix}\\right]$"
      ],
      "text/plain": [
       "Matrix([\n",
       "[                                                                                                                             0, -2*Derivative(f1(r), (r, 2))/f2(r) + Derivative(f1(r), r)*Derivative(f2(r), r)/f2(r)**2 + Derivative(f1(r), r)**2/(f1(r)*f2(r)), 0, 0],\n",
       "[2*Derivative(f1(r), (r, 2))/f2(r) - Derivative(f1(r), r)*Derivative(f2(r), r)/f2(r)**2 - Derivative(f1(r), r)**2/(f1(r)*f2(r)),                                                                                                                               0, 0, 0],\n",
       "[                                                                                                                             0,                                                                                                                               0, 0, 0],\n",
       "[                                                                                                                             0,                                                                                                                               0, 0, 0]])"
      ]
     },
     "metadata": {},
     "output_type": "display_data"
    },
    {
     "data": {
      "text/latex": [
       "$\\displaystyle \\left[\\begin{matrix}0 & 0 & 0 & 0\\\\0 & 0 & 0 & 0\\\\0 & 0 & 0 & 0\\\\0 & 0 & 0 & 0\\end{matrix}\\right]$"
      ],
      "text/plain": [
       "Matrix([\n",
       "[0, 0, 0, 0],\n",
       "[0, 0, 0, 0],\n",
       "[0, 0, 0, 0],\n",
       "[0, 0, 0, 0]])"
      ]
     },
     "metadata": {},
     "output_type": "display_data"
    },
    {
     "data": {
      "text/latex": [
       "$\\displaystyle \\left[\\begin{matrix}0 & 0 & 0 & 0\\\\0 & 0 & \\frac{2 r \\frac{d}{d r} f_{2}{\\left(r \\right)}}{f_{2}^{2}{\\left(r \\right)}} & 0\\\\0 & - \\frac{2 r \\frac{d}{d r} f_{2}{\\left(r \\right)}}{f_{2}^{2}{\\left(r \\right)}} & 0 & 0\\\\0 & 0 & 0 & 0\\end{matrix}\\right]$"
      ],
      "text/plain": [
       "Matrix([\n",
       "[0,                                  0,                                 0, 0],\n",
       "[0,                                  0, 2*r*Derivative(f2(r), r)/f2(r)**2, 0],\n",
       "[0, -2*r*Derivative(f2(r), r)/f2(r)**2,                                 0, 0],\n",
       "[0,                                  0,                                 0, 0]])"
      ]
     },
     "metadata": {},
     "output_type": "display_data"
    },
    {
     "data": {
      "text/latex": [
       "$\\displaystyle \\left[\\begin{matrix}0 & 0 & 0 & 0\\\\0 & 0 & 0 & \\frac{2 r \\sin^{2}{\\left(th \\right)} \\frac{d}{d r} f_{2}{\\left(r \\right)}}{f_{2}^{2}{\\left(r \\right)}}\\\\0 & 0 & 0 & 0\\\\0 & - \\frac{2 r \\sin^{2}{\\left(th \\right)} \\frac{d}{d r} f_{2}{\\left(r \\right)}}{f_{2}^{2}{\\left(r \\right)}} & 0 & 0\\end{matrix}\\right]$"
      ],
      "text/plain": [
       "Matrix([\n",
       "[0,                                             0, 0,                                            0],\n",
       "[0,                                             0, 0, 2*r*sin(th)**2*Derivative(f2(r), r)/f2(r)**2],\n",
       "[0,                                             0, 0,                                            0],\n",
       "[0, -2*r*sin(th)**2*Derivative(f2(r), r)/f2(r)**2, 0,                                            0]])"
      ]
     },
     "metadata": {},
     "output_type": "display_data"
    },
    {
     "data": {
      "text/latex": [
       "$\\displaystyle \\left[\\begin{matrix}0 & 0 & - \\frac{2 \\frac{d}{d r} f_{1}{\\left(r \\right)}}{r f_{2}{\\left(r \\right)}} & 0\\\\0 & 0 & 0 & 0\\\\\\frac{2 \\frac{d}{d r} f_{1}{\\left(r \\right)}}{r f_{2}{\\left(r \\right)}} & 0 & 0 & 0\\\\0 & 0 & 0 & 0\\end{matrix}\\right]$"
      ],
      "text/plain": [
       "Matrix([\n",
       "[                               0, 0, -2*Derivative(f1(r), r)/(r*f2(r)), 0],\n",
       "[                               0, 0,                                 0, 0],\n",
       "[2*Derivative(f1(r), r)/(r*f2(r)), 0,                                 0, 0],\n",
       "[                               0, 0,                                 0, 0]])"
      ]
     },
     "metadata": {},
     "output_type": "display_data"
    },
    {
     "data": {
      "text/latex": [
       "$\\displaystyle \\left[\\begin{matrix}0 & 0 & 0 & 0\\\\0 & 0 & - \\frac{2 \\frac{d}{d r} f_{2}{\\left(r \\right)}}{r f_{2}{\\left(r \\right)}} & 0\\\\0 & \\frac{2 \\frac{d}{d r} f_{2}{\\left(r \\right)}}{r f_{2}{\\left(r \\right)}} & 0 & 0\\\\0 & 0 & 0 & 0\\end{matrix}\\right]$"
      ],
      "text/plain": [
       "Matrix([\n",
       "[0,                                0,                                 0, 0],\n",
       "[0,                                0, -2*Derivative(f2(r), r)/(r*f2(r)), 0],\n",
       "[0, 2*Derivative(f2(r), r)/(r*f2(r)),                                 0, 0],\n",
       "[0,                                0,                                 0, 0]])"
      ]
     },
     "metadata": {},
     "output_type": "display_data"
    },
    {
     "data": {
      "text/latex": [
       "$\\displaystyle \\left[\\begin{matrix}0 & 0 & 0 & 0\\\\0 & 0 & 0 & 0\\\\0 & 0 & 0 & 0\\\\0 & 0 & 0 & 0\\end{matrix}\\right]$"
      ],
      "text/plain": [
       "Matrix([\n",
       "[0, 0, 0, 0],\n",
       "[0, 0, 0, 0],\n",
       "[0, 0, 0, 0],\n",
       "[0, 0, 0, 0]])"
      ]
     },
     "metadata": {},
     "output_type": "display_data"
    },
    {
     "data": {
      "text/latex": [
       "$\\displaystyle \\left[\\begin{matrix}0 & 0 & 0 & 0\\\\0 & 0 & 0 & 0\\\\0 & 0 & 0 & \\frac{4 \\left(f_{2}{\\left(r \\right)} - 1\\right) \\sin^{2}{\\left(th \\right)}}{f_{2}{\\left(r \\right)}}\\\\0 & 0 & \\frac{4 \\cdot \\left(1 - f_{2}{\\left(r \\right)}\\right) \\sin^{2}{\\left(th \\right)}}{f_{2}{\\left(r \\right)}} & 0\\end{matrix}\\right]$"
      ],
      "text/plain": [
       "Matrix([\n",
       "[0, 0,                              0,                              0],\n",
       "[0, 0,                              0,                              0],\n",
       "[0, 0,                              0, 4*(f2(r) - 1)*sin(th)**2/f2(r)],\n",
       "[0, 0, 4*(1 - f2(r))*sin(th)**2/f2(r),                              0]])"
      ]
     },
     "metadata": {},
     "output_type": "display_data"
    },
    {
     "data": {
      "text/latex": [
       "$\\displaystyle \\left[\\begin{matrix}0 & 0 & 0 & - \\frac{2 \\frac{d}{d r} f_{1}{\\left(r \\right)}}{r f_{2}{\\left(r \\right)}}\\\\0 & 0 & 0 & 0\\\\0 & 0 & 0 & 0\\\\\\frac{2 \\frac{d}{d r} f_{1}{\\left(r \\right)}}{r f_{2}{\\left(r \\right)}} & 0 & 0 & 0\\end{matrix}\\right]$"
      ],
      "text/plain": [
       "Matrix([\n",
       "[                               0, 0, 0, -2*Derivative(f1(r), r)/(r*f2(r))],\n",
       "[                               0, 0, 0,                                 0],\n",
       "[                               0, 0, 0,                                 0],\n",
       "[2*Derivative(f1(r), r)/(r*f2(r)), 0, 0,                                 0]])"
      ]
     },
     "metadata": {},
     "output_type": "display_data"
    },
    {
     "data": {
      "text/latex": [
       "$\\displaystyle \\left[\\begin{matrix}0 & 0 & 0 & 0\\\\0 & 0 & 0 & - \\frac{2 \\frac{d}{d r} f_{2}{\\left(r \\right)}}{r f_{2}{\\left(r \\right)}}\\\\0 & 0 & 0 & 0\\\\0 & \\frac{2 \\frac{d}{d r} f_{2}{\\left(r \\right)}}{r f_{2}{\\left(r \\right)}} & 0 & 0\\end{matrix}\\right]$"
      ],
      "text/plain": [
       "Matrix([\n",
       "[0,                                0, 0,                                 0],\n",
       "[0,                                0, 0, -2*Derivative(f2(r), r)/(r*f2(r))],\n",
       "[0,                                0, 0,                                 0],\n",
       "[0, 2*Derivative(f2(r), r)/(r*f2(r)), 0,                                 0]])"
      ]
     },
     "metadata": {},
     "output_type": "display_data"
    },
    {
     "data": {
      "text/latex": [
       "$\\displaystyle \\left[\\begin{matrix}0 & 0 & 0 & 0\\\\0 & 0 & 0 & 0\\\\0 & 0 & 0 & -4 + \\frac{4}{f_{2}{\\left(r \\right)}}\\\\0 & 0 & 4 - \\frac{4}{f_{2}{\\left(r \\right)}} & 0\\end{matrix}\\right]$"
      ],
      "text/plain": [
       "Matrix([\n",
       "[0, 0,           0,            0],\n",
       "[0, 0,           0,            0],\n",
       "[0, 0,           0, -4 + 4/f2(r)],\n",
       "[0, 0, 4 - 4/f2(r),            0]])"
      ]
     },
     "metadata": {},
     "output_type": "display_data"
    },
    {
     "data": {
      "text/latex": [
       "$\\displaystyle \\left[\\begin{matrix}0 & 0 & 0 & 0\\\\0 & 0 & 0 & 0\\\\0 & 0 & 0 & 0\\\\0 & 0 & 0 & 0\\end{matrix}\\right]$"
      ],
      "text/plain": [
       "Matrix([\n",
       "[0, 0, 0, 0],\n",
       "[0, 0, 0, 0],\n",
       "[0, 0, 0, 0],\n",
       "[0, 0, 0, 0]])"
      ]
     },
     "metadata": {},
     "output_type": "display_data"
    }
   ],
   "source": [
    "# Para ver o resultado explícito, fazemos\n",
    "for l in range(rank):\n",
    "    for k in range(rank):\n",
    "        display(Rie[l][k])"
   ]
  },
  {
   "cell_type": "markdown",
   "id": "cb31cdb2-7c27-4bd5-9164-09f297a4f44c",
   "metadata": {
    "tags": []
   },
   "source": [
    "### Tensor de Ricci"
   ]
  },
  {
   "cell_type": "markdown",
   "id": "8b153709-d1b6-4a5e-a81c-93090148efd0",
   "metadata": {},
   "source": [
    "Finalmente, podemos calcular o tensor de Ricci como \n",
    "$$\\tag{6} R_{ij} = R^k_{ikj}$$"
   ]
  },
  {
   "cell_type": "code",
   "execution_count": 13,
   "id": "11ab99b1-dfad-4f8e-93cb-6523803163de",
   "metadata": {
    "tags": []
   },
   "outputs": [],
   "source": [
    "def Ricci(i,j):\n",
    "    ricc = 0\n",
    "    n = 0\n",
    "    for k in range(rank):\n",
    "        ricc = ricc + Rie[k][i][k,j]\n",
    "        r = (ricc/4).simplify() # Esse 4 remove as redundancias nas nossas contas\n",
    "    return r"
   ]
  },
  {
   "cell_type": "code",
   "execution_count": 14,
   "id": "2d08f0f0-a81e-4b81-ae4b-ba0316f05267",
   "metadata": {
    "tags": []
   },
   "outputs": [],
   "source": [
    "Ric = [Ricci(i,j).simplify() for i in range(rank) for j in range(rank) if Ricci(i,j) != 0]"
   ]
  },
  {
   "cell_type": "code",
   "execution_count": 15,
   "id": "db0262d8-ad2f-42d0-b49c-bc1d5c1d2a88",
   "metadata": {
    "tags": []
   },
   "outputs": [
    {
     "data": {
      "text/plain": [
       "4"
      ]
     },
     "execution_count": 15,
     "metadata": {},
     "output_type": "execute_result"
    }
   ],
   "source": [
    "len(Ric)"
   ]
  },
  {
   "cell_type": "code",
   "execution_count": 16,
   "id": "e4d5c83f-108d-4a65-b05e-f50dd55dcc9f",
   "metadata": {
    "tags": []
   },
   "outputs": [
    {
     "name": "stdout",
     "output_type": "stream",
     "text": [
      "+++++++++ Ricci(0,0) ++++++++++++++++\n"
     ]
    },
    {
     "data": {
      "text/latex": [
       "$\\displaystyle \\frac{\\frac{d^{2}}{d r^{2}} f_{1}{\\left(r \\right)}}{2 f_{2}{\\left(r \\right)}} - \\frac{\\frac{d}{d r} f_{1}{\\left(r \\right)} \\frac{d}{d r} f_{2}{\\left(r \\right)}}{4 f_{2}^{2}{\\left(r \\right)}} - \\frac{\\left(\\frac{d}{d r} f_{1}{\\left(r \\right)}\\right)^{2}}{4 f_{1}{\\left(r \\right)} f_{2}{\\left(r \\right)}} + \\frac{\\frac{d}{d r} f_{1}{\\left(r \\right)}}{r f_{2}{\\left(r \\right)}}$"
      ],
      "text/plain": [
       "Derivative(f1(r), (r, 2))/(2*f2(r)) - Derivative(f1(r), r)*Derivative(f2(r), r)/(4*f2(r)**2) - Derivative(f1(r), r)**2/(4*f1(r)*f2(r)) + Derivative(f1(r), r)/(r*f2(r))"
      ]
     },
     "metadata": {},
     "output_type": "display_data"
    },
    {
     "name": "stdout",
     "output_type": "stream",
     "text": [
      " \n",
      "+++++++++ Ricci(1,1) ++++++++++++++++\n"
     ]
    },
    {
     "data": {
      "text/latex": [
       "$\\displaystyle - \\frac{\\frac{d^{2}}{d r^{2}} f_{1}{\\left(r \\right)}}{2 f_{1}{\\left(r \\right)}} + \\frac{\\frac{d}{d r} f_{1}{\\left(r \\right)} \\frac{d}{d r} f_{2}{\\left(r \\right)}}{4 f_{1}{\\left(r \\right)} f_{2}{\\left(r \\right)}} + \\frac{\\left(\\frac{d}{d r} f_{1}{\\left(r \\right)}\\right)^{2}}{4 f_{1}^{2}{\\left(r \\right)}} + \\frac{\\frac{d}{d r} f_{2}{\\left(r \\right)}}{r f_{2}{\\left(r \\right)}}$"
      ],
      "text/plain": [
       "-Derivative(f1(r), (r, 2))/(2*f1(r)) + Derivative(f1(r), r)*Derivative(f2(r), r)/(4*f1(r)*f2(r)) + Derivative(f1(r), r)**2/(4*f1(r)**2) + Derivative(f2(r), r)/(r*f2(r))"
      ]
     },
     "metadata": {},
     "output_type": "display_data"
    },
    {
     "name": "stdout",
     "output_type": "stream",
     "text": [
      " \n",
      "+++++++++ Ricci(2,2) ++++++++++++++++\n"
     ]
    },
    {
     "data": {
      "text/latex": [
       "$\\displaystyle \\frac{r \\frac{d}{d r} f_{2}{\\left(r \\right)}}{2 f_{2}^{2}{\\left(r \\right)}} - \\frac{r \\frac{d}{d r} f_{1}{\\left(r \\right)}}{2 f_{1}{\\left(r \\right)} f_{2}{\\left(r \\right)}} + 1 - \\frac{1}{f_{2}{\\left(r \\right)}}$"
      ],
      "text/plain": [
       "r*Derivative(f2(r), r)/(2*f2(r)**2) - r*Derivative(f1(r), r)/(2*f1(r)*f2(r)) + 1 - 1/f2(r)"
      ]
     },
     "metadata": {},
     "output_type": "display_data"
    },
    {
     "name": "stdout",
     "output_type": "stream",
     "text": [
      " \n",
      "+++++++++ Ricci(3,3) ++++++++++++++++\n"
     ]
    },
    {
     "data": {
      "text/latex": [
       "$\\displaystyle \\frac{\\left(r f_{1}{\\left(r \\right)} \\frac{d}{d r} f_{2}{\\left(r \\right)} - r f_{2}{\\left(r \\right)} \\frac{d}{d r} f_{1}{\\left(r \\right)} + 2 \\left(f_{2}{\\left(r \\right)} - 1\\right) f_{1}{\\left(r \\right)} f_{2}{\\left(r \\right)}\\right) \\sin^{2}{\\left(th \\right)}}{2 f_{1}{\\left(r \\right)} f_{2}^{2}{\\left(r \\right)}}$"
      ],
      "text/plain": [
       "(r*f1(r)*Derivative(f2(r), r) - r*f2(r)*Derivative(f1(r), r) + 2*(f2(r) - 1)*f1(r)*f2(r))*sin(th)**2/(2*f1(r)*f2(r)**2)"
      ]
     },
     "metadata": {},
     "output_type": "display_data"
    },
    {
     "name": "stdout",
     "output_type": "stream",
     "text": [
      " \n"
     ]
    }
   ],
   "source": [
    "# Para ver o resultado explícito, fazemos\n",
    "for k in range(len(Ric)):\n",
    "    print(f\"+++++++++ Ricci({k},{k}) ++++++++++++++++\")\n",
    "    display(Ric[k])\n",
    "    print(\" \")"
   ]
  },
  {
   "cell_type": "markdown",
   "id": "2780e825-cf30-4c90-969d-d6b41215d27d",
   "metadata": {
    "tags": []
   },
   "source": [
    "### Equação de Einstein"
   ]
  },
  {
   "cell_type": "markdown",
   "id": "3c432c5e-a37b-4d83-9831-8a0badab7e8d",
   "metadata": {},
   "source": [
    "1) Primeiro, observe os tensores de Ricci que acabamos de calcular devem ser nulos pela equação de campo de Einstein (1). Além disso, apenas 3 equações são independentes. É simples verificar que \n",
    "$$\\tag{7} R_{33} - sin^2\\theta R_{2,2} = 0 $$"
   ]
  },
  {
   "cell_type": "code",
   "execution_count": 17,
   "id": "d3626e06-1e52-4f02-94ba-89e4187aaa20",
   "metadata": {
    "tags": []
   },
   "outputs": [
    {
     "data": {
      "text/latex": [
       "$\\displaystyle 0$"
      ],
      "text/plain": [
       "0"
      ]
     },
     "execution_count": 17,
     "metadata": {},
     "output_type": "execute_result"
    }
   ],
   "source": [
    "(Ric[3] - Ric[2]*(sin(th)**2)).simplify()"
   ]
  },
  {
   "cell_type": "markdown",
   "id": "937d3ed0-3787-4cf4-92be-37adf3940099",
   "metadata": {},
   "source": [
    "Então podemos concentrar nossa atenção nas 3 primeiras equações"
   ]
  },
  {
   "cell_type": "markdown",
   "id": "95a36cb1-88a4-439b-8f99-0fba92a56f03",
   "metadata": {},
   "source": [
    "2. Observe agora que as 2 primeiras equações possuem uma estrutura muito semelhante, então faremos a operação a seguir \n",
    "\n",
    "$$ \\tag{8} f_1 f_2^2 R_{00} - f_1^2 f_2 R_{11} = 0 $$"
   ]
  },
  {
   "cell_type": "code",
   "execution_count": 18,
   "id": "37fb313f-536a-4e72-a589-7513e23967b4",
   "metadata": {
    "tags": []
   },
   "outputs": [
    {
     "data": {
      "text/latex": [
       "$\\displaystyle \\frac{\\left(f_{1}{\\left(r \\right)} \\frac{d}{d r} f_{2}{\\left(r \\right)} + f_{2}{\\left(r \\right)} \\frac{d}{d r} f_{1}{\\left(r \\right)}\\right) f_{1}{\\left(r \\right)}}{r}$"
      ],
      "text/plain": [
       "(f1(r)*Derivative(f2(r), r) + f2(r)*Derivative(f1(r), r))*f1(r)/r"
      ]
     },
     "execution_count": 18,
     "metadata": {},
     "output_type": "execute_result"
    }
   ],
   "source": [
    "((f1*f2**2)*Ric[0] + (f2*f1**2)*Ric[1]).simplify()"
   ]
  },
  {
   "cell_type": "markdown",
   "id": "f49890f8-19f2-46a2-ac11-0f9fcd45cd85",
   "metadata": {},
   "source": [
    "de onde concluímos que \n",
    "$$  \\tag{9} \\frac{d}{dr}(f_1 f_2) = 0 \\quad \\Rightarrow \\quad f_2 = \\frac{c_0}{f_1}  $$\n",
    "onde $c_0$ é uma constante. "
   ]
  },
  {
   "cell_type": "markdown",
   "id": "33364fe6-c67c-4ef4-95dd-c663030f89a0",
   "metadata": {},
   "source": [
    "3. Agora vamos usar essa condição na equação \n",
    "$$ \\tag{10} R_{22} = 0 $$"
   ]
  },
  {
   "cell_type": "code",
   "execution_count": 19,
   "id": "da0c20e4-531c-4db2-b366-379af26f9a00",
   "metadata": {
    "tags": []
   },
   "outputs": [
    {
     "data": {
      "text/latex": [
       "$\\displaystyle \\frac{r \\frac{d}{d r} f_{2}{\\left(r \\right)}}{2 f_{2}^{2}{\\left(r \\right)}} - \\frac{r \\frac{d}{d r} f_{1}{\\left(r \\right)}}{2 f_{1}{\\left(r \\right)} f_{2}{\\left(r \\right)}} + 1 - \\frac{1}{f_{2}{\\left(r \\right)}}$"
      ],
      "text/plain": [
       "r*Derivative(f2(r), r)/(2*f2(r)**2) - r*Derivative(f1(r), r)/(2*f1(r)*f2(r)) + 1 - 1/f2(r)"
      ]
     },
     "execution_count": 19,
     "metadata": {},
     "output_type": "execute_result"
    }
   ],
   "source": [
    "(Ric[2]).simplify()"
   ]
  },
  {
   "cell_type": "code",
   "execution_count": 20,
   "id": "1e10e21b-2ae5-4735-9a26-c2dec7181c52",
   "metadata": {
    "tags": []
   },
   "outputs": [
    {
     "data": {
      "text/latex": [
       "$\\displaystyle - 4 r \\frac{d}{d r} f_{1}{\\left(r \\right)} - 4 f_{1}{\\left(r \\right)} + 4$"
      ],
      "text/plain": [
       "-4*r*Derivative(f1(r), r) - 4*f1(r) + 4"
      ]
     },
     "execution_count": 20,
     "metadata": {},
     "output_type": "execute_result"
    }
   ],
   "source": [
    "((2*r*(f1**(-1)).diff(r))*(f1**2) - 2*r*f1.diff(r) + 4 - 4*(f1)).simplify()"
   ]
  },
  {
   "cell_type": "markdown",
   "id": "9b22ee45-880e-4998-b910-465f22d66f9d",
   "metadata": {
    "tags": []
   },
   "source": [
    "e a solução dessa expressão é dada por \n",
    "\n",
    "$$\\tag{11} f_1 = \\frac{1}{f_2} = 1 - \\frac{2 G M}{c^2 r}$$"
   ]
  },
  {
   "cell_type": "code",
   "execution_count": 21,
   "id": "1d838467-5931-4592-bfde-5babce7d794d",
   "metadata": {
    "tags": []
   },
   "outputs": [],
   "source": [
    "f = 1 - 2*G*M*(((c**2)*r)**(-1))\n",
    "fi = f**(-1)"
   ]
  },
  {
   "cell_type": "code",
   "execution_count": 22,
   "id": "0d198bbc-20e9-4a8f-8184-99525e1c046f",
   "metadata": {
    "tags": []
   },
   "outputs": [
    {
     "data": {
      "text/latex": [
       "$\\displaystyle 0$"
      ],
      "text/plain": [
       "0"
      ]
     },
     "execution_count": 22,
     "metadata": {},
     "output_type": "execute_result"
    }
   ],
   "source": [
    "r*(f.diff(r))+f-1"
   ]
  },
  {
   "cell_type": "markdown",
   "id": "f67ebade-a71a-4b03-b01b-7d094565edf9",
   "metadata": {
    "jp-MarkdownHeadingCollapsed": true,
    "tags": []
   },
   "source": [
    "## Transformações Gerais de Coordenadas: Similaridades com o eletromagnetismo"
   ]
  },
  {
   "cell_type": "markdown",
   "id": "f37273cd-a967-43a3-913a-fa0de5bd6d57",
   "metadata": {
    "tags": []
   },
   "source": [
    "Relembrando agora o caso da teoria eletromagnética, temos que (classicamente) os campos físicos mensuráveis são os campos elétrico \n",
    "$\\vec{E}$ e magnético $\\vec{B}$, que escritos em termos dos potenciais escalar $\\phi$ e vetor $\\vec{A}$ são\n",
    "\n",
    "$$\\tag{12} \\vec{E} = - \\nabla \\phi - \\frac{d}{dt}\\vec{A} \\qquad \\vec{B} = \\nabla \\times \\vec{A}  $$\n",
    "\n",
    "E é simples verificar que os campos acima são invariantes pelas transformações de gauge (ou calibre) dadas por \n",
    "\n",
    "$$\\tag{13} \\phi \\mapsto \\phi' = \\phi - \\frac{d}{dt}\\alpha \\qquad \\vec{A} \\mapsto \\vec{A}' = \\vec{A} + \\nabla \\alpha $$\n",
    "\n",
    "onde $\\alpha = \\alpha(t, \\vec{r})$ é uma função diferenciável genérica. Como o parâmetro $\\alpha$ é uma função do espaço-tempo, dizemos que essa é uma transformação local. O 'punchline' de toda essa discussão é: *Apenas quantidades que são invariantes pelas transformações de gauge são quantidades mensuráveis.* Vamos manter isso em mente agora. "
   ]
  },
  {
   "cell_type": "markdown",
   "id": "47e3df08-6a4d-4b46-8ae4-e24603d927a6",
   "metadata": {},
   "source": [
    "Sabemos pela discussão inicial do estudo da relatividade geral, que também temos uma simetria local, a simetria de Difeomorfismo, que nós físicos chamamos de **transformações gerais de coordenadas**. Isso significa que podemos modificar as nossas coordenadas de tal forma que as quantidades físicas relevantes são inalteradas, ou se transformam de modo previsível. Isso é apenas o reflexo de que o Universo não vem dotado de um sistema de coordenadas -- Isso é uma construção humana. No entanto, existe uma noção de curvatura e quantidades relacionadas. Essa é a ideia da relatividade geral. De toda forma, sistemas de coordenadas relacionados por \n",
    "\n",
    "$$ \\tag{14} x^\\mu \\mapsto y^\\sigma = y^\\sigma(x) \\qquad \\Rightarrow \\quad ds^2 = g_{\\mu\\nu} dx^\\mu dx^\\nu = g_{\\mu\\nu} \\frac{\\partial x^\\mu}{\\partial y^\\sigma} \\frac{\\partial x^\\nu}{\\partial y^\\lambda} dy^\\sigma dy^\\lambda $$\n",
    "\n",
    "conduzem a mesma física. De fato, todos os objetos que consideramos até agora são tensores com relação à essas transformações. \n",
    "\n",
    "Ora, nesse aspecto, essas transformações são similares às simetrias de gauge no caso do eletromagnetismo (e de outras teorias de gauge que eventualmente encontraremos). Isso significa, também, que a métrica é, em geral, um retalho (patch) do espaço que descreve localmente o que está acontecendo numa determinada região do espaço-tempo, e que os resultados que obtemos nesse retalho devem ser cuidadosamente comparadas com outros sistemas de coordenadas.\n",
    "\n",
    "Em outras palavras, devemos construir quantidades que não dependam do sistema de coordenadas. Uma dessas quantidades é, evidentemente, o escalar de curvatura $R = g^{\\mu\\nu} R_{\\mu\\nu}$. No caso dos espaços que satisfazem a equação (1), o escalar de curvatura \n",
    "\n",
    "$$ \\tag{15} R = 4 \\Lambda $$\n",
    "\n",
    "O estudo de invariantes é fundamental na análise de divergencias na métrica. Caso a divergência esteja presente no invariante,  não importa o sistema de coordenadas escolhidos, a divergência sempre aparecerá. Nesse caso dizemos que o ponto é uma singularidade. Caso a singularidade não esteja presente nos invariantes, então a divergência é um artefato do sistema de coordenadas.\n",
    "\n",
    "O espaço de Schwarzschild é uma solução plana $R_{\\mu\\nu}=0$, portanto o escalar de curvatura é nulo, portanto, não é um bom invariante. Analisaremos o escalar de Kretschmann na seção abaixo. "
   ]
  },
  {
   "cell_type": "markdown",
   "id": "71100862-b692-4b33-977d-8b407f0bdbb6",
   "metadata": {
    "jp-MarkdownHeadingCollapsed": true,
    "tags": []
   },
   "source": [
    "## Escalar de Kretschmann"
   ]
  },
  {
   "cell_type": "markdown",
   "id": "5c922435-964b-4557-b717-d3bd072cd833",
   "metadata": {},
   "source": [
    "Com a análise anterior, concluímos que a metrica é dada por\n",
    "\n",
    "$$ \\tag{16} ds^2 = -\\left(1 - \\frac{2 G M}{c^2 r}\\right) c^2 dt^2 + \\frac{dr^2}{\\left(1 - \\frac{2 G M}{c^2 r}\\right)} + r^2 d\\theta^2 + r^2 \\sin^2\\theta d\\phi^2 $$"
   ]
  },
  {
   "cell_type": "markdown",
   "id": "7f061c35-6c0f-431b-add7-021cc5098928",
   "metadata": {},
   "source": [
    "A solução acima tem dois pontos onde a métrica diverge. O primeiro é dado pelo ponto \n",
    "\n",
    "$$ \\tag{17} R_s = \\frac{2GM}{c^2}$$\n",
    "\n",
    "que é chamado de **Raio de Schwarzschild**, enquanto que o segundo ponto é dado pelo ponto $r=0$."
   ]
  },
  {
   "cell_type": "markdown",
   "id": "e990d8c9-1aca-43b1-a810-f10aa9d1a5dd",
   "metadata": {},
   "source": [
    "Usando esse racional, podemos analisar a natureza dessa métrica estudando o escalar de Kretschmann, que é dado por\n",
    "\n",
    "$$ \\tag{18} K = R^{m_0 n_0 p_0 q_0} R_{m_0 n_0 p_0 q_0} = g_{m_0 m_1} g^{n_0 n_1} g^{p_0 p_1} g^{q_0 q_1} R^{m_0}_{n_1 p_1 q_1} R^{m_1}_{n_0 p_0 q_0} $$"
   ]
  },
  {
   "cell_type": "code",
   "execution_count": 23,
   "id": "c5076e12-1ec1-44b4-b56e-4e96685982a1",
   "metadata": {
    "tags": []
   },
   "outputs": [],
   "source": [
    "indices = list(product([0,1,2,3], repeat=2))\n",
    "def Kr():\n",
    "    K = 0\n",
    "    for m in indices:\n",
    "        for n in indices:\n",
    "            for p in indices: \n",
    "                for q in indices:\n",
    "                    K += g[m[0],m[1]] * gI[n[0],n[1]] * gI[p[0],p[1]] * gI[q[0],q[1]] * Rie[m[0]][n[1]][p[1], q[1]] * Rie[m[1]][n[0]][p[0],q[0]]\n",
    "    K = K.simplify() / 16 # Esse 16 corrige as redundancias que o 'for loop' gera nessas contas\n",
    "    return K"
   ]
  },
  {
   "cell_type": "code",
   "execution_count": 24,
   "id": "5eb6de05-b308-4793-8df8-8735b530ead0",
   "metadata": {
    "tags": []
   },
   "outputs": [
    {
     "data": {
      "text/latex": [
       "$\\displaystyle \\frac{\\left(- 2 f_{1}{\\left(r \\right)} f_{2}{\\left(r \\right)} \\frac{d^{2}}{d r^{2}} f_{1}{\\left(r \\right)} + f_{1}{\\left(r \\right)} \\frac{d}{d r} f_{1}{\\left(r \\right)} \\frac{d}{d r} f_{2}{\\left(r \\right)} + f_{2}{\\left(r \\right)} \\left(\\frac{d}{d r} f_{1}{\\left(r \\right)}\\right)^{2}\\right)^{2}}{4 f_{1}^{4}{\\left(r \\right)} f_{2}^{4}{\\left(r \\right)}} + \\frac{2 \\left(\\frac{d}{d r} f_{2}{\\left(r \\right)}\\right)^{2}}{r^{2} f_{2}^{4}{\\left(r \\right)}} + \\frac{2 \\left(\\frac{d}{d r} f_{1}{\\left(r \\right)}\\right)^{2}}{r^{2} f_{1}^{2}{\\left(r \\right)} f_{2}^{2}{\\left(r \\right)}} + \\frac{4 \\left(f_{2}{\\left(r \\right)} - 1\\right)^{2}}{r^{4} f_{2}^{2}{\\left(r \\right)}}$"
      ],
      "text/plain": [
       "(-2*f1(r)*f2(r)*Derivative(f1(r), (r, 2)) + f1(r)*Derivative(f1(r), r)*Derivative(f2(r), r) + f2(r)*Derivative(f1(r), r)**2)**2/(4*f1(r)**4*f2(r)**4) + 2*Derivative(f2(r), r)**2/(r**2*f2(r)**4) + 2*Derivative(f1(r), r)**2/(r**2*f1(r)**2*f2(r)**2) + 4*(f2(r) - 1)**2/(r**4*f2(r)**2)"
      ]
     },
     "execution_count": 24,
     "metadata": {},
     "output_type": "execute_result"
    }
   ],
   "source": [
    "Kr()"
   ]
  },
  {
   "cell_type": "markdown",
   "id": "47a6a7cb-e40e-4fd6-be62-46ba5d708e24",
   "metadata": {},
   "source": [
    "Ou usando a solução explícita (11) temos que o invariante de Kretschmann é dado por"
   ]
  },
  {
   "cell_type": "code",
   "execution_count": 25,
   "id": "99392a04-f706-481d-b6f6-5fd5e8f08e73",
   "metadata": {
    "tags": []
   },
   "outputs": [
    {
     "data": {
      "text/latex": [
       "$\\displaystyle \\frac{48 G^{2} M^{2}}{c^{4} r^{6}}$"
      ],
      "text/plain": [
       "48*G**2*M**2/(c**4*r**6)"
      ]
     },
     "execution_count": 25,
     "metadata": {},
     "output_type": "execute_result"
    }
   ],
   "source": [
    "((-2*f.diff(r,2) + f * f.diff(r) * fi.diff(r) + fi * (f.diff(r))**2)**2 / 4 + 2 * (fi.diff(r))**2 / (r**2 * fi**4) + 2 * (f.diff(r))**2 / (r**2) + 4 *(fi - 1)**2 / (r**4 * fi**2)).simplify()"
   ]
  },
  {
   "cell_type": "markdown",
   "id": "a6c19f08-968f-4167-85e4-ddc586b25a2f",
   "metadata": {},
   "source": [
    "E agora podemos ver que: \n",
    "\n",
    "1) A raio de Schwarzschild não é uma singularidade física, é apenas um resquício do sistema de coordenadas que estamos usando. Isso não significa, no entanto, que esses pontos são desinteressantes. Na verdade, toda a superfície define o horizonte de eventos, que discutiremos mais no futuro.\n",
    "\n",
    "2) A singularidade no ponto $r=0$ é física e não será removida pela escolha de um novo sistema de coordenada. "
   ]
  },
  {
   "cell_type": "markdown",
   "id": "b0280616-22a1-43f2-b5ac-00412bd17a5d",
   "metadata": {
    "jp-MarkdownHeadingCollapsed": true,
    "tags": []
   },
   "source": [
    "# Solução De Sitter-Schwarzschild"
   ]
  },
  {
   "cell_type": "markdown",
   "id": "ec2f63b9-bac3-4eb2-96e3-dd1445efb2db",
   "metadata": {},
   "source": [
    "Com as soluções acima, podemos modificar um pouco nossas hipóteses e estudar outras duas soluções muito importantes. A primeira é fundamental no estudo da cosmologia: O espaço de Sitter, e outra solução fundamental na física teórica atual: o espaço Anti-de Sitter. Em particular, vamos derrubar as condições 3) e 4), ou seja, o espaço não é mais assimptoticamente plano, e a constante cosmológica não é nula. \n",
    "\n",
    "Toda a análise que fizemos na seção anterios, e na prática, a única modificação será na equação de Einstein\n",
    "\n",
    "$$\\tag{19} R_{\\mu\\nu} - \\Lambda g_{\\mu\\nu} = 0 $$\n",
    "\n",
    "portanto"
   ]
  },
  {
   "cell_type": "code",
   "execution_count": 26,
   "id": "d6caa1d3-c039-4e7b-b890-2fb41dac89b9",
   "metadata": {
    "tags": []
   },
   "outputs": [],
   "source": [
    "Equation = [Ricci(i,j).simplify() - Lb*g[i,j] for i in range(rank) for j in range(rank) if Ricci(i,j) != 0]"
   ]
  },
  {
   "cell_type": "code",
   "execution_count": 27,
   "id": "895e8260-3829-43bc-9755-d743028d63b4",
   "metadata": {
    "tags": []
   },
   "outputs": [
    {
     "name": "stdout",
     "output_type": "stream",
     "text": [
      "+++++++++ Equation(0,0) ++++++++++++++++\n"
     ]
    },
    {
     "data": {
      "text/latex": [
       "$\\displaystyle Lb f_{1}{\\left(r \\right)} + \\frac{\\frac{d^{2}}{d r^{2}} f_{1}{\\left(r \\right)}}{2 f_{2}{\\left(r \\right)}} - \\frac{\\frac{d}{d r} f_{1}{\\left(r \\right)} \\frac{d}{d r} f_{2}{\\left(r \\right)}}{4 f_{2}^{2}{\\left(r \\right)}} - \\frac{\\left(\\frac{d}{d r} f_{1}{\\left(r \\right)}\\right)^{2}}{4 f_{1}{\\left(r \\right)} f_{2}{\\left(r \\right)}} + \\frac{\\frac{d}{d r} f_{1}{\\left(r \\right)}}{r f_{2}{\\left(r \\right)}}$"
      ],
      "text/plain": [
       "Lb*f1(r) + Derivative(f1(r), (r, 2))/(2*f2(r)) - Derivative(f1(r), r)*Derivative(f2(r), r)/(4*f2(r)**2) - Derivative(f1(r), r)**2/(4*f1(r)*f2(r)) + Derivative(f1(r), r)/(r*f2(r))"
      ]
     },
     "metadata": {},
     "output_type": "display_data"
    },
    {
     "name": "stdout",
     "output_type": "stream",
     "text": [
      " \n",
      "+++++++++ Equation(1,1) ++++++++++++++++\n"
     ]
    },
    {
     "data": {
      "text/latex": [
       "$\\displaystyle - Lb f_{2}{\\left(r \\right)} - \\frac{\\frac{d^{2}}{d r^{2}} f_{1}{\\left(r \\right)}}{2 f_{1}{\\left(r \\right)}} + \\frac{\\frac{d}{d r} f_{1}{\\left(r \\right)} \\frac{d}{d r} f_{2}{\\left(r \\right)}}{4 f_{1}{\\left(r \\right)} f_{2}{\\left(r \\right)}} + \\frac{\\left(\\frac{d}{d r} f_{1}{\\left(r \\right)}\\right)^{2}}{4 f_{1}^{2}{\\left(r \\right)}} + \\frac{\\frac{d}{d r} f_{2}{\\left(r \\right)}}{r f_{2}{\\left(r \\right)}}$"
      ],
      "text/plain": [
       "-Lb*f2(r) - Derivative(f1(r), (r, 2))/(2*f1(r)) + Derivative(f1(r), r)*Derivative(f2(r), r)/(4*f1(r)*f2(r)) + Derivative(f1(r), r)**2/(4*f1(r)**2) + Derivative(f2(r), r)/(r*f2(r))"
      ]
     },
     "metadata": {},
     "output_type": "display_data"
    },
    {
     "name": "stdout",
     "output_type": "stream",
     "text": [
      " \n",
      "+++++++++ Equation(2,2) ++++++++++++++++\n"
     ]
    },
    {
     "data": {
      "text/latex": [
       "$\\displaystyle - Lb r^{2} + \\frac{r \\frac{d}{d r} f_{2}{\\left(r \\right)}}{2 f_{2}^{2}{\\left(r \\right)}} - \\frac{r \\frac{d}{d r} f_{1}{\\left(r \\right)}}{2 f_{1}{\\left(r \\right)} f_{2}{\\left(r \\right)}} + 1 - \\frac{1}{f_{2}{\\left(r \\right)}}$"
      ],
      "text/plain": [
       "-Lb*r**2 + r*Derivative(f2(r), r)/(2*f2(r)**2) - r*Derivative(f1(r), r)/(2*f1(r)*f2(r)) + 1 - 1/f2(r)"
      ]
     },
     "metadata": {},
     "output_type": "display_data"
    },
    {
     "name": "stdout",
     "output_type": "stream",
     "text": [
      " \n",
      "+++++++++ Equation(3,3) ++++++++++++++++\n"
     ]
    },
    {
     "data": {
      "text/latex": [
       "$\\displaystyle - Lb r^{2} \\sin^{2}{\\left(th \\right)} + \\frac{\\left(r f_{1}{\\left(r \\right)} \\frac{d}{d r} f_{2}{\\left(r \\right)} - r f_{2}{\\left(r \\right)} \\frac{d}{d r} f_{1}{\\left(r \\right)} + 2 \\left(f_{2}{\\left(r \\right)} - 1\\right) f_{1}{\\left(r \\right)} f_{2}{\\left(r \\right)}\\right) \\sin^{2}{\\left(th \\right)}}{2 f_{1}{\\left(r \\right)} f_{2}^{2}{\\left(r \\right)}}$"
      ],
      "text/plain": [
       "-Lb*r**2*sin(th)**2 + (r*f1(r)*Derivative(f2(r), r) - r*f2(r)*Derivative(f1(r), r) + 2*(f2(r) - 1)*f1(r)*f2(r))*sin(th)**2/(2*f1(r)*f2(r)**2)"
      ]
     },
     "metadata": {},
     "output_type": "display_data"
    },
    {
     "name": "stdout",
     "output_type": "stream",
     "text": [
      " \n"
     ]
    }
   ],
   "source": [
    "# Para ver o resultado explícito, fazemos\n",
    "for k in range(len(Equation)):\n",
    "    print(f\"+++++++++ Equation({k},{k}) ++++++++++++++++\")\n",
    "    display(Equation[k])\n",
    "    print(\" \")"
   ]
  },
  {
   "cell_type": "markdown",
   "id": "3c6de2f8-1e7f-440a-b03f-d1838d2bf8cd",
   "metadata": {},
   "source": [
    "1) Novamente, apenas 3 equações são independentes. É simples verificar que \n",
    "$$\\tag{20} (R_{33} - \\Lambda g_{33}) - sin^2\\theta (R_{2,2} - \\Lambda g_{22}) = 0 $$"
   ]
  },
  {
   "cell_type": "code",
   "execution_count": 28,
   "id": "b7ded1a1-8834-4c13-968f-46daed9666b4",
   "metadata": {
    "tags": []
   },
   "outputs": [
    {
     "data": {
      "text/latex": [
       "$\\displaystyle 0$"
      ],
      "text/plain": [
       "0"
      ]
     },
     "execution_count": 28,
     "metadata": {},
     "output_type": "execute_result"
    }
   ],
   "source": [
    "(Equation[3] - Equation[2]*(sin(th)**2)).simplify()"
   ]
  },
  {
   "cell_type": "markdown",
   "id": "80d235e0-6878-455c-a71d-f530b9528deb",
   "metadata": {},
   "source": [
    "2. Novamente, as 2 primeiras equações possuem uma estrutura muito semelhante, então faremos a operação a seguir \n",
    "\n",
    "$$ \\tag{21} f_1 f_2^2 (R_{00} - \\Lambda g_{00}) - f_1^2 f_2 (R_{11} - \\Lambda g_{11})  = 0 $$\n",
    "\n",
    "Exatamente como fizemos como no estudo da solução Schwarzschild."
   ]
  },
  {
   "cell_type": "code",
   "execution_count": 29,
   "id": "efcf1766-f45c-45d2-a90c-bda769b8ac37",
   "metadata": {
    "tags": []
   },
   "outputs": [
    {
     "data": {
      "text/latex": [
       "$\\displaystyle \\frac{\\left(f_{1}{\\left(r \\right)} \\frac{d}{d r} f_{2}{\\left(r \\right)} + f_{2}{\\left(r \\right)} \\frac{d}{d r} f_{1}{\\left(r \\right)}\\right) f_{1}{\\left(r \\right)}}{r}$"
      ],
      "text/plain": [
       "(f1(r)*Derivative(f2(r), r) + f2(r)*Derivative(f1(r), r))*f1(r)/r"
      ]
     },
     "execution_count": 29,
     "metadata": {},
     "output_type": "execute_result"
    }
   ],
   "source": [
    "((f1*f2**2)*Equation[0] + (f2*f1**2)*Equation[1]).simplify()"
   ]
  },
  {
   "cell_type": "markdown",
   "id": "306ab147-7a29-4e71-b09b-e2a657b0b7ea",
   "metadata": {},
   "source": [
    "de onde concluímos que \n",
    "$$  \\tag{22} \\frac{d}{dr}(f_1 f_2) = 0 \\quad \\Rightarrow \\quad f_2 = \\frac{c_0}{f_1}  $$\n",
    "onde $c_0$ é uma constante. "
   ]
  },
  {
   "cell_type": "markdown",
   "id": "e1c55773-e1f9-4fb1-9b23-7b689d7c207e",
   "metadata": {},
   "source": [
    "3. Agora vamos usar essa condição na equação \n",
    "$$ \\tag{23} R_{22} - \\Lambda g_{22} = 0 $$"
   ]
  },
  {
   "cell_type": "code",
   "execution_count": 30,
   "id": "211b6abc-e46c-464b-861c-e906e3bd9892",
   "metadata": {
    "tags": []
   },
   "outputs": [
    {
     "data": {
      "text/latex": [
       "$\\displaystyle - Lb r^{2} + \\frac{r \\frac{d}{d r} f_{2}{\\left(r \\right)}}{2 f_{2}^{2}{\\left(r \\right)}} - \\frac{r \\frac{d}{d r} f_{1}{\\left(r \\right)}}{2 f_{1}{\\left(r \\right)} f_{2}{\\left(r \\right)}} + 1 - \\frac{1}{f_{2}{\\left(r \\right)}}$"
      ],
      "text/plain": [
       "-Lb*r**2 + r*Derivative(f2(r), r)/(2*f2(r)**2) - r*Derivative(f1(r), r)/(2*f1(r)*f2(r)) + 1 - 1/f2(r)"
      ]
     },
     "execution_count": 30,
     "metadata": {},
     "output_type": "execute_result"
    }
   ],
   "source": [
    "(Equation[2]).simplify()"
   ]
  },
  {
   "cell_type": "code",
   "execution_count": 31,
   "id": "f25e885c-f3fa-40f4-a2bd-eb3c430eab80",
   "metadata": {
    "tags": []
   },
   "outputs": [
    {
     "data": {
      "text/latex": [
       "$\\displaystyle - Lb r^{2} - \\frac{r \\frac{d}{d r} f_{1}{\\left(r \\right)}}{2} - f_{1}{\\left(r \\right)} + 1$"
      ],
      "text/plain": [
       "-Lb*r**2 - r*Derivative(f1(r), r)/2 - f1(r) + 1"
      ]
     },
     "execution_count": 31,
     "metadata": {},
     "output_type": "execute_result"
    }
   ],
   "source": [
    "((r*(f1**(-1)).diff(r))*(f1**2) / 4 - r*f1.diff(r) / 4 + 1 - 1*(f1) - Lb * r**2).simplify()"
   ]
  },
  {
   "cell_type": "markdown",
   "id": "18fd5e70-706d-43ba-8cc7-8ea87e904084",
   "metadata": {
    "tags": []
   },
   "source": [
    "e a solução dessa expressão é dada por \n",
    "\n",
    "$$\\tag{24} f_1 = \\frac{1}{f_2} = 1 - \\frac{2 G M}{c^2 r} - \\frac{\\Lambda r^2}{3}$$"
   ]
  },
  {
   "cell_type": "code",
   "execution_count": 35,
   "id": "9da2af50-d517-4b43-95d0-94e7449442e9",
   "metadata": {
    "tags": []
   },
   "outputs": [],
   "source": [
    "f = 1 -2*G*M / (r * c**2) - Lb * r**2  / 3\n",
    "fi = f**(-1)"
   ]
  },
  {
   "cell_type": "code",
   "execution_count": 36,
   "id": "82ccee8e-0372-44e8-8754-b007e6dd5577",
   "metadata": {
    "tags": []
   },
   "outputs": [
    {
     "data": {
      "text/latex": [
       "$\\displaystyle 0$"
      ],
      "text/plain": [
       "0"
      ]
     },
     "execution_count": 36,
     "metadata": {},
     "output_type": "execute_result"
    }
   ],
   "source": [
    "(- r*(f.diff(r)) - f + 1 - Lb* r**2).simplify()"
   ]
  },
  {
   "cell_type": "markdown",
   "id": "ec380b6c-a2b4-4af8-8a5b-01627836fb93",
   "metadata": {},
   "source": [
    "E essa solução é conhecida como De Sitter-Schwarzschild e a métrica é dada por\n",
    "\n",
    "$$ \\tag{25} ds^2 = -\\left(1 - \\frac{2 G M}{c^2 r} - \\frac{\\Lambda r^2}{3}\\right) c^2 dt^2 + \\frac{dr^2}{\\left(1 - \\frac{2 G M}{c^2 r} - \\frac{\\Lambda r^2}{3}\\right)} + r^2 d\\theta^2 + r^2 \\sin^2\\theta d\\phi^2 $$"
   ]
  },
  {
   "cell_type": "markdown",
   "id": "4dd54cf5-7861-45cb-95c8-95c292750fd7",
   "metadata": {},
   "source": [
    "O caso particular onde $M=0$ é chamada de *de Sitter* (dS) (se $\\Lambda > 0$) e *anti-de Sitter* \n",
    "(se $\\Lambda < 0$). Vamos agora finalizar a análise calculando o escalar de curvatura e de Kretschmann."
   ]
  },
  {
   "cell_type": "markdown",
   "id": "acaa196c-8cb4-4c03-9034-0de99bf944de",
   "metadata": {
    "tags": []
   },
   "source": [
    "* <span style=\"color:red\">ESCALAR DE CURVATURA:</span> No caso da solução de Schwarzschild, o escalar de curvatura é trivial pois a tensor de Ricci é nulo. Nas soluções de Sitter, devemos analisar esse invariante. "
   ]
  },
  {
   "cell_type": "code",
   "execution_count": 54,
   "id": "45e74e31-3f2a-4da1-8ef9-12a952bf3d1c",
   "metadata": {
    "tags": []
   },
   "outputs": [],
   "source": [
    "def RCurv():\n",
    "    curv = 0\n",
    "    n = 0\n",
    "    for k in range(rank):\n",
    "        curv = curv + gI[k,k]*Ric[k]\n",
    "        r = (curv).simplify() # Esse 4 remove as redundancias nas nossas contas\n",
    "    return r"
   ]
  },
  {
   "cell_type": "code",
   "execution_count": 70,
   "id": "bfe6967f-7ad5-4ba2-9ab4-84feaacae81b",
   "metadata": {
    "tags": []
   },
   "outputs": [],
   "source": [
    "f = 1 - 2*G*M / (r*c**2) - Lb * r**2  / 3\n",
    "fi = f**(-1)"
   ]
  },
  {
   "cell_type": "code",
   "execution_count": 64,
   "id": "9e930f62-9d48-4213-8283-a3d374c09d5a",
   "metadata": {
    "tags": []
   },
   "outputs": [
    {
     "data": {
      "text/latex": [
       "$\\displaystyle - \\frac{\\frac{d^{2}}{d r^{2}} f_{1}{\\left(r \\right)}}{f_{1}{\\left(r \\right)} f_{2}{\\left(r \\right)}} + \\frac{\\frac{d}{d r} f_{1}{\\left(r \\right)} \\frac{d}{d r} f_{2}{\\left(r \\right)}}{2 f_{1}{\\left(r \\right)} f_{2}^{2}{\\left(r \\right)}} + \\frac{\\left(\\frac{d}{d r} f_{1}{\\left(r \\right)}\\right)^{2}}{2 f_{1}^{2}{\\left(r \\right)} f_{2}{\\left(r \\right)}} + \\frac{2 \\frac{d}{d r} f_{2}{\\left(r \\right)}}{r f_{2}^{2}{\\left(r \\right)}} - \\frac{2 \\frac{d}{d r} f_{1}{\\left(r \\right)}}{r f_{1}{\\left(r \\right)} f_{2}{\\left(r \\right)}} + \\frac{2}{r^{2}} - \\frac{2}{r^{2} f_{2}{\\left(r \\right)}}$"
      ],
      "text/plain": [
       "-Derivative(f1(r), (r, 2))/(f1(r)*f2(r)) + Derivative(f1(r), r)*Derivative(f2(r), r)/(2*f1(r)*f2(r)**2) + Derivative(f1(r), r)**2/(2*f1(r)**2*f2(r)) + 2*Derivative(f2(r), r)/(r*f2(r)**2) - 2*Derivative(f1(r), r)/(r*f1(r)*f2(r)) + 2/r**2 - 2/(r**2*f2(r))"
      ]
     },
     "execution_count": 64,
     "metadata": {},
     "output_type": "execute_result"
    }
   ],
   "source": [
    "RCurv()"
   ]
  },
  {
   "cell_type": "code",
   "execution_count": 71,
   "id": "76029daf-1375-4144-a232-bb8555b5b5c2",
   "metadata": {
    "tags": []
   },
   "outputs": [
    {
     "data": {
      "text/latex": [
       "$\\displaystyle 4 Lb$"
      ],
      "text/plain": [
       "4*Lb"
      ]
     },
     "execution_count": 71,
     "metadata": {},
     "output_type": "execute_result"
    }
   ],
   "source": [
    "(  - f.diff(r,2) + f.diff(r)*fi.diff(r)/(2*fi)  \n",
    " + (f.diff(r))**2/(2*f) +  2*fi.diff(r)/(r*fi**2) -  2*f.diff(r)/r + 2/(r**2) - 2/(fi*r**2)).simplify()"
   ]
  },
  {
   "cell_type": "markdown",
   "id": "21c7a750-e218-4aa3-9148-8ae2c3ea88b8",
   "metadata": {},
   "source": [
    " Ou seja, $R = 4 \\Lambda$ como esperado. "
   ]
  },
  {
   "cell_type": "markdown",
   "id": "96b16746-7262-4757-a646-3903e5e4578d",
   "metadata": {
    "tags": []
   },
   "source": [
    "* <span style=\"color:red\">ESCALAR DE KRETSCHMANN:</span> Por completeza, podemos calcular esse escalar como "
   ]
  },
  {
   "cell_type": "code",
   "execution_count": 73,
   "id": "0c3b003a-3f90-40fc-9c7d-16e0e820f5ff",
   "metadata": {
    "tags": []
   },
   "outputs": [
    {
     "data": {
      "text/latex": [
       "$\\displaystyle \\frac{48 G^{2} M^{2}}{c^{4} r^{6}} + \\frac{8 Lb^{2}}{3}$"
      ],
      "text/plain": [
       "48*G**2*M**2/(c**4*r**6) + 8*Lb**2/3"
      ]
     },
     "execution_count": 73,
     "metadata": {},
     "output_type": "execute_result"
    }
   ],
   "source": [
    "((-2*f.diff(r,2) + f * f.diff(r) * fi.diff(r) + fi * (f.diff(r))**2)**2 / 4 + 2 * (fi.diff(r))**2 / (r**2 * fi**4) + 2 * (f.diff(r))**2 / (r**2) + 4 *(fi - 1)**2 / (r**4 * fi**2)).simplify()"
   ]
  },
  {
   "cell_type": "markdown",
   "id": "dc453f2e-2d95-4392-9f0f-bec4472daab6",
   "metadata": {},
   "source": [
    "Veja que ainda continuamos com a singularidade no ponto $r=0$, mas nenhum outro ponto é mal definido. Em particular, observe que o caso onde $M=0$ e $\\Lambda > 0$, temos que a métrica diverge no ponto $r = \\sqrt{3 / \\lambda}$. Mais uma vez, esse ponto é um artefato da métrica. Nesse caso, chamamos a superfície definida por esses pontos de horizonte cosmológico. "
   ]
  },
  {
   "cell_type": "code",
   "execution_count": null,
   "id": "c4fbe0ec-a833-44fd-b792-9b6f8766ebd8",
   "metadata": {},
   "outputs": [],
   "source": []
  }
 ],
 "metadata": {
  "kernelspec": {
   "display_name": "Python 3 (ipykernel)",
   "language": "python",
   "name": "python3"
  },
  "language_info": {
   "codemirror_mode": {
    "name": "ipython",
    "version": 3
   },
   "file_extension": ".py",
   "mimetype": "text/x-python",
   "name": "python",
   "nbconvert_exporter": "python",
   "pygments_lexer": "ipython3",
   "version": "3.11.6"
  },
  "toc-autonumbering": true,
  "toc-showcode": true,
  "toc-showmarkdowntxt": true,
  "toc-showtags": false
 },
 "nbformat": 4,
 "nbformat_minor": 5
}
