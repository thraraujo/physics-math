{
 "cells": [
  {
   "cell_type": "markdown",
   "id": "d18cc68d-9467-409e-ae66-16186c876338",
   "metadata": {
    "jp-MarkdownHeadingCollapsed": true,
    "tags": []
   },
   "source": [
    "# Introdução e Motivação"
   ]
  },
  {
   "cell_type": "markdown",
   "id": "f81f5bfa-ccbf-4693-a7b9-1b0d56a869fa",
   "metadata": {},
   "source": [
    "O espaço-tempo de Schwarzschild é a solução exata (e não-trivial) mais conhecida das equações de Einstein. Foi a primeira solução exata a ser descoberta poucos meses após a publicação dos artigos originais de Einstein. E felizmente, essa é a solução mais importante (não é exagero) da equação de Einstein. \n",
    "\n",
    "Esse espaço-tempo descreve o campo gravitacional **exterior** gerado por um corpo perfeitamente esférico, sem carga elétrica e que não está girando (frequentemente chamado de spin, mas que vou evitar essa terminologia pois ela está muito associado à mecânica quântica). Essa solução descreve com grande acurácia algumas observações astronômicas, a deflexão da luz pelo Sol, o periélio de Mercúrio, e de fato, por décadas, essa solução era a única solução (exata) relativística que mostrava como a Relatividade Geral tinha uma aplicabilidade maior que a teoria Newtoniana. Além disso, a solução de Schwarzschild fornece um modelo simples para alguns dos objetos mais misteriosos da natureza: Os Buracos Negros. \n",
    "\n",
    "Nessa aula, analisaremos a construção dessa solução, e começaremos a analisar algumas de suas propriedades físicas mais importantes. \n"
   ]
  },
  {
   "cell_type": "markdown",
   "id": "c7f7b94f-a706-4d04-bd0c-3eb738e71db9",
   "metadata": {
    "jp-MarkdownHeadingCollapsed": true,
    "tags": [],
    "toc-hr-collapsed": true
   },
   "source": [
    "# Similaridades com o eletromagnetismo"
   ]
  },
  {
   "cell_type": "markdown",
   "id": "728e71a6-f9c7-4db9-a2c6-f844b2c2eb27",
   "metadata": {},
   "source": [
    "Antes de começar a resolver a equação de Einstein, iremos fazer uma breve (muito breve mesmo) revisão da lei de Gauss. Isso ajudará na compreenssão de algumas escolhas que faremos no caso da resolução da Equação de Einstein. Vamos começar relembrando a lei de Gauss cuja expressão local é dada por \n",
    "$$ \\tag{2.1} \\nabla \\cdot \\vec{E} = \\frac{\\rho}{\\epsilon_0}$$\n",
    "\n",
    "onde $\\rho$  é a densidade de cargas e é, em geral, uma função do tempo e das coordenadas espaciais. Além disso, essa densidade é não nula num volume $V$ do espaço, é o que os matemáticos costumam chamar de *suporte finito*, ou seja, \n",
    "$$\\tag{2.2} \\rho(t, x_1, x_2, x_3) = \\left\\{\\begin{array}{lll}\n",
    " 0 &se& (x_1, x_2, x_3) \\notin V \\\\\n",
    " \\neq 0 &se& (x_1, x_2, x_3) \\in V \\\\\n",
    "\\end{array}\\right. $$\n",
    "\n",
    "Isso significa, em particular, que temos 2 regiões para se estudar essas soluções, dentro e fora do corpo eletricamente carregado.As duas soluções devem ser coladas de maneira apropriada com condições de contorno apropriadas, e de fato, a solução interior é um pouco mais sofisticada e por isso focaremos unicamente na solução exterior, onde a densidade é nula.   \n",
    "\n",
    "A existência de simetrias simplifica bastante o estudo de sistemas que satisfazem a lei de Gauss. O estudo de soluções exatas frequentemente consideram a existência de  algum tipo de simetria: por exemplo, podemos assumir que o sistema não depende do tempo, e isso nos trás ao reino da eletrostática. Ou ainda, podemos impor que o sistema tem simetria esférica, planar e cilíndrica. \n",
    "\n",
    "No caso da relatividade geral, simetria esférica é particularmente útil pois 'vistos de longe', diversos corpos celestes podem ser aproximados por esferas perfeitas, planetas, estrelas, buracos negros e outros. Claro que isso é algo de interesse astrofísico. Então vamos entendar brevemente como esse tratamento é feito no caso eletrostático.  \n"
   ]
  },
  {
   "cell_type": "markdown",
   "id": "33323baf-0fea-4a62-bfe3-e0eb70fb4c2d",
   "metadata": {
    "tags": []
   },
   "source": [
    "## Soluções Esfericamente Simétricas"
   ]
  },
  {
   "cell_type": "markdown",
   "id": "a0b3dc1f-74a9-40d9-8b07-e05c6a8becfc",
   "metadata": {},
   "source": [
    "Vamos considerar que o campo elétrico fora de um corpo esfericamente simétrico. A primeira coisa que fazemos é escrever o nosso sistema em coordenadas esféricas,\n",
    "$$\\tag{2.3} x_1 = r \\sin\\theta \\cos\\phi\\quad x_2 = r \\sin\\theta \\sin\\phi\\quad  x_3 = r \\cos\\theta\\; ,$$\n",
    "e além disso, essa simetria nos diz que o campo elétrico tem dependência funcional apenas na direção radial, ou seja, \n",
    "$$ \\tag{2.4} \\vec{E} = E(r) \\hat{r}$$\n",
    "onde $\\hat{r}$ é o versor radial. \n",
    "\n",
    "Fora do corpo, a densidade de carga é zero, de tal forma que a lei de Gauss é\n",
    "$$ \\tag{2.5} \\nabla\\cdot \\vec{E} = \\frac{1}{r^2}\\frac{d}{dr}(r^2 E(r)) = 0 \\quad \\Rightarrow \\quad E(r) = \\frac{c_0}{r^2} $$\n",
    "onde $c_0$ é uma constante. Podemos determinar a constante $c_0$ integrando sobre o volume de uma esfera $\\mathbb{S}^2$ que engloba todo o corpo carregado. Ou seja, usamos a lei de Gauss na forma integral, pois é essa lei que nos informa das propriedades globais do campo, ou seja \n",
    "$$ \\tag{2.6} \\frac{Q}{\\epsilon_0}= \\int \\nabla\\cdot \\vec{E} =  r^2 E(r) \\int_{0}^\\pi \\sin\\theta d\\theta \\int_{0}^{2\\pi} = 4 \\pi c_0  $$\n",
    "onde $Q$ é a carga total do corpo e na segunda igualdade usamos o teorema da divergência. Assim, obtemos é o campo de Coulomb \n",
    "$$ \\tag{2.7} \\vec{E} = \\frac{Q}{4 \\pi \\epsilon_0 r^2} \\hat{r} \\; . $$\n",
    "\n",
    "Empregaremos essa mesma lógica para resolver a Equação de Einstein no caso de um corpo esfericamente simétrico. "
   ]
  },
  {
   "cell_type": "markdown",
   "id": "0a631762-7166-4b60-9b1e-3d0eb48f3c99",
   "metadata": {
    "tags": []
   },
   "source": [
    "## Simetria de Gauge"
   ]
  },
  {
   "cell_type": "markdown",
   "id": "1deb463e-3283-4e2a-a580-03766169d06d",
   "metadata": {
    "tags": []
   },
   "source": [
    "Outro detalhe muito importante na teoria eletromagnética é que (classicamente) os campos físicos mensuráveis são os campos elétrico \n",
    "$\\vec{E}$ e magnético $\\vec{B}$, que escritos em termos dos potenciais escalar $\\phi$ e vetor $\\vec{A}$ são\n",
    "$$\\tag{2.8} \\vec{E} = - \\nabla \\phi - \\frac{d}{dt}\\vec{A} \\qquad \\vec{B} = \\nabla \\times \\vec{A}  $$\n",
    "\n",
    "E é simples verificar que os campos acima são invariantes pelas transformações de gauge (ou calibre) dadas por \n",
    "$$\\tag{2.9} \\phi \\mapsto \\phi' = \\phi - \\frac{d}{dt}\\alpha \\qquad \\vec{A} \\mapsto \\vec{A}' = \\vec{A} + \\nabla \\alpha $$\n",
    "onde $\\alpha = \\alpha(t, \\vec{r})$ é uma função diferenciável genérica. Como o parâmetro $\\alpha$ é uma função do espaço-tempo, dizemos que essa é uma transformação local. \n",
    "\n",
    "Tendo isso em mente, podemos reescrever as equações de Maxwell unicamente em termos dos potenciais como (Ver seção 6.2 do Jackson)\n",
    "$$\\tag{2.10} \\Delta \\phi + \\frac{\\partial}{\\partial t} (\\nabla\\cdot \\vec{A}) = - \\frac{\\rho}{\\epsilon_0} \n",
    "\\qquad ; \\qquad \\Delta \\vec{A} - \\frac{1}{c^2} \\frac{\\partial^2 }{\\partial t^2} \\vec{A} - \\nabla \\left( \\nabla \\cdot \\vec{A} + \n",
    "\\frac{1}{c^2} \\frac{\\partial}{\\partial t}\\phi \\right) = - \\mu_0 \\vec{J} $$\n",
    "\n",
    "Mas como temos a simetria de Gauge, podemos escolher uma função $\\alpha$ que force a seguinte condição\n",
    "$$ \\nabla \\cdot \\vec{A} + \\frac{1}{c^2} \\frac{\\partial}{\\partial t}\\phi = 0 $$\n",
    "que é chamado de Gauge de Lorenz. Infelizmente para Lorenz, o gauge acima é invariante por transformações de Lorentz (e Lorentz é mais famoso), então muitos chamam essa condição de Gauge de Lorentz. Agora é simples observar que as equações (2.10) assumem a forma de equações de onda inomogêneas\n",
    "$$ \\tag{2.11} \\Delta \\phi - \\frac{1}{c^2} \\frac{\\partial}{\\partial t} \\phi = - \\frac{\\rho}{\\epsilon_0}\n",
    "\\qquad \\Delta \\vec{A} - \\frac{1}{c^2} \\frac{\\partial}{\\partial t}  \\vec{A} = - \\mu_0 \\vec{J}\n",
    "$$\n",
    "\n",
    "Outro Gauge particularmente útil é \n",
    "$$ \\tag{2.12} \\nabla\\cdot \\vec{A} = 0 $$\n",
    "Chamado de Gauge de Coulomb, pois o potencial escalar terá a forma que apendemos a amar no estudo da eletrostática. \n",
    "\n",
    "Duas são as conclusões importantes: \n",
    "\n",
    "1) *Apenas quantidades que são invariantes pelas transformações de gauge são quantidades mensuráveis.* \n",
    "\n",
    "2) *Podemos usar a simetria de gauge para simplificar o nosso problema.* \n",
    "\n",
    "Vamos manter esses dois fatos em mente. "
   ]
  },
  {
   "cell_type": "markdown",
   "id": "fc7a083b-15a2-4316-9809-e77a68c5af13",
   "metadata": {
    "jp-MarkdownHeadingCollapsed": true,
    "tags": [],
    "toc-hr-collapsed": true
   },
   "source": [
    "# Ansätz para a solução Exterior de Schwarzschild"
   ]
  },
  {
   "cell_type": "markdown",
   "id": "95e56bb9-2a6a-49fb-9ac4-7d3dc64350ea",
   "metadata": {},
   "source": [
    "Vimos na primeira parte desse curso que a equação de campo de Einstein é dada por: \n",
    "$$ \\tag{3.1} R_{\\mu\\nu} - \\frac{1}{2} (R - 2 \\Lambda) g_{\\mu\\nu} = \\frac{8 \\pi G}{c^4} T_{\\mu\\nu} \\qquad (\\mu, \\nu = 1,2,3,4)$$\n",
    "onde $R_{\\mu\\nu}$ são as componentes do tensor de Ricci, $T_{\\mu\\nu}$ as componentes do tensor energia-momento, $R$ o escalar de curvatura, $\\Lambda$ a constante cosmológica. Além disso, $g_{\\mu\\nu}$ são as componentes da métrica que é um tensor simétrico, \n",
    "e todas as componentes são funções das coordenadas do espaço-tempo, ou seja \n",
    "$g_{\\mu\\nu}=g_{\\mu\\nu}(x^0, x^1, x^2, x^3)$. \n",
    "\n",
    "Por abuso de linguagem, vamos chamar o elemento de distântia $ds^2$ de métrica, e esse é dado por \n",
    "$$ \\tag{3.2} ds^2 = \\sum_{\\mu=0}^3 \\sum_{\\nu=0}^3 g_{\\mu\\nu} dx^\\mu dx^\\nu  \\equiv  g_{\\mu\\nu} dx^\\mu dx^\\nu $$\n",
    "onde na última igualdade usamos a convenção de Einstein para soma.\n",
    "\n",
    "E assim como discutimos antes, iremos considerar uma solução esfericamente simétrica na região exterior à fonte, ou seja temos que resolver a equação de Einstein onde o tensor-energia momento $T_{\\mu\\nu} = 0$, ou seja \n",
    "$$ \\tag{3.3.a} R_{\\mu\\nu} - \\frac{1}{2} (R - 2 \\Lambda) g_{\\mu\\nu} = 0 $$\n",
    "\n",
    "Além disso, usando que $R = g^{\\mu\\nu} R_{\\mu\\nu}$ e que $g^{\\mu\\nu} g_{\\mu\\nu} = 4$, temos que a equação acima pode ser escrita como \n",
    "\n",
    "$$ \\tag{3.3.b} R = 4\\Lambda\n",
    "\\qquad \\Leftrightarrow \\qquad R_{\\mu\\nu} = \\Lambda g_{\\mu\\nu}$$\n",
    "\n",
    "E agora vamos começar a usar as nossas hipóteses simplificadoras."
   ]
  },
  {
   "cell_type": "markdown",
   "id": "65b0b92f-18fe-424b-8e17-1b33b99fbc58",
   "metadata": {
    "tags": []
   },
   "source": [
    "## Simetria Esférica"
   ]
  },
  {
   "cell_type": "markdown",
   "id": "bd6d0bfe-a657-40d3-ac83-2eb839ca67c5",
   "metadata": {},
   "source": [
    "Nossa primeira hipótese é a simetria esférica da métrica. Vamos detalhar um pouco essa hipótese agora. Vamos escrever todas as nossas equações em termos de coordenadas esféricas. Já vimos na equação (2.3) que podemos parametrizar a seção espacial em termos do raio e dos ângulos polar e azimutal, dados respectivamente, por $\\theta \\in [0, \\pi)$ e $\\phi \\in [0, 2\\pi)$. \n",
    "\n",
    "Portanto escreveremos nossa métrica com índices na forma \n",
    "$$ \\tag{3.4} g = \n",
    "\\begin{pmatrix}\n",
    "g_{tt} & g_{tr}& g_{t\\theta} & g_{t\\phi} \\\\\n",
    "g_{tr} & g_{rr} & g_{r\\theta} & g_{r \\phi} \\\\\n",
    "g_{t\\theta} & g_{r \\theta} & g_{\\theta \\theta} & g_{\\theta \\phi} \\\\\n",
    "g_{t\\phi} & g_{r \\phi} & g_{\\theta\\phi} & g_{\\phi\\phi} \\\\\n",
    "\\end{pmatrix} $$"
   ]
  },
  {
   "cell_type": "markdown",
   "id": "9eaca1ef-2b63-470a-93e2-0eb6abe703bf",
   "metadata": {
    "tags": []
   },
   "source": [
    "### Esfera & Simetria SO(3)"
   ]
  },
  {
   "cell_type": "markdown",
   "id": "3657f216-1a59-473a-934f-529a9327cab8",
   "metadata": {},
   "source": [
    "Vamos primeiro trabalhar as coordenadas $(\\theta, \\phi)$, que definem a esfera. Considere um raio fixo constante $r_0$ constante, $\\mathbb{S}^2$. Essa esfera é parametrizada por pontos no espaço Euclidiano $\\mathbb{R}^3$ que satisfazem a condição\n",
    "$$\\tag{3.5} (x^1)^2 + (x^2)^2 + (x^3)^2 = r_0^2 $$\n",
    "Portanto\n",
    "$$ \\tag{3.6} x^1 = r_0 \\sin\\theta \\cos\\phi\\quad x^2 = r_0 \\sin\\theta \\sin\\phi\\quad  x^3 = r_0 \\cos\\theta\\; .$$\n",
    "\n",
    "Agora queremos calcular distâncias na esfera, ou seja, queremos encontrar a métrica desse espaço. Como esse espaço está embebido no espaço Euclidiano em 3D, que possui métrica \n",
    "$$ ds^2_{Euc} = (dx^1)^2 + (dx^2)^2 + (dx^3)^2 $$\n",
    "ele herdará essa métrica, ao impormos as condições (3.4) ou (3.5). Portanto\n",
    "$$ \\tag{3.7} ds^2_{\\mathbb{S}^2} = (dx^1)^2 + (dx^2)^2 + (dx^3)^2 = r_0^2 (d\\theta^2 + \\sin^2\\theta d\\phi^2) \\equiv r_0^2  d\\Omega^2.$$ \n",
    "\n",
    "Isso significa que \n",
    "$$ \\tag{3.8}  \\boxed{g_{\\theta \\phi} = 0}\\; \\qquad \n",
    "\\boxed{g_{\\phi\\phi}   = g_{\\theta\\theta} \\sin^2\\theta }. $$\n",
    "Além disso, as componentes da métrica são funções do raio $r$ e do tempo $t$, ou seja \n",
    "$$ \\tag{3.9}  \\boxed{g_{\\mu\\nu} = g_{\\mu\\nu}(t,r)}$$\n"
   ]
  },
  {
   "cell_type": "markdown",
   "id": "e8bf5975-2963-491b-bf5c-cf9cef6bd5bb",
   "metadata": {
    "tags": []
   },
   "source": [
    "### Foliação do Espaço-Tempo"
   ]
  },
  {
   "cell_type": "markdown",
   "id": "a04d0ce4-7007-470b-bcde-8ed6ca8c788d",
   "metadata": {},
   "source": [
    "No espaço Euclidiano, podemos usar (3.5) com $r$ variável para escrever a métrica coordenadas esféricas como\n",
    "$$\\tag{3.10} ds_{Euc}^2 = dr^2 + r^2 d\\Omega^2$$\n",
    "E podemos dizer que temos uma foliação do espaço Eucliano em esferas concentricas. Veja que para cada raio $r$ temos uma esfera diferente. Além disso, orientamos o nosso sistema de coordenadas para que diferentes raios $r_1$ e $r_2$ sejam identificados pelos mesmos \n",
    "ângulos $(\\theta, \\phi)$. Essa é uma escolha bastante apropriada para o nosso problema, mas não é sempre válida. Isso significa que \n",
    "as coordenadas radial e angulares estão desacopladas. A consequência disso é que \n",
    "$$ \\tag{3.11} \\boxed{g_{r \\theta} = g_{r \\phi} = 0}\\; . $$\n",
    "\n",
    "Além disso, supomos que uma foliação com relação no tempo, de forma que para uma esfera de raio fixo, a evolução temporal nada mais será que uma translação na esfera. Consequentemente \n",
    "$$ \\tag{3.12} \\boxed{g_{t \\theta} = g_{t \\phi} = 0}\\; . $$\n"
   ]
  },
  {
   "cell_type": "markdown",
   "id": "b3d1b8ab-83d4-4863-a0fa-17b97479751d",
   "metadata": {},
   "source": [
    "Para simplificar a nossa análise, vamos escrever \n",
    "$$ \\tag{3.13} g_{tt} = A_1(t,r)\\qquad g_{rr} = A_2(t,r) \\qquad g_{tr} = A_4(t,r) \\qquad g_{\\theta \\theta} = r^2 A_3(t,r)$$\n",
    "\n",
    "Portanto escreveremos nossa métrica com índices na forma \n",
    "$$ \\tag{3.14} g = \n",
    "\\begin{pmatrix}\n",
    "A_1 & A_4& 0 & 0 \\\\\n",
    "A_4 & A_2 & 0 & 0 \\\\\n",
    "0 & 0 & r^2 A_3  & 0 \\\\\n",
    "0 & 0 & 0 & \\sin^2\\theta r^2 A_3 \\\\\n",
    "\\end{pmatrix} $$\n",
    "\n",
    "Além disso, não queremos que a assinatura da métrica mude, ou seja, queremos que ela permaneça Lorentziana $A_1<0$ e $A_2, A_3>0$, enquanto que $A_4$ não precisa ser especificada (ainda). Com isso, o nosso ansätz é escrito como\n",
    "$$ \\tag{3.15} ds^2 = A_1 dt^2 + 2 A_4 dt dr + A_2 dr^2 + A_3 r^2 d \\Omega^2  $$\n",
    "e nos vamos considerar que a velocidade da luz $c$ foi absorvida pela função $A_1$. Abaixo reintroduziremos essa constante novamente."
   ]
  },
  {
   "cell_type": "markdown",
   "id": "6c26054e-27f9-4143-9703-cf82fd978546",
   "metadata": {},
   "source": [
    "### Transformações Gerais de Coordenadas"
   ]
  },
  {
   "cell_type": "markdown",
   "id": "2d3ca66a-62a9-4b94-bb8f-7d7daa4ac023",
   "metadata": {},
   "source": [
    "Sabemos pela discussão inicial do estudo da relatividade geral, que também temos uma simetria local, a simetria de Difeomorfismo, que nós físicos chamamos de **transformações gerais de coordenadas**. Isso significa que podemos modificar as nossas coordenadas de tal forma que as quantidades físicas relevantes são inalteradas, ou se transformam de modo previsível. Isso é apenas o reflexo de que o Universo não vem dotado de um sistema de coordenadas -- Isso é uma construção humana. No entanto, existe uma noção de curvatura e quantidades relacionadas. Essa é a ideia da relatividade geral. De toda forma, sistemas de coordenadas relacionados por \n",
    "$$ \\tag{3.16} x^\\mu \\mapsto y^\\sigma = y^\\sigma(x) \\qquad \\Rightarrow \\quad ds^2 = g_{\\mu\\nu} dx^\\mu dx^\\nu = g_{\\mu\\nu} \\frac{\\partial x^\\mu}{\\partial y^\\sigma} \\frac{\\partial x^\\nu}{\\partial y^\\lambda} dy^\\sigma dy^\\lambda $$\n",
    "conduzem a mesma física. De fato, todos os objetos que consideramos até agora são tensores com relação à essas transformações. Essas transformações são análogas às simetrias de gauge que discutimos no eletromagnetismo. \n",
    "\n",
    "Na relatividade geral, temos a liberdade de fazer 4 redefinições de coordenadas, o que nos conduzirá a 4 equações diferenciais aos moldes dos *gauge fixings*. Nosso objetivo será usar essas liberdades para simplificar a métrica (3.15) ainda mais. "
   ]
  },
  {
   "cell_type": "markdown",
   "id": "c19db29e-5d24-433e-8841-9dfa9a5d285c",
   "metadata": {},
   "source": [
    "Vamos considerar primeiramente uma transformação de coordenadas na forma\n",
    "$$ \\tag{3.16.a} t' = t'(t,r) $$\n",
    "de forma que \n",
    "$$ \\tag{3.16.b} dt' = \\frac{\\partial t'}{\\partial t} dt +  \\frac{\\partial t'}{\\partial r} dr $$\n",
    "e impomos a condição\n",
    "$$ \\tag{3.17} A_1 dt^2 + 2 A_4 dt dr + A_2 dr^2 = B_1 dt'^2 + B_2 dr^2 $$\n",
    "o que significa que temos 3 condições de gauge \n",
    "$$ \\tag{3.18.a} A_1 = B_1 \\left(\\frac{\\partial t'}{\\partial t} \\right)^2  $$\n",
    "$$ \\tag{3.18.a} A_4 = B_1 \\left(\\frac{\\partial t'}{\\partial t} \\right) \\left(\\frac{\\partial t'}{\\partial r} \\right)  $$\n",
    "$$ \\tag{3.18.a} A_1 = B_1 \\left(\\frac{\\partial t'}{\\partial r} \\right)^2 + B_2  $$\n",
    "\n",
    "Agora assumimos que $t'(t,r)$ é a nossa nova coordenada temporal. Na escolha de gauge acima, temos 3 equações para 3 funções, -- $t, f_1, f_2$ --, portanto, podemos resolver esse sistema. A métrica torna-se\n",
    "$$ \\tag{3.19} ds^2 = B_1 dt'^2 + B_2 dr^2 + A_3 r^2 d \\Omega^2  $$\n",
    "que é diagonal. \n",
    "\n",
    "A escolha (3.16) nos deu 3 condições de gauge, portanto, ainda temos 1 liberdade de gauge a ser usada. Vamos escolher\n",
    "$$ \\tag{3.20} r' = r\\sqrt{A_3} $$\n",
    "Essa relação pode ser invertida, pois transformações gerais de coordenadas é um outro nome para difeomorfismos, que são homeomorfismos (bijeções contínuas) e diferenciáveis. Portanto, temos que \n",
    "$$ \\tag{3.21} dr' = \\sqrt{A_3}\\left(1 + \\frac{r}{A_3}\\frac{\\partial A_3}{\\partial r} \\right) dr$$\n",
    "de tal forma que \n",
    "$$ \\tag{3.22} ds^2 = B_1 dt'^2 + B_2 A_3^{-1/2} \\left(1 + \\frac{r}{A_3}\\frac{\\partial A_3}{\\partial r} \\right)^{-1} dr'^2 + r'^2 d \\Omega^2  $$"
   ]
  },
  {
   "cell_type": "markdown",
   "id": "08921ed8-0c21-459b-85e9-d340652fdff4",
   "metadata": {},
   "source": [
    "### Ansätz final"
   ]
  },
  {
   "cell_type": "markdown",
   "id": "053419b9-7011-4fe7-880f-ec2ad5d095c7",
   "metadata": {},
   "source": [
    "Tendo em vista os resultados acima, podemos finalmente chamar as componentes da métrica (3.21) de outros nomes, para deixá-la numa forma mais elegante. Primeiramente, podemos remover as linhas das novas coordenadas temporal e radial. Além disso, temos que lembrar que a métrica tem simetria Lorentziana, portanto vamos escrever\n",
    "$$ \\tag{3.23} B_1(t,r) = - e^{\\gamma_1(t,r)} c^2 < 0 \\qquad \n",
    "B_2 A_3^{-1/2} \\left(1 + \\frac{r}{A_3}\\frac{\\partial A_3}{\\partial r} \\right)^{-1} = e^{\\gamma_2(t,r)} > 0$$\n",
    "onde reintroduzimos a velocidade da Luz na expressão.\n",
    "\n",
    "Portanto, nosso ansätz é dado por \n",
    "$$ \\tag{3.24} \\boxed{ds^2 = - e^{\\gamma_1} c^2 dt^2 + e^{\\gamma_2}dr^2 + r^2 (d\\theta^2 + \\sin^2\\theta d\\phi^2)}$$\n",
    "\n",
    "Essa é a métrica que queremos considerar na equação de Einstein. \n",
    "\n",
    "**Um ponto que deve ser destacado é que a coordenada $r$ não é a distância entre um ponto genérico e a origem da curvatura (ct,0,0,0). Devemos pensar em $r$ como uma coordenada definida de tal forma que ao considerarmos ela fixa, a área da superfície definida por $(\\theta, \\phi)$ é dada por $4 \\pi r^2$.**"
   ]
  },
  {
   "cell_type": "markdown",
   "id": "8ae04659-54d5-4887-9ab2-833339e7759f",
   "metadata": {
    "jp-MarkdownHeadingCollapsed": true,
    "tags": []
   },
   "source": [
    "# Resolvendo a Equação de Einstein"
   ]
  },
  {
   "cell_type": "markdown",
   "id": "0e655e0c-c96c-41ad-af9b-040c89d2dbee",
   "metadata": {},
   "source": [
    "Primeiro vamos considerar o caso onde a constante cosmológica é zero, portanto a equação de Einstein é dada por \n",
    "$$ \\tag{4.1} R_{\\mu\\nu} = 0 $$\n",
    "para o ansätz (3.24). No apêndice A, Todas as componentes do tensor de Ricci são apresentadas. No apêndice B, usaremos esse mesmo ansätz para estudar o caso onde a constante cosmológica é diferente de zero. "
   ]
  },
  {
   "cell_type": "markdown",
   "id": "3e34f385-f01d-4f5b-ba64-df97e2b2c264",
   "metadata": {},
   "source": [
    "Para a solução (3.24), temos 5 componentes não nulas no tensor de Ricci, são elas \n",
    "$$\\tag{4.2} R_{tt}\\qquad R_{tr}\\qquad R_{rr}\\qquad R_{\\theta\\theta} \\qquad R_{\\phi\\phi} = \\sin^2\\theta R_{\\theta\\theta}$$ "
   ]
  },
  {
   "cell_type": "markdown",
   "id": "58f8b2d7-6773-4848-b635-bd1738d21f27",
   "metadata": {},
   "source": [
    "$\\spadesuit$ **1.** A equação $R_{tr} = 0$ é dada por \n",
    "$$\\tag{4.3} \\frac{1}{r}\\frac{\\partial \\gamma_2}{\\partial t} = 0 \\qquad \\Rightarrow \\qquad \\gamma_2=f_2(r)$$\n",
    "ou seja, a função $f_2$ não depende do tempo."
   ]
  },
  {
   "cell_type": "markdown",
   "id": "23dce2f7-1455-4d6a-bcdb-f88584feb37a",
   "metadata": {},
   "source": [
    "$\\spadesuit$ **2** Nesse ponto, podemos tomar $f_2 = f_2(r)$ e escrever as equações de Einstein \n",
    "\n",
    "\\begin{align*}\n",
    "R_{tt} & = \\frac{e^{f_1 - f_2}}{r}\\left[\\partial_r f_1 + \\frac{1}{4}\\left( (\\partial_r f_1)^2 - \\partial_r f_1 \\partial_r f_2 +2 \\partial^2_r f_1 \\right) \\right] = 0 \\\\\n",
    "\\tag{4.4} R_{rr} & = \\partial_r f_2 + \\frac{1}{4}\\left( -(\\partial_r f_1)^2 + \\partial_r f_1 \\partial_r f_2 - 2 \\partial^2_r f_1 \\right) = 0 \\\\\n",
    "R_{\\theta \\theta} & = \\frac{e^{-f_2}}{2}\\left( - r \\partial_r f_1 + r \\partial_r f_2 + 2 e^{f_2} - 2 \\right) = 0\n",
    "\\end{align*}"
   ]
  },
  {
   "cell_type": "markdown",
   "id": "433b6eee-282c-4801-83da-e498aaf09954",
   "metadata": {},
   "source": [
    "$\\spadesuit$ **3.** Em seguida tomamos a derivada temporal de $R_{\\theta\\theta} = 0$. Isso implica a relação\n",
    "$$\\tag{4.5} -\\partial_t R_{\\theta\\theta} = \\frac{r e^{-\\gamma_2}}{2}\\frac{\\partial^2 \\gamma_1}{\\partial r \\partial t} = 0 \\qquad \\Rightarrow \\qquad \\gamma_1(r,t)=f_1(r) + 2g_1(t)$$\n",
    "onde o coeficiente $2$ é mera conveniência. Assim, a métrica se torna \n",
    "$$ \\tag{4.6} ds^2 = - e^{f_1} c^2 (e^{g_1(t)}dt)^2 + e^{f_2}dr^2 + r^2 (d\\theta^2 + \\sin^2\\theta d\\phi^2)\\; .$$\n",
    "\n",
    "Observe, no entando, que podemos voltar à nossas transformações gerais de coordenadas (3.16.a), e adiantar para remover o termo inconveniente na metrica (4.6), de tal forma que $dt' = e^{g_1(t)}dt$ é a nossa coordenada temporal. Observe que não estamos usando uma nova transformação de coordenadas, estamos apenas melhorando a transformação (3.16.a) para que ela remova esse termo. \n",
    "\n",
    "Finalmente, temos que \n",
    "$$ \\tag{4.7} ds^2 = - e^{f_1} c^2 dt^2 + e^{f_2}dr^2 + r^2 (d\\theta^2 + \\sin^2\\theta d\\phi^2)\\; ,$$\n",
    "onde agora, todas as componentes da métrica são independentes do tempo, e é dita *estacionária*. Mas não apenas isso, essa métrica é também *estática*.\n",
    "\n",
    "A diferença entre as duas definições é simples. Uma métrica é estática se ela não se mexe, por exemplo, ela descreve um objeto que permanece parado. Uma métrica é estacionária se ela não muda de uma forma uniforme. Por exemplo, uma estrela girando a uma velocidade constante. Uma métrica é estática se ela permanece igual se consideramos inversão temporal $t\\mapsto -t$, e isso significa que métricas estáticas não podem ter termos cruzados $g_{t\\mu}$ na métrica."
   ]
  },
  {
   "cell_type": "markdown",
   "id": "94ced9a3-0cf0-45a9-a9a2-2a496d02fa21",
   "metadata": {},
   "source": [
    "$\\spadesuit$ **4.** Usando agora (4.4), observe que a estrutura de $R_tt$ e $R_{rr}$, são bastante semelhantes. Portanto, temos \n",
    "$$\\tag{4.7} 0 = r(e^{-f_1 + f_2}R_{tt} + R_{rr}) = \\frac{d}{dr}(f_1 + f_2)\\qquad \\Rightarrow \\qquad  f_2 = -f_1 + c_0 $$\n",
    "onde $c_0$ é uma constante que tomamos, sem nenhuma perda de generalidade, como zero. "
   ]
  },
  {
   "cell_type": "markdown",
   "id": "67ef50b5-afac-42b3-96bc-84f29840cffc",
   "metadata": {},
   "source": [
    "$\\spadesuit$ **5.** Finalmente, já sabemos que \n",
    "$$ \\tag{4.8} R_{\\phi\\phi} = \\sin^2 \\theta R_{\\theta\\theta}$$\n",
    "de forma que nos resta apenas uma equações de Einstein para nos preocuparmos, que é\n",
    "$$ \\tag{4.9} r e^{f_1} \\frac{d f_1}{dr}  + e^{f_1} - 1 = 0 \\qquad \\Rightarrow \\qquad \\frac{r e^{f_1}}{dr} = 1  $$"
   ]
  },
  {
   "cell_type": "markdown",
   "id": "e748e051-4acc-45d0-8ec4-573beaddfaae",
   "metadata": {},
   "source": [
    "E é simples verificar que a solução para essa equação diferencial é\n",
    "\n",
    "$$ \\tag{4.10} r e^{f_1} = r + c_0 \\qquad \\Rightarrow \\qquad  e^{f_1} = 1 + \\frac{c_0}{r} $$\n",
    "\n",
    "No exercício 2 na lista abaixo, o leitor deve provar que \n",
    "\n",
    "$$ \\tag{4.11} c_0 = - \\frac{2 G M}{c^2}\\; . $$"
   ]
  },
  {
   "cell_type": "markdown",
   "id": "3eb61a5e-35e5-4e31-9477-dbf5a498bc1c",
   "metadata": {},
   "source": [
    "**TEOREMA DE BIRKHOFF**\n",
    "\n",
    "O teorema de Birkhoff afirma que o espaço-tempo de Schwarzschild é a única solução que das equações de Einstein no vácuo que são estáticas, esfericamente simétricas e assimptoticamente planas. É muito importante entender que ignorando qualquer uma das condições acima, o teorema de Birkhoff não será mais válido. Um exemplo a ser discutido nesse texto como uma leitura extra é a solução de Sitter-Schwarzschild, que é a generalização do espaço tempo Schwarzschild para o caso onde a constante cosmológica não é nula.\n",
    "\n",
    "A prova desse teorema é avançada para o nosso presente estudo, mas pode ser encontrada com detalhes no livro Gravitation do Mister-Thorn-Wheeler, seção 32.2."
   ]
  },
  {
   "cell_type": "markdown",
   "id": "71100862-b692-4b33-977d-8b407f0bdbb6",
   "metadata": {
    "jp-MarkdownHeadingCollapsed": true,
    "tags": []
   },
   "source": [
    "# LEITURA EXTRA: Primeiro encontro com os buracos negros"
   ]
  },
  {
   "cell_type": "markdown",
   "id": "5c922435-964b-4557-b717-d3bd072cd833",
   "metadata": {},
   "source": [
    "Concluímos que a metrica é dada por\n",
    "\n",
    "$$ \\tag{5.1} ds^2 = -\\left(1 - \\frac{2 G M}{c^2 r}\\right) c^2 dt^2 + \\frac{dr^2}{\\left(1 - \\frac{2 G M}{c^2 r}\\right)} + r^2 d\\theta^2 + r^2 \\sin^2\\theta d\\phi^2 $$"
   ]
  },
  {
   "cell_type": "markdown",
   "id": "7f061c35-6c0f-431b-add7-021cc5098928",
   "metadata": {},
   "source": [
    "A solução acima tem dois pontos onde a métrica diverge. O primeiro é dado pelo ponto \n",
    "\n",
    "$$ \\tag{5.2} R_s = \\frac{2GM}{c^2}$$\n",
    "\n",
    "que é chamado de **Raio de Schwarzschild**, enquanto que o segundo ponto é dado pelo ponto $r=0$."
   ]
  },
  {
   "cell_type": "markdown",
   "id": "e990d8c9-1aca-43b1-a810-f10aa9d1a5dd",
   "metadata": {
    "tags": []
   },
   "source": [
    "Baseado na nossa comparação com o eletromagnetismo, já sabemos que Transformações Gerais de Coordenadas são similares às simetrias de gauge. Isso significa, também, que a métrica é um retalho (patch) do espaço, e descreve localmente o que está acontecendo numa determinada região do espaço-tempo, e que os resultados que obtemos nesse retalho devem ser cuidadosamente comparadas com outros sistemas de coordenadas.\n",
    "\n",
    "Para analisar esses pontos, devemos construir quantidades que não dependam do sistema de coordenadas. Uma dessas quantidades é, evidentemente, o escalar de curvatura $R = g^{\\mu\\nu} R_{\\mu\\nu}$. No caso dos espaços que satisfazem a equação (3.3.b), o escalar de curvatura \n",
    "\n",
    "$$ \\tag{5.3} R = 4 \\Lambda $$\n",
    "\n",
    "O estudo de invariantes é fundamental na análise de divergencias na métrica. Caso a divergência esteja presente no invariante,  não importa o sistema de coordenadas escolhidos, a divergência sempre aparecerá. Nesse caso dizemos que o ponto é uma singularidade. Caso a singularidade não esteja presente nos invariantes, então a divergência é um artefato do sistema de coordenadas.\n",
    "\n",
    "O espaço de Schwarzschild é uma solução plana $R_{\\mu\\nu}=0$, portanto o escalar de curvatura é nulo, portanto, não é um bom invariante. Analisaremos o escalar de Kretschmann na seção abaixo. \n",
    "\n",
    "Usando esse racional, podemos analisar a natureza dessa métrica estudando o escalar de Kretschmann, que é dado por\n",
    "\n",
    "$$ \\tag{5.4} K = R^{\\mu_0 \\nu_0 \\rho_0 \\sigma_0} R_{\\mu_0 \\nu_0 \\rho_0 \\sigma_0} = g_{\\mu_0 \\mu_1} g^{\\nu_0 \\nu_1} g^{\\rho_0 \\rho_1} g^{\\sigma_0 \\sigma_1} R^{\\mu_0}_{\\nu_1 \\rho_1 \\sigma_1} R^{\\mu_1}_{\\nu_0 \\rho_0\\sigma_0} = \\frac{48 G^2 M^2}{c^4 r^6} $$"
   ]
  },
  {
   "cell_type": "markdown",
   "id": "45401491-f3e3-4cea-9dad-396d014421c6",
   "metadata": {},
   "source": [
    "Observando o escalar de Kretschmann podemos ver que o raio de Schwarzschild (5.2) é um ponto completamente ordinário, ao passo que o ponto $r=0$ é divergente. Alguns pontos importantes sobre essas regiões são as seguintes:"
   ]
  },
  {
   "cell_type": "markdown",
   "id": "a6c19f08-968f-4167-85e4-ddc586b25a2f",
   "metadata": {},
   "source": [
    "**# RAIO DE SCHWARZSCHILD:** Essa hipersuperfície não define uma singularidade física, mas é apenas um resquício do sistema de coordenadas que estamos usando. Isso não significa, no entanto, que esses pontos são desinteressantes. Na verdade, toda a superfície define o horizonte de eventos. Em geral, o raio de Schwarzschild é muito menor que o raio do corpo, por exemplo, para o Sol, o $R_s \\simeq 3 km$ ao passo que para o planeta Terra, $R_s \\simeq 9 mm$. Ver tabela abaixo. \n",
    "\n",
    "A métrica de Schwarzschild que discutimos nesse texto é uma solução exterior, ou seja, é válida numa região onde o tensor energia momento é nulo $T_{\\mu\\nu} = 0$ o que também significa que $r > R_s$. O estudo da geometria interior exige outro sistema de coordenadas, chamada de solução interior, é mais sofisticada e não discutiremos nessa aula (e nem num curso de graduação). O que nos importa, no entando, é que qualquer corpo que tenha um raio menor que o raio de Schwarzschild é chamado de buraco negro. Evidente que toda essa discussão seria puramente acadêmica se não existissem razões para acreditar na formação desses objetos. "
   ]
  },
  {
   "cell_type": "code",
   "execution_count": 39,
   "id": "ac135f60-f579-4994-ad2c-8d5b4c0022df",
   "metadata": {
    "tags": []
   },
   "outputs": [],
   "source": [
    "# Alguns valores do Raio de Schwarzschild\n",
    "ScRadius = pd.read_html('https://en.wikipedia.org/wiki/Schwarzschild_radius', match=\"Object's Schwarzschild radius\") \n",
    "table = ScRadius[0][['Object','Mass','Schwarzschild radius']].loc[10:20]"
   ]
  },
  {
   "cell_type": "code",
   "execution_count": 40,
   "id": "56e0319c-21b1-4ebc-8f02-1f3aabf3e74d",
   "metadata": {
    "tags": []
   },
   "outputs": [
    {
     "data": {
      "text/html": [
       "<div>\n",
       "<style scoped>\n",
       "    .dataframe tbody tr th:only-of-type {\n",
       "        vertical-align: middle;\n",
       "    }\n",
       "\n",
       "    .dataframe tbody tr th {\n",
       "        vertical-align: top;\n",
       "    }\n",
       "\n",
       "    .dataframe thead th {\n",
       "        text-align: right;\n",
       "    }\n",
       "</style>\n",
       "<table border=\"1\" class=\"dataframe\">\n",
       "  <thead>\n",
       "    <tr style=\"text-align: right;\">\n",
       "      <th></th>\n",
       "      <th>Object</th>\n",
       "      <th>Mass</th>\n",
       "      <th>Schwarzschild radius</th>\n",
       "    </tr>\n",
       "  </thead>\n",
       "  <tbody>\n",
       "    <tr>\n",
       "      <th>10</th>\n",
       "      <td>Sun</td>\n",
       "      <td>1.99×1030 kg</td>\n",
       "      <td>2.95×103 m</td>\n",
       "    </tr>\n",
       "    <tr>\n",
       "      <th>11</th>\n",
       "      <td>Jupiter</td>\n",
       "      <td>1.90×1027 kg</td>\n",
       "      <td>2.82 m</td>\n",
       "    </tr>\n",
       "    <tr>\n",
       "      <th>12</th>\n",
       "      <td>Saturn</td>\n",
       "      <td>5.683×1026 kg</td>\n",
       "      <td>8.42×10−1 m</td>\n",
       "    </tr>\n",
       "    <tr>\n",
       "      <th>13</th>\n",
       "      <td>Neptune</td>\n",
       "      <td>1.024×1026 kg</td>\n",
       "      <td>1.52×10−1 m</td>\n",
       "    </tr>\n",
       "    <tr>\n",
       "      <th>14</th>\n",
       "      <td>Uranus</td>\n",
       "      <td>8.681×1025 kg</td>\n",
       "      <td>1.29×10−1 m</td>\n",
       "    </tr>\n",
       "    <tr>\n",
       "      <th>15</th>\n",
       "      <td>Earth</td>\n",
       "      <td>5.97×1024 kg</td>\n",
       "      <td>8.87×10−3 m</td>\n",
       "    </tr>\n",
       "    <tr>\n",
       "      <th>16</th>\n",
       "      <td>Venus</td>\n",
       "      <td>4.867×1024 kg</td>\n",
       "      <td>7.21×10−3 m</td>\n",
       "    </tr>\n",
       "    <tr>\n",
       "      <th>17</th>\n",
       "      <td>Mars</td>\n",
       "      <td>6.39×1023 kg</td>\n",
       "      <td>9.47×10−4 m</td>\n",
       "    </tr>\n",
       "    <tr>\n",
       "      <th>18</th>\n",
       "      <td>Mercury</td>\n",
       "      <td>3.285×1023 kg</td>\n",
       "      <td>4.87×10−4 m</td>\n",
       "    </tr>\n",
       "    <tr>\n",
       "      <th>19</th>\n",
       "      <td>Moon</td>\n",
       "      <td>7.35×1022 kg</td>\n",
       "      <td>1.09×10−4 m</td>\n",
       "    </tr>\n",
       "    <tr>\n",
       "      <th>20</th>\n",
       "      <td>Human</td>\n",
       "      <td>70 kg</td>\n",
       "      <td>1.04×10−25 m</td>\n",
       "    </tr>\n",
       "  </tbody>\n",
       "</table>\n",
       "</div>"
      ],
      "text/plain": [
       "     Object           Mass Schwarzschild radius\n",
       "10      Sun   1.99×1030 kg           2.95×103 m\n",
       "11  Jupiter   1.90×1027 kg               2.82 m\n",
       "12   Saturn  5.683×1026 kg          8.42×10−1 m\n",
       "13  Neptune  1.024×1026 kg          1.52×10−1 m\n",
       "14   Uranus  8.681×1025 kg          1.29×10−1 m\n",
       "15    Earth   5.97×1024 kg          8.87×10−3 m\n",
       "16    Venus  4.867×1024 kg          7.21×10−3 m\n",
       "17     Mars   6.39×1023 kg          9.47×10−4 m\n",
       "18  Mercury  3.285×1023 kg          4.87×10−4 m\n",
       "19     Moon   7.35×1022 kg          1.09×10−4 m\n",
       "20    Human          70 kg         1.04×10−25 m"
      ]
     },
     "execution_count": 40,
     "metadata": {},
     "output_type": "execute_result"
    }
   ],
   "source": [
    "table"
   ]
  },
  {
   "cell_type": "markdown",
   "id": "37b9df51-b349-40cd-9a35-c78f9e39e09e",
   "metadata": {},
   "source": [
    "**# SINGULARIDADE:** O ponto $r=0$ é uma singularidade física e não será removida pela escolha de um novo sistema de coordenada. O fato de existir essa singularidade foi razão para que muitos físicos acreditassem que buracos negros não poderiam existir. Roger Penrose provou uma série de teoremas que mostram que singularidades desse tipo (e consequente os Buracos Negros) não são objetos extraordinários na Relatividade Geral. Antes de continuarmos, é importante mencionar que a maioria dos físicos acreditam que efeitos quânticos de alguma formam controlam a formação dessas singularidades. "
   ]
  },
  {
   "cell_type": "markdown",
   "id": "e38ede17-635c-4fe1-a188-cdf8e37a5857",
   "metadata": {},
   "source": [
    "**# FORMAÇÃO DE UM BURACO NEGRO:** A estabilidade de uma estrela é determinada pelo equilíbrio entre a pressão da atração gravitacional e a das reações termonucleares, sobretudo no processo de fusão nuclear. Quando o combustível começa a acabar, a estrela começa a esfriar, a atração gravitacional tende a superar as reações nucleares, e para a maioria das estrelas, restará apenas um objeto estelar ultra-denso chamado de *Anã Branca*. Esse será o destino do nosso querido Sol, que formará uma Anã Branca de raio $\\simeq 5000 km$ (muito maior que seu $R_s$), mas com uma densidade de $10^9 kg /m^3$. O mecanismo que controla esse colapso gravitacional das Anãs Brancas é a pressão de degenerescência dos elétrons. Nesse caso, os elétrons se comportam como um gás de Fermi, e eles ocupam todos os estados com energia abaixo da Energia de Fermi, de tal forma que esse o princípio de exclusão de Pauli salva a estrela de um destino mais trágico. \n",
    "\n",
    "Chandrasekhar provou (antes de Penrose) que se a corpo estelar remanescente (chamado de Remnant em inglês) tiver $1.4 M_{\\odot}$, que hoje chamamos de Limite de Chandrasekhar (onde $M_{\\odot}$ é a massa solar), a pressão de degenerescência não é suficiente para controlar o colapso gravitacional. Com a descoberta dos neutrons por James Chadwick em 1932, ficou claro embora a pressão de degenerescência fosse insuficiente para controlar o colapso gravitacional, os elétrons interagem com os prótrons formando neutrons (e neutrinos) pelo inverso do decaimento beta. Isso forma uma estrela de Neutrons. A título de comparação, se o nosso Sol virasse uma estrela de neutros, ele teria um raio de apenas $30km$. Esses são os objetos mais densos na Natureza depois dos buracos negros, que são formados quando a massa do objeto estelar é da ordem de $3M_{\\odot}$, chamado de limite de Tolman–Oppenheimer–Volkoff.\n",
    "\n",
    "\n",
    "\n"
   ]
  },
  {
   "cell_type": "markdown",
   "id": "0d73d438-c44e-444e-8371-f0b65ec1b690",
   "metadata": {
    "jp-MarkdownHeadingCollapsed": true,
    "tags": []
   },
   "source": [
    "# Exercícios"
   ]
  },
  {
   "cell_type": "markdown",
   "id": "05610442-5d74-489b-89f9-8094f79922f1",
   "metadata": {},
   "source": [
    "Os problemas marcados com uma estrela são muito importantes e devem ser respondidos. \n",
    "\n",
    "**Problema 1.** Usando as coordenadas esféricas\n",
    "$$ x_1 = \\sin\\theta \\cos\\phi\\quad \n",
    "x_2 = \\sin\\theta \\sin\\phi\\quad  \n",
    "x_3 = \\cos\\theta$$\n",
    "prove que a métrica no espaço Euclidiano em 3D é dada por \n",
    "$$ ds^2_{Euc} = dr^2 + r^2 d\\Omega^2 $$\n",
    "onde a métrica da esfera unitária $\\mathbb{S}^2$ é\n",
    "$$ d\\Omega^2 = d\\theta^2 + \\sin^2 \\theta d\\phi^2 $$\n",
    "\n",
    "**Problema 2.** Usando a métrica da esfera unitária, mostre que os vetores de Killing da esfera $\\mathbb{S}^2$ são\n",
    "$$ \n",
    "\\xi^{(1)} = \\sin\\phi \\partial_\\theta + \\cot\\theta\\cos\\phi \\partial_\\phi\\quad \n",
    "\\xi^{(2)} = \\cos\\phi \\partial_\\theta - \\cot\\theta\\sin\\phi \\partial_\\phi \\quad\n",
    "\\xi^{(3)} = \\partial_\\phi\n",
    "$$\n",
    "e que eles satisfazem \n",
    "$$ [\\xi^{(a)}, \\xi^{(b)}] = \\epsilon^{abc}\\xi^{(c)}  $$\n",
    "que é a álgebra de Lie $SO(3)$. Sabendo que a solução de Schwarzschild tem 4 vetores de Killing, use esse resultado e escreva todos os campos vetoriais de Killing explicitamente. \n",
    "\n",
    "$\\star$ **Problema 3.** Usando as equações de Einstein (4.4), prove as relações (4.5), (4.7) e (4.10).\n",
    "\n",
    "$\\star$ **Problema 4.** Vimos na primeira parte desse curso que no limite Newtoniano, o potencial gravitacional é relacionado à componente $g_{00}$ por $g_{00} = -\\left(1 + 2\\frac{\\phi}{c^2}\\right)$. Repita o argumento que fizemos na primeira parte desse curso, reconsiderando uma partícula livre numa geometria definida pela métrica \n",
    "$$ ds^2 = -\\left(1 + \\frac{c_0}{r}\\right) c^2 dt^2 + \\frac{dr^2}{\\left(1 + \\frac{c_0}{r}\\right)} + r^2 d\\Omega_2^2 $$\n",
    "\n",
    "De fato, estudando a equação da geodésica para a solução de Schwarzschild (que encontraremos abaixo) nos levará ao potencial \n",
    "$\\phi(r) = - \\frac{GM}{r}$. Comparando esse resultado com a lei de Gauss gravitacional \n",
    "$$\\nabla\\cdot \\vec{E}_g = -\\Delta\\phi = - 4 \\pi G \\rho  \\quad \\Leftrightarrow \\quad \n",
    "\\int_{\\partial V} d \\vec{S}\\cdot \\vec{E}_g  = -4 \\pi G M $$\n",
    "onde $\\vec{E}_g$ é o campo gravitacional e $\\rho$ é a densidade de massa, use os mesmos argumentos do eletromagnetismo para justificar o resultado \n",
    "$$ c_0 = - \\frac{2GM}{c^2} $$\n",
    "\n",
    "**Problema 5.** \n",
    "Alternativamente, podemos buscar uma solução na forma \n",
    "$$ ds^2 = - a(\\rho)^2 c^2 dt^2 + b(\\rho)^2 (d\\rho^2 + \\rho^2(d\\theta^2 + \\sin^2\\theta d\\phi^2)) $$\n",
    "onde $\\rho=\\rho(r)$ é uma nova direção radial. Essas soluções são chamadas de *isotrópicas*, e para $t=constante$, o espaço-tempo nessas coordenadas é conforme ao espaço Euclidiano em 3D. Veja que as direções angulares não são modificadas. \n",
    "\n",
    "Usando uma tranformação da forma $$ r = \\rho\\left( 1 + \\frac{c_0}{2 \\rho} \\right)^2\\; , $$\n",
    "determine a constante $c_0$ e as funções $a(\\rho)$ e $b(\\rho)$ para a solução de Schwarzschild. Onde se encontra o Horizonte de Eventos?"
   ]
  },
  {
   "cell_type": "markdown",
   "id": "5fcd4503-1231-468f-bc61-06ef7ad848c3",
   "metadata": {
    "tags": [],
    "toc-hr-collapsed": true
   },
   "source": [
    "# Resolvendo a Equação de Einstein com o Python"
   ]
  },
  {
   "cell_type": "markdown",
   "id": "2f244934-cdd7-4ca3-ac5c-915d0f1853d1",
   "metadata": {},
   "source": [
    "Vamos agora resolver a solução de Einstein passo a passo usando o ansätz dado na expressão (3)."
   ]
  },
  {
   "cell_type": "code",
   "execution_count": 1,
   "id": "78b37875-4e0f-4902-bf7e-28e9879d5a5f",
   "metadata": {
    "tags": []
   },
   "outputs": [],
   "source": [
    "# METADADOS & PACOTES\n",
    "from sympy import *\n",
    "from itertools import *\n",
    "import pandas as pd\n",
    "\n",
    "import matplotlib.pyplot as plt\n",
    "import numpy as np\n",
    "# Einsteinpy: https://docs.einsteinpy.org/en/stable/index.html\n",
    "# Sympy: https://docs.sympy.org/latest/index.html\n",
    "# Intertools: https://docs.python.org/3/library/itertools.html"
   ]
  },
  {
   "cell_type": "code",
   "execution_count": 3,
   "id": "002d8427-3379-4832-8a8d-491c591e7e73",
   "metadata": {
    "tags": []
   },
   "outputs": [],
   "source": [
    "# PARÂMETROS \n",
    "# Massa M, constante de Newton G, velocidade da luz c, constante cosmológica Lb, tempo t, raio r, angulo polar theta th, azimuth phi ph \n",
    "M, G, c, Lb, t, r, th, ph = symbols('M G c Lb t r th ph')\n",
    "X = [t, r, th, ph]\n",
    "# Também definimos as funções f1 e f2 que usamos no ansätz para a solução de Schwarzschild\n",
    "f1 = Function('f1')('r') \n",
    "f2 = Function('f2')('r') \n",
    "\n",
    "# Para verificar as soluções explícitas, use\n",
    "# SCHWARZSCHILD: \n",
    "#f1 = ln(1 - 2*G*M / (r*c**2)) \n",
    "#f2 = - f1\n",
    "# De Sitter: \n",
    "#f1 = ln(1 - 2*G*M / (r*c**2) - Lb * r**2  / 3)\n",
    "#f2 = -f1 "
   ]
  },
  {
   "cell_type": "markdown",
   "id": "c5460f60-d804-43a5-90ab-b62ca6c83e3f",
   "metadata": {
    "tags": []
   },
   "source": [
    "## Métrica"
   ]
  },
  {
   "cell_type": "code",
   "execution_count": 4,
   "id": "3bd538c0-6bae-40f5-8ba0-60657177a197",
   "metadata": {
    "tags": []
   },
   "outputs": [],
   "source": [
    "# Aqui vamos definir a métrica. Inicialmente preenchemos todas as entradas com zeros, e depois definimos as componentes não nulas. \n",
    "g = zeros(4) \n",
    "g[0,0] = -exp(f1) # felizmente o python é relativista e começa a contar os indices a partir do zero \n",
    "g[1,1] = exp(f2)\n",
    "g[2,2] = r**2\n",
    "g[3,3] = r**2 * sin(th)**2\n",
    "\n",
    "rank = g.rank() # o rank será útil para generalizar esse código para casos onde o espaço-tempo tem dimensões maiores ou menos que 4. Sim, isso é muito importante. \n",
    "gI = g.inv() # Também precisamos da inversa para subir os indices de Lorentz"
   ]
  },
  {
   "cell_type": "markdown",
   "id": "04ccfafd-ad3c-4b6c-a3f9-2410e655f4bc",
   "metadata": {
    "tags": []
   },
   "source": [
    "## Símbolos de Christoffel"
   ]
  },
  {
   "cell_type": "markdown",
   "id": "9b12c7a9-3881-447a-ab87-de7b2d496c6f",
   "metadata": {},
   "source": [
    "Esses objetos são as componentes da conexão de Levi-Civita dadas explicitamente por:\n",
    "\n",
    "\\begin{equation}\n",
    "\\Gamma^\\rho_{\\mu\\nu} = \\frac{1}{2} g^{\\rho\\sigma} \\left( \\partial_\\mu g_{\\sigma\\nu} + \\partial_\\sigma g_{\\mu\\nu} - \\partial_\\sigma g_{\\mu\\nu} \\right)\n",
    "\\end{equation}"
   ]
  },
  {
   "cell_type": "code",
   "execution_count": 5,
   "id": "ee14f2fc-eb7a-4c7b-83db-47c241c1e37f",
   "metadata": {
    "tags": []
   },
   "outputs": [],
   "source": [
    "# k denota os indices contravariantes (no andar de cima), ao passo que i e j denotam os indices covariantes (no andar de baixo).\n",
    "def Gamma(k,i,j):\n",
    "    n = 0\n",
    "    GammaMatrix = 0\n",
    "    while n < rank:\n",
    "        GammaMatrix = GammaMatrix + gI[k,n]*(g[n,j].diff(X[i]) + g[n,i].diff(X[j]) - g[i,j].diff(X[n])) / 2\n",
    "        n += 1\n",
    "    return GammaMatrix"
   ]
  },
  {
   "cell_type": "markdown",
   "id": "13f8b3d0-5758-4b65-adbc-b147e841a70c",
   "metadata": {
    "tags": []
   },
   "source": [
    "É útil pensar nesses objetos, os símbolos de Christoffel como 4 matrizes rotulados com o indice k = 0, 1, 2, 3, de tal forma que:"
   ]
  },
  {
   "cell_type": "code",
   "execution_count": 6,
   "id": "4fc2a054-6c77-4576-8042-7ce6ed2d6f51",
   "metadata": {
    "tags": []
   },
   "outputs": [],
   "source": [
    "# Primeiro construímos 4 matrizes com todas as componentes nulas\n",
    "ChSymb0 = zeros(rank)\n",
    "ChSymb1 = zeros(rank)\n",
    "ChSymb2 = zeros(rank)\n",
    "ChSymb3 = zeros(rank)\n",
    "ChSymb = [ChSymb0, ChSymb1, ChSymb2, ChSymb3]"
   ]
  },
  {
   "cell_type": "code",
   "execution_count": 7,
   "id": "7bbcf36e-6e8f-43a5-870b-b1ed3ed98885",
   "metadata": {
    "tags": []
   },
   "outputs": [],
   "source": [
    "# Agora preenchemos essas matrizes com as componentes não nulas para o ansätz dado em (3)\n",
    "for k in range(rank):\n",
    "    for i in range(rank):\n",
    "        for j in range(rank):\n",
    "            if Gamma(k,i,j) != 0:\n",
    "                ChSymb[k][i,j] = Gamma(k,i,j)"
   ]
  },
  {
   "cell_type": "code",
   "execution_count": 24,
   "id": "66ae3765-43c3-48ab-8a15-fec3c828e7e3",
   "metadata": {
    "tags": []
   },
   "outputs": [
    {
     "name": "stdout",
     "output_type": "stream",
     "text": [
      "+++++++++ Christoffel(0) ++++++++++++++++\n"
     ]
    },
    {
     "data": {
      "text/latex": [
       "$\\displaystyle \\left[\\begin{matrix}0 & \\frac{\\frac{d}{d r} f_{1}{\\left(r \\right)}}{2} & 0 & 0\\\\\\frac{\\frac{d}{d r} f_{1}{\\left(r \\right)}}{2} & 0 & 0 & 0\\\\0 & 0 & 0 & 0\\\\0 & 0 & 0 & 0\\end{matrix}\\right]$"
      ],
      "text/plain": [
       "Matrix([\n",
       "[                     0, Derivative(f1(r), r)/2, 0, 0],\n",
       "[Derivative(f1(r), r)/2,                      0, 0, 0],\n",
       "[                     0,                      0, 0, 0],\n",
       "[                     0,                      0, 0, 0]])"
      ]
     },
     "metadata": {},
     "output_type": "display_data"
    },
    {
     "name": "stdout",
     "output_type": "stream",
     "text": [
      " \n",
      "+++++++++ Christoffel(1) ++++++++++++++++\n"
     ]
    },
    {
     "data": {
      "text/latex": [
       "$\\displaystyle \\left[\\begin{matrix}\\frac{e^{2 f_{1}{\\left(r \\right)}} \\frac{d}{d r} f_{1}{\\left(r \\right)}}{2} & 0 & 0 & 0\\\\0 & - \\frac{\\frac{d}{d r} f_{1}{\\left(r \\right)}}{2} & 0 & 0\\\\0 & 0 & - r e^{f_{1}{\\left(r \\right)}} & 0\\\\0 & 0 & 0 & - r e^{f_{1}{\\left(r \\right)}} \\sin^{2}{\\left(th \\right)}\\end{matrix}\\right]$"
      ],
      "text/plain": [
       "Matrix([\n",
       "[exp(2*f1(r))*Derivative(f1(r), r)/2,                       0,             0,                        0],\n",
       "[                                  0, -Derivative(f1(r), r)/2,             0,                        0],\n",
       "[                                  0,                       0, -r*exp(f1(r)),                        0],\n",
       "[                                  0,                       0,             0, -r*exp(f1(r))*sin(th)**2]])"
      ]
     },
     "metadata": {},
     "output_type": "display_data"
    },
    {
     "name": "stdout",
     "output_type": "stream",
     "text": [
      " \n",
      "+++++++++ Christoffel(2) ++++++++++++++++\n"
     ]
    },
    {
     "data": {
      "text/latex": [
       "$\\displaystyle \\left[\\begin{matrix}0 & 0 & 0 & 0\\\\0 & 0 & \\frac{1}{r} & 0\\\\0 & \\frac{1}{r} & 0 & 0\\\\0 & 0 & 0 & - \\sin{\\left(th \\right)} \\cos{\\left(th \\right)}\\end{matrix}\\right]$"
      ],
      "text/plain": [
       "Matrix([\n",
       "[0,   0,   0,                0],\n",
       "[0,   0, 1/r,                0],\n",
       "[0, 1/r,   0,                0],\n",
       "[0,   0,   0, -sin(th)*cos(th)]])"
      ]
     },
     "metadata": {},
     "output_type": "display_data"
    },
    {
     "name": "stdout",
     "output_type": "stream",
     "text": [
      " \n",
      "+++++++++ Christoffel(3) ++++++++++++++++\n"
     ]
    },
    {
     "data": {
      "text/latex": [
       "$\\displaystyle \\left[\\begin{matrix}0 & 0 & 0 & 0\\\\0 & 0 & 0 & \\frac{1}{r}\\\\0 & 0 & 0 & \\frac{\\cos{\\left(th \\right)}}{\\sin{\\left(th \\right)}}\\\\0 & \\frac{1}{r} & \\frac{\\cos{\\left(th \\right)}}{\\sin{\\left(th \\right)}} & 0\\end{matrix}\\right]$"
      ],
      "text/plain": [
       "Matrix([\n",
       "[0,   0,               0,               0],\n",
       "[0,   0,               0,             1/r],\n",
       "[0,   0,               0, cos(th)/sin(th)],\n",
       "[0, 1/r, cos(th)/sin(th),               0]])"
      ]
     },
     "metadata": {},
     "output_type": "display_data"
    },
    {
     "name": "stdout",
     "output_type": "stream",
     "text": [
      " \n"
     ]
    }
   ],
   "source": [
    "# Para ver o resultado explícito, fazemos\n",
    "for k in range(len(ChSymb)):\n",
    "    print(f\"+++++++++ Christoffel({k}) ++++++++++++++++\")\n",
    "    display(ChSymb[k])\n",
    "    print(\" \")"
   ]
  },
  {
   "cell_type": "markdown",
   "id": "b941bfab-f031-4142-96c6-e2813f2daa39",
   "metadata": {
    "tags": []
   },
   "source": [
    "## Tensor de Riemann"
   ]
  },
  {
   "cell_type": "markdown",
   "id": "592693e5-aee3-418d-b03a-25c7bbc9a96b",
   "metadata": {
    "tags": []
   },
   "source": [
    "De posse dos simbolos de Christoffel, podemos encontrar o tensor de Riemann pela expressão\n",
    "\n",
    "\\begin{equation}\n",
    "R^{\\lambda}_{\\rho \\mu \\nu} = \\partial_\\mu \\Gamma^{\\lambda}_{\\nu \\rho} - \\partial_\\lambda \\Gamma^\\nu_{\\rho \\mu} + \\Gamma^\\lambda_{\\mu\\sigma}\\Gamma^\\sigma_{\\rho\\nu} -  \\Gamma^\\lambda_{\\nu \\sigma}\\Gamma^\\sigma_{\\rho\\mu}\n",
    "\\end{equation}"
   ]
  },
  {
   "cell_type": "code",
   "execution_count": 8,
   "id": "eb975dff-c2a7-4654-befe-ca690a149d02",
   "metadata": {
    "tags": []
   },
   "outputs": [],
   "source": [
    "# l é contravariante; k,i,j são covariantes\n",
    "# Aqui vamos definir a constração do produto de dois simbolos de Christoffel. Ou seja, os dois últimos termos na equação (5)\n",
    "def Contraction(l,k,i,j):\n",
    "    n = 0 \n",
    "    cont = 0 \n",
    "    while n < rank:\n",
    "        cont = cont + ChSymb[l][i,n] * ChSymb[n][k,j] - ChSymb[l][j,n] * ChSymb[n][k,i]\n",
    "        n += 1\n",
    "    return cont"
   ]
  },
  {
   "cell_type": "code",
   "execution_count": 9,
   "id": "51241635-0128-4add-bd1e-58c4e945370d",
   "metadata": {
    "tags": []
   },
   "outputs": [],
   "source": [
    "# Agora calculamos as componentes do tensor de Riemann propriamente ditas. \n",
    "def Riem(l,k,i,j):\n",
    "    n = 0\n",
    "    Riemann = 0\n",
    "    while n < rank:\n",
    "        Riemann = Riemann + ChSymb[l][k,j].diff(X[i]) - ChSymb[l][k,i].diff(X[j]) + Contraction(l,k,i,j)\n",
    "        n += 1\n",
    "    R = Riemann.simplify()\n",
    "    return R"
   ]
  },
  {
   "cell_type": "markdown",
   "id": "1753a1b7-1cbf-44df-8d89-b5d9424bfb10",
   "metadata": {},
   "source": [
    "Com as componentes que podemos calcular usando a função acima, vamos organizar esses resultados em termos de matrizes $(R^\\lambda_\\rho)_{\\mu\\nu}$"
   ]
  },
  {
   "cell_type": "code",
   "execution_count": 10,
   "id": "d62ea381-c287-4ca8-8a0b-81812a2f7cae",
   "metadata": {
    "tags": []
   },
   "outputs": [],
   "source": [
    "# Mais uma vez, definimos as matrizes e preenchemos com zeros. \n",
    "RieTen00 = zeros(rank); RieTen01 = zeros(rank); RieTen02 = zeros(rank); RieTen03 = zeros(rank)\n",
    "RieTen10 = zeros(rank); RieTen11 = zeros(rank); RieTen12 = zeros(rank); RieTen13 = zeros(rank)\n",
    "RieTen20 = zeros(rank); RieTen21 = zeros(rank); RieTen22 = zeros(rank); RieTen23 = zeros(rank)\n",
    "RieTen30 = zeros(rank); RieTen31 = zeros(rank); RieTen32 = zeros(rank); RieTen33 = zeros(rank)\n",
    "\n",
    "Rie = [[RieTen00, RieTen01, RieTen02, RieTen03], \n",
    "       [RieTen10, RieTen11, RieTen12, RieTen13],\n",
    "       [RieTen20, RieTen21, RieTen22, RieTen23],\n",
    "       [RieTen30, RieTen31, RieTen32, RieTen33]]"
   ]
  },
  {
   "cell_type": "code",
   "execution_count": 11,
   "id": "7248d1e0-d4df-4e10-b335-462f9948873c",
   "metadata": {
    "tags": []
   },
   "outputs": [],
   "source": [
    "# E agora podemos preencher as componentes não nulas nas matrizes acima\n",
    "for l in range(rank):\n",
    "    for k in range(rank):\n",
    "        for i in range(rank):\n",
    "            for j in range(rank):\n",
    "                if Riem(l,k,i,j) != 0:\n",
    "                    Rie[l][k][i,j] = Riem(l,k,i,j) / 4 \n",
    "                    '''\n",
    "                    Aqui temos que explicar a presença dessa divisão por 4. No meu código, estamos separando um tensor em várias matrizes, \n",
    "                    e isso introduz redundâncias devido aos loops que estamos tomando sobre esses objetos. \n",
    "                    '''"
   ]
  },
  {
   "cell_type": "code",
   "execution_count": 29,
   "id": "be127f91-9e06-4334-afed-c51aca455b8b",
   "metadata": {
    "tags": []
   },
   "outputs": [
    {
     "data": {
      "text/latex": [
       "$\\displaystyle \\left[\\begin{matrix}0 & 0 & 0 & 0\\\\0 & 0 & 0 & 0\\\\0 & 0 & 0 & 0\\\\0 & 0 & 0 & 0\\end{matrix}\\right]$"
      ],
      "text/plain": [
       "Matrix([\n",
       "[0, 0, 0, 0],\n",
       "[0, 0, 0, 0],\n",
       "[0, 0, 0, 0],\n",
       "[0, 0, 0, 0]])"
      ]
     },
     "metadata": {},
     "output_type": "display_data"
    },
    {
     "data": {
      "text/latex": [
       "$\\displaystyle \\left[\\begin{matrix}0 & - \\frac{\\left(\\frac{d}{d r} f_{1}{\\left(r \\right)}\\right)^{2}}{2} - \\frac{\\frac{d^{2}}{d r^{2}} f_{1}{\\left(r \\right)}}{2} & 0 & 0\\\\\\frac{\\left(\\frac{d}{d r} f_{1}{\\left(r \\right)}\\right)^{2}}{2} + \\frac{\\frac{d^{2}}{d r^{2}} f_{1}{\\left(r \\right)}}{2} & 0 & 0 & 0\\\\0 & 0 & 0 & 0\\\\0 & 0 & 0 & 0\\end{matrix}\\right]$"
      ],
      "text/plain": [
       "Matrix([\n",
       "[                                                      0, -Derivative(f1(r), r)**2/2 - Derivative(f1(r), (r, 2))/2, 0, 0],\n",
       "[Derivative(f1(r), r)**2/2 + Derivative(f1(r), (r, 2))/2,                                                        0, 0, 0],\n",
       "[                                                      0,                                                        0, 0, 0],\n",
       "[                                                      0,                                                        0, 0, 0]])"
      ]
     },
     "metadata": {},
     "output_type": "display_data"
    },
    {
     "data": {
      "text/latex": [
       "$\\displaystyle \\left[\\begin{matrix}0 & 0 & - \\frac{r e^{f_{1}{\\left(r \\right)}} \\frac{d}{d r} f_{1}{\\left(r \\right)}}{2} & 0\\\\0 & 0 & 0 & 0\\\\\\frac{r e^{f_{1}{\\left(r \\right)}} \\frac{d}{d r} f_{1}{\\left(r \\right)}}{2} & 0 & 0 & 0\\\\0 & 0 & 0 & 0\\end{matrix}\\right]$"
      ],
      "text/plain": [
       "Matrix([\n",
       "[                                  0, 0, -r*exp(f1(r))*Derivative(f1(r), r)/2, 0],\n",
       "[                                  0, 0,                                    0, 0],\n",
       "[r*exp(f1(r))*Derivative(f1(r), r)/2, 0,                                    0, 0],\n",
       "[                                  0, 0,                                    0, 0]])"
      ]
     },
     "metadata": {},
     "output_type": "display_data"
    },
    {
     "data": {
      "text/latex": [
       "$\\displaystyle \\left[\\begin{matrix}0 & 0 & 0 & - \\frac{r e^{f_{1}{\\left(r \\right)}} \\sin^{2}{\\left(th \\right)} \\frac{d}{d r} f_{1}{\\left(r \\right)}}{2}\\\\0 & 0 & 0 & 0\\\\0 & 0 & 0 & 0\\\\\\frac{r e^{f_{1}{\\left(r \\right)}} \\sin^{2}{\\left(th \\right)} \\frac{d}{d r} f_{1}{\\left(r \\right)}}{2} & 0 & 0 & 0\\end{matrix}\\right]$"
      ],
      "text/plain": [
       "Matrix([\n",
       "[                                             0, 0, 0, -r*exp(f1(r))*sin(th)**2*Derivative(f1(r), r)/2],\n",
       "[                                             0, 0, 0,                                               0],\n",
       "[                                             0, 0, 0,                                               0],\n",
       "[r*exp(f1(r))*sin(th)**2*Derivative(f1(r), r)/2, 0, 0,                                               0]])"
      ]
     },
     "metadata": {},
     "output_type": "display_data"
    },
    {
     "data": {
      "text/latex": [
       "$\\displaystyle \\left[\\begin{matrix}0 & \\frac{\\left(- \\left(\\frac{d}{d r} f_{1}{\\left(r \\right)}\\right)^{2} - \\frac{d^{2}}{d r^{2}} f_{1}{\\left(r \\right)}\\right) e^{2 f_{1}{\\left(r \\right)}}}{2} & 0 & 0\\\\\\frac{\\left(\\left(\\frac{d}{d r} f_{1}{\\left(r \\right)}\\right)^{2} + \\frac{d^{2}}{d r^{2}} f_{1}{\\left(r \\right)}\\right) e^{2 f_{1}{\\left(r \\right)}}}{2} & 0 & 0 & 0\\\\0 & 0 & 0 & 0\\\\0 & 0 & 0 & 0\\end{matrix}\\right]$"
      ],
      "text/plain": [
       "Matrix([\n",
       "[                                                                   0, (-Derivative(f1(r), r)**2 - Derivative(f1(r), (r, 2)))*exp(2*f1(r))/2, 0, 0],\n",
       "[(Derivative(f1(r), r)**2 + Derivative(f1(r), (r, 2)))*exp(2*f1(r))/2,                                                                     0, 0, 0],\n",
       "[                                                                   0,                                                                     0, 0, 0],\n",
       "[                                                                   0,                                                                     0, 0, 0]])"
      ]
     },
     "metadata": {},
     "output_type": "display_data"
    },
    {
     "data": {
      "text/latex": [
       "$\\displaystyle \\left[\\begin{matrix}0 & 0 & 0 & 0\\\\0 & 0 & 0 & 0\\\\0 & 0 & 0 & 0\\\\0 & 0 & 0 & 0\\end{matrix}\\right]$"
      ],
      "text/plain": [
       "Matrix([\n",
       "[0, 0, 0, 0],\n",
       "[0, 0, 0, 0],\n",
       "[0, 0, 0, 0],\n",
       "[0, 0, 0, 0]])"
      ]
     },
     "metadata": {},
     "output_type": "display_data"
    },
    {
     "data": {
      "text/latex": [
       "$\\displaystyle \\left[\\begin{matrix}0 & 0 & 0 & 0\\\\0 & 0 & - \\frac{r e^{f_{1}{\\left(r \\right)}} \\frac{d}{d r} f_{1}{\\left(r \\right)}}{2} & 0\\\\0 & \\frac{r e^{f_{1}{\\left(r \\right)}} \\frac{d}{d r} f_{1}{\\left(r \\right)}}{2} & 0 & 0\\\\0 & 0 & 0 & 0\\end{matrix}\\right]$"
      ],
      "text/plain": [
       "Matrix([\n",
       "[0,                                   0,                                    0, 0],\n",
       "[0,                                   0, -r*exp(f1(r))*Derivative(f1(r), r)/2, 0],\n",
       "[0, r*exp(f1(r))*Derivative(f1(r), r)/2,                                    0, 0],\n",
       "[0,                                   0,                                    0, 0]])"
      ]
     },
     "metadata": {},
     "output_type": "display_data"
    },
    {
     "data": {
      "text/latex": [
       "$\\displaystyle \\left[\\begin{matrix}0 & 0 & 0 & 0\\\\0 & 0 & 0 & - \\frac{r e^{f_{1}{\\left(r \\right)}} \\sin^{2}{\\left(th \\right)} \\frac{d}{d r} f_{1}{\\left(r \\right)}}{2}\\\\0 & 0 & 0 & 0\\\\0 & \\frac{r e^{f_{1}{\\left(r \\right)}} \\sin^{2}{\\left(th \\right)} \\frac{d}{d r} f_{1}{\\left(r \\right)}}{2} & 0 & 0\\end{matrix}\\right]$"
      ],
      "text/plain": [
       "Matrix([\n",
       "[0,                                              0, 0,                                               0],\n",
       "[0,                                              0, 0, -r*exp(f1(r))*sin(th)**2*Derivative(f1(r), r)/2],\n",
       "[0,                                              0, 0,                                               0],\n",
       "[0, r*exp(f1(r))*sin(th)**2*Derivative(f1(r), r)/2, 0,                                               0]])"
      ]
     },
     "metadata": {},
     "output_type": "display_data"
    },
    {
     "data": {
      "text/latex": [
       "$\\displaystyle \\left[\\begin{matrix}0 & 0 & - \\frac{e^{2 f_{1}{\\left(r \\right)}} \\frac{d}{d r} f_{1}{\\left(r \\right)}}{2 r} & 0\\\\0 & 0 & 0 & 0\\\\\\frac{e^{2 f_{1}{\\left(r \\right)}} \\frac{d}{d r} f_{1}{\\left(r \\right)}}{2 r} & 0 & 0 & 0\\\\0 & 0 & 0 & 0\\end{matrix}\\right]$"
      ],
      "text/plain": [
       "Matrix([\n",
       "[                                      0, 0, -exp(2*f1(r))*Derivative(f1(r), r)/(2*r), 0],\n",
       "[                                      0, 0,                                        0, 0],\n",
       "[exp(2*f1(r))*Derivative(f1(r), r)/(2*r), 0,                                        0, 0],\n",
       "[                                      0, 0,                                        0, 0]])"
      ]
     },
     "metadata": {},
     "output_type": "display_data"
    },
    {
     "data": {
      "text/latex": [
       "$\\displaystyle \\left[\\begin{matrix}0 & 0 & 0 & 0\\\\0 & 0 & \\frac{\\frac{d}{d r} f_{1}{\\left(r \\right)}}{2 r} & 0\\\\0 & - \\frac{\\frac{d}{d r} f_{1}{\\left(r \\right)}}{2 r} & 0 & 0\\\\0 & 0 & 0 & 0\\end{matrix}\\right]$"
      ],
      "text/plain": [
       "Matrix([\n",
       "[0,                           0,                          0, 0],\n",
       "[0,                           0, Derivative(f1(r), r)/(2*r), 0],\n",
       "[0, -Derivative(f1(r), r)/(2*r),                          0, 0],\n",
       "[0,                           0,                          0, 0]])"
      ]
     },
     "metadata": {},
     "output_type": "display_data"
    },
    {
     "data": {
      "text/latex": [
       "$\\displaystyle \\left[\\begin{matrix}0 & 0 & 0 & 0\\\\0 & 0 & 0 & 0\\\\0 & 0 & 0 & 0\\\\0 & 0 & 0 & 0\\end{matrix}\\right]$"
      ],
      "text/plain": [
       "Matrix([\n",
       "[0, 0, 0, 0],\n",
       "[0, 0, 0, 0],\n",
       "[0, 0, 0, 0],\n",
       "[0, 0, 0, 0]])"
      ]
     },
     "metadata": {},
     "output_type": "display_data"
    },
    {
     "data": {
      "text/latex": [
       "$\\displaystyle \\left[\\begin{matrix}0 & 0 & 0 & 0\\\\0 & 0 & 0 & 0\\\\0 & 0 & 0 & \\left(1 - e^{f_{1}{\\left(r \\right)}}\\right) \\sin^{2}{\\left(th \\right)}\\\\0 & 0 & \\left(e^{f_{1}{\\left(r \\right)}} - 1\\right) \\sin^{2}{\\left(th \\right)} & 0\\end{matrix}\\right]$"
      ],
      "text/plain": [
       "Matrix([\n",
       "[0, 0,                           0,                           0],\n",
       "[0, 0,                           0,                           0],\n",
       "[0, 0,                           0, (1 - exp(f1(r)))*sin(th)**2],\n",
       "[0, 0, (exp(f1(r)) - 1)*sin(th)**2,                           0]])"
      ]
     },
     "metadata": {},
     "output_type": "display_data"
    },
    {
     "data": {
      "text/latex": [
       "$\\displaystyle \\left[\\begin{matrix}0 & 0 & 0 & - \\frac{e^{2 f_{1}{\\left(r \\right)}} \\frac{d}{d r} f_{1}{\\left(r \\right)}}{2 r}\\\\0 & 0 & 0 & 0\\\\0 & 0 & 0 & 0\\\\\\frac{e^{2 f_{1}{\\left(r \\right)}} \\frac{d}{d r} f_{1}{\\left(r \\right)}}{2 r} & 0 & 0 & 0\\end{matrix}\\right]$"
      ],
      "text/plain": [
       "Matrix([\n",
       "[                                      0, 0, 0, -exp(2*f1(r))*Derivative(f1(r), r)/(2*r)],\n",
       "[                                      0, 0, 0,                                        0],\n",
       "[                                      0, 0, 0,                                        0],\n",
       "[exp(2*f1(r))*Derivative(f1(r), r)/(2*r), 0, 0,                                        0]])"
      ]
     },
     "metadata": {},
     "output_type": "display_data"
    },
    {
     "data": {
      "text/latex": [
       "$\\displaystyle \\left[\\begin{matrix}0 & 0 & 0 & 0\\\\0 & 0 & 0 & \\frac{\\frac{d}{d r} f_{1}{\\left(r \\right)}}{2 r}\\\\0 & 0 & 0 & 0\\\\0 & - \\frac{\\frac{d}{d r} f_{1}{\\left(r \\right)}}{2 r} & 0 & 0\\end{matrix}\\right]$"
      ],
      "text/plain": [
       "Matrix([\n",
       "[0,                           0, 0,                          0],\n",
       "[0,                           0, 0, Derivative(f1(r), r)/(2*r)],\n",
       "[0,                           0, 0,                          0],\n",
       "[0, -Derivative(f1(r), r)/(2*r), 0,                          0]])"
      ]
     },
     "metadata": {},
     "output_type": "display_data"
    },
    {
     "data": {
      "text/latex": [
       "$\\displaystyle \\left[\\begin{matrix}0 & 0 & 0 & 0\\\\0 & 0 & 0 & 0\\\\0 & 0 & 0 & e^{f_{1}{\\left(r \\right)}} - 1\\\\0 & 0 & 1 - e^{f_{1}{\\left(r \\right)}} & 0\\end{matrix}\\right]$"
      ],
      "text/plain": [
       "Matrix([\n",
       "[0, 0,              0,              0],\n",
       "[0, 0,              0,              0],\n",
       "[0, 0,              0, exp(f1(r)) - 1],\n",
       "[0, 0, 1 - exp(f1(r)),              0]])"
      ]
     },
     "metadata": {},
     "output_type": "display_data"
    },
    {
     "data": {
      "text/latex": [
       "$\\displaystyle \\left[\\begin{matrix}0 & 0 & 0 & 0\\\\0 & 0 & 0 & 0\\\\0 & 0 & 0 & 0\\\\0 & 0 & 0 & 0\\end{matrix}\\right]$"
      ],
      "text/plain": [
       "Matrix([\n",
       "[0, 0, 0, 0],\n",
       "[0, 0, 0, 0],\n",
       "[0, 0, 0, 0],\n",
       "[0, 0, 0, 0]])"
      ]
     },
     "metadata": {},
     "output_type": "display_data"
    }
   ],
   "source": [
    "# Para ver o resultado explícito, fazemos\n",
    "for l in range(rank):\n",
    "    for k in range(rank):\n",
    "        display(Rie[l][k])"
   ]
  },
  {
   "cell_type": "markdown",
   "id": "1785e0e8-5ba5-4d74-ba79-d3bd800f881f",
   "metadata": {
    "tags": []
   },
   "source": [
    "## Tensor de Ricci"
   ]
  },
  {
   "cell_type": "markdown",
   "id": "e615aaff-de12-4060-ae8c-cfc908899cf5",
   "metadata": {},
   "source": [
    "Finalmente, podemos calcular o tensor de Ricci como \n",
    "\\begin{equation}\n",
    "R_{\\mu\\nu} = R^\\rho_{\\mu \\rho \\nu}\n",
    "\\end{equation}"
   ]
  },
  {
   "cell_type": "code",
   "execution_count": 12,
   "id": "11ab99b1-dfad-4f8e-93cb-6523803163de",
   "metadata": {
    "tags": []
   },
   "outputs": [],
   "source": [
    "def Ricci(i,j):\n",
    "    ricc = 0\n",
    "    n = 0\n",
    "    for k in range(rank):\n",
    "        ricc = ricc + Rie[k][i][k,j]\n",
    "        r = ricc.simplify()\n",
    "    return r"
   ]
  },
  {
   "cell_type": "markdown",
   "id": "83805f4b-a6ce-4886-95dc-0a3a97710325",
   "metadata": {},
   "source": [
    "Agora vamos organizar esse tensor na forma matricial "
   ]
  },
  {
   "cell_type": "code",
   "execution_count": 13,
   "id": "03e82013-0e84-4242-b406-d3014546bd66",
   "metadata": {
    "tags": []
   },
   "outputs": [],
   "source": [
    "Ric = zeros(rank)"
   ]
  },
  {
   "cell_type": "code",
   "execution_count": 14,
   "id": "2d08f0f0-a81e-4b81-ae4b-ba0316f05267",
   "metadata": {
    "tags": []
   },
   "outputs": [],
   "source": [
    "# E agora podemos preencher as componentes não nulas nas matrizes acima\n",
    "for i in range(rank):\n",
    "    for j in range(rank):\n",
    "         if Ricci(i,j) != 0:\n",
    "            Ric[i,j] = Ricci(i,j)"
   ]
  },
  {
   "cell_type": "code",
   "execution_count": 33,
   "id": "a9e1a821-e52a-452e-a5f5-101191a3bdc2",
   "metadata": {
    "tags": []
   },
   "outputs": [
    {
     "name": "stdout",
     "output_type": "stream",
     "text": [
      "+++++++++ Ricci(0,0) ++++++++++++++++\n"
     ]
    },
    {
     "data": {
      "text/latex": [
       "$\\displaystyle \\frac{\\left(\\frac{r \\left(\\left(\\frac{d}{d r} f_{1}{\\left(r \\right)}\\right)^{2} + \\frac{d^{2}}{d r^{2}} f_{1}{\\left(r \\right)}\\right)}{2} + \\frac{d}{d r} f_{1}{\\left(r \\right)}\\right) e^{2 f_{1}{\\left(r \\right)}}}{r}$"
      ],
      "text/plain": [
       "(r*(Derivative(f1(r), r)**2 + Derivative(f1(r), (r, 2)))/2 + Derivative(f1(r), r))*exp(2*f1(r))/r"
      ]
     },
     "metadata": {},
     "output_type": "display_data"
    },
    {
     "name": "stdout",
     "output_type": "stream",
     "text": [
      " \n",
      "+++++++++ Ricci(1,1) ++++++++++++++++\n"
     ]
    },
    {
     "data": {
      "text/latex": [
       "$\\displaystyle \\frac{\\frac{r \\left(- \\left(\\frac{d}{d r} f_{1}{\\left(r \\right)}\\right)^{2} - \\frac{d^{2}}{d r^{2}} f_{1}{\\left(r \\right)}\\right)}{2} - \\frac{d}{d r} f_{1}{\\left(r \\right)}}{r}$"
      ],
      "text/plain": [
       "(r*(-Derivative(f1(r), r)**2 - Derivative(f1(r), (r, 2)))/2 - Derivative(f1(r), r))/r"
      ]
     },
     "metadata": {},
     "output_type": "display_data"
    },
    {
     "name": "stdout",
     "output_type": "stream",
     "text": [
      " \n",
      "+++++++++ Ricci(2,2) ++++++++++++++++\n"
     ]
    },
    {
     "data": {
      "text/latex": [
       "$\\displaystyle - r e^{f_{1}{\\left(r \\right)}} \\frac{d}{d r} f_{1}{\\left(r \\right)} - e^{f_{1}{\\left(r \\right)}} + 1$"
      ],
      "text/plain": [
       "-r*exp(f1(r))*Derivative(f1(r), r) - exp(f1(r)) + 1"
      ]
     },
     "metadata": {},
     "output_type": "display_data"
    },
    {
     "name": "stdout",
     "output_type": "stream",
     "text": [
      " \n",
      "+++++++++ Ricci(3,3) ++++++++++++++++\n"
     ]
    },
    {
     "data": {
      "text/latex": [
       "$\\displaystyle \\left(- r e^{f_{1}{\\left(r \\right)}} \\frac{d}{d r} f_{1}{\\left(r \\right)} - e^{f_{1}{\\left(r \\right)}} + 1\\right) \\sin^{2}{\\left(th \\right)}$"
      ],
      "text/plain": [
       "(-r*exp(f1(r))*Derivative(f1(r), r) - exp(f1(r)) + 1)*sin(th)**2"
      ]
     },
     "metadata": {},
     "output_type": "display_data"
    },
    {
     "name": "stdout",
     "output_type": "stream",
     "text": [
      " \n"
     ]
    }
   ],
   "source": [
    "# Para ver o resultado explícito, fazemos\n",
    "for i in range(rank):\n",
    "    for j in range(rank):\n",
    "        if Ric[i,j] != 0:\n",
    "            print(f\"+++++++++ Ricci({i},{j}) ++++++++++++++++\")\n",
    "            display(Ric[i,j])\n",
    "            print(\" \")"
   ]
  },
  {
   "cell_type": "markdown",
   "id": "defc9562-d4ce-4862-9351-0ed1e9e1c206",
   "metadata": {},
   "source": [
    "$\\clubsuit$ **1.** Apenas 3 equações são independentes. É simples verificar que \n",
    "\\begin{equation}\n",
    "R_{33} - sin^2\\theta = 0 \n",
    "\\end{equation}"
   ]
  },
  {
   "cell_type": "code",
   "execution_count": 15,
   "id": "af690450-19c8-405a-a428-4c3a2bbf1626",
   "metadata": {
    "tags": []
   },
   "outputs": [
    {
     "data": {
      "text/latex": [
       "$\\displaystyle 0$"
      ],
      "text/plain": [
       "0"
      ]
     },
     "execution_count": 15,
     "metadata": {},
     "output_type": "execute_result"
    }
   ],
   "source": [
    "(Ric[3,3] - Ric[2,2]*(sin(th)**2)).simplify()"
   ]
  },
  {
   "cell_type": "markdown",
   "id": "1a964142-dab7-4670-a379-6910439999a4",
   "metadata": {},
   "source": [
    "$\\clubsuit$ **2.** As 2 primeiras equações possuem uma estrutura muito semelhante, então faremos a operação a seguir \n",
    "\n",
    "\\begin{equation}\n",
    "r(e^{-f_1 + f_2} R_{00} + R_{11})  = 0\n",
    "\\end{equation}"
   ]
  },
  {
   "cell_type": "code",
   "execution_count": 16,
   "id": "33e684dd-fff2-452d-90b4-972782a1f447",
   "metadata": {
    "tags": []
   },
   "outputs": [
    {
     "data": {
      "text/latex": [
       "$\\displaystyle \\frac{d}{d r} f_{1}{\\left(r \\right)} + \\frac{d}{d r} f_{2}{\\left(r \\right)}$"
      ],
      "text/plain": [
       "Derivative(f1(r), r) + Derivative(f2(r), r)"
      ]
     },
     "execution_count": 16,
     "metadata": {},
     "output_type": "execute_result"
    }
   ],
   "source": [
    "r*(exp(-f1+f2)*Ric[0,0] + Ric[1,1]).simplify()"
   ]
  },
  {
   "cell_type": "markdown",
   "id": "0f5009b8-9aa1-41f3-9da5-decbc67807d5",
   "metadata": {},
   "source": [
    "de onde concluímos que \n",
    "\\begin{equation}\n",
    "f_1 + f_2 = c_0 \\quad \\Rightarrow \\quad f_2 = -f_1  \n",
    "\\end{equation}\n",
    "onde $c_0$ é uma constante que escolhemos como zero. "
   ]
  },
  {
   "cell_type": "markdown",
   "id": "43805608-7242-4070-99bf-2f77f214604f",
   "metadata": {},
   "source": [
    "$\\clubsuit$ **3.** Agora vamos usar essa condição na equação \n",
    "\\begin{equation}\n",
    "R_{22}\\ = 0\n",
    "\\end{equation}"
   ]
  },
  {
   "cell_type": "code",
   "execution_count": 34,
   "id": "be7dfa0c-b1fc-4265-a32b-32e4f3730f66",
   "metadata": {
    "tags": []
   },
   "outputs": [
    {
     "data": {
      "text/latex": [
       "$\\displaystyle - r e^{f_{1}{\\left(r \\right)}} \\frac{d}{d r} f_{1}{\\left(r \\right)} - e^{f_{1}{\\left(r \\right)}} + 1$"
      ],
      "text/plain": [
       "-r*exp(f1(r))*Derivative(f1(r), r) - exp(f1(r)) + 1"
      ]
     },
     "execution_count": 34,
     "metadata": {},
     "output_type": "execute_result"
    }
   ],
   "source": [
    "Ric[2,2].simplify()"
   ]
  },
  {
   "cell_type": "markdown",
   "id": "6f86e23f-cac1-4faa-bdc0-00ecbb0903b3",
   "metadata": {
    "tags": []
   },
   "source": [
    "## Escalar de Kretschmann"
   ]
  },
  {
   "cell_type": "code",
   "execution_count": 17,
   "id": "e15211a3-73f2-4b74-b53f-f2f4924024a0",
   "metadata": {
    "tags": []
   },
   "outputs": [],
   "source": [
    "indices = list(product([0,1,2,3], repeat=2))\n",
    "def Kr():\n",
    "    K = 0\n",
    "    for m in indices:\n",
    "        for n in indices:\n",
    "            for p in indices: \n",
    "                for q in indices:\n",
    "                    K += g[m[0],m[1]] * gI[n[0],n[1]] * gI[p[0],p[1]] * gI[q[0],q[1]] * Rie[m[0]][n[1]][p[1], q[1]] * Rie[m[1]][n[0]][p[0],q[0]]\n",
    "    K = K.simplify()\n",
    "    return K"
   ]
  },
  {
   "cell_type": "code",
   "execution_count": 41,
   "id": "7b9bc916-c4b6-4246-ad94-ab2b6bdb1dd5",
   "metadata": {
    "tags": []
   },
   "outputs": [
    {
     "data": {
      "text/latex": [
       "$\\displaystyle \\frac{48 G^{2} M^{2}}{c^{4} r^{6}}$"
      ],
      "text/plain": [
       "48*G**2*M**2/(c**4*r**6)"
      ]
     },
     "execution_count": 41,
     "metadata": {},
     "output_type": "execute_result"
    }
   ],
   "source": [
    "Kr()"
   ]
  },
  {
   "cell_type": "markdown",
   "id": "0a7499c4-95a7-4821-a403-f94e2f602689",
   "metadata": {
    "tags": []
   },
   "source": [
    "# Soluções De Sitter-Schwarzschild"
   ]
  },
  {
   "cell_type": "markdown",
   "id": "4db19cad-2969-4aed-9ac7-8b2d20c19fa6",
   "metadata": {},
   "source": [
    "Com as soluções acima, podemos modificar um pouco nossas hipóteses e estudar outras duas soluções muito importantes. A primeira é fundamental no estudo da cosmologia: O espaço de Sitter, e outra solução fundamental na física teórica atual: o espaço Anti-de Sitter. Em particular, vamos derrubar as condições 3) e 4), ou seja, o espaço não é mais assimptoticamente plano, e a constante cosmológica não é nula. \n",
    "\n",
    "Toda a análise que fizemos na seção anterios, e na prática, a única modificação será na equação de Einstein\n",
    "\n",
    "\\begin{equation}\n",
    "R_{\\mu\\nu} - \\Lambda g_{\\mu\\nu} = 0 \n",
    "\\end{equation}\n",
    "\n",
    "portanto"
   ]
  },
  {
   "cell_type": "code",
   "execution_count": 15,
   "id": "d6caa1d3-c039-4e7b-b890-2fb41dac89b9",
   "metadata": {
    "tags": []
   },
   "outputs": [],
   "source": [
    "Equation = [(Ric[i,j] - Lb*g[i,j]).simplify() for i in range(rank) for j in range(rank) if Ric[i,j] != 0]"
   ]
  },
  {
   "cell_type": "code",
   "execution_count": 16,
   "id": "895e8260-3829-43bc-9755-d743028d63b4",
   "metadata": {
    "tags": []
   },
   "outputs": [
    {
     "name": "stdout",
     "output_type": "stream",
     "text": [
      "+++++++++ Equation(0,0) ++++++++++++++++\n"
     ]
    },
    {
     "data": {
      "text/latex": [
       "$\\displaystyle \\frac{Lb r e^{f_{1}{\\left(r \\right)}} + \\frac{\\left(r \\left(\\left(\\frac{d}{d r} f_{1}{\\left(r \\right)}\\right)^{2} - \\frac{d}{d r} f_{1}{\\left(r \\right)} \\frac{d}{d r} f_{2}{\\left(r \\right)} + 2 \\frac{d^{2}}{d r^{2}} f_{1}{\\left(r \\right)}\\right) + 4 \\frac{d}{d r} f_{1}{\\left(r \\right)}\\right) e^{f_{1}{\\left(r \\right)} - f_{2}{\\left(r \\right)}}}{4}}{r}$"
      ],
      "text/plain": [
       "(Lb*r*exp(f1(r)) + (r*(Derivative(f1(r), r)**2 - Derivative(f1(r), r)*Derivative(f2(r), r) + 2*Derivative(f1(r), (r, 2))) + 4*Derivative(f1(r), r))*exp(f1(r) - f2(r))/4)/r"
      ]
     },
     "metadata": {},
     "output_type": "display_data"
    },
    {
     "name": "stdout",
     "output_type": "stream",
     "text": [
      " \n",
      "+++++++++ Equation(1,1) ++++++++++++++++\n"
     ]
    },
    {
     "data": {
      "text/latex": [
       "$\\displaystyle - Lb e^{f_{2}{\\left(r \\right)}} - \\frac{\\left(\\frac{d}{d r} f_{1}{\\left(r \\right)}\\right)^{2}}{4} + \\frac{\\frac{d}{d r} f_{1}{\\left(r \\right)} \\frac{d}{d r} f_{2}{\\left(r \\right)}}{4} - \\frac{\\frac{d^{2}}{d r^{2}} f_{1}{\\left(r \\right)}}{2} + \\frac{\\frac{d}{d r} f_{2}{\\left(r \\right)}}{r}$"
      ],
      "text/plain": [
       "-Lb*exp(f2(r)) - Derivative(f1(r), r)**2/4 + Derivative(f1(r), r)*Derivative(f2(r), r)/4 - Derivative(f1(r), (r, 2))/2 + Derivative(f2(r), r)/r"
      ]
     },
     "metadata": {},
     "output_type": "display_data"
    },
    {
     "name": "stdout",
     "output_type": "stream",
     "text": [
      " \n",
      "+++++++++ Equation(2,2) ++++++++++++++++\n"
     ]
    },
    {
     "data": {
      "text/latex": [
       "$\\displaystyle \\left(- Lb r^{2} e^{f_{2}{\\left(r \\right)}} - \\frac{r \\frac{d}{d r} f_{1}{\\left(r \\right)}}{2} + \\frac{r \\frac{d}{d r} f_{2}{\\left(r \\right)}}{2} + e^{f_{2}{\\left(r \\right)}} - 1\\right) e^{- f_{2}{\\left(r \\right)}}$"
      ],
      "text/plain": [
       "(-Lb*r**2*exp(f2(r)) - r*Derivative(f1(r), r)/2 + r*Derivative(f2(r), r)/2 + exp(f2(r)) - 1)*exp(-f2(r))"
      ]
     },
     "metadata": {},
     "output_type": "display_data"
    },
    {
     "name": "stdout",
     "output_type": "stream",
     "text": [
      " \n",
      "+++++++++ Equation(3,3) ++++++++++++++++\n"
     ]
    },
    {
     "data": {
      "text/latex": [
       "$\\displaystyle \\left(- Lb r^{2} e^{f_{2}{\\left(r \\right)}} - \\frac{r \\frac{d}{d r} f_{1}{\\left(r \\right)}}{2} + \\frac{r \\frac{d}{d r} f_{2}{\\left(r \\right)}}{2} + e^{f_{2}{\\left(r \\right)}} - 1\\right) e^{- f_{2}{\\left(r \\right)}} \\sin^{2}{\\left(th \\right)}$"
      ],
      "text/plain": [
       "(-Lb*r**2*exp(f2(r)) - r*Derivative(f1(r), r)/2 + r*Derivative(f2(r), r)/2 + exp(f2(r)) - 1)*exp(-f2(r))*sin(th)**2"
      ]
     },
     "metadata": {},
     "output_type": "display_data"
    },
    {
     "name": "stdout",
     "output_type": "stream",
     "text": [
      " \n"
     ]
    }
   ],
   "source": [
    "# Para ver o resultado explícito, fazemos\n",
    "for k in range(len(Equation)):\n",
    "    print(f\"+++++++++ Equation({k},{k}) ++++++++++++++++\")\n",
    "    display(Equation[k])\n",
    "    print(\" \")"
   ]
  },
  {
   "cell_type": "markdown",
   "id": "485b51cd-ca09-4398-a642-956ce387ae19",
   "metadata": {},
   "source": [
    "$\\clubsuit$ **1.** Novamente, apenas 3 equações são independentes. É simples verificar que \n",
    "\\begin{equation}\n",
    "(R_{33} - \\Lambda g_{33}) - sin^2\\theta (R_{2,2} - \\Lambda g_{22}) = 0\n",
    "\\end{equation}"
   ]
  },
  {
   "cell_type": "code",
   "execution_count": 17,
   "id": "b7ded1a1-8834-4c13-968f-46daed9666b4",
   "metadata": {
    "tags": []
   },
   "outputs": [
    {
     "data": {
      "text/latex": [
       "$\\displaystyle 0$"
      ],
      "text/plain": [
       "0"
      ]
     },
     "execution_count": 17,
     "metadata": {},
     "output_type": "execute_result"
    }
   ],
   "source": [
    "(Equation[3] - Equation[2]*(sin(th)**2)).simplify()"
   ]
  },
  {
   "cell_type": "markdown",
   "id": "265be661-fda4-4067-9439-2b10527b779e",
   "metadata": {},
   "source": [
    "$\\clubsuit$ **2.** Novamente, as 2 primeiras equações possuem uma estrutura muito semelhante, então faremos a operação a seguir \n",
    "\n",
    "\\begin{equation}\n",
    "r e^{-f_1+f_2} (R_{00} - \\Lambda g_{00}) + r(R_{11} - \\Lambda g_{11})  = 0\n",
    "\\end{equation}\n",
    "\n",
    "Exatamente como fizemos como no estudo da solução Schwarzschild."
   ]
  },
  {
   "cell_type": "code",
   "execution_count": 18,
   "id": "efcf1766-f45c-45d2-a90c-bda769b8ac37",
   "metadata": {
    "tags": []
   },
   "outputs": [
    {
     "data": {
      "text/latex": [
       "$\\displaystyle \\frac{d}{d r} f_{1}{\\left(r \\right)} + \\frac{d}{d r} f_{2}{\\left(r \\right)}$"
      ],
      "text/plain": [
       "Derivative(f1(r), r) + Derivative(f2(r), r)"
      ]
     },
     "execution_count": 18,
     "metadata": {},
     "output_type": "execute_result"
    }
   ],
   "source": [
    "r*(exp(-f1+f2)*Equation[0] + Equation[1]).simplify()"
   ]
  },
  {
   "cell_type": "markdown",
   "id": "2f40dc91-d74a-4b15-9d23-ca334d064a52",
   "metadata": {},
   "source": [
    "de onde concluímos que \n",
    "\\begin{equation}  \n",
    "f_1 + f_2 = c_0 \\quad \\Rightarrow \\quad f_2 = -f_1  \n",
    "\\end{equation}\n",
    "onde $c_0$ é uma constante que escolhemos como zero. "
   ]
  },
  {
   "cell_type": "markdown",
   "id": "384275df-8d68-47e7-9809-3876efcc633b",
   "metadata": {},
   "source": [
    "$\\clubsuit$ **3.** Agora vamos usar essa condição na equação \n",
    "\\begin{equation}\n",
    "R_{22} - \\Lambda g_{22} = 0 \n",
    "\\end{equation}"
   ]
  },
  {
   "cell_type": "code",
   "execution_count": 21,
   "id": "211b6abc-e46c-464b-861c-e906e3bd9892",
   "metadata": {
    "tags": []
   },
   "outputs": [
    {
     "data": {
      "text/latex": [
       "$\\displaystyle \\left(- Lb r^{2} e^{f_{2}{\\left(r \\right)}} - \\frac{r \\frac{d}{d r} f_{1}{\\left(r \\right)}}{2} + \\frac{r \\frac{d}{d r} f_{2}{\\left(r \\right)}}{2} + e^{f_{2}{\\left(r \\right)}} - 1\\right) e^{- f_{2}{\\left(r \\right)}}$"
      ],
      "text/plain": [
       "(-Lb*r**2*exp(f2(r)) - r*Derivative(f1(r), r)/2 + r*Derivative(f2(r), r)/2 + exp(f2(r)) - 1)*exp(-f2(r))"
      ]
     },
     "execution_count": 21,
     "metadata": {},
     "output_type": "execute_result"
    }
   ],
   "source": [
    "(Equation[2]).simplify()"
   ]
  },
  {
   "cell_type": "markdown",
   "id": "0655aea1-5404-4518-acdb-cd9792dd2abe",
   "metadata": {
    "tags": []
   },
   "source": [
    "e a solução dessa expressão é dada por \n",
    "\n",
    "\\begin{equation}\n",
    "e^{f_1} = 1 - \\frac{2 G M}{c^2 r} - \\frac{\\Lambda r^2}{3}\n",
    "\\end{equation}"
   ]
  },
  {
   "cell_type": "markdown",
   "id": "4db1696f-324d-4578-892c-1dcc88fbb4a4",
   "metadata": {},
   "source": [
    "E essa solução é conhecida como De Sitter-Schwarzschild e a métrica é dada por\n",
    "\n",
    "\\begin{equation}\n",
    "ds^2 = -\\left(1 - \\frac{2 G M}{c^2 r} - \\frac{\\Lambda r^2}{3}\\right) c^2 dt^2 + \\frac{dr^2}{\\left(1 - \\frac{2 G M}{c^2 r} - \\frac{\\Lambda r^2}{3}\\right)} + r^2 d\\theta^2 + r^2 \\sin^2\\theta d\\phi^2 \n",
    "\\end{equation}"
   ]
  },
  {
   "cell_type": "markdown",
   "id": "e6668703-0731-45ad-869a-5e2970748ba7",
   "metadata": {},
   "source": [
    "O caso particular onde $M=0$ é chamada de *de Sitter* (dS) (se $\\Lambda > 0$) e *anti-de Sitter* \n",
    "(se $\\Lambda < 0$). Vamos agora finalizar a análise calculando o escalar de curvatura e de Kretschmann."
   ]
  },
  {
   "cell_type": "markdown",
   "id": "288c35d1-249d-4d99-9e4f-c0d753a3e0d7",
   "metadata": {
    "tags": []
   },
   "source": [
    "$\\spadesuit$ **ESCALAR DE CURVATURA:** No caso da solução de Schwarzschild, o escalar de curvatura é trivial pois a tensor de Ricci é nulo. Nas soluções de Sitter, devemos analisar esse invariante. "
   ]
  },
  {
   "cell_type": "code",
   "execution_count": 14,
   "id": "45e74e31-3f2a-4da1-8ef9-12a952bf3d1c",
   "metadata": {
    "tags": []
   },
   "outputs": [],
   "source": [
    "def RCurv():\n",
    "    curv = 0\n",
    "    n = 0\n",
    "    for k in range(rank):\n",
    "        curv = curv + gI[k,k]*Ric[k,k]\n",
    "        r = curv.simplify() \n",
    "    return r"
   ]
  },
  {
   "cell_type": "code",
   "execution_count": 15,
   "id": "9e930f62-9d48-4213-8283-a3d374c09d5a",
   "metadata": {
    "tags": []
   },
   "outputs": [
    {
     "data": {
      "text/latex": [
       "$\\displaystyle 4 Lb$"
      ],
      "text/plain": [
       "4*Lb"
      ]
     },
     "execution_count": 15,
     "metadata": {},
     "output_type": "execute_result"
    }
   ],
   "source": [
    "RCurv()"
   ]
  },
  {
   "cell_type": "markdown",
   "id": "41d4ad63-fe4e-4221-abbf-afffe821658e",
   "metadata": {},
   "source": [
    " Ou seja, $R = 4 \\Lambda$ como esperado. "
   ]
  },
  {
   "cell_type": "markdown",
   "id": "d3e31e4d-1a89-4bd0-b3e6-0e7d44a966ee",
   "metadata": {
    "tags": []
   },
   "source": [
    "$\\spadesuit$ **ESCALAR DE KRETSCHMANN:** Por completeza, podemos calcular esse escalar como "
   ]
  },
  {
   "cell_type": "code",
   "execution_count": 18,
   "id": "0c3b003a-3f90-40fc-9c7d-16e0e820f5ff",
   "metadata": {
    "tags": []
   },
   "outputs": [
    {
     "data": {
      "text/latex": [
       "$\\displaystyle \\frac{48 G^{2} M^{2}}{c^{4} r^{6}} + \\frac{8 Lb^{2}}{3}$"
      ],
      "text/plain": [
       "48*G**2*M**2/(c**4*r**6) + 8*Lb**2/3"
      ]
     },
     "execution_count": 18,
     "metadata": {},
     "output_type": "execute_result"
    }
   ],
   "source": [
    "Kr().simplify()"
   ]
  },
  {
   "cell_type": "markdown",
   "id": "a015fcca-a0ab-4b70-a25b-0892c880ad0a",
   "metadata": {},
   "source": [
    "Veja que ainda continuamos com a singularidade no ponto $r=0$, mas nenhum outro ponto é mal definido. Em particular, observe que o caso onde $M=0$ e $\\Lambda > 0$, temos que a métrica diverge no ponto $r = \\sqrt{3 / \\lambda}$. Mais uma vez, esse ponto é um artefato da métrica. Nesse caso, chamamos a superfície definida por esses pontos de horizonte cosmológico. "
   ]
  }
 ],
 "metadata": {
  "kernelspec": {
   "display_name": "Python 3 (ipykernel)",
   "language": "python",
   "name": "python3"
  },
  "language_info": {
   "codemirror_mode": {
    "name": "ipython",
    "version": 3
   },
   "file_extension": ".py",
   "mimetype": "text/x-python",
   "name": "python",
   "nbconvert_exporter": "python",
   "pygments_lexer": "ipython3",
   "version": "3.11.6"
  },
  "toc-autonumbering": true,
  "toc-showcode": false,
  "toc-showmarkdowntxt": false,
  "toc-showtags": false
 },
 "nbformat": 4,
 "nbformat_minor": 5
}
