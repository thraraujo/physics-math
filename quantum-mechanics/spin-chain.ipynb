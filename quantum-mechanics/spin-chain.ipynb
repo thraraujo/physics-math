{
 "cells": [
  {
   "cell_type": "code",
   "execution_count": 12,
   "id": "1a142c21-6220-495e-9d07-0e69c58889df",
   "metadata": {},
   "outputs": [],
   "source": [
    "import sympy as sp\n",
    "from sympy.physics.quantum import TensorProduct\n",
    "from sympy.physics.matrices import msigma"
   ]
  },
  {
   "cell_type": "code",
   "execution_count": 17,
   "id": "837d0fa1-c503-4658-a765-863cc9cab5d4",
   "metadata": {},
   "outputs": [],
   "source": [
    "J, D = sp.symbols('J Delta')"
   ]
  },
  {
   "cell_type": "code",
   "execution_count": 37,
   "id": "844847af-bf89-41a5-bfc0-391c657efadf",
   "metadata": {},
   "outputs": [],
   "source": [
    "m1 = sp.Matrix([[1],[0]])\n",
    "m2 = sp.Matrix([[0],[1]])\n",
    "iden = sp.eye(2)"
   ]
  },
  {
   "cell_type": "code",
   "execution_count": 33,
   "id": "57f03b45-c162-421d-9848-d655a0fbe961",
   "metadata": {},
   "outputs": [],
   "source": [
    "uu = TensorProduct(m1, m1)\n",
    "dd = TensorProduct(m2, m2)\n",
    "pl = TensorProduct(m1, m2) + TensorProduct(m2, m1)\n",
    "mi = TensorProduct(m1, m2) - TensorProduct(m2, m1)"
   ]
  },
  {
   "cell_type": "code",
   "execution_count": 34,
   "id": "838c21fc-3e9e-4ae2-87bd-abdc27124843",
   "metadata": {},
   "outputs": [],
   "source": [
    "H = -(TensorProduct(msigma(1), msigma(1)) + TensorProduct(msigma(2), msigma(2)) + D * TensorProduct(msigma(3), msigma(3)))"
   ]
  },
  {
   "cell_type": "code",
   "execution_count": 35,
   "id": "f2bbf1cd-2029-4082-bca5-c29b3cb82fe4",
   "metadata": {},
   "outputs": [
    {
     "data": {
      "text/latex": [
       "$\\displaystyle \\left[\\begin{matrix}0\\\\\\Delta + 2\\\\- \\Delta - 2\\\\0\\end{matrix}\\right]$"
      ],
      "text/plain": [
       "Matrix([\n",
       "[         0],\n",
       "[ Delta + 2],\n",
       "[-Delta - 2],\n",
       "[         0]])"
      ]
     },
     "execution_count": 35,
     "metadata": {},
     "output_type": "execute_result"
    }
   ],
   "source": [
    "H * mi"
   ]
  },
  {
   "cell_type": "code",
   "execution_count": 36,
   "id": "a4aae737-1aed-424e-8391-4f8931b6dd09",
   "metadata": {},
   "outputs": [
    {
     "data": {
      "text/latex": [
       "$\\displaystyle \\left[\\begin{matrix}1 & 0\\\\0 & 1\\end{matrix}\\right]$"
      ],
      "text/plain": [
       "Matrix([\n",
       "[1, 0],\n",
       "[0, 1]])"
      ]
     },
     "execution_count": 36,
     "metadata": {},
     "output_type": "execute_result"
    }
   ],
   "source": [
    "sp.eye(2)"
   ]
  },
  {
   "cell_type": "code",
   "execution_count": 40,
   "id": "362554ea-1950-4ddb-96ab-ec0ff6b41cd6",
   "metadata": {},
   "outputs": [],
   "source": [
    "uu = TensorProduct(msigma(1), msigma(1), iden)"
   ]
  },
  {
   "cell_type": "code",
   "execution_count": 41,
   "id": "fed3ca70-84cd-4ff2-9b95-6d261e4ad98a",
   "metadata": {},
   "outputs": [
    {
     "data": {
      "text/latex": [
       "$\\displaystyle \\left[\\begin{matrix}0 & 0 & 0 & 0 & 0 & 0 & 1 & 0\\\\0 & 0 & 0 & 0 & 0 & 0 & 0 & 1\\\\0 & 0 & 0 & 0 & 1 & 0 & 0 & 0\\\\0 & 0 & 0 & 0 & 0 & 1 & 0 & 0\\\\0 & 0 & 1 & 0 & 0 & 0 & 0 & 0\\\\0 & 0 & 0 & 1 & 0 & 0 & 0 & 0\\\\1 & 0 & 0 & 0 & 0 & 0 & 0 & 0\\\\0 & 1 & 0 & 0 & 0 & 0 & 0 & 0\\end{matrix}\\right]$"
      ],
      "text/plain": [
       "Matrix([\n",
       "[0, 0, 0, 0, 0, 0, 1, 0],\n",
       "[0, 0, 0, 0, 0, 0, 0, 1],\n",
       "[0, 0, 0, 0, 1, 0, 0, 0],\n",
       "[0, 0, 0, 0, 0, 1, 0, 0],\n",
       "[0, 0, 1, 0, 0, 0, 0, 0],\n",
       "[0, 0, 0, 1, 0, 0, 0, 0],\n",
       "[1, 0, 0, 0, 0, 0, 0, 0],\n",
       "[0, 1, 0, 0, 0, 0, 0, 0]])"
      ]
     },
     "execution_count": 41,
     "metadata": {},
     "output_type": "execute_result"
    }
   ],
   "source": [
    "uu"
   ]
  },
  {
   "cell_type": "code",
   "execution_count": null,
   "id": "62fe237d-f0a0-4e08-ab66-109f3e546ea2",
   "metadata": {},
   "outputs": [],
   "source": []
  }
 ],
 "metadata": {
  "kernelspec": {
   "display_name": "Python 3 (ipykernel)",
   "language": "python",
   "name": "python3"
  },
  "language_info": {
   "codemirror_mode": {
    "name": "ipython",
    "version": 3
   },
   "file_extension": ".py",
   "mimetype": "text/x-python",
   "name": "python",
   "nbconvert_exporter": "python",
   "pygments_lexer": "ipython3",
   "version": "3.12.3"
  }
 },
 "nbformat": 4,
 "nbformat_minor": 5
}
