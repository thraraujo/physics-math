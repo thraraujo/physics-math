{
 "cells": [
  {
   "cell_type": "code",
   "execution_count": 12,
   "id": "b75ebe85-74f5-4b94-8881-f4123ba7b94c",
   "metadata": {
    "tags": []
   },
   "outputs": [],
   "source": [
    "from sympy import *\n",
    "from sympy.vector import *"
   ]
  },
  {
   "cell_type": "code",
   "execution_count": 13,
   "id": "27d8a8b2-7e83-417d-9019-9ac051c4c373",
   "metadata": {
    "tags": []
   },
   "outputs": [],
   "source": [
    "x, y, z = symbols('x y z')"
   ]
  },
  {
   "cell_type": "code",
   "execution_count": 18,
   "id": "f615120d-eede-440c-b977-dbd8cd8d4c6d",
   "metadata": {
    "tags": []
   },
   "outputs": [],
   "source": [
    "Bx, By, Bz = symbols('Bx By Bz')"
   ]
  },
  {
   "cell_type": "code",
   "execution_count": 46,
   "id": "950ed88a-4772-4ee8-ab80-5a851eee7b6b",
   "metadata": {
    "tags": []
   },
   "outputs": [],
   "source": [
    "R = CoordSys3D('R')\n",
    "r = R.x*R.i + R.y*R.j + R.z*R.k\n",
    "B = Bx*R.i + By*R.j + Bz*R.k"
   ]
  },
  {
   "cell_type": "code",
   "execution_count": 51,
   "id": "b9e7880d-053d-4af1-8e98-4ba1a7fcd367",
   "metadata": {
    "tags": []
   },
   "outputs": [],
   "source": [
    "A = -r.cross(B) / 2"
   ]
  },
  {
   "cell_type": "code",
   "execution_count": 52,
   "id": "39b10365-88b6-4554-96d8-749f88c3762e",
   "metadata": {
    "tags": []
   },
   "outputs": [
    {
     "data": {
      "text/latex": [
       "$\\displaystyle \\left(- \\frac{\\mathbf{{y}_{R}} Bz}{2} + \\frac{\\mathbf{{z}_{R}} By}{2}\\right)\\mathbf{\\hat{i}_{R}} + \\left(\\frac{\\mathbf{{x}_{R}} Bz}{2} - \\frac{\\mathbf{{z}_{R}} Bx}{2}\\right)\\mathbf{\\hat{j}_{R}} + \\left(- \\frac{\\mathbf{{x}_{R}} By}{2} + \\frac{\\mathbf{{y}_{R}} Bx}{2}\\right)\\mathbf{\\hat{k}_{R}}$"
      ],
      "text/plain": [
       "(-R.y*Bz/2 + R.z*By/2)*R.i + (R.x*Bz/2 - R.z*Bx/2)*R.j + (-R.x*By/2 + R.y*Bx/2)*R.k"
      ]
     },
     "execution_count": 52,
     "metadata": {},
     "output_type": "execute_result"
    }
   ],
   "source": [
    "A.simplify()"
   ]
  },
  {
   "cell_type": "code",
   "execution_count": 53,
   "id": "95ac6ea5-cd9b-47d5-aff5-72ebbb86ae71",
   "metadata": {
    "tags": []
   },
   "outputs": [
    {
     "data": {
      "text/latex": [
       "$\\displaystyle \\left(Bx\\right)\\mathbf{\\hat{i}_{R}} + \\left(By\\right)\\mathbf{\\hat{j}_{R}} + \\left(Bz\\right)\\mathbf{\\hat{k}_{R}}$"
      ],
      "text/plain": [
       "Bx*R.i + By*R.j + Bz*R.k"
      ]
     },
     "execution_count": 53,
     "metadata": {},
     "output_type": "execute_result"
    }
   ],
   "source": [
    "curl(A)"
   ]
  },
  {
   "cell_type": "code",
   "execution_count": 58,
   "id": "41d09e81-0548-4632-9448-120ed58c724e",
   "metadata": {
    "tags": []
   },
   "outputs": [
    {
     "data": {
      "text/latex": [
       "$\\displaystyle \\mathbf{\\hat{k}_{R}}$"
      ],
      "text/plain": [
       "R.k"
      ]
     },
     "execution_count": 58,
     "metadata": {},
     "output_type": "execute_result"
    }
   ],
   "source": [
    "R.i.cross(R.j)"
   ]
  },
  {
   "cell_type": "code",
   "execution_count": null,
   "id": "0778148f-a1d5-4ea3-af27-7fcf042fca00",
   "metadata": {},
   "outputs": [],
   "source": []
  }
 ],
 "metadata": {
  "kernelspec": {
   "display_name": "Python 3 (ipykernel)",
   "language": "python",
   "name": "python3"
  },
  "language_info": {
   "codemirror_mode": {
    "name": "ipython",
    "version": 3
   },
   "file_extension": ".py",
   "mimetype": "text/x-python",
   "name": "python",
   "nbconvert_exporter": "python",
   "pygments_lexer": "ipython3",
   "version": "3.11.6"
  }
 },
 "nbformat": 4,
 "nbformat_minor": 5
}
