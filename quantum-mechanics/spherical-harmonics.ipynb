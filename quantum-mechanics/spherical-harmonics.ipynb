{
 "cells": [
  {
   "cell_type": "code",
   "execution_count": null,
   "id": "37f4d6e3-8c98-4861-8c7f-76a441ecb8c2",
   "metadata": {},
   "outputs": [],
   "source": []
  },
  {
   "cell_type": "code",
   "execution_count": 1,
   "id": "ad5962cd-b983-4297-bf14-ea889ba3a510",
   "metadata": {},
   "outputs": [],
   "source": [
    "from sympy import *"
   ]
  },
  {
   "cell_type": "code",
   "execution_count": 19,
   "id": "66ff799e-9d1d-4060-b8c7-a6d56c8903eb",
   "metadata": {},
   "outputs": [],
   "source": [
    "x, y, z = symbols('x y z') # Cartesian coordinates\n",
    "dx, dy, dz = symbols('dx, dy, dz') # Differentials of cartesian coordinates\n",
    "r, t, p = symbols('r, t, p') # Spherical coordinates\n",
    "dr, dt, dp = symbols('dr, dt, dp') # Differentials of the spherical coordinates\n",
    "f = Function('f')(x)\n",
    "l = symbols('l')"
   ]
  },
  {
   "cell_type": "code",
   "execution_count": 65,
   "id": "5f998703-77ef-42ed-91f3-bbe91c312513",
   "metadata": {},
   "outputs": [],
   "source": [
    "x = r * sin(t) * cos(p)\n",
    "y = r * sin(t) * sin(p)\n",
    "z = r * cos(t)"
   ]
  },
  {
   "cell_type": "code",
   "execution_count": 67,
   "id": "d268351a-421b-4845-8abc-dc88fdf31017",
   "metadata": {},
   "outputs": [],
   "source": [
    "Ca = [x, y, z]\n",
    "dCa = [dx, dy, dz]\n",
    "Sp = [r, t, p]\n",
    "dSp = [dr, dt, dp]"
   ]
  },
  {
   "cell_type": "code",
   "execution_count": 75,
   "id": "867d13b7-5cab-43bb-b579-679560903a4f",
   "metadata": {},
   "outputs": [],
   "source": [
    "teste = Matrix(Array(dSp).reshape(3,1))"
   ]
  },
  {
   "cell_type": "code",
   "execution_count": 50,
   "id": "825790d0-d8cf-4074-9b7e-88fddc67abfe",
   "metadata": {},
   "outputs": [],
   "source": [
    "J = Matrix([[diff(Ca[i], Sp[j]) for j in range(len(Ca))] for i in range(len(Ca))]) # Jacobian Matrix"
   ]
  },
  {
   "cell_type": "code",
   "execution_count": 84,
   "id": "41cbe0a3-1cd8-4f7f-bae4-b544d5780d38",
   "metadata": {},
   "outputs": [
    {
     "data": {
      "text/latex": [
       "$\\displaystyle \\left[\\begin{matrix}\\sin{\\left(t \\right)} \\cos{\\left(p \\right)} & r \\cos{\\left(p \\right)} \\cos{\\left(t \\right)} & - r \\sin{\\left(p \\right)} \\sin{\\left(t \\right)}\\\\\\sin{\\left(p \\right)} \\sin{\\left(t \\right)} & r \\sin{\\left(p \\right)} \\cos{\\left(t \\right)} & r \\sin{\\left(t \\right)} \\cos{\\left(p \\right)}\\\\\\cos{\\left(t \\right)} & - r \\sin{\\left(t \\right)} & 0\\end{matrix}\\right]$"
      ],
      "text/plain": [
       "Matrix([\n",
       "[sin(t)*cos(p), r*cos(p)*cos(t), -r*sin(p)*sin(t)],\n",
       "[sin(p)*sin(t), r*sin(p)*cos(t),  r*sin(t)*cos(p)],\n",
       "[       cos(t),       -r*sin(t),                0]])"
      ]
     },
     "execution_count": 84,
     "metadata": {},
     "output_type": "execute_result"
    }
   ],
   "source": [
    "J"
   ]
  },
  {
   "cell_type": "code",
   "execution_count": 77,
   "id": "a078d741-bdb3-4153-a3bf-b66edd9c9046",
   "metadata": {},
   "outputs": [],
   "source": [
    "drr = J * teste"
   ]
  },
  {
   "cell_type": "code",
   "execution_count": 83,
   "id": "05f38d85-76cb-46d6-9b0a-430eb287dcb9",
   "metadata": {},
   "outputs": [
    {
     "data": {
      "text/latex": [
       "$\\displaystyle \\left[\\begin{matrix}- dp r \\sin{\\left(p \\right)} \\sin{\\left(t \\right)} + dr \\sin{\\left(t \\right)} \\cos{\\left(p \\right)} + dt r \\cos{\\left(p \\right)} \\cos{\\left(t \\right)}\\\\dp r \\sin{\\left(t \\right)} \\cos{\\left(p \\right)} + dr \\sin{\\left(p \\right)} \\sin{\\left(t \\right)} + dt r \\sin{\\left(p \\right)} \\cos{\\left(t \\right)}\\\\dr \\cos{\\left(t \\right)} - dt r \\sin{\\left(t \\right)}\\end{matrix}\\right]$"
      ],
      "text/plain": [
       "Matrix([\n",
       "[-dp*r*sin(p)*sin(t) + dr*sin(t)*cos(p) + dt*r*cos(p)*cos(t)],\n",
       "[ dp*r*sin(t)*cos(p) + dr*sin(p)*sin(t) + dt*r*sin(p)*cos(t)],\n",
       "[                                    dr*cos(t) - dt*r*sin(t)]])"
      ]
     },
     "execution_count": 83,
     "metadata": {},
     "output_type": "execute_result"
    }
   ],
   "source": [
    "drr"
   ]
  },
  {
   "cell_type": "code",
   "execution_count": 52,
   "id": "47fb6c4d-3d71-45f0-8d1c-9bde2b33b653",
   "metadata": {},
   "outputs": [
    {
     "data": {
      "text/latex": [
       "$\\displaystyle r^{2} \\sin{\\left(t \\right)}$"
      ],
      "text/plain": [
       "r**2*sin(t)"
      ]
     },
     "execution_count": 52,
     "metadata": {},
     "output_type": "execute_result"
    }
   ],
   "source": [
    "simplify(det(J)) # Determinant"
   ]
  },
  {
   "cell_type": "code",
   "execution_count": 53,
   "id": "9df68412-1877-4179-838c-9a1790435ea2",
   "metadata": {},
   "outputs": [],
   "source": [
    "Inv_J = simplify(J**-1) # Inverse Jacobian matrix"
   ]
  },
  {
   "cell_type": "code",
   "execution_count": 54,
   "id": "2c86d5ef-492d-487a-8bc5-c9435c0f6ec3",
   "metadata": {},
   "outputs": [
    {
     "data": {
      "text/latex": [
       "$\\displaystyle \\left[\\begin{matrix}\\sin{\\left(t \\right)} \\cos{\\left(p \\right)} & \\sin{\\left(p \\right)} \\sin{\\left(t \\right)} & \\cos{\\left(t \\right)}\\\\\\frac{\\cos{\\left(p \\right)} \\cos{\\left(t \\right)}}{r} & \\frac{\\sin{\\left(p \\right)} \\cos{\\left(t \\right)}}{r} & - \\frac{\\sin{\\left(t \\right)}}{r}\\\\- \\frac{\\sin{\\left(p \\right)}}{r \\sin{\\left(t \\right)}} & \\frac{\\cos{\\left(p \\right)}}{r \\sin{\\left(t \\right)}} & 0\\end{matrix}\\right]$"
      ],
      "text/plain": [
       "Matrix([\n",
       "[     sin(t)*cos(p),     sin(p)*sin(t),    cos(t)],\n",
       "[   cos(p)*cos(t)/r,   sin(p)*cos(t)/r, -sin(t)/r],\n",
       "[-sin(p)/(r*sin(t)), cos(p)/(r*sin(t)),         0]])"
      ]
     },
     "execution_count": 54,
     "metadata": {},
     "output_type": "execute_result"
    }
   ],
   "source": [
    "Inv_J"
   ]
  },
  {
   "cell_type": "code",
   "execution_count": 55,
   "id": "ce415171-6eb1-40d0-a926-255eafdded29",
   "metadata": {},
   "outputs": [
    {
     "data": {
      "text/latex": [
       "$\\displaystyle \\left[\\begin{matrix}1 & 0 & 0\\\\0 & 1 & 0\\\\0 & 0 & 1\\end{matrix}\\right]$"
      ],
      "text/plain": [
       "Matrix([\n",
       "[1, 0, 0],\n",
       "[0, 1, 0],\n",
       "[0, 0, 1]])"
      ]
     },
     "execution_count": 55,
     "metadata": {},
     "output_type": "execute_result"
    }
   ],
   "source": [
    "simplify(Inv_J * J)"
   ]
  },
  {
   "cell_type": "code",
   "execution_count": 90,
   "id": "c44b2b0f-cd88-4bb1-aa5c-f601610417ed",
   "metadata": {},
   "outputs": [],
   "source": [
    "Tr = Matrix([[sin(t)*cos(p), sin(t)*sin(p), cos(t)], [cos(t)*cos(p), cos(t)*sin(p), -sin(t)] , [-sin(p), cos(p), 0]])"
   ]
  },
  {
   "cell_type": "code",
   "execution_count": 91,
   "id": "feafee75-d5a6-41e0-95ea-f812193ef36a",
   "metadata": {},
   "outputs": [
    {
     "data": {
      "text/latex": [
       "$\\displaystyle \\left[\\begin{matrix}\\sin{\\left(t \\right)} \\cos{\\left(p \\right)} & \\cos{\\left(p \\right)} \\cos{\\left(t \\right)} & - \\sin{\\left(p \\right)}\\\\\\sin{\\left(p \\right)} \\sin{\\left(t \\right)} & \\sin{\\left(p \\right)} \\cos{\\left(t \\right)} & \\cos{\\left(p \\right)}\\\\\\cos{\\left(t \\right)} & - \\sin{\\left(t \\right)} & 0\\end{matrix}\\right]$"
      ],
      "text/plain": [
       "Matrix([\n",
       "[sin(t)*cos(p), cos(p)*cos(t), -sin(p)],\n",
       "[sin(p)*sin(t), sin(p)*cos(t),  cos(p)],\n",
       "[       cos(t),       -sin(t),       0]])"
      ]
     },
     "execution_count": 91,
     "metadata": {},
     "output_type": "execute_result"
    }
   ],
   "source": [
    "simplify(Tr**-1)"
   ]
  },
  {
   "cell_type": "code",
   "execution_count": null,
   "id": "0e1093e7-d2b6-420c-8d0e-588d2516fb48",
   "metadata": {},
   "outputs": [],
   "source": []
  },
  {
   "cell_type": "code",
   "execution_count": 16,
   "id": "0fadd5c3-4c45-4e4c-b150-f1f44f7055de",
   "metadata": {},
   "outputs": [],
   "source": [
    "u = (E**-x)* (x**(l+1))*f"
   ]
  },
  {
   "cell_type": "code",
   "execution_count": 23,
   "id": "5afbe07f-39dc-437d-8837-57e7bb2330e2",
   "metadata": {},
   "outputs": [
    {
     "data": {
      "text/latex": [
       "$\\displaystyle x^{l + 1} \\left(\\frac{l \\left(l + 1\\right) f{\\left(x \\right)}}{x^{2}} + f{\\left(x \\right)} - 2 \\frac{d}{d x} f{\\left(x \\right)} + \\frac{d^{2}}{d x^{2}} f{\\left(x \\right)} - \\frac{2 \\left(l + 1\\right) f{\\left(x \\right)}}{x} + \\frac{2 \\left(l + 1\\right) \\frac{d}{d x} f{\\left(x \\right)}}{x}\\right) e^{- x}$"
      ],
      "text/plain": [
       "x**(l + 1)*(l*(l + 1)*f(x)/x**2 + f(x) - 2*Derivative(f(x), x) + Derivative(f(x), (x, 2)) - 2*(l + 1)*f(x)/x + 2*(l + 1)*Derivative(f(x), x)/x)*exp(-x)"
      ]
     },
     "execution_count": 23,
     "metadata": {},
     "output_type": "execute_result"
    }
   ],
   "source": [
    "diff(u, x, x)"
   ]
  },
  {
   "cell_type": "code",
   "execution_count": null,
   "id": "e33adf27-c427-4376-97a8-c5f44088e1c7",
   "metadata": {},
   "outputs": [],
   "source": []
  }
 ],
 "metadata": {
  "kernelspec": {
   "display_name": "Python 3 (ipykernel)",
   "language": "python",
   "name": "python3"
  },
  "language_info": {
   "codemirror_mode": {
    "name": "ipython",
    "version": 3
   },
   "file_extension": ".py",
   "mimetype": "text/x-python",
   "name": "python",
   "nbconvert_exporter": "python",
   "pygments_lexer": "ipython3",
   "version": "3.11.1"
  }
 },
 "nbformat": 4,
 "nbformat_minor": 5
}
