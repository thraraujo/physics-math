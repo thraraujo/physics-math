{
 "cells": [
  {
   "cell_type": "markdown",
   "id": "4b53c66f-adfe-4381-8f0d-6150d21216f4",
   "metadata": {},
   "source": [
    "# Angular Momentum"
   ]
  },
  {
   "cell_type": "code",
   "execution_count": 1,
   "id": "7afbc579-2ea3-44da-80ba-0b1871220cc8",
   "metadata": {},
   "outputs": [],
   "source": [
    "from sympy import MatrixSymbol, Matrix, sqrt, Rational, I # Sympy allows us to perform some algebraic manipulations for matrices.\n",
    "from sympy.physics.quantum import hbar, Dagger\n",
    "from sympy.physics.quantum.cg import CG\n",
    "import numpy as np"
   ]
  },
  {
   "cell_type": "code",
   "execution_count": 130,
   "id": "4eb6d6c5-43a5-4985-a0b2-00d6140435c9",
   "metadata": {},
   "outputs": [],
   "source": [
    "def comm(a,b):\n",
    "    return a*b - b*a"
   ]
  },
  {
   "cell_type": "markdown",
   "id": "69ad9b20-95c7-4f3c-9af6-322601f01dbc",
   "metadata": {
    "tags": []
   },
   "source": [
    "## Irreducible Representations\n",
    "\n",
    "Here we build the irreducible representations of the angular momentum algebra"
   ]
  },
  {
   "cell_type": "code",
   "execution_count": 131,
   "id": "3b9fb2d1-a1c9-4275-b80e-4f5facd6d401",
   "metadata": {},
   "outputs": [],
   "source": [
    "# Let us now define the m = -j, -j+1, ... , j-1, j\n",
    "def m(l):\n",
    "    if type(l) == int:\n",
    "        ms = [-Rational(i,1) for i in np.arange(-l, l + 0.5, 1)]\n",
    "        return ms\n",
    "    elif type(l) == float and 2*l % 2 == 1:\n",
    "        ms = [- Rational(i,1) for i in np.arange(-l, l + 0.5, 1)] # I add the 0.5 because python does not consider the final point\n",
    "        return ms\n",
    "    else: \n",
    "        raise TypeError(\"Only integers or half-integers are allowed\") \n",
    "\n",
    "# Define the Kronecker delta function     \n",
    "def kronecker(m,n):\n",
    "    if m == n:\n",
    "        return 1\n",
    "    return 0\n",
    "\n",
    "# Representation for the rotations\n",
    "def J3(l):\n",
    "    if type(l) == int:\n",
    "        # print(f\"j: {Rational(l,1)}\")\n",
    "        j3 = Matrix([[hbar * Rational(m(j)[p],1) * kronecker(p,q) for p in range(dim)] for q in range(dim)])\n",
    "        return j3\n",
    "    elif type(l) == float and 2*l % 2 == 1:\n",
    "        # print(f\"j: {Rational(l,1)}\")\n",
    "        j3 = Matrix([[hbar * Rational(- m + 1/2,1) * kronecker(m,n) for n in range(dim)] for m in range(dim)])\n",
    "        return j3\n",
    "    else: \n",
    "        raise TypeError(\"Only integers or half-integers are allowed\")\n",
    "        \n",
    "def J_plus(l):\n",
    "    # print(f\"j: {Rational(l,1)}\")\n",
    "    j_plus = Matrix([[hbar * sqrt(Rational((j - m(j)[p])*(j + m(j)[p] + 1),1)) * kronecker(p,q + 1) for p in range(dim)] for q in range(dim)])\n",
    "    return j_plus\n",
    "        \n",
    "def J_minus(l):\n",
    "    # print(f\"j: {Rational(l,1)}\")\n",
    "    j_minus = Matrix([[hbar * sqrt(Rational((j + m(j)[p])*(j - m(j)[p] + 1),1)) * kronecker(p,q - 1) for p in range(dim)] for q in range(dim)])\n",
    "    return j_minus"
   ]
  },
  {
   "cell_type": "markdown",
   "id": "155e0764-b2cd-4849-8e6f-7c286e3b60ad",
   "metadata": {},
   "source": [
    "## Labels (j, m)"
   ]
  },
  {
   "cell_type": "code",
   "execution_count": 109,
   "id": "89d060c8-cc49-42fb-9f07-44dde2dafa5e",
   "metadata": {},
   "outputs": [],
   "source": [
    "'''\n",
    "Some hard code first. \n",
    "Which j?\n",
    "'''\n",
    "j = 1/2 # I can use Rational(1,2) to have numbers as fractions\n",
    "dim = int(2 * j + 1)"
   ]
  },
  {
   "cell_type": "code",
   "execution_count": 110,
   "id": "1dad4a25-7d5d-487b-bce0-f29c8637248e",
   "metadata": {},
   "outputs": [
    {
     "data": {
      "text/plain": [
       "[1/2, -1/2]"
      ]
     },
     "execution_count": 110,
     "metadata": {},
     "output_type": "execute_result"
    }
   ],
   "source": [
    "m(j)"
   ]
  },
  {
   "cell_type": "markdown",
   "id": "e78c4cc0-3699-40c3-9144-0782292592ac",
   "metadata": {},
   "source": [
    "## Building the operators (J3, J_plus, J_minus)"
   ]
  },
  {
   "cell_type": "code",
   "execution_count": 33,
   "id": "1a8d0aab-d49c-40a5-a737-16b6cbde6478",
   "metadata": {},
   "outputs": [],
   "source": [
    "# Let me define a generic matrix in this basis. There is no use for it now, but it is useful to see that the construction works.\n",
    "# First we define the object\n",
    "A = MatrixSymbol('A',dim,dim)\n",
    "# Now we represent it\n",
    "A = Matrix(A) "
   ]
  },
  {
   "cell_type": "code",
   "execution_count": 111,
   "id": "69ea4c67-4ff1-4453-8964-42ed5f13621d",
   "metadata": {},
   "outputs": [
    {
     "data": {
      "text/latex": [
       "$\\displaystyle \\left[\\begin{matrix}\\frac{\\hbar}{2} & 0\\\\0 & - \\frac{\\hbar}{2}\\end{matrix}\\right]$"
      ],
      "text/plain": [
       "Matrix([\n",
       "[hbar/2,       0],\n",
       "[     0, -hbar/2]])"
      ]
     },
     "execution_count": 111,
     "metadata": {},
     "output_type": "execute_result"
    }
   ],
   "source": [
    "J3(j)"
   ]
  },
  {
   "cell_type": "code",
   "execution_count": 113,
   "id": "860335aa-184a-4fcc-9bdb-987f86838dbb",
   "metadata": {},
   "outputs": [
    {
     "data": {
      "text/latex": [
       "$\\displaystyle \\left[\\begin{matrix}0 & \\hbar\\\\0 & 0\\end{matrix}\\right]$"
      ],
      "text/plain": [
       "Matrix([\n",
       "[0, hbar],\n",
       "[0,    0]])"
      ]
     },
     "execution_count": 113,
     "metadata": {},
     "output_type": "execute_result"
    }
   ],
   "source": [
    "J_plus(j)"
   ]
  },
  {
   "cell_type": "code",
   "execution_count": 112,
   "id": "7c41a229-76d2-406b-8196-f9df7bedfa0c",
   "metadata": {},
   "outputs": [
    {
     "data": {
      "text/latex": [
       "$\\displaystyle \\left[\\begin{matrix}0 & 0\\\\\\hbar & 0\\end{matrix}\\right]$"
      ],
      "text/plain": [
       "Matrix([\n",
       "[   0, 0],\n",
       "[hbar, 0]])"
      ]
     },
     "execution_count": 112,
     "metadata": {},
     "output_type": "execute_result"
    }
   ],
   "source": [
    "J_minus(j)"
   ]
  },
  {
   "cell_type": "markdown",
   "id": "be24fab2-35f2-4a16-9513-a96451d11643",
   "metadata": {},
   "source": [
    "## Checking the Lie Algebra \n",
    "\n",
    "Now, consistency requires that the the following commutation relations \n",
    "$$ [J_+, J_-] = 2 \\hbar J_3 \\qquad [J_3, J_\\pm] = \\pm \\hbar J_\\pm $$\n",
    "are satisfied. "
   ]
  },
  {
   "cell_type": "code",
   "execution_count": 85,
   "id": "6ff110e9-b556-421b-ac78-ac0431a404f7",
   "metadata": {},
   "outputs": [
    {
     "name": "stdout",
     "output_type": "stream",
     "text": [
      "j: 1/2\n",
      "j: 1/2\n",
      "j: 1/2\n"
     ]
    },
    {
     "data": {
      "text/latex": [
       "$\\displaystyle \\left[\\begin{matrix}0 & 0\\\\0 & 0\\end{matrix}\\right]$"
      ],
      "text/plain": [
       "Matrix([\n",
       "[0, 0],\n",
       "[0, 0]])"
      ]
     },
     "execution_count": 85,
     "metadata": {},
     "output_type": "execute_result"
    }
   ],
   "source": [
    "comm(J3(j), J_minus(j)) + hbar * J_minus(j)"
   ]
  },
  {
   "cell_type": "code",
   "execution_count": 86,
   "id": "be531ddb-f415-420b-8d42-3efe4ab43684",
   "metadata": {},
   "outputs": [
    {
     "name": "stdout",
     "output_type": "stream",
     "text": [
      "j: 1/2\n",
      "j: 1/2\n",
      "j: 1/2\n"
     ]
    },
    {
     "data": {
      "text/latex": [
       "$\\displaystyle \\left[\\begin{matrix}0 & 0\\\\0 & 0\\end{matrix}\\right]$"
      ],
      "text/plain": [
       "Matrix([\n",
       "[0, 0],\n",
       "[0, 0]])"
      ]
     },
     "execution_count": 86,
     "metadata": {},
     "output_type": "execute_result"
    }
   ],
   "source": [
    "comm(J3(j), J_plus(j)) - hbar * J_plus(j)"
   ]
  },
  {
   "cell_type": "code",
   "execution_count": 87,
   "id": "b2518504-1ed9-469f-95cd-60a2b6ecdad3",
   "metadata": {},
   "outputs": [
    {
     "name": "stdout",
     "output_type": "stream",
     "text": [
      "j: 1/2\n",
      "j: 1/2\n",
      "j: 1/2\n"
     ]
    },
    {
     "data": {
      "text/latex": [
       "$\\displaystyle \\left[\\begin{matrix}0 & 0\\\\0 & 0\\end{matrix}\\right]$"
      ],
      "text/plain": [
       "Matrix([\n",
       "[0, 0],\n",
       "[0, 0]])"
      ]
     },
     "execution_count": 87,
     "metadata": {},
     "output_type": "execute_result"
    }
   ],
   "source": [
    "comm(J_plus(j), J_minus(j)) - 2 * hbar * J3(j)"
   ]
  },
  {
   "cell_type": "markdown",
   "id": "e34d5b8d-0b2a-4039-b036-9d0c1db1e803",
   "metadata": {},
   "source": [
    "## Similarity transformation for the j=1 case\n",
    "\n",
    "I would like to find a matrix $S$ such that the transformation \n",
    "$$ T_i = i S^\\dagger J_i S$$\n",
    "brings the matrices to the form of the SO(3) rotation generators. Observe that there is an extra factor of i. We define in this form to avoid terms of the form $\\sqrt(i)$."
   ]
  },
  {
   "cell_type": "code",
   "execution_count": 132,
   "id": "5ee97ef1-04f0-431a-92bc-98343e8b6bb2",
   "metadata": {},
   "outputs": [],
   "source": [
    "T1 = Matrix([[0,0,0],[0,0,1],[0,-1,0]])\n",
    "T2 = Matrix([[0,0,-1],[0,0,0],[1,0,0]])\n",
    "T3 = Matrix([[0,1,0],[-1,0,0],[0,0,0]])"
   ]
  },
  {
   "cell_type": "code",
   "execution_count": 133,
   "id": "5e2b690a-70c4-4f8f-be7f-a8fc06836ed2",
   "metadata": {},
   "outputs": [],
   "source": [
    "T = [T1, T2, T3]"
   ]
  },
  {
   "cell_type": "code",
   "execution_count": 134,
   "id": "10745d5d-f67c-4000-93e2-40a76cb37af8",
   "metadata": {},
   "outputs": [],
   "source": [
    "j = 1\n",
    "dim = int(2 * j + 1)"
   ]
  },
  {
   "cell_type": "code",
   "execution_count": 135,
   "id": "451d8b1b-6342-48fe-9f6d-d8c18f44c7fb",
   "metadata": {},
   "outputs": [
    {
     "data": {
      "text/plain": [
       "[1, 0, -1]"
      ]
     },
     "execution_count": 135,
     "metadata": {},
     "output_type": "execute_result"
    }
   ],
   "source": [
    "m(j)"
   ]
  },
  {
   "cell_type": "code",
   "execution_count": 137,
   "id": "76db36d5-502a-4dc3-ae86-9723144beb17",
   "metadata": {},
   "outputs": [],
   "source": [
    "# This ugly symbol Jj is just to avoid confusion with the function J(j)\n",
    "Jj1 = (J_plus(j) + J_minus(j)) / 2\n",
    "Jj2 = (J_plus(j) - J_minus(j)) / (2 * I)\n",
    "Jj3 = J3(j)"
   ]
  },
  {
   "cell_type": "code",
   "execution_count": 138,
   "id": "2b5dde0e-d1b9-4521-a84b-a325d0d1f17b",
   "metadata": {},
   "outputs": [],
   "source": [
    "Jj = [Jj1, Jj2, Jj3]"
   ]
  },
  {
   "cell_type": "code",
   "execution_count": 170,
   "id": "1fe4f3ad-931a-44e6-a646-f4c233d3492e",
   "metadata": {},
   "outputs": [],
   "source": [
    "S = Matrix([[1,-I,0],[0,0,-sqrt(2)],[-1,-I,0]]) / (sqrt(2 * hbar))"
   ]
  },
  {
   "cell_type": "code",
   "execution_count": 176,
   "id": "e96a6beb-e399-4e2d-a279-1494ff5ddecf",
   "metadata": {},
   "outputs": [],
   "source": [
    "Transf = [I * Dagger(S) * Jj[a] * S - T[a] for a in range(len(m(j)))]"
   ]
  },
  {
   "cell_type": "code",
   "execution_count": 179,
   "id": "d96ac81c-2030-4b3a-923b-be7415b901c7",
   "metadata": {},
   "outputs": [
    {
     "data": {
      "text/latex": [
       "$\\displaystyle \\left[\\begin{matrix}0 & 0 & 0\\\\0 & 0 & 0\\\\0 & 0 & 0\\end{matrix}\\right]$"
      ],
      "text/plain": [
       "Matrix([\n",
       "[0, 0, 0],\n",
       "[0, 0, 0],\n",
       "[0, 0, 0]])"
      ]
     },
     "execution_count": 179,
     "metadata": {},
     "output_type": "execute_result"
    }
   ],
   "source": [
    "Transf[0]"
   ]
  },
  {
   "cell_type": "markdown",
   "id": "b5e51c93-a1a9-4c25-be9f-a3308c22d666",
   "metadata": {
    "tags": []
   },
   "source": [
    "## Clebsch-Gordan Coefficients (CGC)\n",
    "\n",
    "Well, is there a simple way to calculate the Clebsch-Gordan coefficients? Not really, but there are some recursion relations that are useful for computational calculations. Fortunatelly, Sympy has some modules that help us to calculate them. \n",
    "\n",
    "See the links below: \n",
    "\n",
    "- https://physics.stackexchange.com/questions/443496/is-there-a-simple-way-to-calculate-clebsch-gordan-coefficients\n",
    "- https://docs.sympy.org/latest/modules/physics/quantum/cg.html \n",
    "- https://docs.sympy.org/latest/modules/physics/wigner.html\n",
    "\n",
    "In this module we use, the parameters are (j1, m1, j2, m2, J, M), where the pair (j1, m1) defines the angular momenta in the particle 1, (j2, m2) is obviously related to the particle 2, and finally, the pair (J, M) defines the tensor product state."
   ]
  },
  {
   "cell_type": "markdown",
   "id": "a71ba8f7-6ef3-4c98-b6cb-b60e9292cbdd",
   "metadata": {
    "tags": []
   },
   "source": [
    "### Spin 1/2 Particles\n",
    "\n",
    "Using the product $\\frac{1}{2} \\otimes \\frac{1}{2}$ as an example, we know that we have the states:\n",
    "$$ \n",
    "\\left|j_1 = \\frac{1}{2}, m_1 = \\frac{1}{2}, j_2 = \\frac{1}{2}, m_2 = \\frac{1}{2}, J = 1, M = 1 \\right\\rangle = |\\uparrow \\uparrow\\rangle \\qquad ; \\qquad  \n",
    "\\left|j_1 = \\frac{1}{2}, m_1 = - \\frac{1}{2}, j_2 = \\frac{1}{2}, m_2 = - \\frac{1}{2}, J = 1, M = - 1 \\right\\rangle = |\\downarrow \\downarrow\\rangle\n",
    "$$"
   ]
  },
  {
   "cell_type": "code",
   "execution_count": 34,
   "id": "50c4af38-634a-48e2-a089-f071d6c46e2b",
   "metadata": {},
   "outputs": [],
   "source": [
    "# And the CGC are \n",
    "CG1 = CG(1/2, 1/2, 1/2, 1/2, 1, 1)\n",
    "CG2 = CG(1/2, -1/2, 1/2, -1/2, 1, -1)"
   ]
  },
  {
   "cell_type": "code",
   "execution_count": 36,
   "id": "9c3651dd-90b2-4655-8a4c-1f2f20fcf01c",
   "metadata": {},
   "outputs": [
    {
     "data": {
      "text/latex": [
       "$\\displaystyle 1$"
      ],
      "text/plain": [
       "1"
      ]
     },
     "execution_count": 36,
     "metadata": {},
     "output_type": "execute_result"
    }
   ],
   "source": [
    "CG1.doit()"
   ]
  },
  {
   "cell_type": "code",
   "execution_count": 37,
   "id": "2f30a577-7fd9-4f1c-a93e-072f160311a1",
   "metadata": {},
   "outputs": [
    {
     "data": {
      "text/latex": [
       "$\\displaystyle 1$"
      ],
      "text/plain": [
       "1"
      ]
     },
     "execution_count": 37,
     "metadata": {},
     "output_type": "execute_result"
    }
   ],
   "source": [
    "CG2.doit()"
   ]
  },
  {
   "cell_type": "markdown",
   "id": "de96dced-3de8-4641-8cdc-0d2a46f411fe",
   "metadata": {},
   "source": [
    "The next state is \n",
    "$$ \n",
    "\\left|j_1 = \\frac{1}{2}, m_1 = \\frac{1}{2}, j_2 = \\frac{1}{2}, m_2 = -\\frac{1}{2}, J = 1, M = 0 \\right\\rangle = \\frac{1}{\\sqrt{2}} \\left( |\\uparrow \\downarrow\\rangle + \n",
    "|\\downarrow \\uparrow\\rangle\\right) \n",
    "$$"
   ]
  },
  {
   "cell_type": "code",
   "execution_count": 46,
   "id": "1314299d-c742-4608-9bc7-38e67b23ebb6",
   "metadata": {},
   "outputs": [],
   "source": [
    "# The CGC are\n",
    "CG3 = CG(1/2, 1/2, 1/2, -1/2, 1, 0)\n",
    "CG4 = CG(1/2, -1/2, 1/2, 1/2, 1, 0)"
   ]
  },
  {
   "cell_type": "code",
   "execution_count": 43,
   "id": "37af7013-d49e-426c-8f3e-5ffbc00b155e",
   "metadata": {},
   "outputs": [
    {
     "data": {
      "text/latex": [
       "$\\displaystyle \\frac{\\sqrt{2}}{2}$"
      ],
      "text/plain": [
       "sqrt(2)/2"
      ]
     },
     "execution_count": 43,
     "metadata": {},
     "output_type": "execute_result"
    }
   ],
   "source": [
    "CG3.doit()"
   ]
  },
  {
   "cell_type": "code",
   "execution_count": 44,
   "id": "1ef84e18-9b69-4d46-8458-3a1815edda55",
   "metadata": {},
   "outputs": [
    {
     "data": {
      "text/latex": [
       "$\\displaystyle \\frac{\\sqrt{2}}{2}$"
      ],
      "text/plain": [
       "sqrt(2)/2"
      ]
     },
     "execution_count": 44,
     "metadata": {},
     "output_type": "execute_result"
    }
   ],
   "source": [
    "CG4.doit()"
   ]
  },
  {
   "cell_type": "markdown",
   "id": "8d6a9631-437d-4b1e-b5b7-df9ab0d4a57b",
   "metadata": {},
   "source": [
    "The last state is \n",
    "$$ \n",
    "\\left|j_1 = \\frac{1}{2}, m_1 = \\frac{1}{2}, j_2 = \\frac{1}{2}, m_2 = -\\frac{1}{2}, J = 0, M = 0 \\right\\rangle = \\frac{1}{\\sqrt{2}} \\left( |\\uparrow \\downarrow\\rangle - \n",
    "|\\downarrow \\uparrow\\rangle\\right) \n",
    "$$"
   ]
  },
  {
   "cell_type": "code",
   "execution_count": 47,
   "id": "d8aa6b0b-b5e3-45eb-a86d-1f48185a535a",
   "metadata": {},
   "outputs": [],
   "source": [
    "# The CGC are\n",
    "CG5 = CG(1/2, 1/2, 1/2, -1/2, 0, 0)\n",
    "CG6 = CG(1/2, -1/2, 1/2, 1/2, 0, 0)"
   ]
  },
  {
   "cell_type": "code",
   "execution_count": 48,
   "id": "fd5a8763-be31-40cc-bfcb-9bbb0cb7e44e",
   "metadata": {},
   "outputs": [
    {
     "data": {
      "text/latex": [
       "$\\displaystyle \\frac{\\sqrt{2}}{2}$"
      ],
      "text/plain": [
       "sqrt(2)/2"
      ]
     },
     "execution_count": 48,
     "metadata": {},
     "output_type": "execute_result"
    }
   ],
   "source": [
    "CG5.doit()"
   ]
  },
  {
   "cell_type": "code",
   "execution_count": 49,
   "id": "0ebefbf8-8bbf-4e52-b05c-ef1616d782c4",
   "metadata": {},
   "outputs": [
    {
     "data": {
      "text/latex": [
       "$\\displaystyle - \\frac{\\sqrt{2}}{2}$"
      ],
      "text/plain": [
       "-sqrt(2)/2"
      ]
     },
     "execution_count": 49,
     "metadata": {},
     "output_type": "execute_result"
    }
   ],
   "source": [
    "CG6.doit()"
   ]
  },
  {
   "cell_type": "markdown",
   "id": "5819671e-0fcc-4eee-817d-392c2f44790d",
   "metadata": {},
   "source": [
    "Any other coefficient is zero. Try it!"
   ]
  },
  {
   "cell_type": "code",
   "execution_count": null,
   "id": "613b9aeb-9af0-40b1-8d17-d99e01783361",
   "metadata": {},
   "outputs": [],
   "source": []
  }
 ],
 "metadata": {
  "kernelspec": {
   "display_name": "Python 3 (ipykernel)",
   "language": "python",
   "name": "python3"
  },
  "language_info": {
   "codemirror_mode": {
    "name": "ipython",
    "version": 3
   },
   "file_extension": ".py",
   "mimetype": "text/x-python",
   "name": "python",
   "nbconvert_exporter": "python",
   "pygments_lexer": "ipython3",
   "version": "3.11.1"
  }
 },
 "nbformat": 4,
 "nbformat_minor": 5
}
