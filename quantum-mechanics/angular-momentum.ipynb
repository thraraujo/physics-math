{
 "cells": [
  {
   "cell_type": "markdown",
   "id": "4b53c66f-adfe-4381-8f0d-6150d21216f4",
   "metadata": {},
   "source": [
    "# Angular Momentum"
   ]
  },
  {
   "cell_type": "code",
   "execution_count": 129,
   "id": "7afbc579-2ea3-44da-80ba-0b1871220cc8",
   "metadata": {},
   "outputs": [],
   "source": [
    "from sympy import MatrixSymbol, Matrix, sqrt, Rational, I # Sympy allows us to perform some algebraic manipulations for matrices.\n",
    "from sympy.physics.quantum import hbar, Dagger\n",
    "import numpy as np"
   ]
  },
  {
   "cell_type": "code",
   "execution_count": 130,
   "id": "4eb6d6c5-43a5-4985-a0b2-00d6140435c9",
   "metadata": {},
   "outputs": [],
   "source": [
    "def comm(a,b):\n",
    "    return a*b - b*a"
   ]
  },
  {
   "cell_type": "markdown",
   "id": "69ad9b20-95c7-4f3c-9af6-322601f01dbc",
   "metadata": {
    "tags": []
   },
   "source": [
    "## Irreducible Representations\n",
    "\n",
    "Here we build the irreducible representations of the angular momentum algebra"
   ]
  },
  {
   "cell_type": "code",
   "execution_count": 131,
   "id": "3b9fb2d1-a1c9-4275-b80e-4f5facd6d401",
   "metadata": {},
   "outputs": [],
   "source": [
    "# Let us now define the m = -j, -j+1, ... , j-1, j\n",
    "def m(l):\n",
    "    if type(l) == int:\n",
    "        ms = [-Rational(i,1) for i in np.arange(-l, l + 0.5, 1)]\n",
    "        return ms\n",
    "    elif type(l) == float and 2*l % 2 == 1:\n",
    "        ms = [- Rational(i,1) for i in np.arange(-l, l + 0.5, 1)] # I add the 0.5 because python does not consider the final point\n",
    "        return ms\n",
    "    else: \n",
    "        raise TypeError(\"Only integers or half-integers are allowed\") \n",
    "\n",
    "# Define the Kronecker delta function     \n",
    "def kronecker(m,n):\n",
    "    if m == n:\n",
    "        return 1\n",
    "    return 0\n",
    "\n",
    "# Representation for the rotations\n",
    "def J3(l):\n",
    "    if type(l) == int:\n",
    "        # print(f\"j: {Rational(l,1)}\")\n",
    "        j3 = Matrix([[hbar * Rational(m(j)[p],1) * kronecker(p,q) for p in range(dim)] for q in range(dim)])\n",
    "        return j3\n",
    "    elif type(l) == float and 2*l % 2 == 1:\n",
    "        # print(f\"j: {Rational(l,1)}\")\n",
    "        j3 = Matrix([[hbar * Rational(- m + 1/2,1) * kronecker(m,n) for n in range(dim)] for m in range(dim)])\n",
    "        return j3\n",
    "    else: \n",
    "        raise TypeError(\"Only integers or half-integers are allowed\")\n",
    "        \n",
    "def J_plus(l):\n",
    "    # print(f\"j: {Rational(l,1)}\")\n",
    "    j_plus = Matrix([[hbar * sqrt(Rational((j - m(j)[p])*(j + m(j)[p] + 1),1)) * kronecker(p,q + 1) for p in range(dim)] for q in range(dim)])\n",
    "    return j_plus\n",
    "        \n",
    "def J_minus(l):\n",
    "    # print(f\"j: {Rational(l,1)}\")\n",
    "    j_minus = Matrix([[hbar * sqrt(Rational((j + m(j)[p])*(j - m(j)[p] + 1),1)) * kronecker(p,q - 1) for p in range(dim)] for q in range(dim)])\n",
    "    return j_minus"
   ]
  },
  {
   "cell_type": "markdown",
   "id": "155e0764-b2cd-4849-8e6f-7c286e3b60ad",
   "metadata": {},
   "source": [
    "## Labels (j, m)"
   ]
  },
  {
   "cell_type": "code",
   "execution_count": 109,
   "id": "89d060c8-cc49-42fb-9f07-44dde2dafa5e",
   "metadata": {},
   "outputs": [],
   "source": [
    "'''\n",
    "Some hard code first. \n",
    "Which j?\n",
    "'''\n",
    "j = 1/2 # I can use Rational(1,2) to have numbers as fractions\n",
    "dim = int(2 * j + 1)"
   ]
  },
  {
   "cell_type": "code",
   "execution_count": 110,
   "id": "1dad4a25-7d5d-487b-bce0-f29c8637248e",
   "metadata": {},
   "outputs": [
    {
     "data": {
      "text/plain": [
       "[1/2, -1/2]"
      ]
     },
     "execution_count": 110,
     "metadata": {},
     "output_type": "execute_result"
    }
   ],
   "source": [
    "m(j)"
   ]
  },
  {
   "cell_type": "markdown",
   "id": "e78c4cc0-3699-40c3-9144-0782292592ac",
   "metadata": {},
   "source": [
    "## Building the operators (J3, J_plus, J_minus)"
   ]
  },
  {
   "cell_type": "code",
   "execution_count": 33,
   "id": "1a8d0aab-d49c-40a5-a737-16b6cbde6478",
   "metadata": {},
   "outputs": [],
   "source": [
    "# Let me define a generic matrix in this basis. There is no use for it now, but it is useful to see that the construction works.\n",
    "# First we define the object\n",
    "A = MatrixSymbol('A',dim,dim)\n",
    "# Now we represent it\n",
    "A = Matrix(A) "
   ]
  },
  {
   "cell_type": "code",
   "execution_count": 111,
   "id": "69ea4c67-4ff1-4453-8964-42ed5f13621d",
   "metadata": {},
   "outputs": [
    {
     "data": {
      "text/latex": [
       "$\\displaystyle \\left[\\begin{matrix}\\frac{\\hbar}{2} & 0\\\\0 & - \\frac{\\hbar}{2}\\end{matrix}\\right]$"
      ],
      "text/plain": [
       "Matrix([\n",
       "[hbar/2,       0],\n",
       "[     0, -hbar/2]])"
      ]
     },
     "execution_count": 111,
     "metadata": {},
     "output_type": "execute_result"
    }
   ],
   "source": [
    "J3(j)"
   ]
  },
  {
   "cell_type": "code",
   "execution_count": 113,
   "id": "860335aa-184a-4fcc-9bdb-987f86838dbb",
   "metadata": {},
   "outputs": [
    {
     "data": {
      "text/latex": [
       "$\\displaystyle \\left[\\begin{matrix}0 & \\hbar\\\\0 & 0\\end{matrix}\\right]$"
      ],
      "text/plain": [
       "Matrix([\n",
       "[0, hbar],\n",
       "[0,    0]])"
      ]
     },
     "execution_count": 113,
     "metadata": {},
     "output_type": "execute_result"
    }
   ],
   "source": [
    "J_plus(j)"
   ]
  },
  {
   "cell_type": "code",
   "execution_count": 112,
   "id": "7c41a229-76d2-406b-8196-f9df7bedfa0c",
   "metadata": {},
   "outputs": [
    {
     "data": {
      "text/latex": [
       "$\\displaystyle \\left[\\begin{matrix}0 & 0\\\\\\hbar & 0\\end{matrix}\\right]$"
      ],
      "text/plain": [
       "Matrix([\n",
       "[   0, 0],\n",
       "[hbar, 0]])"
      ]
     },
     "execution_count": 112,
     "metadata": {},
     "output_type": "execute_result"
    }
   ],
   "source": [
    "J_minus(j)"
   ]
  },
  {
   "cell_type": "markdown",
   "id": "be24fab2-35f2-4a16-9513-a96451d11643",
   "metadata": {},
   "source": [
    "## Checking the Lie Algebra \n",
    "\n",
    "Now, consistency requires that the the following commutation relations \n",
    "$$ [J_+, J_-] = 2 \\hbar J_3 \\qquad [J_3, J_\\pm] = \\pm \\hbar J_\\pm $$\n",
    "are satisfied. "
   ]
  },
  {
   "cell_type": "code",
   "execution_count": 85,
   "id": "6ff110e9-b556-421b-ac78-ac0431a404f7",
   "metadata": {},
   "outputs": [
    {
     "name": "stdout",
     "output_type": "stream",
     "text": [
      "j: 1/2\n",
      "j: 1/2\n",
      "j: 1/2\n"
     ]
    },
    {
     "data": {
      "text/latex": [
       "$\\displaystyle \\left[\\begin{matrix}0 & 0\\\\0 & 0\\end{matrix}\\right]$"
      ],
      "text/plain": [
       "Matrix([\n",
       "[0, 0],\n",
       "[0, 0]])"
      ]
     },
     "execution_count": 85,
     "metadata": {},
     "output_type": "execute_result"
    }
   ],
   "source": [
    "comm(J3(j), J_minus(j)) + hbar * J_minus(j)"
   ]
  },
  {
   "cell_type": "code",
   "execution_count": 86,
   "id": "be531ddb-f415-420b-8d42-3efe4ab43684",
   "metadata": {},
   "outputs": [
    {
     "name": "stdout",
     "output_type": "stream",
     "text": [
      "j: 1/2\n",
      "j: 1/2\n",
      "j: 1/2\n"
     ]
    },
    {
     "data": {
      "text/latex": [
       "$\\displaystyle \\left[\\begin{matrix}0 & 0\\\\0 & 0\\end{matrix}\\right]$"
      ],
      "text/plain": [
       "Matrix([\n",
       "[0, 0],\n",
       "[0, 0]])"
      ]
     },
     "execution_count": 86,
     "metadata": {},
     "output_type": "execute_result"
    }
   ],
   "source": [
    "comm(J3(j), J_plus(j)) - hbar * J_plus(j)"
   ]
  },
  {
   "cell_type": "code",
   "execution_count": 87,
   "id": "b2518504-1ed9-469f-95cd-60a2b6ecdad3",
   "metadata": {},
   "outputs": [
    {
     "name": "stdout",
     "output_type": "stream",
     "text": [
      "j: 1/2\n",
      "j: 1/2\n",
      "j: 1/2\n"
     ]
    },
    {
     "data": {
      "text/latex": [
       "$\\displaystyle \\left[\\begin{matrix}0 & 0\\\\0 & 0\\end{matrix}\\right]$"
      ],
      "text/plain": [
       "Matrix([\n",
       "[0, 0],\n",
       "[0, 0]])"
      ]
     },
     "execution_count": 87,
     "metadata": {},
     "output_type": "execute_result"
    }
   ],
   "source": [
    "comm(J_plus(j), J_minus(j)) - 2 * hbar * J3(j)"
   ]
  },
  {
   "cell_type": "markdown",
   "id": "e34d5b8d-0b2a-4039-b036-9d0c1db1e803",
   "metadata": {},
   "source": [
    "## Similarity transformation for the j=1 case\n",
    "\n",
    "I would like to find a matrix $S$ such that the transformation \n",
    "$$ T_i = i S^\\dagger J_i S$$\n",
    "brings the matrices to the form of the SO(3) rotation generators. Observe that there is an extra factor of i. We define in this form to avoid terms of the form $\\sqrt(i)$."
   ]
  },
  {
   "cell_type": "code",
   "execution_count": 132,
   "id": "5ee97ef1-04f0-431a-92bc-98343e8b6bb2",
   "metadata": {},
   "outputs": [],
   "source": [
    "T1 = Matrix([[0,0,0],[0,0,1],[0,-1,0]])\n",
    "T2 = Matrix([[0,0,-1],[0,0,0],[1,0,0]])\n",
    "T3 = Matrix([[0,1,0],[-1,0,0],[0,0,0]])"
   ]
  },
  {
   "cell_type": "code",
   "execution_count": 133,
   "id": "5e2b690a-70c4-4f8f-be7f-a8fc06836ed2",
   "metadata": {},
   "outputs": [],
   "source": [
    "T = [T1, T2, T3]"
   ]
  },
  {
   "cell_type": "code",
   "execution_count": 134,
   "id": "10745d5d-f67c-4000-93e2-40a76cb37af8",
   "metadata": {},
   "outputs": [],
   "source": [
    "j = 1\n",
    "dim = int(2 * j + 1)"
   ]
  },
  {
   "cell_type": "code",
   "execution_count": 135,
   "id": "451d8b1b-6342-48fe-9f6d-d8c18f44c7fb",
   "metadata": {},
   "outputs": [
    {
     "data": {
      "text/plain": [
       "[1, 0, -1]"
      ]
     },
     "execution_count": 135,
     "metadata": {},
     "output_type": "execute_result"
    }
   ],
   "source": [
    "m(j)"
   ]
  },
  {
   "cell_type": "code",
   "execution_count": 137,
   "id": "76db36d5-502a-4dc3-ae86-9723144beb17",
   "metadata": {},
   "outputs": [],
   "source": [
    "# This ugly symbol Jj is just to avoid confusion with the function J(j)\n",
    "Jj1 = (J_plus(j) + J_minus(j)) / 2\n",
    "Jj2 = (J_plus(j) - J_minus(j)) / (2 * I)\n",
    "Jj3 = J3(j)"
   ]
  },
  {
   "cell_type": "code",
   "execution_count": 138,
   "id": "2b5dde0e-d1b9-4521-a84b-a325d0d1f17b",
   "metadata": {},
   "outputs": [],
   "source": [
    "Jj = [Jj1, Jj2, Jj3]"
   ]
  },
  {
   "cell_type": "code",
   "execution_count": 170,
   "id": "1fe4f3ad-931a-44e6-a646-f4c233d3492e",
   "metadata": {},
   "outputs": [],
   "source": [
    "S = Matrix([[1,-I,0],[0,0,-sqrt(2)],[-1,-I,0]]) / (sqrt(2 * hbar))"
   ]
  },
  {
   "cell_type": "code",
   "execution_count": 176,
   "id": "e96a6beb-e399-4e2d-a279-1494ff5ddecf",
   "metadata": {},
   "outputs": [],
   "source": [
    "Transf = [I * Dagger(S) * Jj[a] * S - T[a] for a in range(len(m(j)))]"
   ]
  },
  {
   "cell_type": "code",
   "execution_count": 179,
   "id": "d96ac81c-2030-4b3a-923b-be7415b901c7",
   "metadata": {},
   "outputs": [
    {
     "data": {
      "text/latex": [
       "$\\displaystyle \\left[\\begin{matrix}0 & 0 & 0\\\\0 & 0 & 0\\\\0 & 0 & 0\\end{matrix}\\right]$"
      ],
      "text/plain": [
       "Matrix([\n",
       "[0, 0, 0],\n",
       "[0, 0, 0],\n",
       "[0, 0, 0]])"
      ]
     },
     "execution_count": 179,
     "metadata": {},
     "output_type": "execute_result"
    }
   ],
   "source": [
    "Transf[0]"
   ]
  },
  {
   "cell_type": "code",
   "execution_count": null,
   "id": "0771f7b7-7373-4b9d-8b16-f5ab8478be77",
   "metadata": {},
   "outputs": [],
   "source": []
  }
 ],
 "metadata": {
  "kernelspec": {
   "display_name": "Python 3 (ipykernel)",
   "language": "python",
   "name": "python3"
  },
  "language_info": {
   "codemirror_mode": {
    "name": "ipython",
    "version": 3
   },
   "file_extension": ".py",
   "mimetype": "text/x-python",
   "name": "python",
   "nbconvert_exporter": "python",
   "pygments_lexer": "ipython3",
   "version": "3.11.1"
  }
 },
 "nbformat": 4,
 "nbformat_minor": 5
}
