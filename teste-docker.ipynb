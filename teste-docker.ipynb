{
 "cells": [
  {
   "cell_type": "code",
   "execution_count": 1,
   "id": "06d83fb6-0581-4ccb-96a3-749b392e680a",
   "metadata": {},
   "outputs": [],
   "source": [
    "import pysymmpol as ps"
   ]
  },
  {
   "cell_type": "code",
   "execution_count": 2,
   "id": "30685771-7a39-41aa-999c-0d9aa57fd6e9",
   "metadata": {},
   "outputs": [],
   "source": [
    "young = ps.YoungDiagram((3,3,1,1))"
   ]
  },
  {
   "cell_type": "code",
   "execution_count": 3,
   "id": "88ac7e43-a75f-4da8-9320-5c3e3b8b2420",
   "metadata": {},
   "outputs": [
    {
     "name": "stdout",
     "output_type": "stream",
     "text": [
      "■ \n",
      "■ \n",
      "■ ■ ■ \n",
      "■ ■ ■ \n"
     ]
    }
   ],
   "source": [
    "young.draw_diagram()"
   ]
  },
  {
   "cell_type": "code",
   "execution_count": null,
   "id": "ba303f6f-eceb-44e2-908d-95ce6f9f3cc4",
   "metadata": {},
   "outputs": [],
   "source": []
  }
 ],
 "metadata": {
  "kernelspec": {
   "display_name": "Python 3 (ipykernel)",
   "language": "python",
   "name": "python3"
  },
  "language_info": {
   "codemirror_mode": {
    "name": "ipython",
    "version": 3
   },
   "file_extension": ".py",
   "mimetype": "text/x-python",
   "name": "python",
   "nbconvert_exporter": "python",
   "pygments_lexer": "ipython3",
   "version": "3.11.10"
  }
 },
 "nbformat": 4,
 "nbformat_minor": 5
}
