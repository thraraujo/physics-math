{
 "cells": [
  {
   "cell_type": "markdown",
   "id": "9283d1ff-3a35-441d-a923-ef3396aa440d",
   "metadata": {},
   "source": [
    "# Lançamento Parabólico \n",
    "\n",
    "Esse código é um complemento das aulas. Primeiro, rode o código abaixo para criar os objetos que queremos simular. No caderno Jupyter digite: **Shift + Enter**"
   ]
  },
  {
   "cell_type": "code",
   "execution_count": 2,
   "id": "c324bec2-6906-414f-85fc-f17d6a1360e9",
   "metadata": {
    "tags": []
   },
   "outputs": [
    {
     "ename": "AttributeError",
     "evalue": "module 'matplotlib' has no attribute 'get_data_path'",
     "output_type": "error",
     "traceback": [
      "\u001b[0;31m---------------------------------------------------------------------------\u001b[0m",
      "\u001b[0;31mAttributeError\u001b[0m                            Traceback (most recent call last)",
      "Cell \u001b[0;32mIn[2], line 5\u001b[0m\n\u001b[1;32m      3\u001b[0m \u001b[38;5;28;01mimport\u001b[39;00m \u001b[38;5;21;01msympy\u001b[39;00m\n\u001b[1;32m      4\u001b[0m \u001b[38;5;28;01mfrom\u001b[39;00m \u001b[38;5;21;01mvpython\u001b[39;00m \u001b[38;5;28;01mimport\u001b[39;00m \u001b[38;5;241m*\u001b[39m\n\u001b[0;32m----> 5\u001b[0m \u001b[38;5;28;01mimport\u001b[39;00m \u001b[38;5;21;01mmatplotlib\u001b[39;00m\u001b[38;5;21;01m.\u001b[39;00m\u001b[38;5;21;01mpyplot\u001b[39;00m \u001b[38;5;28;01mas\u001b[39;00m \u001b[38;5;21;01mplt\u001b[39;00m\n\u001b[1;32m      6\u001b[0m \u001b[38;5;28;01mimport\u001b[39;00m \u001b[38;5;21;01mnumpy\u001b[39;00m \u001b[38;5;28;01mas\u001b[39;00m \u001b[38;5;21;01mnp\u001b[39;00m\n",
      "File \u001b[0;32m~/.local/lib/python3.11/site-packages/matplotlib/__init__.py:948\u001b[0m\n\u001b[1;32m    941\u001b[0m     \u001b[38;5;28;01mreturn\u001b[39;00m config\n\u001b[1;32m    944\u001b[0m \u001b[38;5;66;03m# When constructing the global instances, we need to perform certain updates\u001b[39;00m\n\u001b[1;32m    945\u001b[0m \u001b[38;5;66;03m# by explicitly calling the superclass (dict.update, dict.items) to avoid\u001b[39;00m\n\u001b[1;32m    946\u001b[0m \u001b[38;5;66;03m# triggering resolution of _auto_backend_sentinel.\u001b[39;00m\n\u001b[1;32m    947\u001b[0m rcParamsDefault \u001b[38;5;241m=\u001b[39m _rc_params_in_file(\n\u001b[0;32m--> 948\u001b[0m     \u001b[43mcbook\u001b[49m\u001b[38;5;241;43m.\u001b[39;49m\u001b[43m_get_data_path\u001b[49m\u001b[43m(\u001b[49m\u001b[38;5;124;43m\"\u001b[39;49m\u001b[38;5;124;43mmatplotlibrc\u001b[39;49m\u001b[38;5;124;43m\"\u001b[39;49m\u001b[43m)\u001b[49m,\n\u001b[1;32m    949\u001b[0m     \u001b[38;5;66;03m# Strip leading comment.\u001b[39;00m\n\u001b[1;32m    950\u001b[0m     transform\u001b[38;5;241m=\u001b[39m\u001b[38;5;28;01mlambda\u001b[39;00m line: line[\u001b[38;5;241m1\u001b[39m:] \u001b[38;5;28;01mif\u001b[39;00m line\u001b[38;5;241m.\u001b[39mstartswith(\u001b[38;5;124m\"\u001b[39m\u001b[38;5;124m#\u001b[39m\u001b[38;5;124m\"\u001b[39m) \u001b[38;5;28;01melse\u001b[39;00m line,\n\u001b[1;32m    951\u001b[0m     fail_on_error\u001b[38;5;241m=\u001b[39m\u001b[38;5;28;01mTrue\u001b[39;00m)\n\u001b[1;32m    952\u001b[0m \u001b[38;5;28mdict\u001b[39m\u001b[38;5;241m.\u001b[39mupdate(rcParamsDefault, rcsetup\u001b[38;5;241m.\u001b[39m_hardcoded_defaults)\n\u001b[1;32m    953\u001b[0m \u001b[38;5;66;03m# Normally, the default matplotlibrc file contains *no* entry for backend (the\u001b[39;00m\n\u001b[1;32m    954\u001b[0m \u001b[38;5;66;03m# corresponding line starts with ##, not #; we fill on _auto_backend_sentinel\u001b[39;00m\n\u001b[1;32m    955\u001b[0m \u001b[38;5;66;03m# in that case.  However, packagers can set a different default backend\u001b[39;00m\n\u001b[1;32m    956\u001b[0m \u001b[38;5;66;03m# (resulting in a normal `#backend: foo` line) in which case we should *not*\u001b[39;00m\n\u001b[1;32m    957\u001b[0m \u001b[38;5;66;03m# fill in _auto_backend_sentinel.\u001b[39;00m\n",
      "File \u001b[0;32m~/.local/lib/python3.11/site-packages/matplotlib/cbook/__init__.py:556\u001b[0m, in \u001b[0;36m_get_data_path\u001b[0;34m(*args)\u001b[0m\n\u001b[1;32m    550\u001b[0m \u001b[38;5;28;01mdef\u001b[39;00m \u001b[38;5;21m_get_data_path\u001b[39m(\u001b[38;5;241m*\u001b[39margs):\n\u001b[1;32m    551\u001b[0m \u001b[38;5;250m    \u001b[39m\u001b[38;5;124;03m\"\"\"\u001b[39;00m\n\u001b[1;32m    552\u001b[0m \u001b[38;5;124;03m    Return the `pathlib.Path` to a resource file provided by Matplotlib.\u001b[39;00m\n\u001b[1;32m    553\u001b[0m \n\u001b[1;32m    554\u001b[0m \u001b[38;5;124;03m    ``*args`` specify a path relative to the base data path.\u001b[39;00m\n\u001b[1;32m    555\u001b[0m \u001b[38;5;124;03m    \"\"\"\u001b[39;00m\n\u001b[0;32m--> 556\u001b[0m     \u001b[38;5;28;01mreturn\u001b[39;00m Path(\u001b[43mmatplotlib\u001b[49m\u001b[38;5;241;43m.\u001b[39;49m\u001b[43mget_data_path\u001b[49m(), \u001b[38;5;241m*\u001b[39margs)\n",
      "\u001b[0;31mAttributeError\u001b[0m: module 'matplotlib' has no attribute 'get_data_path'"
     ]
    }
   ],
   "source": [
    "# Pacotes \n",
    "\n",
    "import sympy\n",
    "from vpython import *\n",
    "import matplotlib.pyplot as plt\n",
    "import numpy as np"
   ]
  },
  {
   "cell_type": "code",
   "execution_count": 10,
   "id": "db1bff30-140c-4a32-a640-8ab935e28b33",
   "metadata": {
    "tags": []
   },
   "outputs": [],
   "source": [
    "# Parâmetros \n",
    "\n",
    "g = 9.8 # Aceleração da Gravidade \n",
    "M = 1 # Massa\n",
    "v0 = 14 # Velocidade Inicial"
   ]
  },
  {
   "cell_type": "markdown",
   "id": "9740d71a-07dc-492b-9738-3e5693e0e11c",
   "metadata": {},
   "source": [
    "## Alcance e Altura máxima"
   ]
  },
  {
   "cell_type": "code",
   "execution_count": 144,
   "id": "3fbb8394-5ada-4e96-954b-8339e758ba3a",
   "metadata": {
    "tags": []
   },
   "outputs": [
    {
     "data": {
      "text/html": [
       "<div id=\"glowscript\" class=\"glowscript\"></div>"
      ],
      "text/plain": [
       "<IPython.core.display.HTML object>"
      ]
     },
     "metadata": {},
     "output_type": "display_data"
    },
    {
     "data": {
      "application/javascript": [
       "if (typeof Jupyter !== \"undefined\") { window.__context = { glowscript_container: $(\"#glowscript\").removeAttr(\"id\")};}else{ element.textContent = ' ';}"
      ],
      "text/plain": [
       "<IPython.core.display.Javascript object>"
      ]
     },
     "metadata": {},
     "output_type": "display_data"
    }
   ],
   "source": [
    "scene = canvas()\n",
    "\n",
    "scene.camera.pos = vector(12,8,0)\n",
    "\n",
    "# Objetos: projetil, eixos \n",
    "projetil = sphere(pos=vector(0,0,0), color=color.cyan, radius=0.5, make_trail=True)\n",
    "eixoX = arrow(pos=vector(0,0,0), axis=vector(25,0,0), shaftwidth=0.3, round = True, color = vector(1,1,1))\n",
    "eixoY = arrow(pos=vector(0,0,0), axis=vector(0,15,0), shaftwidth=0.3, round = True, color = vector(1,1,1))"
   ]
  },
  {
   "cell_type": "markdown",
   "id": "67d3f162-6fec-4db9-99c3-7dab22db1699",
   "metadata": {},
   "source": [
    "Agora faremos alguns lançamentos parabólicos a uma velocidade inicial de 15 m/s e diversos ângulos. No código abaixo, você pode mudar a velocidade incial, mas tome algum cuidado pois talvez você precise redimensionar a posição da câmera acima. No que diz respeito a esse código, sugiro considerar valocidades iniciais entre 10m/s e 15m/s.\n",
    "\n",
    "Observe também que o alcance a altura máxima e o alcance são impessos abaixo. \n",
    "\n",
    "Finalmente, observe o alcance para os ângulos $\\theta = \\frac{\\pi}{3}$ e $\\theta = \\frac{\\pi}{6}$. Usando a propriedade trigonométrica $\\sin(\\alpha + \\beta) = 2 \\sin(\\alpha)\\sin(\\beta)$, explique a relação entre o alcance nesses dois ângulos. "
   ]
  },
  {
   "cell_type": "code",
   "execution_count": 9,
   "id": "f688a118-c380-4d44-8563-7e00e5e51eb3",
   "metadata": {
    "tags": []
   },
   "outputs": [
    {
     "name": "stdout",
     "output_type": "stream",
     "text": [
      "# Ângulo 1.5707963267948966 e velocidade inicial de magnitude 14m/s: Altura Máxima = 10.0m | Alcance = 2.4492935982947065e-15m\n",
      "# Ângulo 1.0471975511965976 e velocidade inicial de magnitude 14m/s: Altura Máxima = 7.499999999999998m | Alcance = 17.320508075688775m\n",
      "# Ângulo 0.7853981633974483 e velocidade inicial de magnitude 14m/s: Altura Máxima = 4.999999999999998m | Alcance = 20.0m\n",
      "# Ângulo 0.5235987755982988 e velocidade inicial de magnitude 14m/s: Altura Máxima = 2.499999999999999m | Alcance = 17.32050807568877m\n",
      "# Ângulo 0.4487989505128276 e velocidade inicial de magnitude 14m/s: Altura Máxima = 1.882550990706332m | Alcance = 15.636629649360593m\n",
      "# Ângulo 0.39269908169872414 e velocidade inicial de magnitude 14m/s: Altura Máxima = 1.4644660940672625m | Alcance = 14.142135623730947m\n",
      "# Ângulo 0.2617993877991494 e velocidade inicial de magnitude 14m/s: Altura Máxima = 0.6698729810778066m | Alcance = 9.999999999999998m\n"
     ]
    }
   ],
   "source": [
    "sleep(2)\n",
    "\n",
    "angles = [pi / 2, pi / 3, pi / 4, pi / 6, pi / 7, pi / 8, pi /12]\n",
    "\n",
    "for theta in angles:\n",
    "    \n",
    "    t = 0\n",
    "    dt = 0.01\n",
    "\n",
    "\n",
    "    y = v0 * sin(theta)* t - (9.8 * t ** 2) / 2\n",
    "\n",
    "    while y >= 0:\n",
    "        rate(100)\n",
    "\n",
    "        u = vector(v0 * cos(theta) * t, v0 * sin(theta)* t - (9.8 * t ** 2) / 2,0)\n",
    "\n",
    "        projetil.pos = u\n",
    "        t += dt\n",
    "        y = v0 * sin(theta)* t - (9.8 * t ** 2) / 2\n",
    "    altura = (v0 ** 2) * (sin(theta)**2) / (2 * 9.8)\n",
    "    alcance = (v0 ** 2) * (sin(2 * theta)) / (9.8)\n",
    "    print(f\"# Ângulo {theta} e velocidade inicial de magnitude {v0}m/s: Altura Máxima = {altura}m | Alcance = {alcance}m\")"
   ]
  },
  {
   "cell_type": "markdown",
   "id": "e89df438-1f18-43ae-815d-14b56e1e9146",
   "metadata": {},
   "source": [
    "## Energia Cinética, potencial e mecânica\n",
    "\n",
    "---\n",
    "**Energia Cinética:** Esse termo depende unicamente do movimento das partículas e é dado por \n",
    "                \n",
    "$$ T = \\frac{M}{2} \\vec{v}\\cdot \\vec{v} = \\frac{M}{2} (v_x^2+ v_y^2)$$\n",
    "\n",
    "No código abaixo, calculamos a energia cinética para diferentes velocidades iniciais. Brinque com o código abaixo e veja o que está acontecendo."
   ]
  },
  {
   "cell_type": "code",
   "execution_count": 59,
   "id": "fa7a417d-53c7-4cdf-9063-c93602d7241c",
   "metadata": {
    "tags": []
   },
   "outputs": [],
   "source": [
    "M = 2          # Massa da partícula\n",
    "v0 = 2        # Magnitude da velocidade inicial \n",
    "theta = pi/2   # Ângulo da lançamento\n",
    "\n",
    "# Escolhemos números estranhos pois são mais interessantes do ponto de vista numérico."
   ]
  },
  {
   "cell_type": "code",
   "execution_count": 61,
   "id": "ffb636b9-06fd-4f2f-b033-469f859d4acd",
   "metadata": {
    "tags": []
   },
   "outputs": [
    {
     "name": "stdout",
     "output_type": "stream",
     "text": [
      "# Energia Cinética 4.0 J\n",
      "# Energia Cinética 3.6176039999999996 J\n",
      "# Energia Cinética 3.254416 J\n",
      "# Energia Cinética 2.910436 J\n",
      "# Energia Cinética 2.5856640000000004 J\n",
      "# Energia Cinética 2.2801 J\n",
      "# Energia Cinética 1.9937439999999997 J\n",
      "# Energia Cinética 1.7265959999999996 J\n",
      "# Energia Cinética 1.478656 J\n",
      "# Energia Cinética 1.2499239999999998 J\n",
      "# Energia Cinética 1.0404 J\n",
      "# Energia Cinética 0.8500840000000003 J\n",
      "# Energia Cinética 0.6789760000000001 J\n",
      "# Energia Cinética 0.5270760000000003 J\n",
      "# Energia Cinética 0.3943840000000001 J\n",
      "# Energia Cinética 0.28090000000000004 J\n",
      "# Energia Cinética 0.18662399999999996 J\n",
      "# Energia Cinética 0.1115559999999999 J\n",
      "# Energia Cinética 0.05569599999999989 J\n",
      "# Energia Cinética 0.01904399999999991 J\n",
      "# Energia Cinética 0.0015999999999999496 J\n",
      "# Energia Cinética 0.003364000000000083 J\n",
      "# Energia Cinética 0.02433600000000018 J\n",
      "# Energia Cinética 0.06451600000000045 J\n",
      "# Energia Cinética 0.12390400000000053 J\n",
      "# Energia Cinética 0.20250000000000057 J\n",
      "# Energia Cinética 0.300304000000001 J\n",
      "# Energia Cinética 0.417316000000001 J\n",
      "# Energia Cinética 0.5535360000000017 J\n",
      "# Energia Cinética 0.7089640000000016 J\n",
      "# Energia Cinética 0.8836000000000024 J\n",
      "# Energia Cinética 1.0774440000000023 J\n",
      "# Energia Cinética 1.2904960000000032 J\n",
      "# Energia Cinética 1.5227560000000033 J\n",
      "# Energia Cinética 1.7742240000000042 J\n",
      "# Energia Cinética 2.044900000000004 J\n",
      "# Energia Cinética 2.3347840000000053 J\n",
      "# Energia Cinética 2.6438760000000054 J\n",
      "# Energia Cinética 2.972176000000007 J\n",
      "# Energia Cinética 3.3196840000000067 J\n",
      "# Energia Cinética 3.6864000000000083 J\n",
      "# Energia Cinética 4.07232400000001 J\n"
     ]
    }
   ],
   "source": [
    "# Energia Cinética \n",
    "\n",
    "t = 0\n",
    "dt = 0.01\n",
    "\n",
    "y = v0 * sin(theta)* t - (9.8 * t ** 2) / 2\n",
    "\n",
    "while y >= 0:\n",
    "    y = v0 * sin(theta)* t - (9.8 * t ** 2) / 2\n",
    "    \n",
    "    cinetica = M * ((v0 * cos(theta))**2 +  (v0 * sin(theta) - g * t )**2 ) / 2\n",
    "    \n",
    "    t += dt\n",
    "    \n",
    "    print(f\"# Energia Cinética {cinetica} J\")"
   ]
  },
  {
   "cell_type": "markdown",
   "id": "57a97404-26b9-45b4-9ce7-e42bf705219f",
   "metadata": {
    "tags": []
   },
   "source": [
    "---\n",
    "\n",
    "**Energia Potencial:** A partícula está num potencial gravitacional, portanto a energia potencial é dada por \n",
    "                \n",
    "$$ V = M g\\left(v_0 \\sin(\\theta) t - \\frac{g t^2 }{2}\\right)$$\n",
    "\n",
    "No código abaixo, calculamos a energia potencial para diferentes velocidades iniciais."
   ]
  },
  {
   "cell_type": "code",
   "execution_count": 62,
   "id": "a8c81ff0-30d6-4490-bcb7-e007a0b03fec",
   "metadata": {
    "tags": []
   },
   "outputs": [
    {
     "name": "stdout",
     "output_type": "stream",
     "text": [
      "# Energia Potencial 0.0 J\n",
      "# Energia Potencial 0.0 J\n",
      "# Energia Potencial 0.382396 J\n",
      "# Energia Potencial 0.745584 J\n",
      "# Energia Potencial 1.0895640000000002 J\n",
      "# Energia Potencial 1.414336 J\n",
      "# Energia Potencial 1.7199 J\n",
      "# Energia Potencial 2.0062560000000005 J\n",
      "# Energia Potencial 2.273404 J\n",
      "# Energia Potencial 2.5213440000000005 J\n",
      "# Energia Potencial 2.750076 J\n",
      "# Energia Potencial 2.9596 J\n",
      "# Energia Potencial 3.1499159999999997 J\n",
      "# Energia Potencial 3.321024 J\n",
      "# Energia Potencial 3.4729239999999995 J\n",
      "# Energia Potencial 3.605616 J\n",
      "# Energia Potencial 3.7190999999999996 J\n",
      "# Energia Potencial 3.813376 J\n",
      "# Energia Potencial 3.888444 J\n",
      "# Energia Potencial 3.9443040000000003 J\n",
      "# Energia Potencial 3.980956 J\n",
      "# Energia Potencial 3.9984 J\n",
      "# Energia Potencial 3.996636 J\n",
      "# Energia Potencial 3.9756639999999996 J\n",
      "# Energia Potencial 3.9354839999999998 J\n",
      "# Energia Potencial 3.876096 J\n",
      "# Energia Potencial 3.7975 J\n",
      "# Energia Potencial 3.699695999999999 J\n",
      "# Energia Potencial 3.5826839999999995 J\n",
      "# Energia Potencial 3.4464639999999993 J\n",
      "# Energia Potencial 3.2910359999999983 J\n",
      "# Energia Potencial 3.1163999999999974 J\n",
      "# Energia Potencial 2.922555999999996 J\n",
      "# Energia Potencial 2.7095039999999964 J\n",
      "# Energia Potencial 2.477243999999996 J\n",
      "# Energia Potencial 2.2257759999999958 J\n",
      "# Energia Potencial 1.9550999999999958 J\n",
      "# Energia Potencial 1.6652159999999943 J\n",
      "# Energia Potencial 1.356123999999993 J\n",
      "# Energia Potencial 1.0278239999999923 J\n",
      "# Energia Potencial 0.6803159999999917 J\n"
     ]
    }
   ],
   "source": [
    "# Energia Cinética \n",
    "\n",
    "t = 0\n",
    "dt = 0.01\n",
    "\n",
    "y = v0 * sin(theta)* t - (g * t ** 2) / 2\n",
    "\n",
    "while y >= 0:\n",
    "    \n",
    "    potencial = M * g * y\n",
    "        \n",
    "    y = v0 * sin(theta)* t - (9.8 * t ** 2) / 2\n",
    "    t += dt\n",
    "\n",
    "    if y >= 0:\n",
    "        print(f\"# Energia Potencial {potencial} J\")\n"
   ]
  },
  {
   "cell_type": "markdown",
   "id": "03b0381b-9c6e-4849-9c36-0df02b7b01c5",
   "metadata": {},
   "source": [
    "---\n",
    "\n",
    "**Energia Total:** Soma da energia cinética e potencial. Esse termo deve ser constante. "
   ]
  },
  {
   "cell_type": "code",
   "execution_count": 63,
   "id": "bb2af370-43cf-40cf-964b-adf2a6c139cc",
   "metadata": {
    "tags": []
   },
   "outputs": [
    {
     "name": "stdout",
     "output_type": "stream",
     "text": [
      "# Energia Total 3.9999999999999996 J\n",
      "# Energia Total 4.0 J\n",
      "# Energia Total 4.0 J\n",
      "# Energia Total 4.0 J\n",
      "# Energia Total 4.0 J\n",
      "# Energia Total 4.0 J\n",
      "# Energia Total 4.0 J\n",
      "# Energia Total 4.0 J\n",
      "# Energia Total 4.0 J\n",
      "# Energia Total 4.0 J\n",
      "# Energia Total 4.0 J\n",
      "# Energia Total 4.0 J\n",
      "# Energia Total 4.0 J\n",
      "# Energia Total 4.0 J\n",
      "# Energia Total 3.9999999999999996 J\n",
      "# Energia Total 4.0 J\n",
      "# Energia Total 3.9999999999999996 J\n",
      "# Energia Total 4.0 J\n",
      "# Energia Total 4.0 J\n",
      "# Energia Total 4.0 J\n",
      "# Energia Total 4.0 J\n",
      "# Energia Total 4.0 J\n",
      "# Energia Total 4.0 J\n",
      "# Energia Total 4.000000000000001 J\n",
      "# Energia Total 4.0 J\n",
      "# Energia Total 4.0 J\n",
      "# Energia Total 4.000000000000001 J\n",
      "# Energia Total 4.000000000000001 J\n",
      "# Energia Total 4.0 J\n",
      "# Energia Total 4.0 J\n",
      "# Energia Total 3.9999999999999982 J\n",
      "# Energia Total 3.9999999999999996 J\n",
      "# Energia Total 3.999999999999999 J\n",
      "# Energia Total 4.0 J\n",
      "# Energia Total 4.0 J\n",
      "# Energia Total 3.9999999999999996 J\n",
      "# Energia Total 3.9999999999999982 J\n",
      "# Energia Total 3.999999999999999 J\n",
      "# Energia Total 3.9999999999999982 J\n",
      "# Energia Total 4.0 J\n"
     ]
    }
   ],
   "source": [
    "# Energia Total \n",
    "\n",
    "t = 0\n",
    "dt = 0.01\n",
    "\n",
    "y = v0 * sin(theta)* t - (g * t ** 2) / 2\n",
    "\n",
    "while y >= 0:\n",
    "    y = v0 * sin(theta)* t - (9.8 * t ** 2) / 2\n",
    "    \n",
    "    cinetica = M * ((v0 * cos(theta))**2 +  (v0 * sin(theta) - g * t )**2 ) / 2\n",
    "    potencial = M * g * (v0 * sin(theta)* t - (g * t ** 2) / 2)\n",
    "    \n",
    "    mecanica = cinetica + potencial\n",
    "    \n",
    "    t += dt\n",
    "    if y > 0:\n",
    "        print(f\"# Energia Total {mecanica} J\")"
   ]
  },
  {
   "cell_type": "markdown",
   "id": "da498bb5-2af3-4246-90af-cfa148b0412f",
   "metadata": {},
   "source": [
    "**!! Observe que a o erro aparece nas casas decimais, e são resultados de aproximações numéricas no código**"
   ]
  },
  {
   "cell_type": "markdown",
   "id": "56d5dbbe-eae7-4918-bded-bd8a3b404a21",
   "metadata": {},
   "source": [
    "## Animação"
   ]
  },
  {
   "cell_type": "code",
   "execution_count": 145,
   "id": "d2eab608-7a2f-4d9a-bb8e-e459d914ca8d",
   "metadata": {
    "tags": []
   },
   "outputs": [
    {
     "data": {
      "text/html": [
       "<div id=\"glowscript\" class=\"glowscript\"></div>"
      ],
      "text/plain": [
       "<IPython.core.display.HTML object>"
      ]
     },
     "metadata": {},
     "output_type": "display_data"
    },
    {
     "data": {
      "application/javascript": [
       "if (typeof Jupyter !== \"undefined\") { window.__context = { glowscript_container: $(\"#glowscript\").removeAttr(\"id\")};}else{ element.textContent = ' ';}"
      ],
      "text/plain": [
       "<IPython.core.display.Javascript object>"
      ]
     },
     "metadata": {},
     "output_type": "display_data"
    }
   ],
   "source": [
    "scene2 = canvas()\n",
    "\n",
    "scene2.camera.pos = vector(3,0,-5)\n",
    "\n",
    "# Objetos: cylindros - energias\n",
    "EneTotal = cylinder(pos=vector(0,3,0), axis=vector(0,0,0), radius = 1, color = vector(0.5,1,0.3))\n",
    "ET = label( pos=vec(-3,3,0), text='Energia Total')\n",
    "\n",
    "EneCinetica = cylinder(pos=vector(0,0,0), axis=vector(0,0,0), radius = 1, color = vector(1,0,1))\n",
    "EC = label( pos=vec(-3,0,0), text='Energia Cinética')\n",
    "\n",
    "EnePotencial = cylinder(pos=vector(0,-3,0), axis=vector(0,0,0), radius = 1, color = vector(0,1,1))\n",
    "EP = label( pos=vec(-3,-3,0), text='Energia Potencial')"
   ]
  },
  {
   "cell_type": "code",
   "execution_count": 149,
   "id": "8496d4eb-bab4-4e59-8ad9-a0cadb65e67b",
   "metadata": {
    "tags": []
   },
   "outputs": [],
   "source": [
    "sleep(2)\n",
    "\n",
    "t = 0\n",
    "dt = 0.01\n",
    "\n",
    "y = v0 * sin(theta)* t - (9.8 * t ** 2) / 2\n",
    "\n",
    "while y >= -0.01:\n",
    "    rate(5)\n",
    "\n",
    "    cinet = M * ((v0 * cos(theta))**2 +  (v0 * sin(theta) - g * t )**2 ) / 2\n",
    "    poten = M * g * (v0 * sin(theta)* t - (g * t ** 2) / 2)\n",
    "    total = cinet + poten\n",
    "    \n",
    "\n",
    "    EneCinetica.axis.x = cinet\n",
    "    EnePotencial.axis.x = poten\n",
    "    EneTotal.axis.x = total\n",
    "    t += dt\n",
    "    y = v0 * sin(theta)* t - (9.8 * t ** 2) / 2"
   ]
  },
  {
   "cell_type": "markdown",
   "id": "648ba70e-357f-4b19-9623-10f6b3ec94b6",
   "metadata": {},
   "source": [
    "## Gráficos. \n",
    "\n",
    "Vamos plotar os gráficos das energias"
   ]
  },
  {
   "cell_type": "code",
   "execution_count": 13,
   "id": "a8a7a10f-05f5-421d-8fbf-2d08bb2ab115",
   "metadata": {
    "tags": []
   },
   "outputs": [],
   "source": [
    "# Velocidade e Angulo Inicial \n",
    "\n",
    "v0 = 10\n",
    "theta = pi  / 3"
   ]
  },
  {
   "cell_type": "code",
   "execution_count": 19,
   "id": "b8764db5-1d87-496f-a44b-19d0dc06d752",
   "metadata": {
    "tags": []
   },
   "outputs": [
    {
     "data": {
      "image/png": "[encoded data removed]",
      "text/plain": [
       "<Figure size 640x480 with 1 Axes>"
      ]
     },
     "metadata": {},
     "output_type": "display_data"
    }
   ],
   "source": [
    "# Vamos plotar o gráfico da energia total\n",
    "\n",
    "tempo_total = (2 * v0 * sin(theta)) / g  # tempo total da a particula permanece em movimento. \n",
    "\n",
    "t = np.arange(0.0, tempo_total, 0.01)\n",
    "\n",
    "cinetica = M * ((v0 * cos(theta))**2 +  (v0 * sin(theta) - g * t )**2 ) / 2\n",
    "potencial = M * g * (v0 * sin(theta)* t - (g * t ** 2) / 2)\n",
    "mecanica = cinetica + potencial\n",
    "\n",
    "fig, ax = plt.subplots()\n",
    "\n",
    "ax.plot(t, cinetica, label='Energia Cinética')\n",
    "ax.plot(t, potencial, label='Energia Potencial')\n",
    "ax.plot(t, mecanica, label='Energia Mecânica')\n",
    "\n",
    "ax.set(xlabel='time (s)', ylabel='Energia Mecanica',\n",
    "       title='Energia Conservada')\n",
    "ax.grid()\n",
    "\n",
    "ax.legend()\n",
    "plt.show()"
   ]
  },
  {
   "cell_type": "markdown",
   "id": "ec704954-f9dd-42ab-ad99-f3ee41d42681",
   "metadata": {},
   "source": [
    "# Curva com o maior comprimento\n",
    "\n",
    "Agora gostaria de determinar qual o ângulo que maximiza o comprimento da trajetória"
   ]
  },
  {
   "cell_type": "code",
   "execution_count": 103,
   "id": "e4f24da7-6c1e-4aaa-a4fb-3117cd505dd0",
   "metadata": {
    "tags": []
   },
   "outputs": [],
   "source": [
    "x = sympy.Symbol('x', real=True, positive=True)\n",
    "th = sympy.Symbol('th', real=True)\n",
    "v0 = sympy.Symbol('v0', real=True)\n",
    "g = sympy.Symbol('g', real=True)"
   ]
  },
  {
   "cell_type": "code",
   "execution_count": 104,
   "id": "e98759d5-9829-4230-8861-5904e27db433",
   "metadata": {
    "tags": []
   },
   "outputs": [],
   "source": [
    "t = x / (v0 * sympy.cos(th))"
   ]
  },
  {
   "cell_type": "code",
   "execution_count": 105,
   "id": "be7173a6-10b1-4410-8679-ffdb54b0b0d2",
   "metadata": {
    "tags": []
   },
   "outputs": [],
   "source": [
    "y = v0 * sympy.sin(th)* t - (g * t ** 2) / 2"
   ]
  },
  {
   "cell_type": "code",
   "execution_count": 106,
   "id": "804fbf54-4b6f-4d89-8f9b-c47360da9d96",
   "metadata": {
    "tags": []
   },
   "outputs": [],
   "source": [
    "Z = diff(y, x)"
   ]
  },
  {
   "cell_type": "code",
   "execution_count": 107,
   "id": "a5e0317a-c335-4869-b219-30a865d790b3",
   "metadata": {
    "tags": []
   },
   "outputs": [],
   "source": [
    "Z = Z.simplify()"
   ]
  },
  {
   "cell_type": "code",
   "execution_count": 108,
   "id": "1227e52a-a887-4ea2-a6b6-db8a1d1294fd",
   "metadata": {
    "tags": []
   },
   "outputs": [],
   "source": [
    "Z = expand(Z**2)"
   ]
  },
  {
   "cell_type": "code",
   "execution_count": 109,
   "id": "5f03da62-6f5a-4b8b-bd58-dbcd1567c894",
   "metadata": {
    "tags": []
   },
   "outputs": [
    {
     "data": {
      "text/latex": [
       "$\\displaystyle \\frac{g^{2} x^{2}}{v_{0}^{4} \\cos^{4}{\\left(th \\right)}} - \\frac{2 g x \\tan{\\left(th \\right)}}{v_{0}^{2} \\cos^{2}{\\left(th \\right)}} + \\tan^{2}{\\left(th \\right)}$"
      ],
      "text/plain": [
       "g**2*x**2/(v0**4*cos(th)**4) - 2*g*x*tan(th)/(v0**2*cos(th)**2) + tan(th)**2"
      ]
     },
     "execution_count": 109,
     "metadata": {},
     "output_type": "execute_result"
    }
   ],
   "source": [
    "Z"
   ]
  },
  {
   "cell_type": "code",
   "execution_count": 100,
   "id": "1fe39c2b-5975-4b08-a89e-f0ada8fc1520",
   "metadata": {
    "tags": []
   },
   "outputs": [
    {
     "data": {
      "text/latex": [
       "$\\displaystyle x \\sqrt{\\frac{g^{2} x^{2}}{v_{0}^{4} \\cos^{4}{\\left(th \\right)}} - \\frac{2 g x \\tan{\\left(th \\right)}}{v_{0}^{2} \\cos^{2}{\\left(th \\right)}} + \\tan^{2}{\\left(th \\right)} + 1}$"
      ],
      "text/plain": [
       "x*sqrt(g**2*x**2/(v0**4*cos(th)**4) - 2*g*x*tan(th)/(v0**2*cos(th)**2) + tan(th)**2 + 1)"
      ]
     },
     "execution_count": 100,
     "metadata": {},
     "output_type": "execute_result"
    }
   ],
   "source": [
    "integrate(sympy.sqrt(1 + Z),x)"
   ]
  },
  {
   "cell_type": "code",
   "execution_count": 116,
   "id": "675338ce-a669-494d-99dc-299552059980",
   "metadata": {
    "tags": []
   },
   "outputs": [],
   "source": [
    "a = sympy.Symbol('a')\n",
    "b = sympy.Symbol('b')\n",
    "c = sympy.Symbol('c')"
   ]
  },
  {
   "cell_type": "code",
   "execution_count": 118,
   "id": "6bd4e57b-9187-4926-850a-4ac26747e64d",
   "metadata": {
    "tags": []
   },
   "outputs": [
    {
     "data": {
      "text/latex": [
       "$\\displaystyle \\begin{cases} \\left(\\frac{x}{2} + \\frac{b}{4 a}\\right) \\sqrt{a x^{2} + b x + c} + \\frac{\\left(\\frac{c}{2} - \\frac{b^{2}}{8 a}\\right) \\log{\\left(2 \\sqrt{a} \\sqrt{a x^{2} + b x + c} + 2 a x + b \\right)}}{\\sqrt{a}} & \\text{for}\\: a \\neq 0 \\\\\\frac{2 \\left(b x + c\\right)^{\\frac{3}{2}}}{3 b} & \\text{for}\\: b \\neq 0 \\\\\\sqrt{c} x & \\text{otherwise} \\end{cases}$"
      ],
      "text/plain": [
       "Piecewise(((x/2 + b/(4*a))*sqrt(a*x**2 + b*x + c) + (c/2 - b**2/(8*a))*log(2*sqrt(a)*sqrt(a*x**2 + b*x + c) + 2*a*x + b)/sqrt(a), Ne(a, 0)), (2*(b*x + c)**(3/2)/(3*b), Ne(b, 0)), (sqrt(c)*x, True))"
      ]
     },
     "execution_count": 118,
     "metadata": {},
     "output_type": "execute_result"
    }
   ],
   "source": [
    "integrate(sympy.sqrt(c + b * x + a * x**2),x)"
   ]
  },
  {
   "cell_type": "code",
   "execution_count": null,
   "id": "46d627bd-01df-44e5-8880-7aef3069b283",
   "metadata": {},
   "outputs": [],
   "source": []
  }
 ],
 "metadata": {
  "kernelspec": {
   "display_name": "Python 3 (ipykernel)",
   "language": "python",
   "name": "python3"
  },
  "language_info": {
   "codemirror_mode": {
    "name": "ipython",
    "version": 3
   },
   "file_extension": ".py",
   "mimetype": "text/x-python",
   "name": "python",
   "nbconvert_exporter": "python",
   "pygments_lexer": "ipython3",
   "version": "3.11.3"
  }
 },
 "nbformat": 4,
 "nbformat_minor": 5
}
