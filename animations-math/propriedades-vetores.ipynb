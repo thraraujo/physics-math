{
 "cells": [
  {
   "cell_type": "markdown",
   "id": "3ffad20c-b1ed-45c5-b6dd-d89c4b4304bd",
   "metadata": {},
   "source": [
    "# Propriedades de Vetores \n",
    "\n",
    "Nesse texto vamos tentar entender propriedades de vetores"
   ]
  },
  {
   "cell_type": "code",
   "execution_count": 1,
   "id": "7e3523ef-58ae-4124-a525-0db8cc8ead36",
   "metadata": {},
   "outputs": [
    {
     "data": {
      "text/html": [
       "<div id=\"glowscript\" class=\"glowscript\"></div>"
      ],
      "text/plain": [
       "<IPython.core.display.HTML object>"
      ]
     },
     "metadata": {},
     "output_type": "display_data"
    },
    {
     "data": {
      "application/javascript": [
       "if (typeof Jupyter !== \"undefined\") { window.__context = { glowscript_container: $(\"#glowscript\").removeAttr(\"id\")};}else{ element.textContent = ' ';}"
      ],
      "text/plain": [
       "<IPython.core.display.Javascript object>"
      ]
     },
     "metadata": {},
     "output_type": "display_data"
    }
   ],
   "source": [
    "from vpython import *"
   ]
  },
  {
   "cell_type": "markdown",
   "id": "9b64798c-457d-45de-a0f3-f0d6c70632ad",
   "metadata": {},
   "source": [
    "## Soma de vetores"
   ]
  },
  {
   "cell_type": "code",
   "execution_count": 16,
   "id": "e56f2b32-2190-4286-ae75-eb90b03c7f54",
   "metadata": {
    "tags": []
   },
   "outputs": [
    {
     "data": {
      "text/html": [
       "<div id=\"glowscript\" class=\"glowscript\"></div>"
      ],
      "text/plain": [
       "<IPython.core.display.HTML object>"
      ]
     },
     "metadata": {},
     "output_type": "display_data"
    },
    {
     "data": {
      "application/javascript": [
       "if (typeof Jupyter !== \"undefined\") { window.__context = { glowscript_container: $(\"#glowscript\").removeAttr(\"id\")};}else{ element.textContent = ' ';}"
      ],
      "text/plain": [
       "<IPython.core.display.Javascript object>"
      ]
     },
     "metadata": {},
     "output_type": "display_data"
    }
   ],
   "source": [
    "from vpython import *\n",
    "scene = canvas()\n",
    "# Web VPython 3.2\n",
    "\n",
    "#scene.camera.pos = vector(0.5,0,0)\n",
    "#scene.camera.axis = vector(-1,0,0)\n",
    "\n",
    "# f1 = gcurve(color=color.blue)\n",
    "\n",
    "t  =0\n",
    "dt = 0.01\n",
    "\n",
    "## Vetores são definidos aqui.\n",
    "\n",
    "########## Mude Aqui ##########\n",
    "\n",
    "uma = 2 # magnitude do vetor u\n",
    "ufr = 2 # frequencia do vetor u\n",
    "vma = 3 # magnitude do vetor v\n",
    "vfr = 4 # fraquencia do vetor v\n",
    "\n",
    "###############################\n",
    "\n",
    "u = vector(uma * cos(ufr * t), uma * sin(ufr * t),0)\n",
    "v = vector(-uma * sin(ufr * t), uma * cos(ufr * t),0)\n",
    "w = u + v\n",
    "\n",
    "uarr = arrow(pos=vector(0,0,0), axis=u, shaftwidth=0.3, round = True, color = vector(1,0,0))\n",
    "varr = arrow(pos=vector(0,0,0), axis=v, shaftwidth=0.3, round = True, color = vector(1,0,0))\n",
    "warr = arrow(pos=vector(0,0,0), axis=w, shaftwidth=0.3, round = True, color = vector(1,1,0))\n",
    "\n",
    "## Abaixo rotacionamos os vetores com o mesmo ângulo\n",
    "\n",
    "while t < 5:\n",
    "    rate(50)\n",
    "  \n",
    "    u = vector(uma * cos(ufr * t), uma * sin(ufr * t),0)\n",
    "    v = vector(-vma * sin(ufr * t), vma * cos(ufr * t),0)\n",
    "    w = u + v\n",
    "    \n",
    "    #f1.plot(t, mag(u))\n",
    "  \n",
    "    uarr.axis = u\n",
    "    varr.axis = v\n",
    "    warr.axis = w\n",
    "    t = t + dt\n",
    "    \n",
    "## Abaixo consideramos rotações diferentes para cada um dos vetores\n",
    "\n",
    "t = 0 \n",
    "dt = 0.01\n",
    "\n",
    "while t < 5:\n",
    "    rate(50)\n",
    "  \n",
    "    u = vector(uma * cos(ufr * t), uma * sin(ufr * t),0)\n",
    "    v = vector(-vma * sin(vfr * t), vma * cos(vfr * t),0)\n",
    "    w = u + v\n",
    "    \n",
    "    #f1.plot(t, mag(u))\n",
    "  \n",
    "    uarr.axis = u\n",
    "    varr.axis = v\n",
    "    warr.axis = w\n",
    "    t = t + dt"
   ]
  },
  {
   "cell_type": "markdown",
   "id": "d807973d-3114-4b51-9253-d31cac117c3f",
   "metadata": {},
   "source": [
    "## Subtração de Vetores"
   ]
  },
  {
   "cell_type": "code",
   "execution_count": 17,
   "id": "2c2c55a0-3c5c-4d9a-a0ac-d0e26507c3b6",
   "metadata": {
    "tags": []
   },
   "outputs": [
    {
     "data": {
      "text/html": [
       "<div id=\"glowscript\" class=\"glowscript\"></div>"
      ],
      "text/plain": [
       "<IPython.core.display.HTML object>"
      ]
     },
     "metadata": {},
     "output_type": "display_data"
    },
    {
     "data": {
      "application/javascript": [
       "if (typeof Jupyter !== \"undefined\") { window.__context = { glowscript_container: $(\"#glowscript\").removeAttr(\"id\")};}else{ element.textContent = ' ';}"
      ],
      "text/plain": [
       "<IPython.core.display.Javascript object>"
      ]
     },
     "metadata": {},
     "output_type": "display_data"
    }
   ],
   "source": [
    "scene = canvas()\n",
    "# Web VPython 3.2\n",
    "\n",
    "#scene.camera.pos = vector(0.5,0,0)\n",
    "#scene.camera.axis = vector(-1,0,0)\n",
    "\n",
    "# f1 = gcurve(color=color.blue)\n",
    "\n",
    "t  =0\n",
    "dt = 0.01\n",
    "\n",
    "## Vetores são definidos aqui.\n",
    "\n",
    "########## Mude Aqui ##########\n",
    "\n",
    "uma = 2 # magnitude do vetor u\n",
    "ufr = 2 # frequencia do vetor u\n",
    "vma = 3 # magnitude do vetor v\n",
    "vfr = 4 # fraquencia do vetor v\n",
    "\n",
    "###############################\n",
    "\n",
    "u = vector(uma * cos(ufr * t), uma * sin(ufr * t),0)\n",
    "v = vector(-uma * sin(ufr * t), uma * cos(ufr * t),0)\n",
    "w = u - v\n",
    "\n",
    "uarr = arrow(pos=vector(0,0,0), axis=u, shaftwidth=0.3, round = True, color = vector(1,0,0))\n",
    "varr = arrow(pos=vector(0,0,0), axis=v, shaftwidth=0.3, round = True, color = vector(1,0,0))\n",
    "warr = arrow(pos=vector(0,0,0), axis=w, shaftwidth=0.3, round = True, color = vector(1,1,0))\n",
    "\n",
    "## Abaixo rotacionamos os vetores com o mesmo ângulo\n",
    "\n",
    "while t < 5:\n",
    "    rate(50)\n",
    "  \n",
    "    u = vector(uma * cos(ufr * t), uma * sin(ufr * t),0)\n",
    "    v = vector(-vma * sin(ufr * t), vma * cos(ufr * t),0)\n",
    "    w = u - v\n",
    "    \n",
    "    #f1.plot(t, mag(u))\n",
    "  \n",
    "    uarr.axis = u\n",
    "    varr.axis = v\n",
    "    warr.axis = w\n",
    "    t = t + dt\n",
    "    \n",
    "## Abaixo consideramos rotações diferentes para cada um dos vetores\n",
    "\n",
    "t = 0 \n",
    "dt = 0.01\n",
    "\n",
    "while t < 5:\n",
    "    rate(50)\n",
    "  \n",
    "    u = vector(uma * cos(ufr * t), uma * sin(ufr * t),0)\n",
    "    v = vector(-vma * sin(vfr * t), vma * cos(vfr * t),0)\n",
    "    w = u - v\n",
    "    \n",
    "    #f1.plot(t, mag(u))\n",
    "  \n",
    "    uarr.axis = u\n",
    "    varr.axis = v\n",
    "    warr.axis = w\n",
    "    t = t + dt"
   ]
  },
  {
   "cell_type": "markdown",
   "id": "ce43cdc4-8dd7-423e-914d-432bec01624d",
   "metadata": {
    "tags": []
   },
   "source": [
    "## Produto Vetorial"
   ]
  },
  {
   "cell_type": "code",
   "execution_count": 4,
   "id": "fd11e764-5082-403c-b931-bbbcaf1875fd",
   "metadata": {
    "tags": []
   },
   "outputs": [
    {
     "data": {
      "text/html": [
       "<div id=\"glowscript\" class=\"glowscript\"></div>"
      ],
      "text/plain": [
       "<IPython.core.display.HTML object>"
      ]
     },
     "metadata": {},
     "output_type": "display_data"
    },
    {
     "data": {
      "application/javascript": [
       "if (typeof Jupyter !== \"undefined\") { window.__context = { glowscript_container: $(\"#glowscript\").removeAttr(\"id\")};}else{ element.textContent = ' ';}"
      ],
      "text/plain": [
       "<IPython.core.display.Javascript object>"
      ]
     },
     "metadata": {},
     "output_type": "display_data"
    }
   ],
   "source": [
    "from vpython import *\n",
    "scene = canvas()\n",
    "# Web VPython 3.2\n",
    "\n",
    "scene.camera.pos = vector(8,8,8)\n",
    "scene.camera.axis = vector(-1,-1,-1)\n",
    "\n",
    "# f1 = gcurve(color=color.blue)\n",
    "\n",
    "t  =0\n",
    "dt = 0.01\n",
    "\n",
    "## Vetores são definidos aqui.\n",
    "\n",
    "########## Mude Aqui ##########\n",
    "\n",
    "uma = 2 # magnitude do vetor u\n",
    "ufr = 2 # frequencia do vetor u\n",
    "vma = 3 # magnitude do vetor v\n",
    "vfr = 4 # fraquencia do vetor v\n",
    "\n",
    "###############################\n",
    "\n",
    "u = vector(uma * cos(ufr * t), uma * sin(ufr * t),0)\n",
    "v = vector(-uma * sin(ufr * t), uma * cos(ufr * t),0)\n",
    "w = cross(u,v)\n",
    "\n",
    "uarr = arrow(pos=vector(0,0,0), axis=u, shaftwidth=0.3, round = True, color = vector(1,0,0))\n",
    "varr = arrow(pos=vector(0,0,0), axis=v, shaftwidth=0.3, round = True, color = vector(0,1,0))\n",
    "warr = arrow(pos=vector(0,0,0), axis=w, shaftwidth=0.3, round = True, color = vector(1,1,0))\n",
    "\n",
    "## Abaixo rotacionamos os vetores com o mesmo ângulo\n",
    "\n",
    "while t < 5:\n",
    "    rate(50)\n",
    "  \n",
    "    u = vector(uma * cos(ufr * t), uma * sin(ufr * t),0)\n",
    "    v = vector(-vma * sin(ufr * t), vma * cos(ufr * t),0)\n",
    "    w = cross(u,v)\n",
    "    \n",
    "    #f1.plot(t, mag(u))\n",
    "  \n",
    "    uarr.axis = u\n",
    "    varr.axis = v\n",
    "    warr.axis = w\n",
    "    t = t + dt\n",
    "    \n",
    "## Abaixo consideramos rotações diferentes para cada um dos vetores\n",
    "\n",
    "t = 0 \n",
    "dt = 0.01\n",
    "\n",
    "while t < 5:\n",
    "    rate(50)\n",
    "  \n",
    "    u = vector(uma * cos(ufr * t), uma * sin(ufr * t),0)\n",
    "    v = vector(-vma * sin(vfr * t), vma * cos(vfr * t),0)\n",
    "    w = cross(u,v)\n",
    "    \n",
    "    #f1.plot(t, mag(u))\n",
    "  \n",
    "    uarr.axis = u\n",
    "    varr.axis = v\n",
    "    warr.axis = w\n",
    "    t = t + dt"
   ]
  },
  {
   "cell_type": "code",
   "execution_count": null,
   "id": "4b438a34-fafa-464d-bef6-ff413c94be19",
   "metadata": {},
   "outputs": [],
   "source": []
  }
 ],
 "metadata": {
  "kernelspec": {
   "display_name": "Python 3 (ipykernel)",
   "language": "python",
   "name": "python3"
  },
  "language_info": {
   "codemirror_mode": {
    "name": "ipython",
    "version": 3
   },
   "file_extension": ".py",
   "mimetype": "text/x-python",
   "name": "python",
   "nbconvert_exporter": "python",
   "pygments_lexer": "ipython3",
   "version": "3.11.3"
  }
 },
 "nbformat": 4,
 "nbformat_minor": 5
}
