{
 "cells": [
  {
   "cell_type": "code",
   "execution_count": 9,
   "id": "fbe655d5-1f68-4e28-b4be-e74bc8c5da88",
   "metadata": {
    "tags": []
   },
   "outputs": [
    {
     "ename": "ModuleNotFoundError",
     "evalue": "No module named 'pyparsing'",
     "output_type": "error",
     "traceback": [
      "\u001b[0;31m---------------------------------------------------------------------------\u001b[0m",
      "\u001b[0;31mModuleNotFoundError\u001b[0m                       Traceback (most recent call last)",
      "Cell \u001b[0;32mIn[9], line 4\u001b[0m\n\u001b[1;32m      1\u001b[0m \u001b[38;5;66;03m# Pacotes \u001b[39;00m\n\u001b[1;32m      3\u001b[0m \u001b[38;5;28;01mfrom\u001b[39;00m \u001b[38;5;21;01mvpython\u001b[39;00m \u001b[38;5;28;01mimport\u001b[39;00m \u001b[38;5;241m*\u001b[39m\n\u001b[0;32m----> 4\u001b[0m \u001b[38;5;28;01mimport\u001b[39;00m \u001b[38;5;21;01mmatplotlib\u001b[39;00m\u001b[38;5;21;01m.\u001b[39;00m\u001b[38;5;21;01mpyplot\u001b[39;00m \u001b[38;5;28;01mas\u001b[39;00m \u001b[38;5;21;01mplt\u001b[39;00m\n\u001b[1;32m      5\u001b[0m \u001b[38;5;28;01mimport\u001b[39;00m \u001b[38;5;21;01mnumpy\u001b[39;00m \u001b[38;5;28;01mas\u001b[39;00m \u001b[38;5;21;01mnp\u001b[39;00m\n",
      "File \u001b[0;32m~/.local/lib/python3.11/site-packages/matplotlib/__init__.py:131\u001b[0m\n\u001b[1;32m    127\u001b[0m \u001b[38;5;28;01mfrom\u001b[39;00m \u001b[38;5;21;01mpackaging\u001b[39;00m\u001b[38;5;21;01m.\u001b[39;00m\u001b[38;5;21;01mversion\u001b[39;00m \u001b[38;5;28;01mimport\u001b[39;00m parse \u001b[38;5;28;01mas\u001b[39;00m parse_version\n\u001b[1;32m    129\u001b[0m \u001b[38;5;66;03m# cbook must import matplotlib only within function\u001b[39;00m\n\u001b[1;32m    130\u001b[0m \u001b[38;5;66;03m# definitions, so it is safe to import from it here.\u001b[39;00m\n\u001b[0;32m--> 131\u001b[0m \u001b[38;5;28;01mfrom\u001b[39;00m \u001b[38;5;21;01m.\u001b[39;00m \u001b[38;5;28;01mimport\u001b[39;00m _api, _version, cbook, _docstring, rcsetup\n\u001b[1;32m    132\u001b[0m \u001b[38;5;28;01mfrom\u001b[39;00m \u001b[38;5;21;01mmatplotlib\u001b[39;00m\u001b[38;5;21;01m.\u001b[39;00m\u001b[38;5;21;01mcbook\u001b[39;00m \u001b[38;5;28;01mimport\u001b[39;00m sanitize_sequence\n\u001b[1;32m    133\u001b[0m \u001b[38;5;28;01mfrom\u001b[39;00m \u001b[38;5;21;01mmatplotlib\u001b[39;00m\u001b[38;5;21;01m.\u001b[39;00m\u001b[38;5;21;01m_api\u001b[39;00m \u001b[38;5;28;01mimport\u001b[39;00m MatplotlibDeprecationWarning\n",
      "File \u001b[0;32m~/.local/lib/python3.11/site-packages/matplotlib/rcsetup.py:28\u001b[0m\n\u001b[1;32m     26\u001b[0m \u001b[38;5;28;01mfrom\u001b[39;00m \u001b[38;5;21;01mmatplotlib\u001b[39;00m\u001b[38;5;21;01m.\u001b[39;00m\u001b[38;5;21;01mcbook\u001b[39;00m \u001b[38;5;28;01mimport\u001b[39;00m ls_mapper\n\u001b[1;32m     27\u001b[0m \u001b[38;5;28;01mfrom\u001b[39;00m \u001b[38;5;21;01mmatplotlib\u001b[39;00m\u001b[38;5;21;01m.\u001b[39;00m\u001b[38;5;21;01mcolors\u001b[39;00m \u001b[38;5;28;01mimport\u001b[39;00m Colormap, is_color_like\n\u001b[0;32m---> 28\u001b[0m \u001b[38;5;28;01mfrom\u001b[39;00m \u001b[38;5;21;01mmatplotlib\u001b[39;00m\u001b[38;5;21;01m.\u001b[39;00m\u001b[38;5;21;01m_fontconfig_pattern\u001b[39;00m \u001b[38;5;28;01mimport\u001b[39;00m parse_fontconfig_pattern\n\u001b[1;32m     29\u001b[0m \u001b[38;5;28;01mfrom\u001b[39;00m \u001b[38;5;21;01mmatplotlib\u001b[39;00m\u001b[38;5;21;01m.\u001b[39;00m\u001b[38;5;21;01m_enums\u001b[39;00m \u001b[38;5;28;01mimport\u001b[39;00m JoinStyle, CapStyle\n\u001b[1;32m     31\u001b[0m \u001b[38;5;66;03m# Don't let the original cycler collide with our validating cycler\u001b[39;00m\n",
      "File \u001b[0;32m~/.local/lib/python3.11/site-packages/matplotlib/_fontconfig_pattern.py:15\u001b[0m\n\u001b[1;32m     12\u001b[0m \u001b[38;5;28;01mfrom\u001b[39;00m \u001b[38;5;21;01mfunctools\u001b[39;00m \u001b[38;5;28;01mimport\u001b[39;00m lru_cache, partial\n\u001b[1;32m     13\u001b[0m \u001b[38;5;28;01mimport\u001b[39;00m \u001b[38;5;21;01mre\u001b[39;00m\n\u001b[0;32m---> 15\u001b[0m \u001b[38;5;28;01mfrom\u001b[39;00m \u001b[38;5;21;01mpyparsing\u001b[39;00m \u001b[38;5;28;01mimport\u001b[39;00m (\n\u001b[1;32m     16\u001b[0m     Group, Optional, ParseException, Regex, StringEnd, Suppress, ZeroOrMore)\n\u001b[1;32m     18\u001b[0m \u001b[38;5;28;01mfrom\u001b[39;00m \u001b[38;5;21;01mmatplotlib\u001b[39;00m \u001b[38;5;28;01mimport\u001b[39;00m _api\n\u001b[1;32m     21\u001b[0m _family_punc \u001b[38;5;241m=\u001b[39m \u001b[38;5;124mr\u001b[39m\u001b[38;5;124m'\u001b[39m\u001b[38;5;130;01m\\\\\u001b[39;00m\u001b[38;5;124m\\\u001b[39m\u001b[38;5;124m-:,\u001b[39m\u001b[38;5;124m'\u001b[39m\n",
      "\u001b[0;31mModuleNotFoundError\u001b[0m: No module named 'pyparsing'"
     ]
    }
   ],
   "source": [
    "# Pacotes \n",
    "\n",
    "from vpython import *\n",
    "import matplotlib.pyplot as plt\n",
    "import numpy as np"
   ]
  },
  {
   "cell_type": "markdown",
   "id": "f1ef8fbd-431d-461c-8a35-380249c03688",
   "metadata": {},
   "source": [
    "# 1 - Sub-amortecimento\n",
    "\n",
    "Vamos inicialmente considerar o caso subamortecido. "
   ]
  },
  {
   "cell_type": "code",
   "execution_count": 2,
   "id": "c4e9f5ab-1546-477e-9063-e272a6747ec9",
   "metadata": {
    "tags": []
   },
   "outputs": [],
   "source": [
    "# Constante elástica e Massa e coeficiente de amortecimento\n",
    "k = 3\n",
    "m = 1\n",
    "w0 = sqrt(k/m)"
   ]
  },
  {
   "cell_type": "code",
   "execution_count": 3,
   "id": "8c581cc6-240e-4b47-ad06-d951ead3a2fd",
   "metadata": {
    "tags": []
   },
   "outputs": [],
   "source": [
    "# Subamortecido\n",
    "def gam(val=0):\n",
    "    if val > 2 * w0:\n",
    "        raise ValueError(f\"Oscilação não é subamortecida para esse coeficiente de amortecimento. Para essa massa e essa constante elástica, o valor máximo de gamme deve ser {2 * w0}.\")\n",
    "    return val"
   ]
  },
  {
   "cell_type": "code",
   "execution_count": 4,
   "id": "4e3013c4-62a8-472c-859e-c5e0a72f55d1",
   "metadata": {
    "tags": []
   },
   "outputs": [],
   "source": [
    "gamma = gam(0.01)\n",
    "w = sqrt(w0**2 - (gamma / 2)**2)"
   ]
  },
  {
   "cell_type": "code",
   "execution_count": 5,
   "id": "bca564c1-f617-49aa-9c65-b540372b103d",
   "metadata": {
    "tags": []
   },
   "outputs": [],
   "source": [
    "# Nessa simulação, estou considerando que a mola tem um comprimento de 5 unidades pra se ajustar melhor na tela.\n",
    "# Por isso, mantenha a aplitude menor que esse valor. De fato, menor que 4.5 parece ser mais realista. \n",
    "\n",
    "def x(t, A = 1, F = 0):\n",
    "    if A >= 5:\n",
    "        raise ValueError(\"Amplitude deve ser menor que 5, o comprimento da mola.\")\n",
    "    return A  * exp(- gamma * t / 2)* sin( w * t + F)\n",
    "\n",
    "def v(t, A = 1, F = 0):\n",
    "    return A * (-gamma / 2) * exp(- gamma * t / 2)* sin( w * t + F) + A * w  * exp(- gamma * t / 2)* cos( w * t + F)    "
   ]
  },
  {
   "cell_type": "code",
   "execution_count": 6,
   "id": "6e684297-336f-4aba-808d-aed73cda4f5e",
   "metadata": {
    "tags": []
   },
   "outputs": [
    {
     "data": {
      "text/html": [
       "<div id=\"glowscript\" class=\"glowscript\"></div>"
      ],
      "text/plain": [
       "<IPython.core.display.HTML object>"
      ]
     },
     "metadata": {},
     "output_type": "display_data"
    },
    {
     "data": {
      "application/javascript": [
       "if (typeof Jupyter !== \"undefined\") { window.__context = { glowscript_container: $(\"#glowscript\").removeAttr(\"id\")};}else{ element.textContent = ' ';}"
      ],
      "text/plain": [
       "<IPython.core.display.Javascript object>"
      ]
     },
     "metadata": {},
     "output_type": "display_data"
    },
    {
     "data": {
      "application/javascript": [
       "if (typeof Jupyter !== \"undefined\") {require.undef(\"nbextensions/vpython_libraries/glow.min\");}else{element.textContent = ' ';}"
      ],
      "text/plain": [
       "<IPython.core.display.Javascript object>"
      ]
     },
     "metadata": {},
     "output_type": "display_data"
    },
    {
     "data": {
      "application/javascript": [
       "if (typeof Jupyter !== \"undefined\") {require.undef(\"nbextensions/vpython_libraries/glowcomm\");}else{element.textContent = ' ';}"
      ],
      "text/plain": [
       "<IPython.core.display.Javascript object>"
      ]
     },
     "metadata": {},
     "output_type": "display_data"
    },
    {
     "data": {
      "application/javascript": [
       "if (typeof Jupyter !== \"undefined\") {require.undef(\"nbextensions/vpython_libraries/jquery-ui.custom.min\");}else{element.textContent = ' ';}"
      ],
      "text/plain": [
       "<IPython.core.display.Javascript object>"
      ]
     },
     "metadata": {},
     "output_type": "display_data"
    },
    {
     "data": {
      "application/javascript": [
       "if (typeof Jupyter !== \"undefined\") {require([\"nbextensions/vpython_libraries/glow.min\"], function(){console.log(\"GLOW LOADED\");});}else{element.textContent = ' ';}"
      ],
      "text/plain": [
       "<IPython.core.display.Javascript object>"
      ]
     },
     "metadata": {},
     "output_type": "display_data"
    },
    {
     "data": {
      "application/javascript": [
       "if (typeof Jupyter !== \"undefined\") {require([\"nbextensions/vpython_libraries/glowcomm\"], function(){console.log(\"GLOWCOMM LOADED\");});}else{element.textContent = ' ';}"
      ],
      "text/plain": [
       "<IPython.core.display.Javascript object>"
      ]
     },
     "metadata": {},
     "output_type": "display_data"
    },
    {
     "data": {
      "application/javascript": [
       "if (typeof Jupyter !== \"undefined\") {require([\"nbextensions/vpython_libraries/jquery-ui.custom.min\"], function(){console.log(\"JQUERY LOADED\");});}else{element.textContent = ' ';}"
      ],
      "text/plain": [
       "<IPython.core.display.Javascript object>"
      ]
     },
     "metadata": {},
     "output_type": "display_data"
    }
   ],
   "source": [
    "scene = canvas()\n",
    "scene.camera.pos = vector(3,0,-5)\n",
    "\n",
    "# Não mude os parâmetroa abaixo. \n",
    "rod1 = cylinder(pos=vector(-2,0,1), axis=vector(-2,0,0), length = 1, radius=0.05)\n",
    "spring = helix(pos=vector(-2,0,0), axis=vector(5,0,0), length = 5, radius=1)\n",
    "rod2 = cylinder(pos=vector(4,0,1), axis=vector(-2,0,0), length = 1, radius=0.05)\n",
    "mass = sphere(pos=vector(4,0,1), radius=0.6, color = vector(0,0.5,1))\n",
    "wall = box(pos=vector(-3,0,1),length=0.2, height=4, width=4, color=vector(0,0.5,0.8))\n",
    "\n",
    "def oscilacao(t, A=1, F=0):\n",
    "    spring.length = 5 + x(t,A, F)\n",
    "    rod2.pos.x = 4 + x(t, A, F)\n",
    "    mass.pos.x = 4 + x(t, A, F)\n",
    "    return spring, rod2, mass"
   ]
  },
  {
   "cell_type": "code",
   "execution_count": 7,
   "id": "a8b57df3-1b6c-435f-b434-dfbfab17fa99",
   "metadata": {},
   "outputs": [],
   "source": [
    "t = 0\n",
    "dt = 0.01\n",
    "\n",
    "while t < 20:\n",
    "    rate(200)\n",
    "    oscilacao(t, 4.5)\n",
    "    t += dt"
   ]
  },
  {
   "cell_type": "markdown",
   "id": "b75fe25e-8dda-4964-9899-528ce84be717",
   "metadata": {
    "tags": []
   },
   "source": [
    "## 1.2 - Energia"
   ]
  },
  {
   "cell_type": "code",
   "execution_count": 39,
   "id": "1eb83e36-40cc-4895-9e74-2c27832eb986",
   "metadata": {},
   "outputs": [
    {
     "data": {
      "text/html": [
       "<div id=\"glowscript\" class=\"glowscript\"></div>"
      ],
      "text/plain": [
       "<IPython.core.display.HTML object>"
      ]
     },
     "metadata": {},
     "output_type": "display_data"
    },
    {
     "data": {
      "application/javascript": [
       "if (typeof Jupyter !== \"undefined\") { window.__context = { glowscript_container: $(\"#glowscript\").removeAttr(\"id\")};}else{ element.textContent = ' ';}"
      ],
      "text/plain": [
       "<IPython.core.display.Javascript object>"
      ]
     },
     "metadata": {},
     "output_type": "display_data"
    }
   ],
   "source": [
    "scene2 = canvas()\n",
    "\n",
    "scene2.camera.pos = vector(3,0,9)\n",
    "\n",
    "# Objetos: cylindros - energias\n",
    "EneTotal = cylinder(pos=vector(0,3,0), axis=vector(0,0,0), radius = 1, color = vector(0.5,1,0.3))\n",
    "ET = label( pos=vec(-6,3,0), text='Energia Total')\n",
    "\n",
    "EneCinetica = cylinder(pos=vector(0,0,0), axis=vector(0,0,0), radius = 1, color = vector(1,0,1))\n",
    "EC = label( pos=vec(-6,0,0), text='Energia Cinética')\n",
    "\n",
    "EnePotencial = cylinder(pos=vector(0,-3,0), axis=vector(0,0,0), radius = 1, color = vector(0,1,1))\n",
    "EP = label( pos=vec(-6,-3,0), text='Energia Potencial')"
   ]
  },
  {
   "cell_type": "code",
   "execution_count": 40,
   "id": "3d143f95-6383-4af4-96ec-d5c34c3d4af7",
   "metadata": {
    "tags": []
   },
   "outputs": [],
   "source": [
    "sleep(2)\n",
    "\n",
    "t = 0\n",
    "dt = 0.01\n",
    "\n",
    "while t < 20:\n",
    "    rate(150)\n",
    "\n",
    "    cinet = m * (v(t,4) ** 2) / 2\n",
    "    poten = k * x(t,4) ** 2 / 2\n",
    "    total = cinet + poten\n",
    "    \n",
    "\n",
    "    EneCinetica.axis.x = cinet\n",
    "    EnePotencial.axis.x = poten\n",
    "    EneTotal.axis.x = total\n",
    "    t += dt"
   ]
  },
  {
   "cell_type": "code",
   "execution_count": null,
   "id": "52a44367-7c9a-45a5-b057-98b13bc5903b",
   "metadata": {},
   "outputs": [],
   "source": []
  }
 ],
 "metadata": {
  "kernelspec": {
   "display_name": "Python 3 (ipykernel)",
   "language": "python",
   "name": "python3"
  },
  "language_info": {
   "codemirror_mode": {
    "name": "ipython",
    "version": 3
   },
   "file_extension": ".py",
   "mimetype": "text/x-python",
   "name": "python",
   "nbconvert_exporter": "python",
   "pygments_lexer": "ipython3",
   "version": "3.11.3"
  }
 },
 "nbformat": 4,
 "nbformat_minor": 5
}
