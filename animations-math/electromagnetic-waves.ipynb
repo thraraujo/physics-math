{
 "cells": [
  {
   "cell_type": "markdown",
   "id": "c5c5a7f5-d0af-4e12-bc5d-b083e350d134",
   "metadata": {},
   "source": [
    "# Ondas Eletromagneticas\n",
    "\n",
    "Aqui gostaria de criar algumas animações para elucidar o comportamento de ondas polarizadas. "
   ]
  },
  {
   "cell_type": "code",
   "execution_count": 5,
   "id": "2b09280c-7413-4a5b-9ba4-86d5a2303bcc",
   "metadata": {
    "tags": []
   },
   "outputs": [
    {
     "data": {
      "text/html": [
       "<div id=\"glowscript\" class=\"glowscript\"></div>"
      ],
      "text/plain": [
       "<IPython.core.display.HTML object>"
      ]
     },
     "metadata": {},
     "output_type": "display_data"
    },
    {
     "data": {
      "application/javascript": [
       "if (typeof Jupyter !== \"undefined\") { window.__context = { glowscript_container: $(\"#glowscript\").removeAttr(\"id\")};}else{ element.textContent = ' ';}"
      ],
      "text/plain": [
       "<IPython.core.display.Javascript object>"
      ]
     },
     "metadata": {},
     "output_type": "display_data"
    }
   ],
   "source": [
    "from vpython import *\n",
    "import matplotlib.pyplot as plt\n",
    "import numpy as np"
   ]
  },
  {
   "cell_type": "markdown",
   "id": "eee73148-8f99-4ee5-a0a9-318aa50f2d25",
   "metadata": {
    "tags": []
   },
   "source": [
    "## 1. Polarização Linear"
   ]
  },
  {
   "cell_type": "code",
   "execution_count": 49,
   "id": "617e7d36-bc68-43bd-924b-7f43f355e947",
   "metadata": {
    "tags": []
   },
   "outputs": [],
   "source": [
    "# Parametros \n",
    "\n",
    "E0 = 5"
   ]
  },
  {
   "cell_type": "code",
   "execution_count": 282,
   "id": "9a4475d2-2f2c-4f28-b1f2-afcbdaf26a64",
   "metadata": {
    "tags": []
   },
   "outputs": [
    {
     "data": {
      "text/html": [
       "<div id=\"glowscript\" class=\"glowscript\"></div>"
      ],
      "text/plain": [
       "<IPython.core.display.HTML object>"
      ]
     },
     "metadata": {},
     "output_type": "display_data"
    },
    {
     "data": {
      "application/javascript": [
       "if (typeof Jupyter !== \"undefined\") { window.__context = { glowscript_container: $(\"#glowscript\").removeAttr(\"id\")};}else{ element.textContent = ' ';}"
      ],
      "text/plain": [
       "<IPython.core.display.Javascript object>"
      ]
     },
     "metadata": {},
     "output_type": "display_data"
    }
   ],
   "source": [
    "scene = canvas()\n",
    "\n",
    "scene.camera.pos = vector(7,4,2)\n",
    "#scene.camera.axis = vector(0,3,3)\n",
    "\n",
    "eixoX = arrow(pos=vector(0,0,0), axis=vector(22,0,0), shaftwidth=0.3, round = True, color = vector(1,1,1))\n",
    "eixoY = arrow(pos=vector(0,0,0), axis=vector(0,8,0), shaftwidth=0.3, round = True, color = vector(1,1,1))\n",
    "eixoZ = arrow(pos=vector(0,0,0), axis=vector(0,0,10), shaftwidth=0.3, round = True, color = vector(1,1,1))\n",
    "\n",
    "tipEl = sphere(pos=vector(0,0,0), color=color.cyan, radius=0.05, make_trail=True)\n",
    "campEl = arrow(pos=vector(0,0,0), axis=vector(0,0,0), shaftwidth=0.3, round = True, color = vector(0,1,1))\n",
    "\n",
    "tipMg = sphere(pos=vector(0,0,0), color=color.red, radius=0.05, make_trail=True)\n",
    "campMg = arrow(pos=vector(0,0,0), axis=vector(0,0,0), shaftwidth=0.3, round = True, color = vector(1,0,0))"
   ]
  },
  {
   "cell_type": "code",
   "execution_count": 283,
   "id": "27b39f39-8c67-4651-98d3-982f0576e72f",
   "metadata": {
    "tags": []
   },
   "outputs": [],
   "source": [
    "t = 0\n",
    "dt = 0.01\n",
    "\n",
    "x = 0 \n",
    "dx = 0.01\n",
    "\n",
    "while t < 20:\n",
    "    rate(150)\n",
    "    \n",
    "    campEl.pos.x = x\n",
    "    campEl.axis = vector(0, E0 * np.cos(3 * x -  2*t),0)\n",
    "    tipEl.pos = vector(x, E0 * np.cos(3 * x - 2*t),0 )\n",
    "    \n",
    "    campMg.pos.x = x\n",
    "    campMg.axis = vector(0, 0, E0 * np.cos(3 * x -  2*t))\n",
    "    tipMg.pos = vector(x, 0, E0 * np.cos(3 * x -  2*t))\n",
    "    \n",
    "    t += dt\n",
    "    x += dx"
   ]
  },
  {
   "cell_type": "code",
   "execution_count": 159,
   "id": "fcbf251f-b6b0-4455-866d-8ab8df201700",
   "metadata": {
    "tags": []
   },
   "outputs": [
    {
     "data": {
      "text/plain": [
       "<0, 25.7189, -14.2883>"
      ]
     },
     "execution_count": 159,
     "metadata": {},
     "output_type": "execute_result"
    }
   ],
   "source": [
    "scene.camera.axis"
   ]
  },
  {
   "cell_type": "code",
   "execution_count": null,
   "id": "ff60f6b6-16ac-4e6c-b7a2-52a769e8d5d2",
   "metadata": {},
   "outputs": [],
   "source": []
  }
 ],
 "metadata": {
  "kernelspec": {
   "display_name": "Python 3 (ipykernel)",
   "language": "python",
   "name": "python3"
  },
  "language_info": {
   "codemirror_mode": {
    "name": "ipython",
    "version": 3
   },
   "file_extension": ".py",
   "mimetype": "text/x-python",
   "name": "python",
   "nbconvert_exporter": "python",
   "pygments_lexer": "ipython3",
   "version": "3.11.2"
  }
 },
 "nbformat": 4,
 "nbformat_minor": 5
}
