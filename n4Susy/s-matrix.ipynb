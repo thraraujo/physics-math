{
 "cells": [
  {
   "cell_type": "markdown",
   "id": "dfa023d3-6697-475c-97ad-ae46f3946827",
   "metadata": {},
   "source": [
    "# Calcultion of the s-matrix"
   ]
  },
  {
   "cell_type": "markdown",
   "id": "b8706933-6191-41a3-80fd-c15e57ad7cf9",
   "metadata": {},
   "source": [
    "Here we want to determine the components of the s-matrix. The matrix has the general form \n",
    "$$ s = \\sum_{m, n = 0}^4 s_{m n} \\kappa^{A_m B_n} t_{A_m}^{(R)} \\otimes t_{B_n}^{(R')}  $$\n",
    "where \n",
    "$$ s_{m n} = f_m(\\lambda) f_n(\\xi) C_{m n}(t) - \\bar f_m(\\lambda) \\bar f_n(\\xi) C_{\\bar m \\bar n}(t) $$\n"
   ]
  },
  {
   "cell_type": "code",
   "execution_count": 1,
   "id": "d755f7e9-81d3-4e5d-9cd4-66391d9957e9",
   "metadata": {
    "tags": []
   },
   "outputs": [],
   "source": [
    "from sympy import *"
   ]
  },
  {
   "cell_type": "code",
   "execution_count": null,
   "id": "f68791c4-c5a9-4f53-b26d-1c5e0d12637a",
   "metadata": {},
   "outputs": [],
   "source": []
  }
 ],
 "metadata": {
  "kernelspec": {
   "display_name": "Python 3 (ipykernel)",
   "language": "python",
   "name": "python3"
  },
  "language_info": {
   "codemirror_mode": {
    "name": "ipython",
    "version": 3
   },
   "file_extension": ".py",
   "mimetype": "text/x-python",
   "name": "python",
   "nbconvert_exporter": "python",
   "pygments_lexer": "ipython3",
   "version": "3.11.0"
  }
 },
 "nbformat": 4,
 "nbformat_minor": 5
}
