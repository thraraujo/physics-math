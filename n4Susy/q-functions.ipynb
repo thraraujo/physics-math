{
 "cells": [
  {
   "cell_type": "markdown",
   "id": "cbb0962f-4bd4-427e-8a81-4c9e8a5b751c",
   "metadata": {},
   "source": [
    "## Q-Functions\n",
    "\n",
    "Short codes for manipulation of Q-Functions"
   ]
  },
  {
   "cell_type": "code",
   "execution_count": 1,
   "id": "5aa00871-34e9-41d6-9c13-e7a230c6cd51",
   "metadata": {},
   "outputs": [],
   "source": [
    "from sympy import *"
   ]
  },
  {
   "cell_type": "code",
   "execution_count": 2,
   "id": "ff1f3636-a434-44fc-b31a-0d195ef9da59",
   "metadata": {},
   "outputs": [],
   "source": [
    "u, u1, u2, u3, u4 = symbols('u, u1, u2, u3, u4')"
   ]
  },
  {
   "cell_type": "code",
   "execution_count": 50,
   "id": "7ce90ec1-7aef-49ec-906e-558b7856adaa",
   "metadata": {},
   "outputs": [],
   "source": [
    "bethe_roots = [u1, u2, u3, u4]"
   ]
  },
  {
   "cell_type": "code",
   "execution_count": 60,
   "id": "1e52f36a-60f2-42f5-96a8-0946d3a63d73",
   "metadata": {},
   "outputs": [],
   "source": [
    "# Q1-function\n",
    "def Q1(x):\n",
    "    product = 1\n",
    "    for k in range(len(bethe_roots)):\n",
    "        product *= (x - bethe_roots[k])\n",
    "    return product"
   ]
  },
  {
   "cell_type": "code",
   "execution_count": 66,
   "id": "fae966fd-4d39-4a0e-8d09-c2a077d86350",
   "metadata": {},
   "outputs": [
    {
     "data": {
      "text/latex": [
       "$\\displaystyle \\left(u - u_{1}\\right) \\left(u - u_{2}\\right) \\left(u - u_{3}\\right) \\left(u - u_{4}\\right)$"
      ],
      "text/plain": [
       "(u - u1)*(u - u2)*(u - u3)*(u - u4)"
      ]
     },
     "execution_count": 66,
     "metadata": {},
     "output_type": "execute_result"
    }
   ],
   "source": [
    "Q1(u)"
   ]
  },
  {
   "cell_type": "code",
   "execution_count": 67,
   "id": "c0a840ec-6934-44ad-9341-002c6b7e0339",
   "metadata": {},
   "outputs": [],
   "source": [
    "energy_u = I * diff( log(Q1(u + I/2) / Q1(u - I/2)), u)"
   ]
  },
  {
   "cell_type": "code",
   "execution_count": 68,
   "id": "00bf22cc-a723-4007-a5fa-6b11a10abad4",
   "metadata": {},
   "outputs": [],
   "source": [
    "# See https://stackoverflow.com/questions/72190027/how-to-evaluate-the-value-of-derivative-at-a-point-in-python-using-sympy\n",
    "\n",
    "energy = energy_u.subs(u,0)"
   ]
  },
  {
   "cell_type": "code",
   "execution_count": 69,
   "id": "041f63af-e90d-42e9-82d1-399d66025227",
   "metadata": {},
   "outputs": [],
   "source": [
    "energy = simplify(energy)"
   ]
  },
  {
   "cell_type": "markdown",
   "id": "b1074e91-e15c-4d63-856c-61c55fc46cbe",
   "metadata": {},
   "source": [
    "For the particualr case with 2 magnons, The denominator can be written as t\n",
    "\n",
    "$$ 16 \\left(u_1^2 + \\frac{1}{4} \\right) \\left(u_2^2 + \\frac{1}{4}\\right) $$\n",
    "\n",
    "Therefore, the energy is given by \n",
    "\n",
    "$$E = \\frac{1}{u_1^2 + \\frac{1}{4}} + \\frac{1}{u_2^2 + \\frac{1}{4}}$$\n",
    "\n",
    "We can check the general subtracting the two expressions"
   ]
  },
  {
   "cell_type": "code",
   "execution_count": 70,
   "id": "36c68f41-6d9f-4e7d-87d7-549c68d365bd",
   "metadata": {},
   "outputs": [
    {
     "data": {
      "text/latex": [
       "$\\displaystyle \\frac{16 \\cdot \\left(16 u_{1}^{2} u_{2}^{2} u_{3}^{2} + 16 u_{1}^{2} u_{2}^{2} u_{4}^{2} + 8 u_{1}^{2} u_{2}^{2} + 16 u_{1}^{2} u_{3}^{2} u_{4}^{2} + 8 u_{1}^{2} u_{3}^{2} + 8 u_{1}^{2} u_{4}^{2} + 3 u_{1}^{2} + 16 u_{2}^{2} u_{3}^{2} u_{4}^{2} + 8 u_{2}^{2} u_{3}^{2} + 8 u_{2}^{2} u_{4}^{2} + 3 u_{2}^{2} + 8 u_{3}^{2} u_{4}^{2} + 3 u_{3}^{2} + 3 u_{4}^{2} + 1\\right)}{256 u_{1}^{2} u_{2}^{2} u_{3}^{2} u_{4}^{2} + 64 u_{1}^{2} u_{2}^{2} u_{3}^{2} + 64 u_{1}^{2} u_{2}^{2} u_{4}^{2} + 16 u_{1}^{2} u_{2}^{2} + 64 u_{1}^{2} u_{3}^{2} u_{4}^{2} + 16 u_{1}^{2} u_{3}^{2} + 16 u_{1}^{2} u_{4}^{2} + 4 u_{1}^{2} + 64 u_{2}^{2} u_{3}^{2} u_{4}^{2} + 16 u_{2}^{2} u_{3}^{2} + 16 u_{2}^{2} u_{4}^{2} + 4 u_{2}^{2} + 16 u_{3}^{2} u_{4}^{2} + 4 u_{3}^{2} + 4 u_{4}^{2} + 1}$"
      ],
      "text/plain": [
       "16*(16*u1**2*u2**2*u3**2 + 16*u1**2*u2**2*u4**2 + 8*u1**2*u2**2 + 16*u1**2*u3**2*u4**2 + 8*u1**2*u3**2 + 8*u1**2*u4**2 + 3*u1**2 + 16*u2**2*u3**2*u4**2 + 8*u2**2*u3**2 + 8*u2**2*u4**2 + 3*u2**2 + 8*u3**2*u4**2 + 3*u3**2 + 3*u4**2 + 1)/(256*u1**2*u2**2*u3**2*u4**2 + 64*u1**2*u2**2*u3**2 + 64*u1**2*u2**2*u4**2 + 16*u1**2*u2**2 + 64*u1**2*u3**2*u4**2 + 16*u1**2*u3**2 + 16*u1**2*u4**2 + 4*u1**2 + 64*u2**2*u3**2*u4**2 + 16*u2**2*u3**2 + 16*u2**2*u4**2 + 4*u2**2 + 16*u3**2*u4**2 + 4*u3**2 + 4*u4**2 + 1)"
      ]
     },
     "execution_count": 70,
     "metadata": {},
     "output_type": "execute_result"
    }
   ],
   "source": [
    "energy"
   ]
  },
  {
   "cell_type": "code",
   "execution_count": 55,
   "id": "fa6897a9-3c73-44d1-9c72-bb0c9c0f57f8",
   "metadata": {},
   "outputs": [],
   "source": [
    "Energy = 0 \n",
    "for n in range(len(bethe_roots)):\n",
    "    Energy += 4 / (4 * bethe_roots[n]**2 + 1)"
   ]
  },
  {
   "cell_type": "code",
   "execution_count": 56,
   "id": "eb2022b1-1f58-4c6c-8faa-4216db77a3fd",
   "metadata": {},
   "outputs": [
    {
     "data": {
      "text/latex": [
       "$\\displaystyle \\frac{4}{4 u_{4}^{2} + 1} + \\frac{4}{4 u_{3}^{2} + 1} + \\frac{4}{4 u_{2}^{2} + 1} + \\frac{4}{4 u_{1}^{2} + 1}$"
      ],
      "text/plain": [
       "4/(4*u4**2 + 1) + 4/(4*u3**2 + 1) + 4/(4*u2**2 + 1) + 4/(4*u1**2 + 1)"
      ]
     },
     "execution_count": 56,
     "metadata": {},
     "output_type": "execute_result"
    }
   ],
   "source": [
    "Energy"
   ]
  },
  {
   "cell_type": "code",
   "execution_count": 71,
   "id": "ff2af9e7-6497-4252-a1ed-00f4e2a48ac2",
   "metadata": {},
   "outputs": [
    {
     "data": {
      "text/latex": [
       "$\\displaystyle 0$"
      ],
      "text/plain": [
       "0"
      ]
     },
     "execution_count": 71,
     "metadata": {},
     "output_type": "execute_result"
    }
   ],
   "source": [
    "simplify(energy - Energy)"
   ]
  },
  {
   "cell_type": "code",
   "execution_count": null,
   "id": "7d9575a0-b86a-4253-b0e7-5be1e59b8075",
   "metadata": {},
   "outputs": [],
   "source": []
  }
 ],
 "metadata": {
  "kernelspec": {
   "display_name": "Python 3 (ipykernel)",
   "language": "python",
   "name": "python3"
  },
  "language_info": {
   "codemirror_mode": {
    "name": "ipython",
    "version": 3
   },
   "file_extension": ".py",
   "mimetype": "text/x-python",
   "name": "python",
   "nbconvert_exporter": "python",
   "pygments_lexer": "ipython3",
   "version": "3.11.1"
  }
 },
 "nbformat": 4,
 "nbformat_minor": 5
}
