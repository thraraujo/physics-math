{
 "cells": [
  {
   "cell_type": "markdown",
   "id": "49afed4c-3b01-4b2a-86e7-0cd69523bc89",
   "metadata": {},
   "source": [
    "## Classical Yang-Baxter Equation from the Quantum Yang-Baxter Equation\n",
    "\n",
    "Let me calculate the equation order by order: See some definitions here: https://docs.sympy.org/latest/modules/physics/quantum/operator.html"
   ]
  },
  {
   "cell_type": "code",
   "execution_count": 80,
   "id": "38e41d13-655a-40c8-b36e-e6b61f1fc8ed",
   "metadata": {},
   "outputs": [],
   "source": [
    "from sympy import symbols, diff\n",
    "from sympy.physics.quantum import hbar, Operator, IdentityOperator, HermitianOperator"
   ]
  },
  {
   "cell_type": "code",
   "execution_count": 81,
   "id": "e71b71a4-388c-4144-926a-be9a9e263909",
   "metadata": {},
   "outputs": [],
   "source": [
    "# operators of order 1 in hbar\n",
    "r12 = Operator('r12')\n",
    "r13 = Operator('r13')\n",
    "r23 = Operator('r23')\n",
    "# operators of order 2 in hbar\n",
    "s12 = Operator('s12') \n",
    "s13 = Operator('s13')\n",
    "s23 = Operator('s23')"
   ]
  },
  {
   "cell_type": "code",
   "execution_count": 82,
   "id": "b03c108c-7c8e-4d20-9955-46c8ed80e6bb",
   "metadata": {},
   "outputs": [],
   "source": [
    "Id = IdentityOperator()"
   ]
  },
  {
   "cell_type": "code",
   "execution_count": 83,
   "id": "e8f13206-4e48-4b1f-9e23-e8f42f315477",
   "metadata": {},
   "outputs": [],
   "source": [
    "h = symbols('h')"
   ]
  },
  {
   "cell_type": "code",
   "execution_count": 84,
   "id": "c25c8c36-d93b-4b3b-b169-f38a37bde955",
   "metadata": {},
   "outputs": [],
   "source": [
    "R12 = 1 + h*r12 + (h**2)*s12\n",
    "R13 = 1 + h*r13 + (h**2)*s13\n",
    "R23 = 1 + h*r23 + (h**2)*s23"
   ]
  },
  {
   "cell_type": "code",
   "execution_count": 85,
   "id": "b2c551d5-c25b-4921-be41-6d9ebec769fd",
   "metadata": {},
   "outputs": [],
   "source": [
    "LHS = R12*R13*R23"
   ]
  },
  {
   "cell_type": "code",
   "execution_count": 86,
   "id": "30596abb-a8a4-4061-bdef-e22fece7b128",
   "metadata": {},
   "outputs": [],
   "source": [
    "RHS = R23*R13*R12"
   ]
  },
  {
   "cell_type": "code",
   "execution_count": 87,
   "id": "7fd1b54a-3516-4b44-ac51-f6d45045a815",
   "metadata": {},
   "outputs": [],
   "source": [
    "equation = LHS.expand() - RHS.expand()"
   ]
  },
  {
   "cell_type": "code",
   "execution_count": 88,
   "id": "a30976aa-f547-4417-9d46-108c5aab5340",
   "metadata": {},
   "outputs": [
    {
     "data": {
      "text/latex": [
       "$\\displaystyle h^{6} s_{12} s_{13} s_{23} - h^{6} s_{23} s_{13} s_{12} + h^{5} r_{12} s_{13} s_{23} - h^{5} r_{23} s_{13} s_{12} + h^{5} s_{12} r_{13} s_{23} + h^{5} s_{12} s_{13} r_{23} - h^{5} s_{23} r_{13} s_{12} - h^{5} s_{23} s_{13} r_{12} + h^{4} r_{12} r_{13} s_{23} + h^{4} r_{12} s_{13} r_{23} - h^{4} r_{23} r_{13} s_{12} - h^{4} r_{23} s_{13} r_{12} + h^{4} s_{12} r_{13} r_{23} + h^{4} s_{12} s_{13} + h^{4} s_{12} s_{23} - h^{4} s_{13} s_{12} + h^{4} s_{13} s_{23} - h^{4} s_{23} r_{13} r_{12} - h^{4} s_{23} s_{12} - h^{4} s_{23} s_{13} + h^{3} r_{12} r_{13} r_{23} + h^{3} r_{12} s_{13} + h^{3} r_{12} s_{23} - h^{3} r_{13} s_{12} + h^{3} r_{13} s_{23} - h^{3} r_{23} r_{13} r_{12} - h^{3} r_{23} s_{12} - h^{3} r_{23} s_{13} + h^{3} s_{12} r_{13} + h^{3} s_{12} r_{23} - h^{3} s_{13} r_{12} + h^{3} s_{13} r_{23} - h^{3} s_{23} r_{12} - h^{3} s_{23} r_{13} + h^{2} r_{12} r_{13} + h^{2} r_{12} r_{23} - h^{2} r_{13} r_{12} + h^{2} r_{13} r_{23} - h^{2} r_{23} r_{12} - h^{2} r_{23} r_{13}$"
      ],
      "text/plain": [
       "h**6*s12*s13*s23 - h**6*s23*s13*s12 + h**5*r12*s13*s23 - h**5*r23*s13*s12 + h**5*s12*r13*s23 + h**5*s12*s13*r23 - h**5*s23*r13*s12 - h**5*s23*s13*r12 + h**4*r12*r13*s23 + h**4*r12*s13*r23 - h**4*r23*r13*s12 - h**4*r23*s13*r12 + h**4*s12*r13*r23 + h**4*s12*s13 + h**4*s12*s23 - h**4*s13*s12 + h**4*s13*s23 - h**4*s23*r13*r12 - h**4*s23*s12 - h**4*s23*s13 + h**3*r12*r13*r23 + h**3*r12*s13 + h**3*r12*s23 - h**3*r13*s12 + h**3*r13*s23 - h**3*r23*r13*r12 - h**3*r23*s12 - h**3*r23*s13 + h**3*s12*r13 + h**3*s12*r23 - h**3*s13*r12 + h**3*s13*r23 - h**3*s23*r12 - h**3*s23*r13 + h**2*r12*r13 + h**2*r12*r23 - h**2*r13*r12 + h**2*r13*r23 - h**2*r23*r12 - h**2*r23*r13"
      ]
     },
     "execution_count": 88,
     "metadata": {},
     "output_type": "execute_result"
    }
   ],
   "source": [
    "equation"
   ]
  },
  {
   "cell_type": "code",
   "execution_count": 89,
   "id": "1c9518f6-354d-4743-987e-60f2ac77ca8b",
   "metadata": {},
   "outputs": [],
   "source": [
    "order_one = diff(equation, h)"
   ]
  },
  {
   "cell_type": "code",
   "execution_count": 90,
   "id": "72ff2862-63ed-438a-9bd1-dc8f2bfb8ccf",
   "metadata": {},
   "outputs": [
    {
     "data": {
      "text/latex": [
       "$\\displaystyle 0$"
      ],
      "text/plain": [
       "0"
      ]
     },
     "execution_count": 90,
     "metadata": {},
     "output_type": "execute_result"
    }
   ],
   "source": [
    "order_one.subs(h,0)"
   ]
  },
  {
   "cell_type": "code",
   "execution_count": 91,
   "id": "47246977-f140-4d84-b44c-55ec09d80a53",
   "metadata": {},
   "outputs": [],
   "source": [
    "order_two = diff(equation, h, h)/2"
   ]
  },
  {
   "cell_type": "code",
   "execution_count": 92,
   "id": "e90f99d0-8afd-475c-8b62-f543b4776f31",
   "metadata": {},
   "outputs": [
    {
     "data": {
      "text/latex": [
       "$\\displaystyle r_{12} r_{13} + r_{12} r_{23} - r_{13} r_{12} + r_{13} r_{23} - r_{23} r_{12} - r_{23} r_{13}$"
      ],
      "text/plain": [
       "r12*r13 + r12*r23 - r13*r12 + r13*r23 - r23*r12 - r23*r13"
      ]
     },
     "execution_count": 92,
     "metadata": {},
     "output_type": "execute_result"
    }
   ],
   "source": [
    "order_two.subs(h,0) # Classical Yang-Baxter equation"
   ]
  },
  {
   "cell_type": "code",
   "execution_count": 95,
   "id": "935cee09-abc4-4d4d-8076-5218905821ed",
   "metadata": {},
   "outputs": [],
   "source": [
    "order_three = diff(equation, h, h, h)/6"
   ]
  },
  {
   "cell_type": "code",
   "execution_count": 96,
   "id": "fbacc15f-97ea-4648-a0f3-9f3a404f0b95",
   "metadata": {},
   "outputs": [
    {
     "data": {
      "text/latex": [
       "$\\displaystyle r_{12} r_{13} r_{23} + r_{12} s_{13} + r_{12} s_{23} - r_{13} s_{12} + r_{13} s_{23} - r_{23} r_{13} r_{12} - r_{23} s_{12} - r_{23} s_{13} + s_{12} r_{13} + s_{12} r_{23} - s_{13} r_{12} + s_{13} r_{23} - s_{23} r_{12} - s_{23} r_{13}$"
      ],
      "text/plain": [
       "r12*r13*r23 + r12*s13 + r12*s23 - r13*s12 + r13*s23 - r23*r13*r12 - r23*s12 - r23*s13 + s12*r13 + s12*r23 - s13*r12 + s13*r23 - s23*r12 - s23*r13"
      ]
     },
     "execution_count": 96,
     "metadata": {},
     "output_type": "execute_result"
    }
   ],
   "source": [
    "order_three.subs(h,0)"
   ]
  },
  {
   "cell_type": "code",
   "execution_count": 97,
   "id": "0fe7c59f-aaa2-481c-a9cd-6f609d3ee489",
   "metadata": {},
   "outputs": [],
   "source": [
    "# Let me try some exponential expansion\n",
    "R12 = 1 + h*r12 + (h**2)*r12**2 / 2\n",
    "R13 = 1 + h*r13 + (h**2)*r13**2 / 2 \n",
    "R23 = 1 + h*r23 + (h**2)*r23**2 / 2"
   ]
  },
  {
   "cell_type": "code",
   "execution_count": 98,
   "id": "63215f2e-051f-46b0-8dac-acd91105398f",
   "metadata": {},
   "outputs": [],
   "source": [
    "LHS = R12*R13*R23"
   ]
  },
  {
   "cell_type": "code",
   "execution_count": 99,
   "id": "1ba1520a-ee66-409e-8a7a-609176892339",
   "metadata": {},
   "outputs": [],
   "source": [
    "RHS = R23*R13*R12"
   ]
  },
  {
   "cell_type": "code",
   "execution_count": 100,
   "id": "2c54efc0-ade1-4c4e-a25f-9b9923f268b9",
   "metadata": {},
   "outputs": [],
   "source": [
    "equation = LHS.expand() - RHS.expand()"
   ]
  },
  {
   "cell_type": "code",
   "execution_count": 110,
   "id": "cbd95fbd-f7a6-4635-a8c5-c105b26b96b9",
   "metadata": {},
   "outputs": [],
   "source": [
    "order_one = diff(equation, h, h, h) / 6"
   ]
  },
  {
   "cell_type": "code",
   "execution_count": 111,
   "id": "a996d776-089d-4996-87bd-b4517401d585",
   "metadata": {},
   "outputs": [
    {
     "data": {
      "text/latex": [
       "$\\displaystyle \\frac{2 r_{12} r_{13} r_{23} + r_{12} r_{13}^{2} + r_{12} r_{23}^{2} + r_{12}^{2} r_{13} + r_{12}^{2} r_{23} - r_{13} r_{12}^{2} + r_{13} r_{23}^{2} - r_{13}^{2} r_{12} + r_{13}^{2} r_{23} - r_{23} r_{12}^{2} - 2 r_{23} r_{13} r_{12} - r_{23} r_{13}^{2} - r_{23}^{2} r_{12} - r_{23}^{2} r_{13}}{2}$"
      ],
      "text/plain": [
       "(2*r12*r13*r23 + r12*r13**2 + r12*r23**2 + r12**2*r13 + r12**2*r23 - r13*r12**2 + r13*r23**2 - r13**2*r12 + r13**2*r23 - r23*r12**2 - 2*r23*r13*r12 - r23*r13**2 - r23**2*r12 - r23**2*r13)/2"
      ]
     },
     "execution_count": 111,
     "metadata": {},
     "output_type": "execute_result"
    }
   ],
   "source": [
    "order_one.subs(h,0)"
   ]
  },
  {
   "cell_type": "code",
   "execution_count": null,
   "id": "86a1479c-e01f-471d-b847-bbf8e62d0105",
   "metadata": {},
   "outputs": [],
   "source": []
  }
 ],
 "metadata": {
  "kernelspec": {
   "display_name": "Python 3 (ipykernel)",
   "language": "python",
   "name": "python3"
  },
  "language_info": {
   "codemirror_mode": {
    "name": "ipython",
    "version": 3
   },
   "file_extension": ".py",
   "mimetype": "text/x-python",
   "name": "python",
   "nbconvert_exporter": "python",
   "pygments_lexer": "ipython3",
   "version": "3.11.1"
  }
 },
 "nbformat": 4,
 "nbformat_minor": 5
}
